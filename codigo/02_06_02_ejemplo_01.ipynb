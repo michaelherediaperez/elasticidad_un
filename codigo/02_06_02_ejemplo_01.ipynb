{
  "nbformat": 4,
  "nbformat_minor": 0,
  "metadata": {
    "colab": {
      "name": "02_06_02_ejemplo_01.ipynb",
      "provenance": [],
      "authorship_tag": "ABX9TyMZqc4fn45cKme+qoGwqrcl",
      "include_colab_link": true
    },
    "kernelspec": {
      "name": "python3",
      "display_name": "Python 3"
    },
    "language_info": {
      "name": "python"
    }
  },
  "cells": [
    {
      "cell_type": "markdown",
      "metadata": {
        "id": "view-in-github",
        "colab_type": "text"
      },
      "source": [
        "<a href=\"https://colab.research.google.com/github/michaelherediaperez/mecanica_de_solidos_un/blob/main/codigo/02_06_02_ejemplo_01.ipynb\" target=\"_parent\"><img src=\"https://colab.research.google.com/assets/colab-badge.svg\" alt=\"Open In Colab\"/></a>"
      ]
    },
    {
      "cell_type": "markdown",
      "source": [
        "# Ejemplo sección 2.6.2\n",
        "\n",
        "|Quién | Fecha | Qué hizo |\n",
        "| ---  | ---   | ---      |\n",
        "|Michael Heredia Pérez, <mherediap@unal.edu.co> | Julio 14, 2022 | Conversión de código de MAXIMA a Python|\n",
        "\n",
        "Considere el sólido elástico de espesor $t$ de la figura 2.9 y sometido a la acción de una carga puntual longitudinal de intensidad P. Este ejemplo es el llamado *problema de Flamant* que se discutirá en la sección 6.13.3. Con respecto a los ejes mostrados en dicha figura, se puede demostrar (ver eq. 6.78) que las componentes del esfuerzo estándadas por:\n",
        "\n",
        "$$ \\sigma_x = \\frac{2Px^2y}{\\pi(x^2+y^2)^2};  \\sigma_y = \\frac{2Py^3}{\\pi(x^2+y^2)^2}; \\tau_{xy} = \\frac{2Pxy^2}{\\pi(x^2+y^2)}   $$\n",
        "\n",
        "\n",
        "<p align=\"center\">\n",
        " <img width=\"600\" height=\"350\" src=https://drive.google.com/uc?id=1eAbW9IQvkjEK50OUyBmhvbDUSsJf9wMa\n",
        ">\n",
        "</p>\n",
        "\n",
        "Se pide reescribir las componentes de esfuerzo $\\sigma_x$, $\\sigma_y$ y $\\tau_{xy}$ en función de los ejes $x'$ y $y'$.\n",
        "\n",
        "Nota: complemente con la lectura del libro y preste mucha atención a la conclusión del ejemplo."
      ],
      "metadata": {
        "id": "U5leorZWcI5W"
      }
    },
    {
      "cell_type": "code",
      "execution_count": 20,
      "metadata": {
        "id": "JWwFPKQ-cFDZ"
      },
      "outputs": [],
      "source": [
        "import sympy as sp  # Librería para cálculo simbólico.\n",
        "import numpy as np  # Librería para cálculo algebráico.\n",
        "\n",
        "# Para imprimir bonito.\n",
        "sp.init_printing() "
      ]
    },
    {
      "cell_type": "markdown",
      "source": [
        "Se definen las variables simbólicas necesarias. Se emplea la notación de $\\LaTeX$"
      ],
      "metadata": {
        "id": "ONmKfn9adYzk"
      }
    },
    {
      "cell_type": "code",
      "source": [
        "sx, sy, txy = sp.symbols(r\"\\sigma_x, \\sigma_y, \\tau_{xy}\")\n",
        "t, r, P, pi = sp.symbols(r\"\\theta, r, P, \\pi\") "
      ],
      "metadata": {
        "id": "BlTtQ5oXdAqS"
      },
      "execution_count": 21,
      "outputs": []
    },
    {
      "cell_type": "markdown",
      "source": [
        "Se especifican las fórmulas de conversión de coordenadas rectangulares a polares, las cuales serán reemplazadas en $\\sigma_x$ (```sx```), $\\sigma_y$ (```sy```) y $\\tau_{xy}$ (```txy```)."
      ],
      "metadata": {
        "id": "eUYBz63CdjAS"
      }
    },
    {
      "cell_type": "code",
      "source": [
        "x = r*sp.cos(t)\n",
        "y = r*sp.sin(t)"
      ],
      "metadata": {
        "id": "sjRJjUpndh64"
      },
      "execution_count": 22,
      "outputs": []
    },
    {
      "cell_type": "markdown",
      "source": [
        "Se especifican las ecuaciones correspondientes al $\\sigma_x$ (```sx```), $\\sigma_y$ (```sy```) y $\\tau_{xy}$ (```txy```) dados en el problema, con la aplicación de simplificaciones trigonométricas mediante el comando ```trigsimp``` del paquete ```sympy```.\n",
        "\n",
        "Nota: reecuerde que MAXIMA también tiene el comando ```trigsimp```.\n",
        "\n",
        "$\\sigma_x=$"
      ],
      "metadata": {
        "id": "S7rvpaIpd9X_"
      }
    },
    {
      "cell_type": "code",
      "source": [
        "sx  = sp.trigsimp(  -(2*P*x**2*y) / (pi*(x**2 + y**2)**2) )\n",
        "sx "
      ],
      "metadata": {
        "colab": {
          "base_uri": "https://localhost:8080/",
          "height": 54
        },
        "id": "VW4KxiIcd8WM",
        "outputId": "40fc5e33-fb6e-4fdb-a1bd-a85023a81eff"
      },
      "execution_count": 23,
      "outputs": [
        {
          "output_type": "execute_result",
          "data": {
            "text/plain": [
              "                    2         \n",
              "-2⋅P⋅sin(\\theta)⋅cos (\\theta) \n",
              "──────────────────────────────\n",
              "            \\pi⋅r             "
            ],
            "image/png": "[encoded data removed]",
            "text/latex": "$\\displaystyle - \\frac{2 P \\sin{\\left(\\theta \\right)} \\cos^{2}{\\left(\\theta \\right)}}{\\pi r}$"
          },
          "metadata": {},
          "execution_count": 23
        }
      ]
    },
    {
      "cell_type": "markdown",
      "source": [
        "$\\sigma_y=$"
      ],
      "metadata": {
        "id": "4Rw1lGl_fjkW"
      }
    },
    {
      "cell_type": "code",
      "source": [
        "sy  = sp.trigsimp(  -(2*P*y**3)   / (pi*(x**2 + y**2)**2) )\n",
        "sy"
      ],
      "metadata": {
        "colab": {
          "base_uri": "https://localhost:8080/",
          "height": 55
        },
        "id": "mg4Dl2dBfTIs",
        "outputId": "50b8919c-00db-4eca-c0bc-cca35f0bea83"
      },
      "execution_count": 24,
      "outputs": [
        {
          "output_type": "execute_result",
          "data": {
            "text/plain": [
              "        3         \n",
              "-2⋅P⋅sin (\\theta) \n",
              "──────────────────\n",
              "      \\pi⋅r       "
            ],
            "image/png": "[encoded data removed]",
            "text/latex": "$\\displaystyle - \\frac{2 P \\sin^{3}{\\left(\\theta \\right)}}{\\pi r}$"
          },
          "metadata": {},
          "execution_count": 24
        }
      ]
    },
    {
      "cell_type": "markdown",
      "source": [
        "$\\tau_{xy}=$"
      ],
      "metadata": {
        "id": "phNqW7yifq0R"
      }
    },
    {
      "cell_type": "code",
      "source": [
        "txy = sp.trigsimp(  -(2*P*x*y**2) / (pi*(x**2 + y**2)**2) )\n",
        "txy"
      ],
      "metadata": {
        "colab": {
          "base_uri": "https://localhost:8080/",
          "height": 55
        },
        "id": "G3Zb1WhCfhyy",
        "outputId": "d5ce7568-f838-46c7-a7d0-3d756a4add33"
      },
      "execution_count": 25,
      "outputs": [
        {
          "output_type": "execute_result",
          "data": {
            "text/plain": [
              "        2                     \n",
              "-2⋅P⋅sin (\\theta)⋅cos(\\theta) \n",
              "──────────────────────────────\n",
              "            \\pi⋅r             "
            ],
            "image/png": "[encoded data removed]",
            "text/latex": "$\\displaystyle - \\frac{2 P \\sin^{2}{\\left(\\theta \\right)} \\cos{\\left(\\theta \\right)}}{\\pi r}$"
          },
          "metadata": {},
          "execution_count": 25
        }
      ]
    },
    {
      "cell_type": "markdown",
      "source": [
        "Se definen las matrices **$\\sigma$** y **$T$**\n",
        "\n",
        "**$\\sigma=$**"
      ],
      "metadata": {
        "id": "ODCwPLWrfvL-"
      }
    },
    {
      "cell_type": "code",
      "source": [
        "sigma = sp.Matrix([[sx, txy],\n",
        "                   [txy, sy]])\n",
        "sigma"
      ],
      "metadata": {
        "colab": {
          "base_uri": "https://localhost:8080/",
          "height": 68
        },
        "id": "AeDXUUYTfqRi",
        "outputId": "004f499c-82f3-4e25-9d60-85f8f43c226e"
      },
      "execution_count": 26,
      "outputs": [
        {
          "output_type": "execute_result",
          "data": {
            "text/plain": [
              "⎡                    2                   2                     ⎤\n",
              "⎢-2⋅P⋅sin(\\theta)⋅cos (\\theta)   -2⋅P⋅sin (\\theta)⋅cos(\\theta) ⎥\n",
              "⎢──────────────────────────────  ──────────────────────────────⎥\n",
              "⎢            \\pi⋅r                           \\pi⋅r             ⎥\n",
              "⎢                                                              ⎥\n",
              "⎢        2                                     3               ⎥\n",
              "⎢-2⋅P⋅sin (\\theta)⋅cos(\\theta)         -2⋅P⋅sin (\\theta)       ⎥\n",
              "⎢──────────────────────────────        ──────────────────      ⎥\n",
              "⎣            \\pi⋅r                           \\pi⋅r             ⎦"
            ],
            "text/latex": "$\\displaystyle \\left[\\begin{matrix}- \\frac{2 P \\sin{\\left(\\theta \\right)} \\cos^{2}{\\left(\\theta \\right)}}{\\pi r} & - \\frac{2 P \\sin^{2}{\\left(\\theta \\right)} \\cos{\\left(\\theta \\right)}}{\\pi r}\\\\- \\frac{2 P \\sin^{2}{\\left(\\theta \\right)} \\cos{\\left(\\theta \\right)}}{\\pi r} & - \\frac{2 P \\sin^{3}{\\left(\\theta \\right)}}{\\pi r}\\end{matrix}\\right]$"
          },
          "metadata": {},
          "execution_count": 26
        }
      ]
    },
    {
      "cell_type": "markdown",
      "source": [
        "**$T=$**"
      ],
      "metadata": {
        "id": "gtBJku-Rgdtu"
      }
    },
    {
      "cell_type": "code",
      "source": [
        "T = sp.Matrix([[sp.cos(t), -sp.sin(t)],\n",
        "               [sp.sin(t),  sp.cos(t)]])\n",
        "T"
      ],
      "metadata": {
        "colab": {
          "base_uri": "https://localhost:8080/",
          "height": 58
        },
        "id": "Gj7tuwnRgIEZ",
        "outputId": "0c814015-d227-400e-dffb-53ca4172ffaa"
      },
      "execution_count": 27,
      "outputs": [
        {
          "output_type": "execute_result",
          "data": {
            "text/plain": [
              "⎡cos(\\theta)  -sin(\\theta)⎤\n",
              "⎢                         ⎥\n",
              "⎣sin(\\theta)  cos(\\theta) ⎦"
            ],
            "text/latex": "$\\displaystyle \\left[\\begin{matrix}\\cos{\\left(\\theta \\right)} & - \\sin{\\left(\\theta \\right)}\\\\\\sin{\\left(\\theta \\right)} & \\cos{\\left(\\theta \\right)}\\end{matrix}\\right]$"
          },
          "metadata": {},
          "execution_count": 27
        }
      ]
    },
    {
      "cell_type": "markdown",
      "source": [
        "Se transforma la matriz de esfuerzos utilizando la ecuación (2.16). Recuerde $\\sigma' = T^\\intercal.\\sigma.T$\n",
        "\n",
        "$\\sigma'=$"
      ],
      "metadata": {
        "id": "uVTNHZUVgVYs"
      }
    },
    {
      "cell_type": "code",
      "source": [
        "sigmaP = sp.trigsimp( sp.Transpose(T)*sigma*T)\n",
        "sigmaP"
      ],
      "metadata": {
        "colab": {
          "base_uri": "https://localhost:8080/",
          "height": 61
        },
        "id": "A53EXCOsgTxJ",
        "outputId": "d5297dff-4a8d-4520-a0e4-13207acebcbc"
      },
      "execution_count": 28,
      "outputs": [
        {
          "output_type": "execute_result",
          "data": {
            "text/plain": [
              "⎡-2⋅P⋅sin(\\theta)    ⎤\n",
              "⎢─────────────────  0⎥\n",
              "⎢      \\pi⋅r         ⎥\n",
              "⎢                    ⎥\n",
              "⎣        0          0⎦"
            ],
            "text/latex": "$\\displaystyle \\left[\\begin{matrix}- \\frac{2 P \\sin{\\left(\\theta \\right)}}{\\pi r} & 0\\\\0 & 0\\end{matrix}\\right]$"
          },
          "metadata": {},
          "execution_count": 28
        }
      ]
    },
    {
      "cell_type": "markdown",
      "source": [
        "Se determinan los valores $\\sigma_x'$ (```sxp```), $\\sigma_y'$ (```syp```) y $\\tau_{x'y'}$ (```txpyp```).\n",
        "\n",
        "$\\sigma_x'=$"
      ],
      "metadata": {
        "id": "7ymJe--ng3-7"
      }
    },
    {
      "cell_type": "code",
      "source": [
        "sigmaP[0,0]"
      ],
      "metadata": {
        "colab": {
          "base_uri": "https://localhost:8080/",
          "height": 53
        },
        "id": "Ilq7YZcQgw_h",
        "outputId": "fd09c23b-1476-4dd6-a7dc-912d1d4e5c2f"
      },
      "execution_count": 29,
      "outputs": [
        {
          "output_type": "execute_result",
          "data": {
            "text/plain": [
              "-2⋅P⋅sin(\\theta) \n",
              "─────────────────\n",
              "      \\pi⋅r      "
            ],
            "image/png": "[encoded data removed]",
            "text/latex": "$\\displaystyle - \\frac{2 P \\sin{\\left(\\theta \\right)}}{\\pi r}$"
          },
          "metadata": {},
          "execution_count": 29
        }
      ]
    },
    {
      "cell_type": "markdown",
      "source": [
        "$\\sigma_y'=$"
      ],
      "metadata": {
        "id": "Y5gMIy8FhJ0i"
      }
    },
    {
      "cell_type": "code",
      "source": [
        "sigmaP[1,1]"
      ],
      "metadata": {
        "colab": {
          "base_uri": "https://localhost:8080/",
          "height": 38
        },
        "id": "5gp2MZMnhIVX",
        "outputId": "8713b66e-1e36-4cb9-8702-69c974f67302"
      },
      "execution_count": 30,
      "outputs": [
        {
          "output_type": "execute_result",
          "data": {
            "text/plain": [
              "0"
            ],
            "image/png": "[encoded data removed]",
            "text/latex": "$\\displaystyle 0$"
          },
          "metadata": {},
          "execution_count": 30
        }
      ]
    },
    {
      "cell_type": "markdown",
      "source": [
        "$\\tau_{x'y'}=$"
      ],
      "metadata": {
        "id": "_RR12q0BhN5K"
      }
    },
    {
      "cell_type": "code",
      "source": [
        "sigmaP[0,1]"
      ],
      "metadata": {
        "colab": {
          "base_uri": "https://localhost:8080/",
          "height": 38
        },
        "id": "kN9oWP8PhNJW",
        "outputId": "a02f89bb-daaf-437d-8ff8-5fe49df5d74e"
      },
      "execution_count": 31,
      "outputs": [
        {
          "output_type": "execute_result",
          "data": {
            "text/plain": [
              "0"
            ],
            "image/png": "[encoded data removed]",
            "text/latex": "$\\displaystyle 0$"
          },
          "metadata": {},
          "execution_count": 31
        }
      ]
    }
  ]
}