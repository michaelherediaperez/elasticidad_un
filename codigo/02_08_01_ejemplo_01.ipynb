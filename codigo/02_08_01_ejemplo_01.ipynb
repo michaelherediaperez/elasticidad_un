{
  "nbformat": 4,
  "nbformat_minor": 0,
  "metadata": {
    "colab": {
      "name": "02_08_01_ejemplo_01.ipynb",
      "provenance": [],
      "authorship_tag": "ABX9TyNwB38SD92EwL3USglstiHd",
      "include_colab_link": true
    },
    "kernelspec": {
      "name": "python3",
      "display_name": "Python 3"
    },
    "language_info": {
      "name": "python"
    }
  },
  "cells": [
    {
      "cell_type": "markdown",
      "metadata": {
        "id": "view-in-github",
        "colab_type": "text"
      },
      "source": [
        "<a href=\"https://colab.research.google.com/github/michaelherediaperez/mecanica_de_solidos_un/blob/main/codigo/02_08_01_ejemplo_01.ipynb\" target=\"_parent\"><img src=\"https://colab.research.google.com/assets/colab-badge.svg\" alt=\"Open In Colab\"/></a>"
      ]
    },
    {
      "cell_type": "markdown",
      "source": [
        "# Ejemplo sección 2.8.1\n",
        "\n",
        "|Quién | Fecha | Qué hizo |\n",
        "| ---  | ---   | ---      |\n",
        "|Michael Heredia Pérez, <mherediap@unal.edu.co> | Julio 14, 2022 | Conversión de código de MAXIMA a Python|\n",
        "\n",
        "Considere un puto de un sólido bidimensional en el cual los esfuerzos son $\\sigma_x=$ 3 Pa, $\\sigma_y=$ 2 Pa y $\\tau_{xy}=$ -4 Pa. Se pide:\n",
        "\n",
        "* Plantear la matriz de tensiones $\\underline{\\underline{\\sigma}}$ correspondiente.\n",
        "* Calcular el polinomio característico asociado a $\\underline{\\underline{\\sigma}}$.\n",
        "* Calcular la dirección y magnitud de los esfuerzos principales."
      ],
      "metadata": {
        "id": "V0dH9NeusLZT"
      }
    },
    {
      "cell_type": "code",
      "execution_count": 21,
      "metadata": {
        "id": "sQl0V2z8r8kj"
      },
      "outputs": [],
      "source": [
        "import numpy as np  # Librería para cálculo algebráico"
      ]
    },
    {
      "cell_type": "code",
      "source": [
        "# Para mejorcomprensión, defino los componentes de la matriz sigma__.\n",
        "sx  = 3 \n",
        "sy  = 2\n",
        "txy = -4\n",
        "\n",
        "# Defino la matriz sigma__\n",
        "sigma__ = np.array([[sx,  txy],\n",
        "                    [txy, sy]])"
      ],
      "metadata": {
        "id": "vXfD3uQbtsA1"
      },
      "execution_count": 22,
      "outputs": []
    },
    {
      "cell_type": "markdown",
      "source": [
        "$\\underline{\\underline{\\sigma}}=$"
      ],
      "metadata": {
        "id": "GQkbYvpLw1dg"
      }
    },
    {
      "cell_type": "code",
      "source": [
        "sigma__"
      ],
      "metadata": {
        "colab": {
          "base_uri": "https://localhost:8080/"
        },
        "id": "6uSjSavcw3RK",
        "outputId": "f66a757e-4397-4e0a-f042-ced63963cd7e"
      },
      "execution_count": 23,
      "outputs": [
        {
          "output_type": "execute_result",
          "data": {
            "text/plain": [
              "array([[ 3, -4],\n",
              "       [-4,  2]])"
            ]
          },
          "metadata": {},
          "execution_count": 23
        }
      ]
    },
    {
      "cell_type": "markdown",
      "source": [
        "En el ```main.pdf``` se menciona una solución con el comando ```poly``` de Matlab para obtener los coeficientes del polinomio característico. En Python, su equivalente es ```numpy.poly()```."
      ],
      "metadata": {
        "id": "olpoRf-buipU"
      }
    },
    {
      "cell_type": "code",
      "source": [
        "np.poly(sigma__)"
      ],
      "metadata": {
        "colab": {
          "base_uri": "https://localhost:8080/"
        },
        "id": "McWqJBxcuiM6",
        "outputId": "57fdc256-dd81-45d5-dc18-9cdbcf1e60dc"
      },
      "execution_count": 24,
      "outputs": [
        {
          "output_type": "execute_result",
          "data": {
            "text/plain": [
              "array([  1.,  -5., -10.])"
            ]
          },
          "metadata": {},
          "execution_count": 24
        }
      ]
    },
    {
      "cell_type": "markdown",
      "source": [
        "En el ```main.pdf``` se menciona una solución con el comando ```eigenvalues``` de MAXIMA para calcular la magnitud de los esfuerzos principales. En Python, su equivalente es ```numpy.linalg.eigvals()``` el cual calcula los valores propios de una matriz.\n"
      ],
      "metadata": {
        "id": "EtdRwYWeu2DU"
      }
    },
    {
      "cell_type": "code",
      "source": [
        "np.linalg.eigvals(sigma__)"
      ],
      "metadata": {
        "colab": {
          "base_uri": "https://localhost:8080/"
        },
        "id": "6vKIDTVquoM4",
        "outputId": "de155f23-4e5a-4fe3-d20b-c14ca6a680fe"
      },
      "execution_count": 25,
      "outputs": [
        {
          "output_type": "execute_result",
          "data": {
            "text/plain": [
              "array([ 6.53112887, -1.53112887])"
            ]
          },
          "metadata": {},
          "execution_count": 25
        }
      ]
    },
    {
      "cell_type": "markdown",
      "source": [
        "Para el cálculo de las direcciones, se requeren los vectores propios de la matriz $\\underline{\\underline{\\sigma}}$, se podría hacer con el comando ```np.linalg.eig()``` que calcula tanto los valores como los vectores propios. Es similar al comando ```eig``` de MAXIMA."
      ],
      "metadata": {
        "id": "zthui2lZv29T"
      }
    },
    {
      "cell_type": "code",
      "source": [
        "valp, vecp = np.linalg.eig(sigma__)"
      ],
      "metadata": {
        "id": "IkFFzZzSv0yn"
      },
      "execution_count": 26,
      "outputs": []
    },
    {
      "cell_type": "markdown",
      "source": [
        "Los valores propios representan la magnitud de los esfuerzos principales,\n",
        "\n",
        "$[(\\sigma_1)_{xy}, [(\\sigma_2)_{xy}] = $  "
      ],
      "metadata": {
        "id": "HRz-xNvaydd9"
      }
    },
    {
      "cell_type": "code",
      "source": [
        "valp"
      ],
      "metadata": {
        "colab": {
          "base_uri": "https://localhost:8080/"
        },
        "id": "TRxGRniWySkS",
        "outputId": "4f636d4c-fd80-45e3-9b12-83e605196cd9"
      },
      "execution_count": 27,
      "outputs": [
        {
          "output_type": "execute_result",
          "data": {
            "text/plain": [
              "array([ 6.53112887, -1.53112887])"
            ]
          },
          "metadata": {},
          "execution_count": 27
        }
      ]
    },
    {
      "cell_type": "markdown",
      "source": [
        "Los vectores propios representan la dirección de los esfuerzos principales."
      ],
      "metadata": {
        "id": "6SAkdTahy3ET"
      }
    },
    {
      "cell_type": "code",
      "source": [
        "vecp"
      ],
      "metadata": {
        "colab": {
          "base_uri": "https://localhost:8080/"
        },
        "id": "p4j2ykdeyTaQ",
        "outputId": "cb54d51a-f472-479b-c3f1-3c1ac7d57539"
      },
      "execution_count": 28,
      "outputs": [
        {
          "output_type": "execute_result",
          "data": {
            "text/plain": [
              "array([[ 0.74967818,  0.66180256],\n",
              "       [-0.66180256,  0.74967818]])"
            ]
          },
          "metadata": {},
          "execution_count": 28
        }
      ]
    },
    {
      "cell_type": "markdown",
      "source": [
        "$\\hat{n_1}^\\intercal = $"
      ],
      "metadata": {
        "id": "ybNhUcEmzS7L"
      }
    },
    {
      "cell_type": "code",
      "source": [
        "vecp[0]"
      ],
      "metadata": {
        "colab": {
          "base_uri": "https://localhost:8080/"
        },
        "id": "QmSUYF37yXqA",
        "outputId": "c324fde9-7945-4866-d7c6-d43d775f9c09"
      },
      "execution_count": 29,
      "outputs": [
        {
          "output_type": "execute_result",
          "data": {
            "text/plain": [
              "array([0.74967818, 0.66180256])"
            ]
          },
          "metadata": {},
          "execution_count": 29
        }
      ]
    },
    {
      "cell_type": "markdown",
      "source": [
        "$\\hat{n_2}^\\intercal = $"
      ],
      "metadata": {
        "id": "o-kMuFIjzj7T"
      }
    },
    {
      "cell_type": "code",
      "source": [
        "vecp[1]"
      ],
      "metadata": {
        "colab": {
          "base_uri": "https://localhost:8080/"
        },
        "id": "QSkYM5Okzf5P",
        "outputId": "b8344933-433d-47f9-d6d3-c7e3b2b24ce4"
      },
      "execution_count": 30,
      "outputs": [
        {
          "output_type": "execute_result",
          "data": {
            "text/plain": [
              "array([-0.66180256,  0.74967818])"
            ]
          },
          "metadata": {},
          "execution_count": 30
        }
      ]
    }
  ]
}