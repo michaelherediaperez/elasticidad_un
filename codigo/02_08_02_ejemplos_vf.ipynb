{
  "nbformat": 4,
  "nbformat_minor": 0,
  "metadata": {
    "colab": {
      "name": "02_08_02_ejemplos_vf.ipynb",
      "provenance": [],
      "authorship_tag": "ABX9TyPAcX7LGBE3MjAoKXkvUpes",
      "include_colab_link": true
    },
    "kernelspec": {
      "name": "python3",
      "display_name": "Python 3"
    },
    "language_info": {
      "name": "python"
    }
  },
  "cells": [
    {
      "cell_type": "markdown",
      "metadata": {
        "id": "view-in-github",
        "colab_type": "text"
      },
      "source": [
        "<a href=\"https://colab.research.google.com/github/michaelherediaperez/mecanica_de_solidos_un/blob/main/codigo/02_08_02_ejemplos_vf.ipynb\" target=\"_parent\"><img src=\"https://colab.research.google.com/assets/colab-badge.svg\" alt=\"Open In Colab\"/></a>"
      ]
    },
    {
      "cell_type": "markdown",
      "source": [
        "# Ejemplo (verificación) sección 2.8.2.\n",
        "\n",
        "|Quién | Fecha | Qué hizo |\n",
        "| ---  | ---   | ---      |\n",
        "|Michael Heredia Pérez, <mherediap@unal.edu.co> | Julio 14, 2022 | Conversión de código de MAXIMA a Python|\n",
        "\n"
      ],
      "metadata": {
        "id": "EmIIUCONzP7n"
      }
    },
    {
      "cell_type": "code",
      "execution_count": 16,
      "metadata": {
        "id": "zAmG_inly3EO"
      },
      "outputs": [],
      "source": [
        "import numpy as np  # Librería para cálculo algebráico."
      ]
    },
    {
      "cell_type": "markdown",
      "source": [
        "## Verificación del sistema de coordenadas de la mano derecha\n",
        "\n",
        "En MAXIMA se trabaja con la librería ```vect``` que define el producto cruz como la combinación del operador ```~``` y la función ```express()```; sin embargo en numpy basta con emplear la función ```numpy.cross```."
      ],
      "metadata": {
        "id": "yQfKLGCszgpS"
      }
    },
    {
      "cell_type": "code",
      "source": [
        "# Defino los vectores.\n",
        "n1  = np.array([ 0, 2/np.sqrt(5), 1/np.sqrt(5) ])\n",
        "n2a = np.array([ 1,            0,            0 ])   # n2 del ejercicio.\n",
        "n2b = np.array([-1,            0,            0 ])   # n2 con sentido contrario."
      ],
      "metadata": {
        "id": "WU9PPeRczfat"
      },
      "execution_count": 17,
      "outputs": []
    },
    {
      "cell_type": "code",
      "source": [
        "# Se calcula el producto cruz: n1 x n2a.\n",
        "n3a = np.cross(n1, n2a)\n",
        "n3a"
      ],
      "metadata": {
        "colab": {
          "base_uri": "https://localhost:8080/"
        },
        "id": "sTu3XYy30qTL",
        "outputId": "b40752d6-0ed6-4c99-d041-8924343e4c4f"
      },
      "execution_count": 18,
      "outputs": [
        {
          "output_type": "execute_result",
          "data": {
            "text/plain": [
              "array([ 0.        ,  0.4472136 , -0.89442719])"
            ]
          },
          "metadata": {},
          "execution_count": 18
        }
      ]
    },
    {
      "cell_type": "code",
      "source": [
        "# Se calcula el producto cruz: n1 x n2b\n",
        "n3b = np.cross(n1, n2b)\n",
        "n3b"
      ],
      "metadata": {
        "colab": {
          "base_uri": "https://localhost:8080/"
        },
        "id": "g3JeXuML00ut",
        "outputId": "ee9497e7-6a71-462c-d4f4-d2954a78ff10"
      },
      "execution_count": 19,
      "outputs": [
        {
          "output_type": "execute_result",
          "data": {
            "text/plain": [
              "array([ 0.        , -0.4472136 ,  0.89442719])"
            ]
          },
          "metadata": {},
          "execution_count": 19
        }
      ]
    },
    {
      "cell_type": "markdown",
      "source": [
        "Verifique estos resultados según las conclusiones del ejercicio.\n",
        "\n",
        "## Verificación de la no existencia de esfuerzos cortantes\n",
        "\n",
        "Se construye la matriz de esfuerzos $\\sigma$ y de transformación $T$"
      ],
      "metadata": {
        "id": "1zgeN9JD1czD"
      }
    },
    {
      "cell_type": "code",
      "source": [
        "sigma = np.array([[ 1, 0, 0 ],\n",
        "                  [ 0, 3, 2 ],\n",
        "                  [ 0, 2, 0 ]])\n",
        "\n",
        "# Recuerde, T = [n1, n2, n3]\n",
        "T = np.array([[            0, 1,             0 ],\n",
        "              [ 2/np.sqrt(5), 0,  1/np.sqrt(5) ],\n",
        "              [ 1/np.sqrt(5), 0, -2/np.sqrt(5) ]])"
      ],
      "metadata": {
        "id": "181xzSoy18fj"
      },
      "execution_count": 20,
      "outputs": []
    },
    {
      "cell_type": "markdown",
      "source": [
        "La matriz de esfeurzos en el nuevo sistema de coordenadas, $\\sigma'$"
      ],
      "metadata": {
        "id": "BRjr3Nrk2pFP"
      }
    },
    {
      "cell_type": "code",
      "source": [
        "sigmaP = np.transpose(T)@sigma@T\n",
        "sigmaP.round(1)"
      ],
      "metadata": {
        "colab": {
          "base_uri": "https://localhost:8080/"
        },
        "id": "x8rUtQig2m8g",
        "outputId": "ff7b054e-698c-4e85-a918-72bd149b05ee"
      },
      "execution_count": 21,
      "outputs": [
        {
          "output_type": "execute_result",
          "data": {
            "text/plain": [
              "array([[ 4.,  0., -0.],\n",
              "       [ 0.,  1.,  0.],\n",
              "       [ 0.,  0., -1.]])"
            ]
          },
          "metadata": {},
          "execution_count": 21
        }
      ]
    }
  ]
}