{
  "nbformat": 4,
  "nbformat_minor": 0,
  "metadata": {
    "colab": {
      "name": "02_08_04_ejemplo_vvf.ipynb",
      "provenance": [],
      "authorship_tag": "ABX9TyM45bk5FCHGOcQZHXJ9wJzb",
      "include_colab_link": true
    },
    "kernelspec": {
      "name": "python3",
      "display_name": "Python 3"
    },
    "language_info": {
      "name": "python"
    }
  },
  "cells": [
    {
      "cell_type": "markdown",
      "metadata": {
        "id": "view-in-github",
        "colab_type": "text"
      },
      "source": [
        "<a href=\"https://colab.research.google.com/github/michaelherediaperez/mecanica_de_solidos_un/blob/main/codigo/02_08_04_ejemplo_vvf.ipynb\" target=\"_parent\"><img src=\"https://colab.research.google.com/assets/colab-badge.svg\" alt=\"Open In Colab\"/></a>"
      ]
    },
    {
      "cell_type": "markdown",
      "source": [
        "# Ejemplo (verificación) sección 2.8.4.\n",
        "\n",
        "|Quién | Fecha | Qué hizo |\n",
        "| ---  | ---   | ---      |\n",
        "|Michael Heredia Pérez, <mherediap@unal.edu.co> | Julio 15, 2022 | Conversión de código de MAXIMA a Python|\n"
      ],
      "metadata": {
        "id": "R1qOyKK_Sofe"
      }
    },
    {
      "cell_type": "code",
      "execution_count": 1,
      "metadata": {
        "id": "hLc9fQtySb2x"
      },
      "outputs": [],
      "source": [
        "import numpy as np # Librería para cálculo algebráico.\n",
        "\n",
        "# Defino los vectores.\n",
        "n1 = np.array( [0, 2/np.sqrt(5),  1/np.sqrt(5)] )\n",
        "n2 = np.array( [1,            0,             0] )\n",
        "n3 = np.array( [0, 1/np.sqrt(5), -2/np.sqrt(5)] )"
      ]
    },
    {
      "cell_type": "code",
      "source": [
        "# Producto punto entre n1 y n2.\n",
        "np.dot(n1, n2)"
      ],
      "metadata": {
        "colab": {
          "base_uri": "https://localhost:8080/"
        },
        "id": "i6G5-xZdTS9I",
        "outputId": "a24e58a4-896d-47a7-8d2c-4fa656e5db78"
      },
      "execution_count": 2,
      "outputs": [
        {
          "output_type": "execute_result",
          "data": {
            "text/plain": [
              "0.0"
            ]
          },
          "metadata": {},
          "execution_count": 2
        }
      ]
    },
    {
      "cell_type": "code",
      "source": [
        "# Producto punto entre n1 y n3.\n",
        "np.dot(n1, n3)"
      ],
      "metadata": {
        "colab": {
          "base_uri": "https://localhost:8080/"
        },
        "id": "5Z8AP48ATcpd",
        "outputId": "b2bfeb28-936b-4cea-87ef-a69dfe62dc01"
      },
      "execution_count": 4,
      "outputs": [
        {
          "output_type": "execute_result",
          "data": {
            "text/plain": [
              "0.0"
            ]
          },
          "metadata": {},
          "execution_count": 4
        }
      ]
    },
    {
      "cell_type": "code",
      "source": [
        "# Producto punto entre n2 y n3.\n",
        "np.dot(n2, n3)"
      ],
      "metadata": {
        "colab": {
          "base_uri": "https://localhost:8080/"
        },
        "id": "X3mk0c3hTfNK",
        "outputId": "e9c3343e-28cd-43ff-c529-a327c79f5d19"
      },
      "execution_count": 5,
      "outputs": [
        {
          "output_type": "execute_result",
          "data": {
            "text/plain": [
              "0.0"
            ]
          },
          "metadata": {},
          "execution_count": 5
        }
      ]
    }
  ]
}