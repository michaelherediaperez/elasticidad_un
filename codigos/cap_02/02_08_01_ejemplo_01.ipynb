{
 "cells": [
  {
   "cell_type": "markdown",
   "metadata": {
    "colab_type": "text",
    "id": "view-in-github"
   },
   "source": [
    "<a href=\"https://colab.research.google.com/github/michaelherediaperez/mecanica_de_solidos_un/blob/main/codigos/cap_02/02_08_01_ejemplo_01.ipynb\" target=\"_parent\"><img src=\"https://colab.research.google.com/assets/colab-badge.svg\" alt=\"Open In Colab\"/></a>"
   ]
  },
  {
   "cell_type": "markdown",
   "metadata": {
    "id": "V0dH9NeusLZT"
   },
   "source": [
    "# Ejemplo sección 2.8.1\n",
    "\n",
    "|Quién | Fecha | Qué hizo |\n",
    "| ---  | ---   | ---      |\n",
    "|Michael Heredia Pérez, <mherediap@unal.edu.co> | Julio 14, 2022     | Conversión de código de MAXIMA a Python|\n",
    "|Diego Andrés Alvarez, <daalvarez@unal.edu.co>  | Septiembre 7, 2022 | Mejorando comentarios                  |\n",
    "\n",
    "\n",
    "Considere un puto de un sólido bidimensional en el cual los esfuerzos son $\\sigma_x=$ 3 Pa, $\\sigma_y=$ 2 Pa y $\\tau_{xy}=$ -4 Pa. Se pide:\n",
    "\n",
    "* Plantear la matriz de tensiones $\\underline{\\underline{\\boldsymbol{\\sigma}}}$ correspondiente.\n",
    "* Calcular el polinomio característico asociado a $\\underline{\\underline{\\boldsymbol\\sigma}}$.\n",
    "* Calcular la dirección y magnitud de los esfuerzos principales."
   ]
  },
  {
   "cell_type": "code",
   "execution_count": 1,
   "metadata": {
    "id": "sQl0V2z8r8kj"
   },
   "outputs": [],
   "source": [
    "import numpy as np  # Librería para cálculo algebráico"
   ]
  },
  {
   "cell_type": "code",
   "execution_count": 2,
   "metadata": {
    "id": "vXfD3uQbtsA1"
   },
   "outputs": [],
   "source": [
    "# Para mejorcomprensión, defino los componentes de la matriz sigma.\n",
    "sx  =  3 \n",
    "sy  =  2\n",
    "txy = -4\n",
    "\n",
    "# Defino la matriz sigma\n",
    "sigma = np.array([[ sx,  txy],\n",
    "                  [txy,  sy]])"
   ]
  },
  {
   "cell_type": "markdown",
   "metadata": {
    "id": "GQkbYvpLw1dg"
   },
   "source": [
    "$\\underline{\\underline{\\sigma}}=$"
   ]
  },
  {
   "cell_type": "code",
   "execution_count": 3,
   "metadata": {
    "colab": {
     "base_uri": "https://localhost:8080/"
    },
    "id": "6uSjSavcw3RK",
    "outputId": "6b38fc72-8074-4ebc-d6de-ccc33026f6e3"
   },
   "outputs": [
    {
     "data": {
      "text/plain": [
       "array([[ 3, -4],\n",
       "       [-4,  2]])"
      ]
     },
     "execution_count": 3,
     "metadata": {},
     "output_type": "execute_result"
    }
   ],
   "source": [
    "sigma"
   ]
  },
  {
   "cell_type": "markdown",
   "metadata": {
    "id": "olpoRf-buipU"
   },
   "source": [
    "Se calcula el polinomio característico:"
   ]
  },
  {
   "cell_type": "code",
   "execution_count": 4,
   "metadata": {
    "colab": {
     "base_uri": "https://localhost:8080/"
    },
    "id": "McWqJBxcuiM6",
    "outputId": "383e6b9c-4ff3-4035-b51e-dcd37230ee01"
   },
   "outputs": [
    {
     "data": {
      "text/plain": [
       "array([  1.,  -5., -10.])"
      ]
     },
     "execution_count": 4,
     "metadata": {},
     "output_type": "execute_result"
    }
   ],
   "source": [
    "np.poly(sigma)"
   ]
  },
  {
   "cell_type": "markdown",
   "metadata": {},
   "source": [
    "Lo cual quiere decir que el polinomio característico es: $\\sigma_n^2 - 5\\sigma_n - 10 = 0$."
   ]
  },
  {
   "cell_type": "markdown",
   "metadata": {
    "id": "EtdRwYWeu2DU"
   },
   "source": [
    "Se calculan los valores propios de $\\underline{\\underline{\\boldsymbol\\sigma}}$ (los esfuerzos principales) con ```numpy.linalg.eigvals()```:"
   ]
  },
  {
   "cell_type": "code",
   "execution_count": 5,
   "metadata": {
    "colab": {
     "base_uri": "https://localhost:8080/"
    },
    "id": "6vKIDTVquoM4",
    "outputId": "806a275e-bd99-46e4-acde-8051eb2f15e8",
    "scrolled": true
   },
   "outputs": [
    {
     "data": {
      "text/plain": [
       "array([ 6.53112887, -1.53112887])"
      ]
     },
     "execution_count": 5,
     "metadata": {},
     "output_type": "execute_result"
    }
   ],
   "source": [
    "np.linalg.eigvals(sigma)"
   ]
  },
  {
   "cell_type": "markdown",
   "metadata": {},
   "source": [
    "Es decir $(\\sigma_1)_{xy} = 6.5311$ Pa y $(\\sigma_2)_{xy} = -1.5311$ Pa. \n",
    "\n",
    "Observe que los valores propios también se obtienen calculando las raíces del polinomio característico:"
   ]
  },
  {
   "cell_type": "code",
   "execution_count": 6,
   "metadata": {},
   "outputs": [
    {
     "data": {
      "text/plain": [
       "array([ 6.53112887, -1.53112887])"
      ]
     },
     "execution_count": 6,
     "metadata": {},
     "output_type": "execute_result"
    }
   ],
   "source": [
    "np.roots(np.poly(sigma))"
   ]
  },
  {
   "cell_type": "markdown",
   "metadata": {
    "id": "zthui2lZv29T"
   },
   "source": [
    "Para el cálculo de las direcciones principales, se requiere calcular los vectores propios de la matriz $\\underline{\\underline{\\boldsymbol\\sigma}}$, lo cual se realiza con el comando ```eig```:"
   ]
  },
  {
   "cell_type": "code",
   "execution_count": 7,
   "metadata": {
    "id": "IkFFzZzSv0yn"
   },
   "outputs": [],
   "source": [
    "valp, vecp = np.linalg.eig(sigma)"
   ]
  },
  {
   "cell_type": "markdown",
   "metadata": {
    "id": "HRz-xNvaydd9"
   },
   "source": [
    "Los valores propios representan la magnitud de los esfuerzos principales,\n",
    "\n",
    "$[(\\sigma_1)_{xy}, [(\\sigma_2)_{xy}] = $  "
   ]
  },
  {
   "cell_type": "code",
   "execution_count": 8,
   "metadata": {
    "colab": {
     "base_uri": "https://localhost:8080/"
    },
    "id": "TRxGRniWySkS",
    "outputId": "d153651e-2b9f-4ea9-b395-21276c8a5f05"
   },
   "outputs": [
    {
     "data": {
      "text/plain": [
       "array([ 6.53112887, -1.53112887])"
      ]
     },
     "execution_count": 8,
     "metadata": {},
     "output_type": "execute_result"
    }
   ],
   "source": [
    "valp"
   ]
  },
  {
   "cell_type": "markdown",
   "metadata": {
    "id": "6SAkdTahy3ET"
   },
   "source": [
    "Los vectores propios representan la dirección de los esfuerzos principales."
   ]
  },
  {
   "cell_type": "code",
   "execution_count": 9,
   "metadata": {
    "colab": {
     "base_uri": "https://localhost:8080/"
    },
    "id": "p4j2ykdeyTaQ",
    "outputId": "277aa466-6a51-4368-c83d-1880c7097698"
   },
   "outputs": [
    {
     "data": {
      "text/plain": [
       "array([[ 0.74967818,  0.66180256],\n",
       "       [-0.66180256,  0.74967818]])"
      ]
     },
     "execution_count": 9,
     "metadata": {},
     "output_type": "execute_result"
    }
   ],
   "source": [
    "vecp"
   ]
  },
  {
   "cell_type": "markdown",
   "metadata": {
    "id": "ybNhUcEmzS7L"
   },
   "source": [
    "$\\hat{\\boldsymbol{n}}_1^T = $"
   ]
  },
  {
   "cell_type": "code",
   "execution_count": 10,
   "metadata": {
    "colab": {
     "base_uri": "https://localhost:8080/"
    },
    "id": "QmSUYF37yXqA",
    "outputId": "783a6caa-45d5-46c4-c84d-c84dacd69bd1"
   },
   "outputs": [
    {
     "data": {
      "text/plain": [
       "array([0.74967818, 0.66180256])"
      ]
     },
     "execution_count": 10,
     "metadata": {},
     "output_type": "execute_result"
    }
   ],
   "source": [
    "vecp[0]"
   ]
  },
  {
   "cell_type": "markdown",
   "metadata": {
    "id": "o-kMuFIjzj7T"
   },
   "source": [
    "$\\hat{\\boldsymbol{n}}_2^T = $"
   ]
  },
  {
   "cell_type": "code",
   "execution_count": 11,
   "metadata": {
    "colab": {
     "base_uri": "https://localhost:8080/"
    },
    "id": "QSkYM5Okzf5P",
    "outputId": "7a1358c0-16fe-433c-fb06-b4904596b52c"
   },
   "outputs": [
    {
     "data": {
      "text/plain": [
       "array([-0.66180256,  0.74967818])"
      ]
     },
     "execution_count": 11,
     "metadata": {},
     "output_type": "execute_result"
    }
   ],
   "source": [
    "vecp[1]"
   ]
  }
 ],
 "metadata": {
  "colab": {
   "authorship_tag": "ABX9TyNwB38SD92EwL3USglstiHd",
   "include_colab_link": true,
   "name": "02_08_01_ejemplo_01.ipynb",
   "provenance": []
  },
  "kernelspec": {
   "display_name": "Python 3 (ipykernel)",
   "language": "python",
   "name": "python3"
  },
  "language_info": {
   "codemirror_mode": {
    "name": "ipython",
    "version": 3
   },
   "file_extension": ".py",
   "mimetype": "text/x-python",
   "name": "python",
   "nbconvert_exporter": "python",
   "pygments_lexer": "ipython3",
   "version": "3.9.7"
  }
 },
 "nbformat": 4,
 "nbformat_minor": 1
}
