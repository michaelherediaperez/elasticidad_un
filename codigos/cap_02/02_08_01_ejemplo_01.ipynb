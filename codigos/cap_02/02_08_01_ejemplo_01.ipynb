{
 "cells": [
  {
   "cell_type": "markdown",
   "metadata": {
    "colab_type": "text",
    "id": "view-in-github"
   },
   "source": [
    "<a href=\"https://colab.research.google.com/github/michaelherediaperez/mecanica_de_solidos_un/blob/main/codigos/cap_02/02_08_01_ejemplo_01.ipynb\" target=\"_parent\"><img src=\"https://colab.research.google.com/assets/colab-badge.svg\" alt=\"Open In Colab\"/></a>"
   ]
  },
  {
   "cell_type": "markdown",
   "metadata": {
    "id": "V0dH9NeusLZT"
   },
   "source": [
    "# Ejemplo sección 2.8.1\n",
    "\n",
    "|Quién | Fecha | Qué hizo |\n",
    "| ---  | ---   | ---      |\n",
    "|Michael Heredia Pérez, <mherediap@unal.edu.co> | Julio 14, 2022 | Conversión de código de MAXIMA a Python|\n",
    "|Michael Heredia Pérez, <mherediap@unal.edu.co> | Septiembre 10, 2022 | Mejorando legibilidad|\n",
    "|Diego Andrés Alvarez, <daalvarez@unal.edu.co>  | Septiembre 13, 2022 | Colocando índices a esfuerzo máximo y mínimo |\n",
    "|Michael Heredia Pérez, <mherediap@unal.edu.co> | Septiembre 19, 2022 | Cambiando comando ```.eig``` por ```.eigh``` |\n"
   ]
  },
  {
   "cell_type": "markdown",
   "metadata": {
    "id": "V0dH9NeusLZT"
   },
   "source": [
    "Considere un punto de un sólido bidimensional en el cual los esfuerzos son $\\sigma_x=$ 3 Pa, $\\sigma_y=$ 2 Pa y $\\tau_{xy}=$ -4 Pa. Se pide:\n",
    "\n",
    "1. Plantear la matriz de tensiones  $\\underline{\\underline{\\boldsymbol{\\sigma}}}$ correspondiente.\n",
    "2. Calcular el polinomio característico asociado a  $\\underline{\\underline{\\boldsymbol{\\sigma}}}$.\n",
    "3. Calcular la dirección y magnitud de los esfuerzos principales."
   ]
  },
  {
   "cell_type": "code",
   "execution_count": 12,
   "metadata": {
    "id": "sQl0V2z8r8kj"
   },
   "outputs": [],
   "source": [
    "import numpy as np  # Librería para cálculo algebráico\n",
    "\n",
    "# Para imprimir algo bonito (esto no es escencial para el desarrollo, solo para \n",
    "# presentar los resultados).\n",
    "import sympy as sp\n",
    "from IPython.display import Math                 \n",
    "def imprimir (texto, variable, unidad=False):\n",
    "    if unidad:\n",
    "        return Math(texto + rf'{sp.latex(variable)}' + unidad)\n",
    "    else:\n",
    "        return Math(texto + rf'{sp.latex(variable)}')"
   ]
  },
  {
   "cell_type": "markdown",
   "metadata": {
    "id": "Ygyme2K0-SDv"
   },
   "source": [
    "## 1. Matriz de esfuerzos $\\underline{\\underline{\\boldsymbol{\\sigma}}}$"
   ]
  },
  {
   "cell_type": "code",
   "execution_count": 13,
   "metadata": {
    "colab": {
     "base_uri": "https://localhost:8080/"
    },
    "id": "vXfD3uQbtsA1",
    "outputId": "82ed97c9-4385-45d1-d80f-4679d90b53ae"
   },
   "outputs": [
    {
     "data": {
      "text/latex": [
       "$\\displaystyle \\underline{\\underline{\\boldsymbol{\\sigma}}} =\\left[\\begin{matrix}3 & -4\\\\-4 & 2\\end{matrix}\\right]$"
      ],
      "text/plain": [
       "<IPython.core.display.Math object>"
      ]
     },
     "execution_count": 13,
     "metadata": {},
     "output_type": "execute_result"
    }
   ],
   "source": [
    "# Se definen los componentes de la matriz sigma.\n",
    "sx  =  3  # Pa\n",
    "sy  =  2  # Pa\n",
    "txy = -4  # Pa  \n",
    "\n",
    "# Se define la matriz sigma\n",
    "sigma = np.array([[sx,  txy], \n",
    "                  [txy, sy]])\n",
    "\n",
    "# Visualizamos la matriz de esfuerzos\n",
    "imprimir(r\"\\underline{\\underline{\\boldsymbol{\\sigma}}} =\", sp.Matrix(sigma))"
   ]
  },
  {
   "cell_type": "markdown",
   "metadata": {
    "id": "olpoRf-buipU"
   },
   "source": [
    "## 2. Polinomio característico\n",
    "\n",
    "Para obtener los coeficientes del polinomio característico empleamosel comando ```numpy.poly()```."
   ]
  },
  {
   "cell_type": "code",
   "execution_count": 4,
   "metadata": {
    "colab": {
     "base_uri": "https://localhost:8080/"
    },
    "id": "McWqJBxcuiM6",
    "outputId": "ab4bdd9c-abf1-494d-d7d4-ba3c6659a8ac"
   },
   "outputs": [
    {
     "data": {
      "text/plain": [
       "array([  1.,  -5., -10.])"
      ]
     },
     "execution_count": 4,
     "metadata": {},
     "output_type": "execute_result"
    }
   ],
   "source": [
    "np.poly(sigma)"
   ]
  },
  {
   "cell_type": "markdown",
   "metadata": {
    "id": "nf6LrZtG88U9"
   },
   "source": [
    "Esto es: $$\\sigma_n^2 - 5\\sigma_n - 10 = 0$$\n",
    "\n",
    "Y recuerde que un polinomio se puede expresar como un producto punto, así: $$p(\\sigma_n)=\\left \\langle (\\sigma_n^2, \\sigma_n, 1),(1, -5, -10)  \\right \\rangle$$\n"
   ]
  },
  {
   "cell_type": "markdown",
   "metadata": {
    "id": "EtdRwYWeu2DU"
   },
   "source": [
    "## 3. Dirección y magnitud de los esfuerzos principales\n",
    "\n",
    "Para calcular los valores y vectores propios de la matriz de esfuerzos $\\underline{\\underline{\\boldsymbol{\\sigma}}}$ con ```numpy```, empleamos el comando ```np.linalg.eigh()``` el cual retorna una lista de dos entradas, la primera contiene los valores propios y la segunda contiene los vectores porpios. \n",
    "\n",
    "*Nota: refiérase a la documentación para entender porqué se usa el comando [np.linalg.eigh](https://numpy.org/doc/stable/reference/generated/numpy.linalg.eigh.html) en lugar de [np.linalg.eig](https://numpy.org/doc/stable/reference/generated/numpy.linalg.eig.html)*. "
   ]
  },
  {
   "cell_type": "code",
   "execution_count": 5,
   "metadata": {
    "id": "IkFFzZzSv0yn"
   },
   "outputs": [],
   "source": [
    "valp, vecp = np.linalg.eigh(sigma)"
   ]
  },
  {
   "cell_type": "markdown",
   "metadata": {
    "id": "HRz-xNvaydd9"
   },
   "source": [
    "Los valores propios representan la magnitud de los esfuerzos principales, estos se almacenaron en el vector `valp`, y gracias al comando `np.linalg.eigh()` estos quedan ordenados de menor a mayor.\n",
    "\n",
    "Los vectores propios representan las direcciones principales, estos se almacenan en el arreglo `vecp`, y corresponden a sus columnas."
   ]
  },
  {
   "cell_type": "code",
   "execution_count": 16,
   "metadata": {},
   "outputs": [],
   "source": [
    "\n",
    "# Extraigo los resultados (cuidado con el orden)\n",
    "s2_xy, s1_xy = valp\n",
    "n2g,   n1g   = vecp[:,0], vecp[:,1]     # Las columnas, no las filas.\n",
    "            #= vecp.T[0], vecp.T[1]       es una forma alterna.                                     "
   ]
  },
  {
   "cell_type": "code",
   "execution_count": 17,
   "metadata": {
    "colab": {
     "base_uri": "https://localhost:8080/"
    },
    "id": "agwqVfBfAk6H",
    "outputId": "282408cd-b134-4591-cd23-fe670f1ba711"
   },
   "outputs": [
    {
     "data": {
      "text/latex": [
       "$\\displaystyle (\\sigma_1)_{xy} =6.531 Pa$"
      ],
      "text/plain": [
       "<IPython.core.display.Math object>"
      ]
     },
     "execution_count": 17,
     "metadata": {},
     "output_type": "execute_result"
    }
   ],
   "source": [
    "imprimir(r\"(\\sigma_1)_{xy} =\", s1_xy.round(3), \" Pa\")"
   ]
  },
  {
   "cell_type": "code",
   "execution_count": 18,
   "metadata": {},
   "outputs": [
    {
     "data": {
      "text/latex": [
       "$\\displaystyle (\\sigma_2)_{xy} =-1.531 Pa$"
      ],
      "text/plain": [
       "<IPython.core.display.Math object>"
      ]
     },
     "execution_count": 18,
     "metadata": {},
     "output_type": "execute_result"
    }
   ],
   "source": [
    "imprimir(r\"(\\sigma_2)_{xy} =\", s2_xy.round(3), \" Pa\")"
   ]
  },
  {
   "cell_type": "code",
   "execution_count": 19,
   "metadata": {},
   "outputs": [
    {
     "data": {
      "text/latex": [
       "$\\displaystyle \\boldsymbol{\\hat{n}}^T_1 =\\mathtt{\\text{[-0.74967818  0.66180256]}}$"
      ],
      "text/plain": [
       "<IPython.core.display.Math object>"
      ]
     },
     "execution_count": 19,
     "metadata": {},
     "output_type": "execute_result"
    }
   ],
   "source": [
    "imprimir(r\"\\boldsymbol{\\hat{n}}^T_1 =\", n1g)"
   ]
  },
  {
   "cell_type": "code",
   "execution_count": 20,
   "metadata": {},
   "outputs": [
    {
     "data": {
      "text/latex": [
       "$\\displaystyle \\boldsymbol{\\hat{n}}^T_2 =\\mathtt{\\text{[-0.66180256 -0.74967818]}}$"
      ],
      "text/plain": [
       "<IPython.core.display.Math object>"
      ]
     },
     "execution_count": 20,
     "metadata": {},
     "output_type": "execute_result"
    }
   ],
   "source": [
    "imprimir(r\"\\boldsymbol{\\hat{n}}^T_2 =\", n2g)"
   ]
  },
  {
   "cell_type": "code",
   "execution_count": 21,
   "metadata": {
    "colab": {
     "base_uri": "https://localhost:8080/"
    },
    "id": "p4j2ykdeyTaQ",
    "outputId": "7bc73eef-fd8d-4511-fca8-310ab3495cfc"
   },
   "outputs": [
    {
     "data": {
      "text/plain": [
       "array([[-0.66180256, -0.74967818],\n",
       "       [-0.74967818,  0.66180256]])"
      ]
     },
     "execution_count": 21,
     "metadata": {},
     "output_type": "execute_result"
    }
   ],
   "source": [
    "# Y si miramos el contenido del arreglo \"vecp\"\n",
    "vecp"
   ]
  },
  {
   "cell_type": "markdown",
   "metadata": {
    "id": "MBugHluyBYUC"
   },
   "source": [
    "Así mismo, se puede calcular el ángulo de inclinación de los planos principales sobre los cuales actúan los esfuerzos principales:"
   ]
  },
  {
   "cell_type": "code",
   "execution_count": 25,
   "metadata": {
    "colab": {
     "base_uri": "https://localhost:8080/"
    },
    "id": "DXsbW3pJBjMb",
    "outputId": "b7ed34bd-5d1c-499b-c355-4ffbad68d1b1"
   },
   "outputs": [
    {
     "name": "stdout",
     "output_type": "stream",
     "text": [
      "theta1 = 138.6°\n",
      "theta2 = 48.6°\n"
     ]
    }
   ],
   "source": [
    "# Extraemos los cosenos directores respecto al eje global x, de cada dirección \n",
    "# principal.\n",
    "cos_theta1 = n1g[0]#vecp[:,idx_s1][0]\n",
    "cos_theta2 = n1g[1]#vecp[:,idx_s2][0]\n",
    "\n",
    "# Calculamos el ángulo de inclinación del plano principal donde actúa s1 y s2 y \n",
    "# se convierte de radianes a grados, redondeando los datos a 1 decimal.\n",
    "theta1 = np.rad2deg(np.arccos(cos_theta1)).round(1)\n",
    "theta2 = np.rad2deg(np.arccos(cos_theta2)).round(1)\n",
    "\n",
    "print(f\"theta1 = {theta1}°\")\n",
    "print(f\"theta2 = {theta2}°\")"
   ]
  },
  {
   "cell_type": "code",
   "execution_count": 29,
   "metadata": {},
   "outputs": [
    {
     "name": "stdout",
     "output_type": "stream",
     "text": [
      "theta1 = -41.4°\n"
     ]
    }
   ],
   "source": [
    "# Comprobamos el theta2 medido desde el eje x en sentido horario:\n",
    "print(f\"theta1 = {(theta1-180).round(1)}°\") "
   ]
  },
  {
   "cell_type": "markdown",
   "metadata": {
    "id": "xdorepGCEFxE"
   },
   "source": [
    "Y gráficamente, nuestro sólido queda de la siguiente forma:"
   ]
  },
  {
   "cell_type": "markdown",
   "metadata": {
    "id": "ySN4kpEGDzk3"
   },
   "source": [
    "![image.png](data:image/png;base64,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)"
   ]
  },
  {
   "cell_type": "markdown",
   "metadata": {
    "id": "XBJpvg99D3Qh"
   },
   "source": [
    "**Nota:** Es importante revisar el sentido de los vectores directores para así calcular correctamente el ángulo de inclinación de los planos."
   ]
  }
 ],
 "metadata": {
  "colab": {
   "authorship_tag": "ABX9TyO9WGmAtPWgPbK3ZRvhSlKG",
   "include_colab_link": true,
   "provenance": []
  },
  "kernelspec": {
   "display_name": "Python 3.10.4 64-bit",
   "language": "python",
   "name": "python3"
  },
  "language_info": {
   "codemirror_mode": {
    "name": "ipython",
    "version": 3
   },
   "file_extension": ".py",
   "mimetype": "text/x-python",
   "name": "python",
   "nbconvert_exporter": "python",
   "pygments_lexer": "ipython3",
   "version": "3.10.4"
  },
  "vscode": {
   "interpreter": {
    "hash": "916dbcbb3f70747c44a77c7bcd40155683ae19c65e1c03b4aa3499c5328201f1"
   }
  }
 },
 "nbformat": 4,
 "nbformat_minor": 1
}
