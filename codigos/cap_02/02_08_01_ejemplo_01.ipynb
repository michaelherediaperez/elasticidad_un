{
  "nbformat": 4,
  "nbformat_minor": 0,
  "metadata": {
    "colab": {
      "name": "02_08_01_ejemplo_01.ipynb",
      "provenance": [],
      "authorship_tag": "ABX9TyNwB38SD92EwL3USglstiHd",
      "include_colab_link": true
    },
    "kernelspec": {
      "name": "python3",
      "display_name": "Python 3"
    },
    "language_info": {
      "name": "python"
    }
  },
  "cells": [
    {
      "cell_type": "markdown",
      "metadata": {
        "id": "view-in-github",
        "colab_type": "text"
      },
      "source": [
        "<a href=\"https://colab.research.google.com/github/michaelherediaperez/mecanica_de_solidos_un/blob/main/codigos/cap_02/02_08_01_ejemplo_01.ipynb\" target=\"_parent\"><img src=\"https://colab.research.google.com/assets/colab-badge.svg\" alt=\"Open In Colab\"/></a>"
      ]
    },
    {
      "cell_type": "markdown",
      "source": [
        "# Ejemplo sección 2.8.1\n",
        "\n",
        "|Quién | Fecha | Qué hizo |\n",
        "| ---  | ---   | ---      |\n",
        "|Michael Heredia Pérez, <mherediap@unal.edu.co> | Julio 14, 2022 | Conversión de código de MAXIMA a Python|\n",
        "\n",
        "Considere un puto de un sólido bidimensional en el cual los esfuerzos son $\\sigma_x=$ 3 Pa, $\\sigma_y=$ 2 Pa y $\\tau_{xy}=$ -4 Pa. Se pide:\n",
        "\n",
        "* Plantear la matriz de tensiones $\\underline{\\underline{\\sigma}}$ correspondiente.\n",
        "* Calcular el polinomio característico asociado a $\\underline{\\underline{\\sigma}}$.\n",
        "* Calcular la dirección y magnitud de los esfuerzos principales."
      ],
      "metadata": {
        "id": "V0dH9NeusLZT"
      }
    },
    {
      "cell_type": "code",
      "execution_count": 1,
      "metadata": {
        "id": "sQl0V2z8r8kj"
      },
      "outputs": [],
      "source": [
        "import numpy as np  # Librería para cálculo algebráico"
      ]
    },
    {
      "cell_type": "code",
      "source": [
        "# Para mejorcomprensión, defino los componentes de la matriz sigma__.\n",
        "sx  = 3 \n",
        "sy  = 2\n",
        "txy = -4\n",
        "\n",
        "# Defino la matriz sigma__\n",
        "sigma__ = np.array([[sx,  txy],\n",
        "                    [txy, sy]])"
      ],
      "metadata": {
        "id": "vXfD3uQbtsA1"
      },
      "execution_count": 2,
      "outputs": []
    },
    {
      "cell_type": "markdown",
      "source": [
        "$\\underline{\\underline{\\sigma}}=$"
      ],
      "metadata": {
        "id": "GQkbYvpLw1dg"
      }
    },
    {
      "cell_type": "code",
      "source": [
        "sigma__"
      ],
      "metadata": {
        "colab": {
          "base_uri": "https://localhost:8080/"
        },
        "id": "6uSjSavcw3RK",
        "outputId": "6b38fc72-8074-4ebc-d6de-ccc33026f6e3"
      },
      "execution_count": 3,
      "outputs": [
        {
          "output_type": "execute_result",
          "data": {
            "text/plain": [
              "array([[ 3, -4],\n",
              "       [-4,  2]])"
            ]
          },
          "metadata": {},
          "execution_count": 3
        }
      ]
    },
    {
      "cell_type": "markdown",
      "source": [
        "En el ```main.pdf``` se menciona una solución con el comando ```poly``` de Matlab para obtener los coeficientes del polinomio característico. En Python, su equivalente es ```numpy.poly()```."
      ],
      "metadata": {
        "id": "olpoRf-buipU"
      }
    },
    {
      "cell_type": "code",
      "source": [
        "np.poly(sigma__)"
      ],
      "metadata": {
        "colab": {
          "base_uri": "https://localhost:8080/"
        },
        "id": "McWqJBxcuiM6",
        "outputId": "383e6b9c-4ff3-4035-b51e-dcd37230ee01"
      },
      "execution_count": 4,
      "outputs": [
        {
          "output_type": "execute_result",
          "data": {
            "text/plain": [
              "array([  1.,  -5., -10.])"
            ]
          },
          "metadata": {},
          "execution_count": 4
        }
      ]
    },
    {
      "cell_type": "markdown",
      "source": [
        "En el ```main.pdf``` se menciona una solución con el comando ```eigenvalues``` de MAXIMA para calcular la magnitud de los esfuerzos principales. En Python, su equivalente es ```numpy.linalg.eigvals()``` el cual calcula los valores propios de una matriz.\n"
      ],
      "metadata": {
        "id": "EtdRwYWeu2DU"
      }
    },
    {
      "cell_type": "code",
      "source": [
        "np.linalg.eigvals(sigma__)"
      ],
      "metadata": {
        "colab": {
          "base_uri": "https://localhost:8080/"
        },
        "id": "6vKIDTVquoM4",
        "outputId": "806a275e-bd99-46e4-acde-8051eb2f15e8"
      },
      "execution_count": 5,
      "outputs": [
        {
          "output_type": "execute_result",
          "data": {
            "text/plain": [
              "array([ 6.53112887, -1.53112887])"
            ]
          },
          "metadata": {},
          "execution_count": 5
        }
      ]
    },
    {
      "cell_type": "markdown",
      "source": [
        "Para el cálculo de las direcciones, se requeren los vectores propios de la matriz $\\underline{\\underline{\\sigma}}$, se podría hacer con el comando ```np.linalg.eig()``` que calcula tanto los valores como los vectores propios. Es similar al comando ```eig``` de MAXIMA."
      ],
      "metadata": {
        "id": "zthui2lZv29T"
      }
    },
    {
      "cell_type": "code",
      "source": [
        "valp, vecp = np.linalg.eig(sigma__)"
      ],
      "metadata": {
        "id": "IkFFzZzSv0yn"
      },
      "execution_count": 6,
      "outputs": []
    },
    {
      "cell_type": "markdown",
      "source": [
        "Los valores propios representan la magnitud de los esfuerzos principales,\n",
        "\n",
        "$[(\\sigma_1)_{xy}, [(\\sigma_2)_{xy}] = $  "
      ],
      "metadata": {
        "id": "HRz-xNvaydd9"
      }
    },
    {
      "cell_type": "code",
      "source": [
        "valp"
      ],
      "metadata": {
        "colab": {
          "base_uri": "https://localhost:8080/"
        },
        "id": "TRxGRniWySkS",
        "outputId": "d153651e-2b9f-4ea9-b395-21276c8a5f05"
      },
      "execution_count": 7,
      "outputs": [
        {
          "output_type": "execute_result",
          "data": {
            "text/plain": [
              "array([ 6.53112887, -1.53112887])"
            ]
          },
          "metadata": {},
          "execution_count": 7
        }
      ]
    },
    {
      "cell_type": "markdown",
      "source": [
        "Los vectores propios representan la dirección de los esfuerzos principales."
      ],
      "metadata": {
        "id": "6SAkdTahy3ET"
      }
    },
    {
      "cell_type": "code",
      "source": [
        "vecp"
      ],
      "metadata": {
        "colab": {
          "base_uri": "https://localhost:8080/"
        },
        "id": "p4j2ykdeyTaQ",
        "outputId": "277aa466-6a51-4368-c83d-1880c7097698"
      },
      "execution_count": 8,
      "outputs": [
        {
          "output_type": "execute_result",
          "data": {
            "text/plain": [
              "array([[ 0.74967818,  0.66180256],\n",
              "       [-0.66180256,  0.74967818]])"
            ]
          },
          "metadata": {},
          "execution_count": 8
        }
      ]
    },
    {
      "cell_type": "markdown",
      "source": [
        "$\\hat{n_1}^\\intercal = $"
      ],
      "metadata": {
        "id": "ybNhUcEmzS7L"
      }
    },
    {
      "cell_type": "code",
      "source": [
        "vecp[0]"
      ],
      "metadata": {
        "colab": {
          "base_uri": "https://localhost:8080/"
        },
        "id": "QmSUYF37yXqA",
        "outputId": "783a6caa-45d5-46c4-c84d-c84dacd69bd1"
      },
      "execution_count": 9,
      "outputs": [
        {
          "output_type": "execute_result",
          "data": {
            "text/plain": [
              "array([0.74967818, 0.66180256])"
            ]
          },
          "metadata": {},
          "execution_count": 9
        }
      ]
    },
    {
      "cell_type": "markdown",
      "source": [
        "$\\hat{n_2}^\\intercal = $"
      ],
      "metadata": {
        "id": "o-kMuFIjzj7T"
      }
    },
    {
      "cell_type": "code",
      "source": [
        "vecp[1]"
      ],
      "metadata": {
        "colab": {
          "base_uri": "https://localhost:8080/"
        },
        "id": "QSkYM5Okzf5P",
        "outputId": "7a1358c0-16fe-433c-fb06-b4904596b52c"
      },
      "execution_count": 10,
      "outputs": [
        {
          "output_type": "execute_result",
          "data": {
            "text/plain": [
              "array([-0.66180256,  0.74967818])"
            ]
          },
          "metadata": {},
          "execution_count": 10
        }
      ]
    }
  ]
}