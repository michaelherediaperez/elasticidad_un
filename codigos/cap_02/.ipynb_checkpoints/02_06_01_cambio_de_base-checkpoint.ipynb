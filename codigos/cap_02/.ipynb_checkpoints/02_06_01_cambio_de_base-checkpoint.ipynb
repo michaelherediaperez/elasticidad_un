{
 "cells": [
  {
   "cell_type": "markdown",
   "metadata": {
    "colab_type": "text",
    "id": "view-in-github"
   },
   "source": [
    "<a href=\"https://colab.research.google.com/github/michaelherediaperez/mecanica_de_solidos_un/blob/main/codigos/cap_02/02_06_01_cambio_de_base.ipynb\" target=\"_parent\"><img src=\"https://colab.research.google.com/assets/colab-badge.svg\" alt=\"Open In Colab\"/></a>"
   ]
  },
  {
   "cell_type": "markdown",
   "metadata": {
    "id": "UyAhKeEIsEqh"
   },
   "source": [
    "# 2.6.1. Particularización de la matriz de tensiones al caso tridimensional\n",
    "\n",
    "|Quién | Fecha | Qué hizo |\n",
    "| ---  | ---   | ---      |\n",
    "|Michael Heredia Pérez, <mherediap@unal.edu.co> | Julio 13, 2022      | Conversión de código de MAXIMA a Python|\n",
    "|Diego Andrés Alvarez, <daalvarez@unal.edu.co>  | Agosto 29, 2022     | Mejorando comentarios                  |\n",
    "|Diego Andrés Alvarez, <daalvarez@unal.edu.co>  | Septiembre 12, 2022 | Verificando $\\tau_{x_i'x_j'} = \\boldsymbol{\\hat e}_i'^T \\underline{\\underline{\\boldsymbol{\\sigma}}} \\boldsymbol{\\hat e}_j'$         |\n",
    "\n",
    "De acuerdo con la ecuación (<font color='blue'>2.16</font>) y la matriz de transformación $\\boldsymbol{T}$ definida en la ecuación (<font color='blue'>2.10</font>), las ecuaciones que transforman los esfuerzos a otro sistema de coordenadas se pueden calcular con el siguiente programa:"
   ]
  },
  {
   "cell_type": "code",
   "execution_count": 1,
   "metadata": {
    "id": "API5h85VrvWX"
   },
   "outputs": [],
   "source": [
    "import sympy as sp\n",
    "\n",
    "# Para imprimir bonito\n",
    "sp.init_printing()\n",
    "from IPython.display import Math                 \n",
    "def imprimir (texto, variable):\n",
    "    return Math(texto +  rf'{sp.latex(variable)}')"
   ]
  },
  {
   "cell_type": "markdown",
   "metadata": {
    "id": "L66opn_C5Tr_"
   },
   "source": [
    "Se definen las variables simbólicas necesarias:"
   ]
  },
  {
   "cell_type": "code",
   "execution_count": 2,
   "metadata": {
    "id": "S7-I1WarsUgw"
   },
   "outputs": [],
   "source": [
    "sx, sy, sz    = sp.symbols(\"sigma_x, sigma_y, sigma_z\")\n",
    "txy, txz, tyz = sp.symbols(\"tau_xy,  tau_xz,  tau_yz\")\n",
    "\n",
    "a1, a2, a3    = sp.symbols(\"alpha_1:4\")\n",
    "b1, b2, b3    = sp.symbols(\"beta_1:4\")\n",
    "g1, g2, g3    = sp.symbols(\"gamma_1:4\")"
   ]
  },
  {
   "cell_type": "markdown",
   "metadata": {
    "id": "gUyQP-4l5Z5y"
   },
   "source": [
    "Se define la matriz de tensiones en coordenadas rectangulares $\\underline{\\underline{\\boldsymbol{\\sigma}}}$:"
   ]
  },
  {
   "cell_type": "code",
   "execution_count": 3,
   "metadata": {
    "colab": {
     "base_uri": "https://localhost:8080/",
     "height": 78
    },
    "id": "GOVDxdkOtb4j",
    "outputId": "9a07c997-e29d-490a-d17a-a2a5146f8466"
   },
   "outputs": [
    {
     "data": {
      "text/latex": [
       "$\\displaystyle \\underline{\\underline{\\boldsymbol{\\sigma}}} = \\left[\\begin{matrix}\\sigma_{x} & \\tau_{xy} & \\tau_{xz}\\\\\\tau_{xy} & \\sigma_{y} & \\tau_{yz}\\\\\\tau_{xz} & \\tau_{yz} & \\sigma_{z}\\end{matrix}\\right]$"
      ],
      "text/plain": [
       "<IPython.core.display.Math object>"
      ]
     },
     "execution_count": 3,
     "metadata": {},
     "output_type": "execute_result"
    }
   ],
   "source": [
    "sigma = sp.Matrix([[ sx, txy, txz],\n",
    "                   [txy,  sy, tyz],\n",
    "                   [txz, tyz,  sz]])\n",
    "\n",
    "imprimir(r\"\\underline{\\underline{\\boldsymbol{\\sigma}}} = \", sigma)"
   ]
  },
  {
   "cell_type": "markdown",
   "metadata": {
    "id": "vLtLDIWz5q_9"
   },
   "source": [
    "Se define la matriz de transformación $\\boldsymbol{T}$:"
   ]
  },
  {
   "cell_type": "code",
   "execution_count": 4,
   "metadata": {
    "colab": {
     "base_uri": "https://localhost:8080/",
     "height": 78
    },
    "id": "I5V1Uk_Rub9O",
    "outputId": "d858d132-fa45-4ac6-edf6-0856349e6c74"
   },
   "outputs": [
    {
     "data": {
      "text/latex": [
       "$\\displaystyle \\boldsymbol{T} = \\left[\\begin{matrix}\\alpha_{1} & \\alpha_{2} & \\alpha_{3}\\\\\\beta_{1} & \\beta_{2} & \\beta_{3}\\\\\\gamma_{1} & \\gamma_{2} & \\gamma_{3}\\end{matrix}\\right]$"
      ],
      "text/plain": [
       "<IPython.core.display.Math object>"
      ]
     },
     "execution_count": 4,
     "metadata": {},
     "output_type": "execute_result"
    }
   ],
   "source": [
    "T = sp.Matrix([[a1, a2, a3],     \n",
    "               [b1, b2, b3],      \n",
    "               [g1, g2, g3]])\n",
    "\n",
    "imprimir(r\"\\boldsymbol{T} = \", T)"
   ]
  },
  {
   "cell_type": "markdown",
   "metadata": {
    "id": "9du7Qzz07wKz"
   },
   "source": [
    "Se calcula la matriz de tensiones $\\underline{\\underline{\\boldsymbol{\\sigma}}}'$ en el sistema de coordenadas especificadas por los vectores definidos en la matriz $\\boldsymbol{T}$. Recuerde que\n",
    "\n",
    "\\begin{equation*}\n",
    "\\underline{\\underline{\\boldsymbol{\\sigma}}}' = \\boldsymbol{T}^T \\underline{\\underline{\\boldsymbol{\\sigma}}} \\boldsymbol{T}.\n",
    "\\end{equation*}"
   ]
  },
  {
   "cell_type": "code",
   "execution_count": 5,
   "metadata": {
    "id": "YLhi9ppBu7h8"
   },
   "outputs": [],
   "source": [
    "sigmaP = T.T*sigma*T            # ecuación (2.18)"
   ]
  },
  {
   "cell_type": "markdown",
   "metadata": {
    "id": "wI_VbHIb8NMn"
   },
   "source": [
    "Se extraen los términos de la matriz de tensiones $\\underline{\\underline{\\boldsymbol{\\sigma}}}'$:"
   ]
  },
  {
   "cell_type": "code",
   "execution_count": 6,
   "metadata": {
    "id": "WGpqR1I17g73"
   },
   "outputs": [],
   "source": [
    "sxp   = sp.factor(sigmaP[0,0])  # elemento 1,1 de la matriz sigmaP\n",
    "syp   = sp.factor(sigmaP[1,1])\n",
    "szp   = sp.factor(sigmaP[2,2])\n",
    "typzp = sp.factor(sigmaP[1,2])  # elemento 2,3 de la matriz sigmaP\n",
    "txpzp = sp.factor(sigmaP[0,2])  # elemento 1,3 de la matriz sigmaP \n",
    "txpyp = sp.factor(sigmaP[0,1])  # elemento 1,2 de la matriz sigmaP "
   ]
  },
  {
   "cell_type": "code",
   "execution_count": 7,
   "metadata": {
    "colab": {
     "base_uri": "https://localhost:8080/",
     "height": 38
    },
    "id": "k_7k9Lsq8lYS",
    "outputId": "da1326c2-c1d3-4552-8daa-891c226a2a56"
   },
   "outputs": [
    {
     "data": {
      "text/latex": [
       "$\\displaystyle \\sigma_{x'} = \\alpha_{1}^{2} \\sigma_{x} + 2 \\alpha_{1} \\beta_{1} \\tau_{xy} + 2 \\alpha_{1} \\gamma_{1} \\tau_{xz} + \\beta_{1}^{2} \\sigma_{y} + 2 \\beta_{1} \\gamma_{1} \\tau_{yz} + \\gamma_{1}^{2} \\sigma_{z}$"
      ],
      "text/plain": [
       "<IPython.core.display.Math object>"
      ]
     },
     "execution_count": 7,
     "metadata": {},
     "output_type": "execute_result"
    }
   ],
   "source": [
    "imprimir(r\"\\sigma_{x'} = \", sxp)"
   ]
  },
  {
   "cell_type": "code",
   "execution_count": 8,
   "metadata": {
    "colab": {
     "base_uri": "https://localhost:8080/",
     "height": 38
    },
    "id": "zkEVdn9JnSmh",
    "outputId": "4cd2aeac-6e95-4576-b096-db10b61b97df"
   },
   "outputs": [
    {
     "data": {
      "text/latex": [
       "$\\displaystyle \\sigma_{y'} = \\alpha_{2}^{2} \\sigma_{x} + 2 \\alpha_{2} \\beta_{2} \\tau_{xy} + 2 \\alpha_{2} \\gamma_{2} \\tau_{xz} + \\beta_{2}^{2} \\sigma_{y} + 2 \\beta_{2} \\gamma_{2} \\tau_{yz} + \\gamma_{2}^{2} \\sigma_{z}$"
      ],
      "text/plain": [
       "<IPython.core.display.Math object>"
      ]
     },
     "execution_count": 8,
     "metadata": {},
     "output_type": "execute_result"
    }
   ],
   "source": [
    "imprimir(r\"\\sigma_{y'} = \", syp)"
   ]
  },
  {
   "cell_type": "code",
   "execution_count": 9,
   "metadata": {
    "colab": {
     "base_uri": "https://localhost:8080/",
     "height": 38
    },
    "id": "fPXaS8Y9nSmj",
    "outputId": "1ca13f8f-2539-410f-a425-c189670fadd4"
   },
   "outputs": [
    {
     "data": {
      "text/latex": [
       "$\\displaystyle \\sigma_{z'} = \\alpha_{3}^{2} \\sigma_{x} + 2 \\alpha_{3} \\beta_{3} \\tau_{xy} + 2 \\alpha_{3} \\gamma_{3} \\tau_{xz} + \\beta_{3}^{2} \\sigma_{y} + 2 \\beta_{3} \\gamma_{3} \\tau_{yz} + \\gamma_{3}^{2} \\sigma_{z}$"
      ],
      "text/plain": [
       "<IPython.core.display.Math object>"
      ]
     },
     "execution_count": 9,
     "metadata": {},
     "output_type": "execute_result"
    }
   ],
   "source": [
    "imprimir(r\"\\sigma_{z'} = \", szp)"
   ]
  },
  {
   "cell_type": "code",
   "execution_count": 10,
   "metadata": {
    "colab": {
     "base_uri": "https://localhost:8080/",
     "height": 38
    },
    "id": "n_0ofZwEnSml",
    "outputId": "f96c4b39-2f37-4377-880e-e24f93fec235"
   },
   "outputs": [
    {
     "data": {
      "text/latex": [
       "$\\displaystyle \\tau_{y'z'} = \\alpha_{2} \\alpha_{3} \\sigma_{x} + \\alpha_{2} \\beta_{3} \\tau_{xy} + \\alpha_{2} \\gamma_{3} \\tau_{xz} + \\alpha_{3} \\beta_{2} \\tau_{xy} + \\alpha_{3} \\gamma_{2} \\tau_{xz} + \\beta_{2} \\beta_{3} \\sigma_{y} + \\beta_{2} \\gamma_{3} \\tau_{yz} + \\beta_{3} \\gamma_{2} \\tau_{yz} + \\gamma_{2} \\gamma_{3} \\sigma_{z}$"
      ],
      "text/plain": [
       "<IPython.core.display.Math object>"
      ]
     },
     "execution_count": 10,
     "metadata": {},
     "output_type": "execute_result"
    }
   ],
   "source": [
    "imprimir(r\"\\tau_{y'z'} = \", typzp)"
   ]
  },
  {
   "cell_type": "code",
   "execution_count": 11,
   "metadata": {
    "colab": {
     "base_uri": "https://localhost:8080/",
     "height": 38
    },
    "id": "xgwALI5M85co",
    "outputId": "a66af31a-e111-480d-901a-c7bf7f0de520"
   },
   "outputs": [
    {
     "data": {
      "text/latex": [
       "$\\displaystyle \\tau_{x'z'} = \\alpha_{1} \\alpha_{3} \\sigma_{x} + \\alpha_{1} \\beta_{3} \\tau_{xy} + \\alpha_{1} \\gamma_{3} \\tau_{xz} + \\alpha_{3} \\beta_{1} \\tau_{xy} + \\alpha_{3} \\gamma_{1} \\tau_{xz} + \\beta_{1} \\beta_{3} \\sigma_{y} + \\beta_{1} \\gamma_{3} \\tau_{yz} + \\beta_{3} \\gamma_{1} \\tau_{yz} + \\gamma_{1} \\gamma_{3} \\sigma_{z}$"
      ],
      "text/plain": [
       "<IPython.core.display.Math object>"
      ]
     },
     "execution_count": 11,
     "metadata": {},
     "output_type": "execute_result"
    }
   ],
   "source": [
    "imprimir(r\"\\tau_{x'z'} = \", txpzp)"
   ]
  },
  {
   "cell_type": "code",
   "execution_count": 12,
   "metadata": {
    "colab": {
     "base_uri": "https://localhost:8080/",
     "height": 38
    },
    "id": "FoKC5l4q9DTt",
    "outputId": "e7483510-3e24-4536-c9e1-9579b0a36bef"
   },
   "outputs": [
    {
     "data": {
      "text/latex": [
       "$\\displaystyle \\tau_{x'y'} = \\alpha_{1} \\alpha_{2} \\sigma_{x} + \\alpha_{1} \\beta_{2} \\tau_{xy} + \\alpha_{1} \\gamma_{2} \\tau_{xz} + \\alpha_{2} \\beta_{1} \\tau_{xy} + \\alpha_{2} \\gamma_{1} \\tau_{xz} + \\beta_{1} \\beta_{2} \\sigma_{y} + \\beta_{1} \\gamma_{2} \\tau_{yz} + \\beta_{2} \\gamma_{1} \\tau_{yz} + \\gamma_{1} \\gamma_{2} \\sigma_{z}$"
      ],
      "text/plain": [
       "<IPython.core.display.Math object>"
      ]
     },
     "execution_count": 12,
     "metadata": {},
     "output_type": "execute_result"
    }
   ],
   "source": [
    "imprimir(r\"\\tau_{x'y'} = \", txpyp)"
   ]
  },
  {
   "cell_type": "markdown",
   "metadata": {
    "id": "4m9kyexVBjVN"
   },
   "source": [
    "Las ecuaciones anteriores pueden expresarse de forma matricial, como $\\boldsymbol{\\sigma'} = \\boldsymbol{T}_{\\boldsymbol{\\sigma}} \\boldsymbol{\\sigma}$, para obtener la ecuación (<font color='blue'>2.23</font>)"
   ]
  },
  {
   "cell_type": "code",
   "execution_count": 13,
   "metadata": {
    "id": "w_L98PIEBriY"
   },
   "outputs": [],
   "source": [
    "Tsigma = sp.linear_eq_to_matrix((sxp, syp, szp, typzp, txpzp, txpyp), \n",
    "                                (sx, sy, sz, tyz, txz, txy))[0]"
   ]
  },
  {
   "cell_type": "code",
   "execution_count": 14,
   "metadata": {
    "colab": {
     "base_uri": "https://localhost:8080/",
     "height": 140
    },
    "id": "JbmxJuhTnSmr",
    "outputId": "86228613-b143-401c-eded-c19babae57a1"
   },
   "outputs": [
    {
     "data": {
      "text/latex": [
       "$\\displaystyle \\boldsymbol{T}_{\\boldsymbol{\\sigma}} = \\left[\\begin{matrix}\\alpha_{1}^{2} & \\beta_{1}^{2} & \\gamma_{1}^{2} & 2 \\beta_{1} \\gamma_{1} & 2 \\alpha_{1} \\gamma_{1} & 2 \\alpha_{1} \\beta_{1}\\\\\\alpha_{2}^{2} & \\beta_{2}^{2} & \\gamma_{2}^{2} & 2 \\beta_{2} \\gamma_{2} & 2 \\alpha_{2} \\gamma_{2} & 2 \\alpha_{2} \\beta_{2}\\\\\\alpha_{3}^{2} & \\beta_{3}^{2} & \\gamma_{3}^{2} & 2 \\beta_{3} \\gamma_{3} & 2 \\alpha_{3} \\gamma_{3} & 2 \\alpha_{3} \\beta_{3}\\\\\\alpha_{2} \\alpha_{3} & \\beta_{2} \\beta_{3} & \\gamma_{2} \\gamma_{3} & \\beta_{2} \\gamma_{3} + \\beta_{3} \\gamma_{2} & \\alpha_{2} \\gamma_{3} + \\alpha_{3} \\gamma_{2} & \\alpha_{2} \\beta_{3} + \\alpha_{3} \\beta_{2}\\\\\\alpha_{1} \\alpha_{3} & \\beta_{1} \\beta_{3} & \\gamma_{1} \\gamma_{3} & \\beta_{1} \\gamma_{3} + \\beta_{3} \\gamma_{1} & \\alpha_{1} \\gamma_{3} + \\alpha_{3} \\gamma_{1} & \\alpha_{1} \\beta_{3} + \\alpha_{3} \\beta_{1}\\\\\\alpha_{1} \\alpha_{2} & \\beta_{1} \\beta_{2} & \\gamma_{1} \\gamma_{2} & \\beta_{1} \\gamma_{2} + \\beta_{2} \\gamma_{1} & \\alpha_{1} \\gamma_{2} + \\alpha_{2} \\gamma_{1} & \\alpha_{1} \\beta_{2} + \\alpha_{2} \\beta_{1}\\end{matrix}\\right]$"
      ],
      "text/plain": [
       "<IPython.core.display.Math object>"
      ]
     },
     "execution_count": 14,
     "metadata": {},
     "output_type": "execute_result"
    }
   ],
   "source": [
    "imprimir(r'\\boldsymbol{T}_{\\boldsymbol{\\sigma}} = ', Tsigma)"
   ]
  },
  {
   "cell_type": "markdown",
   "metadata": {},
   "source": [
    "Las ecuaciones anteriores se pueden escribir alternativamente como:\n",
    "\\begin{align*}\n",
    "        \\sigma_{x'} =& \\boldsymbol{\\hat e}_1'^T \\underline{\\underline{\\boldsymbol{\\sigma}}} \\boldsymbol{\\hat e}_1' & \\tau_{y'z'} =& \\boldsymbol{\\hat e}_2'^T \\underline{\\underline{\\boldsymbol{\\sigma}}} \\boldsymbol{\\hat e}_3' = \\boldsymbol{\\hat e}_3'^T \\underline{\\underline{\\boldsymbol{\\sigma}}} \\boldsymbol{\\hat e}_2' \\\\\n",
    "        \\sigma_{y'} =& \\boldsymbol{\\hat e}_2'^T \\underline{\\underline{\\boldsymbol{\\sigma}}} \\boldsymbol{\\hat e}_2' & \\tau_{x'z'} =& \\boldsymbol{\\hat e}_1'^T \\underline{\\underline{\\boldsymbol{\\sigma}}} \\boldsymbol{\\hat e}_3' = \\boldsymbol{\\hat e}_3'^T \\underline{\\underline{\\boldsymbol{\\sigma}}} \\boldsymbol{\\hat e}_1' \\\\\n",
    "        \\sigma_{z'} =& \\boldsymbol{\\hat e}_3'^T \\underline{\\underline{\\boldsymbol{\\sigma}}} \\boldsymbol{\\hat e}_3' & \\tau_{x'y'} =& \\boldsymbol{\\hat e}_1'^T \\underline{\\underline{\\boldsymbol{\\sigma}}} \\boldsymbol{\\hat e}_2' = \\boldsymbol{\\hat e}_2'^T \\underline{\\underline{\\boldsymbol{\\sigma}}} \\boldsymbol{\\hat e}_1'.\n",
    "\\end{align*}\n",
    "Esto se comprueba con el siguiente código:"
   ]
  },
  {
   "cell_type": "code",
   "execution_count": 15,
   "metadata": {},
   "outputs": [],
   "source": [
    "# Se extran los vectores e1g, e2g y e3g:\n",
    "e1g = T[:,0]\n",
    "e2g = T[:,1]\n",
    "e3g = T[:,2]"
   ]
  },
  {
   "cell_type": "markdown",
   "metadata": {},
   "source": [
    "Observe que todas las restas dan cero, lo que garantiza que las ecuaciones anteriores se satisfacen:"
   ]
  },
  {
   "cell_type": "code",
   "execution_count": 16,
   "metadata": {},
   "outputs": [
    {
     "data": {
      "image/png": "[encoded data removed]",
      "text/latex": [
       "$\\displaystyle 0$"
      ],
      "text/plain": [
       "0"
      ]
     },
     "execution_count": 16,
     "metadata": {},
     "output_type": "execute_result"
    }
   ],
   "source": [
    "sp.expand(sxp - (e1g.T*sigma*e1g)[0])"
   ]
  },
  {
   "cell_type": "code",
   "execution_count": 17,
   "metadata": {},
   "outputs": [
    {
     "data": {
      "image/png": "[encoded data removed]",
      "text/latex": [
       "$\\displaystyle 0$"
      ],
      "text/plain": [
       "0"
      ]
     },
     "execution_count": 17,
     "metadata": {},
     "output_type": "execute_result"
    }
   ],
   "source": [
    "sp.expand(syp - (e2g.T*sigma*e2g)[0])"
   ]
  },
  {
   "cell_type": "code",
   "execution_count": 18,
   "metadata": {},
   "outputs": [
    {
     "data": {
      "image/png": "[encoded data removed]",
      "text/latex": [
       "$\\displaystyle 0$"
      ],
      "text/plain": [
       "0"
      ]
     },
     "execution_count": 18,
     "metadata": {},
     "output_type": "execute_result"
    }
   ],
   "source": [
    "sp.expand(szp - (e3g.T*sigma*e3g)[0])"
   ]
  },
  {
   "cell_type": "code",
   "execution_count": 19,
   "metadata": {},
   "outputs": [
    {
     "data": {
      "image/png": "[encoded data removed]",
      "text/latex": [
       "$\\displaystyle 0$"
      ],
      "text/plain": [
       "0"
      ]
     },
     "execution_count": 19,
     "metadata": {},
     "output_type": "execute_result"
    }
   ],
   "source": [
    "sp.expand(txpyp - (e1g.T*sigma*e2g)[0])"
   ]
  },
  {
   "cell_type": "code",
   "execution_count": 20,
   "metadata": {},
   "outputs": [
    {
     "data": {
      "image/png": "[encoded data removed]",
      "text/latex": [
       "$\\displaystyle 0$"
      ],
      "text/plain": [
       "0"
      ]
     },
     "execution_count": 20,
     "metadata": {},
     "output_type": "execute_result"
    }
   ],
   "source": [
    "sp.expand(txpyp - (e2g.T*sigma*e1g)[0])"
   ]
  },
  {
   "cell_type": "code",
   "execution_count": 21,
   "metadata": {},
   "outputs": [
    {
     "data": {
      "image/png": "[encoded data removed]",
      "text/latex": [
       "$\\displaystyle 0$"
      ],
      "text/plain": [
       "0"
      ]
     },
     "execution_count": 21,
     "metadata": {},
     "output_type": "execute_result"
    }
   ],
   "source": [
    "sp.expand(txpzp - (e1g.T*sigma*e3g)[0])"
   ]
  },
  {
   "cell_type": "code",
   "execution_count": 22,
   "metadata": {},
   "outputs": [
    {
     "data": {
      "image/png": "[encoded data removed]",
      "text/latex": [
       "$\\displaystyle 0$"
      ],
      "text/plain": [
       "0"
      ]
     },
     "execution_count": 22,
     "metadata": {},
     "output_type": "execute_result"
    }
   ],
   "source": [
    "sp.expand(txpzp - (e3g.T*sigma*e1g)[0])"
   ]
  },
  {
   "cell_type": "code",
   "execution_count": 23,
   "metadata": {},
   "outputs": [
    {
     "data": {
      "image/png": "[encoded data removed]",
      "text/latex": [
       "$\\displaystyle 0$"
      ],
      "text/plain": [
       "0"
      ]
     },
     "execution_count": 23,
     "metadata": {},
     "output_type": "execute_result"
    }
   ],
   "source": [
    "sp.expand(typzp - (e2g.T*sigma*e3g)[0])"
   ]
  },
  {
   "cell_type": "code",
   "execution_count": 24,
   "metadata": {},
   "outputs": [
    {
     "data": {
      "image/png": "[encoded data removed]",
      "text/latex": [
       "$\\displaystyle 0$"
      ],
      "text/plain": [
       "0"
      ]
     },
     "execution_count": 24,
     "metadata": {},
     "output_type": "execute_result"
    }
   ],
   "source": [
    "sp.expand(typzp - (e3g.T*sigma*e2g)[0])"
   ]
  }
 ],
 "metadata": {
  "colab": {
   "collapsed_sections": [],
   "include_colab_link": true,
   "provenance": []
  },
  "kernelspec": {
   "display_name": "Python 3 (ipykernel)",
   "language": "python",
   "name": "python3"
  },
  "language_info": {
   "codemirror_mode": {
    "name": "ipython",
    "version": 3
   },
   "file_extension": ".py",
   "mimetype": "text/x-python",
   "name": "python",
   "nbconvert_exporter": "python",
   "pygments_lexer": "ipython3",
   "version": "3.11.0"
  },
  "vscode": {
   "interpreter": {
    "hash": "916dbcbb3f70747c44a77c7bcd40155683ae19c65e1c03b4aa3499c5328201f1"
   }
  }
 },
 "nbformat": 4,
 "nbformat_minor": 1
}
