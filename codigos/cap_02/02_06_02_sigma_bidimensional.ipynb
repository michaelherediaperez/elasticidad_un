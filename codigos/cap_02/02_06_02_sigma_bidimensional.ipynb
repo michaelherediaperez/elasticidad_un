{
 "cells": [
  {
   "cell_type": "markdown",
   "metadata": {
    "colab_type": "text",
    "id": "view-in-github"
   },
   "source": [
    "<a href=\"https://colab.research.google.com/github/michaelherediaperez/mecanica_de_solidos_un/blob/main/codigos/cap_02/02_06_02_sigma_bidimensional.ipynb\" target=\"_parent\"><img src=\"https://colab.research.google.com/assets/colab-badge.svg\" alt=\"Open In Colab\"/></a>"
   ]
  },
  {
   "cell_type": "markdown",
   "metadata": {
    "id": "NAoS6ednVeVF"
   },
   "source": [
    "# 2.6.2. Particularización de la matriz de tensiones al caso bidimensional\n",
    "\n",
    "|Quién | Fecha | Qué hizo |\n",
    "| ---  | ---   | ---      |\n",
    "|Michael Heredia Pérez, <mherediap@unal.edu.co> | Julio 13, 2022     | Conversión de código de MAXIMA a Python|\n",
    "|Michael Heredia Pérez, <mherediap@unal.edu.co> | Agosto 31, 2022    | Mejorando presentación                 |\n",
    "|Diego Andrés Alvarez, <daalvarez@unal.edu.co>  | Septiembre 7, 2022 | Mejorando comentarios                  |"
   ]
  },
  {
   "cell_type": "code",
   "execution_count": 1,
   "metadata": {
    "id": "NqmgovsLVSru"
   },
   "outputs": [],
   "source": [
    "# Librería para cálculo simbólico.\n",
    "import sympy as sp\n",
    "\n",
    "# Para imprimir bonito\n",
    "sp.init_printing() \n",
    "from IPython.display import Math               \n",
    "def imprimir (texto, variable):\n",
    "    return Math(texto +  rf'{sp.latex(variable)}')"
   ]
  },
  {
   "cell_type": "markdown",
   "metadata": {
    "id": "lw_gSrDMVm_E"
   },
   "source": [
    "Se definen las variables simbólicas necesarias."
   ]
  },
  {
   "cell_type": "code",
   "execution_count": 2,
   "metadata": {
    "colab": {
     "base_uri": "https://localhost:8080/",
     "height": 38
    },
    "id": "39gUJGhAVlSZ",
    "outputId": "1d8f3dc6-171c-4878-ee1f-019a9dcc00a7"
   },
   "outputs": [
    {
     "data": {
      "image/png": "[encoded data removed]",
      "text/latex": [
       "$\\displaystyle \\left( \\sigma_{x}, \\  \\sigma_{y}, \\  \\tau_{xy}, \\  \\theta\\right)$"
      ],
      "text/plain": [
       "(σₓ, σ_y, τ_xy, θ)"
      ]
     },
     "execution_count": 2,
     "metadata": {},
     "output_type": "execute_result"
    }
   ],
   "source": [
    "sx, sy, txy, t = sp.symbols(\"sigma_x, sigma_y, tau_xy, theta\")\n",
    "\n",
    "sx, sy, txy, t"
   ]
  },
  {
   "cell_type": "markdown",
   "metadata": {
    "id": "ymtFOkhGV-gC"
   },
   "source": [
    "Se define la matriz de transformación: $\\boldsymbol{T}$"
   ]
  },
  {
   "cell_type": "code",
   "execution_count": 3,
   "metadata": {
    "colab": {
     "base_uri": "https://localhost:8080/",
     "height": 79
    },
    "id": "SrWOcBWeV9QC",
    "outputId": "b277baf8-0e8c-4d0f-fec8-d0752e1db81d"
   },
   "outputs": [
    {
     "data": {
      "text/latex": [
       "$\\displaystyle \\boldsymbol{T} = \\left[\\begin{matrix}\\cos{\\left(\\theta \\right)} & - \\sin{\\left(\\theta \\right)} & 0\\\\\\sin{\\left(\\theta \\right)} & \\cos{\\left(\\theta \\right)} & 0\\\\0 & 0 & 1\\end{matrix}\\right]$"
      ],
      "text/plain": [
       "<IPython.core.display.Math object>"
      ]
     },
     "execution_count": 3,
     "metadata": {},
     "output_type": "execute_result"
    }
   ],
   "source": [
    "T = sp.Matrix([[sp.cos(t), -sp.sin(t),  0],\n",
    "               [sp.sin(t),  sp.cos(t),  0],\n",
    "               [        0,          0,  1]])\n",
    "\n",
    "imprimir(r\"\\boldsymbol{T} = \", T)"
   ]
  },
  {
   "cell_type": "markdown",
   "metadata": {
    "id": "htL68YaKYbje"
   },
   "source": [
    "Se define la matriz de tensiones en coordenadas rectangulares: $\\underline{\\underline{\\boldsymbol{\\sigma}}}$"
   ]
  },
  {
   "cell_type": "code",
   "execution_count": 4,
   "metadata": {
    "colab": {
     "base_uri": "https://localhost:8080/",
     "height": 79
    },
    "id": "xNJkvFn5YQcb",
    "outputId": "06e3baf3-03fa-49ae-9ccf-51e329c6fd09"
   },
   "outputs": [
    {
     "data": {
      "text/latex": [
       "$\\displaystyle \\underline{\\underline{\\boldsymbol{\\sigma}}} = \\left[\\begin{matrix}\\sigma_{x} & \\tau_{xy} & 0\\\\\\tau_{xy} & \\sigma_{y} & 0\\\\0 & 0 & 0\\end{matrix}\\right]$"
      ],
      "text/plain": [
       "<IPython.core.display.Math object>"
      ]
     },
     "execution_count": 4,
     "metadata": {},
     "output_type": "execute_result"
    }
   ],
   "source": [
    "sigma = sp.Matrix([ [sx, txy,  0],\n",
    "                   [txy,  sy,  0],\n",
    "                   [  0,   0,  0]])\n",
    "\n",
    "imprimir(r\"\\underline{\\underline{\\boldsymbol{\\sigma}}} = \", sigma)"
   ]
  },
  {
   "cell_type": "markdown",
   "metadata": {
    "id": "2bAWBKBSYxv9"
   },
   "source": [
    "Se calcula la matriz de tensiones $\\underline{\\underline{\\boldsymbol{\\sigma'}}}$ en el sistema de coordenadas especificado por los vectores definitos en la matriz $\\boldsymbol{T}$. Recuerde \n",
    "\n",
    "$$\\underline{\\underline{\\boldsymbol{\\sigma'}}} = \\boldsymbol{T}^T \\underline{\\underline{\\boldsymbol{\\sigma}}} \\boldsymbol{T}$$"
   ]
  },
  {
   "cell_type": "code",
   "execution_count": 5,
   "metadata": {
    "id": "Qq6EL7jfZIFY"
   },
   "outputs": [],
   "source": [
    "sigmaP = T.T*sigma*T        # Eq. (2.18 del main)\n",
    "# sp.Transpose(R) es lo mismo que R.T"
   ]
  },
  {
   "cell_type": "markdown",
   "metadata": {
    "id": "wHf---nubOI4"
   },
   "source": [
    "No contamos con la función ```trigreduce``` de MAXIMA, pero podemos llegar a un resultado similar, poco simplificado"
   ]
  },
  {
   "cell_type": "code",
   "execution_count": 6,
   "metadata": {
    "id": "Jv6jXNc_bM23"
   },
   "outputs": [
    {
     "data": {
      "text/latex": [
       "$\\displaystyle \\underline{\\underline{\\boldsymbol{\\sigma'}}} = \\left[\\begin{matrix}\\frac{\\sigma_{x} \\cos{\\left(2 \\theta \\right)}}{2} + \\frac{\\sigma_{x}}{2} - \\frac{\\sigma_{y} \\cos{\\left(2 \\theta \\right)}}{2} + \\frac{\\sigma_{y}}{2} + \\tau_{xy} \\sin{\\left(2 \\theta \\right)} & - \\frac{\\sigma_{x} \\sin{\\left(2 \\theta \\right)}}{2} + \\frac{\\sigma_{y} \\sin{\\left(2 \\theta \\right)}}{2} + \\tau_{xy} \\cos{\\left(2 \\theta \\right)} & 0\\\\- \\frac{\\sigma_{x} \\sin{\\left(2 \\theta \\right)}}{2} + \\frac{\\sigma_{y} \\sin{\\left(2 \\theta \\right)}}{2} + \\tau_{xy} \\cos{\\left(2 \\theta \\right)} & - \\frac{\\sigma_{x} \\cos{\\left(2 \\theta \\right)}}{2} + \\frac{\\sigma_{x}}{2} + \\frac{\\sigma_{y} \\cos{\\left(2 \\theta \\right)}}{2} + \\frac{\\sigma_{y}}{2} - \\tau_{xy} \\sin{\\left(2 \\theta \\right)} & 0\\\\0 & 0 & 0\\end{matrix}\\right]$"
      ],
      "text/plain": [
       "<IPython.core.display.Math object>"
      ]
     },
     "execution_count": 6,
     "metadata": {},
     "output_type": "execute_result"
    }
   ],
   "source": [
    "# Internamente se reduce la expresión trigonométrica.\n",
    "sigmaP = sp.trigsimp(sigmaP)\n",
    "imprimir(r\"\\underline{\\underline{\\boldsymbol{\\sigma'}}} = \", sigmaP)"
   ]
  },
  {
   "cell_type": "markdown",
   "metadata": {
    "id": "MQ6FMqXYZOtE"
   },
   "source": [
    "Se extraen los términos de la matriz de tensiones $\\underline{\\underline{\\boldsymbol{\\sigma'}}}$"
   ]
  },
  {
   "cell_type": "code",
   "execution_count": 7,
   "metadata": {
    "id": "qP9lhILFMYWZ"
   },
   "outputs": [],
   "source": [
    "sxp   = sigmaP[0,0]  # elemento 1,1 de la matriz sigmaP\n",
    "syp   = sigmaP[1,1]\n",
    "txpyp = sigmaP[0,1]  # elemento 1,2 de la matriz sigmaP "
   ]
  },
  {
   "cell_type": "code",
   "execution_count": 8,
   "metadata": {
    "colab": {
     "base_uri": "https://localhost:8080/",
     "height": 53
    },
    "id": "y6Iv1rviMk63",
    "outputId": "af974e81-45e5-4e3e-cd92-9730d18ee014"
   },
   "outputs": [
    {
     "data": {
      "text/latex": [
       "$\\displaystyle \\sigma_{x'}(\\theta) = \\frac{\\sigma_{x} \\cos{\\left(2 \\theta \\right)}}{2} + \\frac{\\sigma_{x}}{2} - \\frac{\\sigma_{y} \\cos{\\left(2 \\theta \\right)}}{2} + \\frac{\\sigma_{y}}{2} + \\tau_{xy} \\sin{\\left(2 \\theta \\right)}$"
      ],
      "text/plain": [
       "<IPython.core.display.Math object>"
      ]
     },
     "execution_count": 8,
     "metadata": {},
     "output_type": "execute_result"
    }
   ],
   "source": [
    "imprimir(r\"\\sigma_{x'}(\\theta) = \", sxp)    # ecuación (2.24a)"
   ]
  },
  {
   "cell_type": "code",
   "execution_count": 9,
   "metadata": {
    "colab": {
     "base_uri": "https://localhost:8080/",
     "height": 53
    },
    "id": "TFlUZccLMt8Z",
    "outputId": "6237e07f-d411-4031-909e-794e16526b9e"
   },
   "outputs": [
    {
     "data": {
      "text/latex": [
       "$\\displaystyle \\sigma_{y'}(\\theta) = - \\frac{\\sigma_{x} \\cos{\\left(2 \\theta \\right)}}{2} + \\frac{\\sigma_{x}}{2} + \\frac{\\sigma_{y} \\cos{\\left(2 \\theta \\right)}}{2} + \\frac{\\sigma_{y}}{2} - \\tau_{xy} \\sin{\\left(2 \\theta \\right)}$"
      ],
      "text/plain": [
       "<IPython.core.display.Math object>"
      ]
     },
     "execution_count": 9,
     "metadata": {},
     "output_type": "execute_result"
    }
   ],
   "source": [
    "imprimir(r\"\\sigma_{y'}(\\theta) = \", syp)    # ecuación (2.24b)"
   ]
  },
  {
   "cell_type": "code",
   "execution_count": 10,
   "metadata": {
    "colab": {
     "base_uri": "https://localhost:8080/",
     "height": 53
    },
    "id": "hOTb4UrjMxaY",
    "outputId": "cf3830c0-6d85-4fd7-aa86-fa88a243d178"
   },
   "outputs": [
    {
     "data": {
      "text/latex": [
       "$\\displaystyle \\tau_{x'y'}(\\theta) = - \\frac{\\sigma_{x} \\sin{\\left(2 \\theta \\right)}}{2} + \\frac{\\sigma_{y} \\sin{\\left(2 \\theta \\right)}}{2} + \\tau_{xy} \\cos{\\left(2 \\theta \\right)}$"
      ],
      "text/plain": [
       "<IPython.core.display.Math object>"
      ]
     },
     "execution_count": 10,
     "metadata": {},
     "output_type": "execute_result"
    }
   ],
   "source": [
    "imprimir(r\"\\tau_{x'y'}(\\theta) = \", txpyp)  # ecuación (2.24c)"
   ]
  },
  {
   "cell_type": "markdown",
   "metadata": {
    "id": "LifgiCfgHoxg"
   },
   "source": [
    "Las ecuaciones anteriores pueden expresarse en un sistema matricial, donde la matriz de transformación de esfuerzos en el caso bidimensional es $\\boldsymbol{T}_{\\boldsymbol{\\sigma},2D}$"
   ]
  },
  {
   "cell_type": "code",
   "execution_count": 11,
   "metadata": {
    "colab": {
     "base_uri": "https://localhost:8080/",
     "height": 82
    },
    "id": "7ayiWcYgIE_2",
    "outputId": "26cb10e8-9341-4b26-f3bf-41d15c0716af"
   },
   "outputs": [
    {
     "data": {
      "text/latex": [
       "$\\displaystyle \\boldsymbol{T}_{\\boldsymbol{\\sigma},2D} = \\left[\\begin{matrix}\\cos^{2}{\\left(\\theta \\right)} & \\sin^{2}{\\left(\\theta \\right)} & \\sin{\\left(2 \\theta \\right)}\\\\\\sin^{2}{\\left(\\theta \\right)} & \\cos^{2}{\\left(\\theta \\right)} & - \\sin{\\left(2 \\theta \\right)}\\\\- \\frac{\\sin{\\left(2 \\theta \\right)}}{2} & \\frac{\\sin{\\left(2 \\theta \\right)}}{2} & \\cos{\\left(2 \\theta \\right)}\\end{matrix}\\right]$"
      ],
      "text/plain": [
       "<IPython.core.display.Math object>"
      ]
     },
     "execution_count": 11,
     "metadata": {},
     "output_type": "execute_result"
    }
   ],
   "source": [
    "Tsigma_2D = sp.trigsimp(sp.linear_eq_to_matrix([sxp, syp, txpyp], (sx, sy, txy))[0])    # ecuación (2.25)\n",
    "imprimir(r\"\\boldsymbol{T}_{\\boldsymbol{\\sigma},2D} = \", Tsigma_2D)"
   ]
  }
 ],
 "metadata": {
  "colab": {
   "authorship_tag": "ABX9TyO+7tcK551bXHfc+/d0SvaJ",
   "include_colab_link": true,
   "provenance": []
  },
  "kernelspec": {
   "display_name": "Python 3 (ipykernel)",
   "language": "python",
   "name": "python3"
  },
  "language_info": {
   "codemirror_mode": {
    "name": "ipython",
    "version": 3
   },
   "file_extension": ".py",
   "mimetype": "text/x-python",
   "name": "python",
   "nbconvert_exporter": "python",
   "pygments_lexer": "ipython3",
   "version": "3.9.7"
  }
 },
 "nbformat": 4,
 "nbformat_minor": 1
}
