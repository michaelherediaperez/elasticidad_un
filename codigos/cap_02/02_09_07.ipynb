{
 "cells": [
  {
   "cell_type": "markdown",
   "metadata": {
    "colab_type": "text",
    "id": "view-in-github"
   },
   "source": [
    "<a href=\"https://colab.research.google.com/github/michaelherediaperez/mecanica_de_solidos_un/blob/main/codigos/cap_02/02_09_07.ipynb\" target=\"_parent\"><img src=\"https://colab.research.google.com/assets/colab-badge.svg\" alt=\"Open In Colab\"/></a>"
   ]
  },
  {
   "cell_type": "markdown",
   "metadata": {
    "id": "OF8x8yld3DAP"
   },
   "source": [
    "# 2.9.7. Círculo de Mohr en tres dimensiones\n",
    "\n",
    "|Quién | Fecha | Qué hizo |\n",
    "| ---  | ---   | ---      |\n",
    "|Michael Heredia Pérez, <mherediap@unal.edu.co> | Julio 15, 2022 | Conversión de código de MAXIMA a Python|\n",
    "|Michael Heredia Pérez, <mherediap@unal.edu.co> | Septiembre 17, 2022 | Mejorando legibilidad|"
   ]
  },
  {
   "cell_type": "code",
   "execution_count": 1,
   "metadata": {
    "id": "noHC6sTQ1p-v"
   },
   "outputs": [],
   "source": [
    "import sympy as sp   # Librería para cálculo simbólico.\n",
    "\n",
    "# Para imprimir bonito\n",
    "sp.init_printing()\n",
    "from IPython.display import Math                 \n",
    "def imprimir (texto, variable):\n",
    "    return Math(texto +  rf'{sp.latex(variable)}')"
   ]
  },
  {
   "cell_type": "markdown",
   "metadata": {
    "id": "IOYEBWs83O-8"
   },
   "source": [
    "Se definen las variables simbólicas necesarias."
   ]
  },
  {
   "cell_type": "code",
   "execution_count": 2,
   "metadata": {
    "id": "rUuGoQEA255s"
   },
   "outputs": [],
   "source": [
    "s1, s2, s3 = sp.symbols(\"sigma_1:4\")\n",
    "sn, tn     = sp.symbols(\"sigma_n, tau_n\")\n",
    "a2, b2, g2 = sp.symbols(\"alpha^2, beta^2, gamma^2\")  "
   ]
  },
  {
   "cell_type": "markdown",
   "metadata": {
    "id": "Ecd9FdF03fqS"
   },
   "source": [
    "En Python, las ecuaciones las tengo que presentar igualadas a cero (0), así que las ecuaciones (2.68), (2.69) y (2.70)\n",
    "\n",
    "$$\n",
    "\\begin{align*}\n",
    "    \\sigma_n &=& \\sigma_1\\alpha^2 + \\sigma_2\\beta^2 + \\sigma_3\\gamma^2 \\\\\n",
    "    \\tau_n   &=& (\\sigma_1 \\alpha)^2 + (\\sigma_2 \\beta)^2 + (\\sigma_3 \\gamma)^2 - \\sigma_n^2 \\\\\n",
    "    \\alpha^2 + \\beta^2 + \\gamma^2 &=& 1 \n",
    "\\end{align*}\n",
    "$$\n",
    "\n",
    "se deben asignar a las variables como:\n",
    "\n",
    "$$\n",
    "\\begin{align*}\n",
    "    \\text{eq1.} &=& \\sigma_n - \\sigma_1\\alpha^2 - \\sigma_2\\beta^2 - \\sigma_3\\gamma^2 \\\\\n",
    "    \\text{eq2.} &=& \\tau_n - (\\sigma_1 \\alpha)^2 - (\\sigma_2 \\beta)^2 - (\\sigma_3 \\gamma)^2 + \\sigma_n^2 \\\\\n",
    "    \\text{eq3.} &=& \\alpha^2 + \\beta^2 + \\gamma^2 - 1 \n",
    "\\end{align*}\n",
    "$$\n"
   ]
  },
  {
   "cell_type": "code",
   "execution_count": 3,
   "metadata": {
    "id": "-8qVgY0V3e84"
   },
   "outputs": [],
   "source": [
    "eq1 = sn           - s1*a2 - s2*b2 - s3*g2                       \n",
    "eq2 = tn**2        - s1**2*a2 - s2**2*b2 - s3**2*g2 + sn**2        \n",
    "eq3 = a2 + b2 + g2 -1                                 "
   ]
  },
  {
   "cell_type": "code",
   "execution_count": 4,
   "metadata": {
    "id": "q6ul7bN44hKU"
   },
   "outputs": [],
   "source": [
    "resultados = sp.factor( sp.solve([eq1, eq2, eq3], (a2, b2, g2)) )"
   ]
  },
  {
   "cell_type": "markdown",
   "metadata": {
    "id": "5h9FW9r65SkI"
   },
   "source": [
    "La variable ```resultados``` es un diccionario, y las ```keys``` son el nombre de las variables del sistema de ecuaciones anterior (```a1```, ```b2```, ```g2```).\n",
    "\n",
    "Extraemos los valores de $\\alpha^2$, $\\beta^2$ y $\\gamma^2$:"
   ]
  },
  {
   "cell_type": "code",
   "execution_count": 5,
   "metadata": {
    "colab": {
     "base_uri": "https://localhost:8080/",
     "height": 58
    },
    "id": "Pqlpenp04mG_",
    "outputId": "8897c607-854e-4707-f582-9a19c0caeb1a"
   },
   "outputs": [
    {
     "data": {
      "text/latex": [
       "$\\displaystyle \\alpha^2 = \\frac{\\sigma_{2} \\sigma_{3} - \\sigma_{2} \\sigma_{n} - \\sigma_{3} \\sigma_{n} + \\sigma_{n}^{2} + \\tau_{n}^{2}}{\\left(\\sigma_{1} - \\sigma_{2}\\right) \\left(\\sigma_{1} - \\sigma_{3}\\right)}$"
      ],
      "text/plain": [
       "<IPython.core.display.Math object>"
      ]
     },
     "execution_count": 5,
     "metadata": {},
     "output_type": "execute_result"
    }
   ],
   "source": [
    "imprimir(r\"\\alpha^2 = \", resultados[a2])"
   ]
  },
  {
   "cell_type": "code",
   "execution_count": 6,
   "metadata": {
    "colab": {
     "base_uri": "https://localhost:8080/",
     "height": 58
    },
    "id": "4cqnCKr25EUn",
    "outputId": "3b1753aa-abb8-4d56-9e00-a592bb910a33"
   },
   "outputs": [
    {
     "data": {
      "text/latex": [
       "$\\displaystyle \\beta^2 = - \\frac{\\sigma_{1} \\sigma_{3} - \\sigma_{1} \\sigma_{n} - \\sigma_{3} \\sigma_{n} + \\sigma_{n}^{2} + \\tau_{n}^{2}}{\\left(\\sigma_{1} - \\sigma_{2}\\right) \\left(\\sigma_{2} - \\sigma_{3}\\right)}$"
      ],
      "text/plain": [
       "<IPython.core.display.Math object>"
      ]
     },
     "execution_count": 6,
     "metadata": {},
     "output_type": "execute_result"
    }
   ],
   "source": [
    "imprimir(r\"\\beta^2 = \", resultados[b2]) "
   ]
  },
  {
   "cell_type": "code",
   "execution_count": 7,
   "metadata": {
    "colab": {
     "base_uri": "https://localhost:8080/",
     "height": 58
    },
    "id": "E5_0D3hR5ZX3",
    "outputId": "8ff0b1d7-c23d-4bf5-c680-cf1fb42bb958"
   },
   "outputs": [
    {
     "data": {
      "text/latex": [
       "$\\displaystyle \\gamma^2 = \\frac{\\sigma_{1} \\sigma_{2} - \\sigma_{1} \\sigma_{n} - \\sigma_{2} \\sigma_{n} + \\sigma_{n}^{2} + \\tau_{n}^{2}}{\\left(\\sigma_{1} - \\sigma_{3}\\right) \\left(\\sigma_{2} - \\sigma_{3}\\right)}$"
      ],
      "text/plain": [
       "<IPython.core.display.Math object>"
      ]
     },
     "execution_count": 7,
     "metadata": {},
     "output_type": "execute_result"
    }
   ],
   "source": [
    "imprimir(r\"\\gamma^2 = \", resultados[g2]) "
   ]
  },
  {
   "cell_type": "markdown",
   "metadata": {
    "id": "8wPfiQCR60ap"
   },
   "source": [
    "Recordar que $\\alpha^2$, $\\beta^2$ y $\\gamma^2$ son cantidades no negativas, es decir:\n",
    "\n",
    "$$\n",
    "\\begin{align*}\n",
    "    \\alpha^2 &\\geq& 0 \\\\\n",
    "    \\beta^2 &\\geq& 0 \\\\\n",
    "    \\gamma^2 &\\geq& 0 \n",
    "\\end{align*}\n",
    "$$\n",
    "\n",
    "Y que estas coordenadas están dadas respecto a la base especificada por $\\boldsymbol{\\hat{n}}_1$, $\\boldsymbol{\\hat{n}}_2$ y $\\boldsymbol{\\hat{n}}_3$"
   ]
  }
 ],
 "metadata": {
  "colab": {
   "authorship_tag": "ABX9TyO6YtIUHrEPOxoJrSiieKEK",
   "include_colab_link": true,
   "name": "02_09_07.ipynb",
   "provenance": []
  },
  "kernelspec": {
   "display_name": "Python 3.10.4 64-bit",
   "language": "python",
   "name": "python3"
  },
  "language_info": {
   "codemirror_mode": {
    "name": "ipython",
    "version": 3
   },
   "file_extension": ".py",
   "mimetype": "text/x-python",
   "name": "python",
   "nbconvert_exporter": "python",
   "pygments_lexer": "ipython3",
   "version": "3.10.4"
  },
  "vscode": {
   "interpreter": {
    "hash": "916dbcbb3f70747c44a77c7bcd40155683ae19c65e1c03b4aa3499c5328201f1"
   }
  }
 },
 "nbformat": 4,
 "nbformat_minor": 1
}
