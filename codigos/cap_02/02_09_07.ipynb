{
  "nbformat": 4,
  "nbformat_minor": 0,
  "metadata": {
    "colab": {
      "name": "02_09_07.ipynb",
      "provenance": [],
      "authorship_tag": "ABX9TyO6YtIUHrEPOxoJrSiieKEK",
      "include_colab_link": true
    },
    "kernelspec": {
      "name": "python3",
      "display_name": "Python 3"
    },
    "language_info": {
      "name": "python"
    }
  },
  "cells": [
    {
      "cell_type": "markdown",
      "metadata": {
        "id": "view-in-github",
        "colab_type": "text"
      },
      "source": [
        "<a href=\"https://colab.research.google.com/github/michaelherediaperez/mecanica_de_solidos_un/blob/main/codigos/cap_02/02_09_07.ipynb\" target=\"_parent\"><img src=\"https://colab.research.google.com/assets/colab-badge.svg\" alt=\"Open In Colab\"/></a>"
      ]
    },
    {
      "cell_type": "markdown",
      "source": [
        "# 2.9.7. Círculo de Mohr en tres dimensiones\n",
        "\n",
        "|Quién | Fecha | Qué hizo |\n",
        "| ---  | ---   | ---      |\n",
        "|Michael Heredia Pérez, <mherediap@unal.edu.co> | Julio 15, 2022 | Conversión de código de MAXIMA a Python|"
      ],
      "metadata": {
        "id": "OF8x8yld3DAP"
      }
    },
    {
      "cell_type": "code",
      "execution_count": 1,
      "metadata": {
        "id": "noHC6sTQ1p-v"
      },
      "outputs": [],
      "source": [
        "import sympy as sp   # Librería para cálculo simbólico.\n",
        "\n",
        "# Para imprimir bonito.\n",
        "sp.init_printing() "
      ]
    },
    {
      "cell_type": "markdown",
      "source": [
        "Se definen las variables simbólicas necesarias. Se emplea la notación de $\\LaTeX$"
      ],
      "metadata": {
        "id": "IOYEBWs83O-8"
      }
    },
    {
      "cell_type": "code",
      "source": [
        "s1, s2, s3 = sp.symbols(r\"\\sigma_1, \\sigma_2, \\sigma_3\")\n",
        "sn, tn     = sp.symbols(r\"\\sigma_n, \\tau_n\")\n",
        "a2, b2, g2 = sp.symbols(r\"\\alpha^2, \\beta^2, \\gamma^2\")"
      ],
      "metadata": {
        "id": "rUuGoQEA255s"
      },
      "execution_count": 2,
      "outputs": []
    },
    {
      "cell_type": "markdown",
      "source": [
        "A diferencia de Maxima, en Python las ecuaciones las tengo que presentar igualadas a cero (0), no como la escribiría regularmente"
      ],
      "metadata": {
        "id": "Ecd9FdF03fqS"
      }
    },
    {
      "cell_type": "code",
      "source": [
        "eq1 = s1*a2 + s2*b2 + s3*g2 - sn                      # sn = s1*a2 + s2+b2 + s3+g3\n",
        "eq2 = s1**2*a2 + s2**2*b2 + s3**2*g2 -sn**2 -tn**2    # tn^2 = s1^2*a2 + s2^2*b2 + s3^2*g2 - sn^2    \n",
        "eq3 = a2 + b2 + g2 -1                                 # 1 = a2 + b2 + g2"
      ],
      "metadata": {
        "id": "-8qVgY0V3e84"
      },
      "execution_count": 3,
      "outputs": []
    },
    {
      "cell_type": "code",
      "source": [
        "result = sp.factor( sp.solve([eq1, eq2, eq3], (a2, b2, g2)) )"
      ],
      "metadata": {
        "id": "q6ul7bN44hKU"
      },
      "execution_count": 4,
      "outputs": []
    },
    {
      "cell_type": "markdown",
      "source": [
        "Los resultados son:\n",
        "\n",
        "$\\alpha^2=$"
      ],
      "metadata": {
        "id": "5h9FW9r65SkI"
      }
    },
    {
      "cell_type": "code",
      "source": [
        "result[a2]"
      ],
      "metadata": {
        "colab": {
          "base_uri": "https://localhost:8080/",
          "height": 58
        },
        "id": "Pqlpenp04mG_",
        "outputId": "8897c607-854e-4707-f582-9a19c0caeb1a"
      },
      "execution_count": 5,
      "outputs": [
        {
          "output_type": "execute_result",
          "data": {
            "text/plain": [
              "                                                             2        2\n",
              "\\sigma₂⋅\\sigma₃ - \\sigma₂⋅\\sigmaₙ - \\sigma₃⋅\\sigmaₙ + \\sigmaₙ  + \\tauₙ \n",
              "───────────────────────────────────────────────────────────────────────\n",
              "                (\\sigma₁ - \\sigma₂)⋅(\\sigma₁ - \\sigma₃)                "
            ],
            "image/png": "[encoded data removed]",
            "text/latex": "$\\displaystyle \\frac{\\sigma_{2} \\sigma_{3} - \\sigma_{2} \\sigma_{n} - \\sigma_{3} \\sigma_{n} + \\sigma_{n}^{2} + \\tau_{n}^{2}}{\\left(\\sigma_{1} - \\sigma_{2}\\right) \\left(\\sigma_{1} - \\sigma_{3}\\right)}$"
          },
          "metadata": {},
          "execution_count": 5
        }
      ]
    },
    {
      "cell_type": "markdown",
      "source": [
        "$\\beta^2=$"
      ],
      "metadata": {
        "id": "mqEGFZyh5lfp"
      }
    },
    {
      "cell_type": "code",
      "source": [
        "result[b2]"
      ],
      "metadata": {
        "colab": {
          "base_uri": "https://localhost:8080/",
          "height": 58
        },
        "id": "4cqnCKr25EUn",
        "outputId": "3b1753aa-abb8-4d56-9e00-a592bb910a33"
      },
      "execution_count": 6,
      "outputs": [
        {
          "output_type": "execute_result",
          "data": {
            "text/plain": [
              " ⎛                                                             2        2⎞ \n",
              "-⎝\\sigma₁⋅\\sigma₃ - \\sigma₁⋅\\sigmaₙ - \\sigma₃⋅\\sigmaₙ + \\sigmaₙ  + \\tauₙ ⎠ \n",
              "───────────────────────────────────────────────────────────────────────────\n",
              "                  (\\sigma₁ - \\sigma₂)⋅(\\sigma₂ - \\sigma₃)                  "
            ],
            "image/png": "[encoded data removed]",
            "text/latex": "$\\displaystyle - \\frac{\\sigma_{1} \\sigma_{3} - \\sigma_{1} \\sigma_{n} - \\sigma_{3} \\sigma_{n} + \\sigma_{n}^{2} + \\tau_{n}^{2}}{\\left(\\sigma_{1} - \\sigma_{2}\\right) \\left(\\sigma_{2} - \\sigma_{3}\\right)}$"
          },
          "metadata": {},
          "execution_count": 6
        }
      ]
    },
    {
      "cell_type": "markdown",
      "source": [
        "$\\gamma^2=$"
      ],
      "metadata": {
        "id": "h4DzWw2x5_Iu"
      }
    },
    {
      "cell_type": "code",
      "source": [
        "result[g2]"
      ],
      "metadata": {
        "colab": {
          "base_uri": "https://localhost:8080/",
          "height": 58
        },
        "id": "E5_0D3hR5ZX3",
        "outputId": "8ff0b1d7-c23d-4bf5-c680-cf1fb42bb958"
      },
      "execution_count": 7,
      "outputs": [
        {
          "output_type": "execute_result",
          "data": {
            "text/plain": [
              "                                                             2        2\n",
              "\\sigma₁⋅\\sigma₂ - \\sigma₁⋅\\sigmaₙ - \\sigma₂⋅\\sigmaₙ + \\sigmaₙ  + \\tauₙ \n",
              "───────────────────────────────────────────────────────────────────────\n",
              "                (\\sigma₁ - \\sigma₃)⋅(\\sigma₂ - \\sigma₃)                "
            ],
            "image/png": "[encoded data removed]",
            "text/latex": "$\\displaystyle \\frac{\\sigma_{1} \\sigma_{2} - \\sigma_{1} \\sigma_{n} - \\sigma_{2} \\sigma_{n} + \\sigma_{n}^{2} + \\tau_{n}^{2}}{\\left(\\sigma_{1} - \\sigma_{3}\\right) \\left(\\sigma_{2} - \\sigma_{3}\\right)}$"
          },
          "metadata": {},
          "execution_count": 7
        }
      ]
    },
    {
      "cell_type": "markdown",
      "source": [
        "Recordar que $\\alpha^2$, $\\beta^2$ y $\\gamma^2$ son cantidades determinadas positivas."
      ],
      "metadata": {
        "id": "8wPfiQCR60ap"
      }
    }
  ]
}