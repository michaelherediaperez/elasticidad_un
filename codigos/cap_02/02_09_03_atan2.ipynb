{
 "cells": [
  {
   "attachments": {},
   "cell_type": "markdown",
   "metadata": {},
   "source": [
    "# 2.9.3. Ejemplo de la función atan2\n",
    "\n",
    "|Quién | Fecha | Qué hizo |\n",
    "| ---  | ---   | ---      |\n",
    "|Michael Heredia Pérez, <mherediap@unal.edu.co> | Marzo 16, 2023 | Conversión de código de MAXIMA a Python|\n",
    "\n"
   ]
  },
  {
   "cell_type": "code",
   "execution_count": 6,
   "metadata": {},
   "outputs": [],
   "source": [
    "import numpy as np\n",
    "import matplotlib.pyplot as plt"
   ]
  },
  {
   "attachments": {},
   "cell_type": "markdown",
   "metadata": {},
   "source": [
    "Es posible verificar que si tenemos un punto de coordenadas (1,1), se ubicará en el primer cuadrante del plano cartesiano, y si trazamos el vector que representa este forma un ángulo de 45° respecto al eje x. Lo podemos calcular como $$\\tan(\\theta) = \\left(\\frac{1}{1}\\right) \\rightarrow \\theta = \\arctan\\left(\\frac{1}{1}\\right) = 45^{\\circ}$$"
   ]
  },
  {
   "cell_type": "code",
   "execution_count": 4,
   "metadata": {},
   "outputs": [
    {
     "data": {
      "text/plain": [
       "45.0"
      ]
     },
     "execution_count": 4,
     "metadata": {},
     "output_type": "execute_result"
    }
   ],
   "source": [
    "x = 1\n",
    "y = 1\n",
    "t = np.arctan(y/x)      # Este cálculo se hace en radianes\n",
    "np.rad2deg(t)"
   ]
  },
  {
   "attachments": {},
   "cell_type": "markdown",
   "metadata": {},
   "source": [
    "Por el contrario, si tomamos el punto $(-1, -1)$, su vector estará ubicado en el tercer cuadrante. ¿cuál es el ángulo que forma con el eje x? $$\\tan(\\theta) = \\left(\\frac{1}{1}\\right) \\rightarrow \\theta = \\arctan\\left(\\frac{1}{1}\\right) = 45^{\\circ}?$$"
   ]
  },
  {
   "cell_type": "code",
   "execution_count": 5,
   "metadata": {},
   "outputs": [
    {
     "data": {
      "text/plain": [
       "45.0"
      ]
     },
     "execution_count": 5,
     "metadata": {},
     "output_type": "execute_result"
    }
   ],
   "source": [
    "np.rad2deg( np.arctan( (-y)/(-x) ))"
   ]
  },
  {
   "attachments": {},
   "cell_type": "markdown",
   "metadata": {},
   "source": [
    "Lo cual no tiene sentido. Veamos el gráfico de esta situación."
   ]
  },
  {
   "cell_type": "code",
   "execution_count": 8,
   "metadata": {},
   "outputs": [
    {
     "data": {
      "image/png": "[encoded data removed]",
      "text/plain": [
       "<Figure size 640x480 with 1 Axes>"
      ]
     },
     "metadata": {},
     "output_type": "display_data"
    }
   ],
   "source": [
    "plt.figure()\n",
    "# Dibujo los puntos\n",
    "plt.plot(x, y, \"*r\")\n",
    "plt.plot(-x, -y, \"*r\")\n",
    "# Dibujo los vetores\n",
    "plt.plot((-x, x),(-y, y))\n",
    "# Dibujo los ejes\n",
    "plt.axvline(x=0)\n",
    "plt.axhline(y=0)\n",
    "plt.show()"
   ]
  },
  {
   "cell_type": "code",
   "execution_count": 2,
   "metadata": {},
   "outputs": [],
   "source": [
    "# Definamos un estado de esfuerzos [Pa]\n",
    "sx  = 3 \n",
    "sy  = -2\n",
    "txy = 1"
   ]
  },
  {
   "cell_type": "code",
   "execution_count": 5,
   "metadata": {},
   "outputs": [
    {
     "data": {
      "text/plain": [
       "(0.38, -2.76)"
      ]
     },
     "execution_count": 5,
     "metadata": {},
     "output_type": "execute_result"
    }
   ],
   "source": [
    "# Calculemos las direcciones principales para este estado de esfuerzos (tau_n=0).\n",
    "ang_2t1 = np.arctan2(+txy, +(sx -sy)/2).round(2)\n",
    "ang_2t2 = np.arctan2(-txy, -(sx -sy)/2).round(2)\n",
    "\n",
    "# Recordemos que lo trabaja como radianes\n",
    "ang_2t1, ang_2t2 "
   ]
  },
  {
   "cell_type": "code",
   "execution_count": 18,
   "metadata": {},
   "outputs": [
    {
     "data": {
      "text/plain": [
       "(0.38, 0.38)"
      ]
     },
     "execution_count": 18,
     "metadata": {},
     "output_type": "execute_result"
    }
   ],
   "source": [
    "# Si calculamos simplemente la arcotangente\n",
    "i_ang_2t1 = np.arctan( +txy / (+(sx -sy)/2) ).round(2)\n",
    "i_ang_2t2 = np.arctan( -txy / (-(sx -sy)/2) ).round(2)\n",
    "\n",
    "# Recordemos que lo trabaja como radianes\n",
    "i_ang_2t1, i_ang_2t2 "
   ]
  },
  {
   "cell_type": "code",
   "execution_count": 7,
   "metadata": {},
   "outputs": [
    {
     "data": {
      "text/plain": [
       "(21.772396214971284, -158.1363514561072)"
      ]
     },
     "execution_count": 7,
     "metadata": {},
     "output_type": "execute_result"
    }
   ],
   "source": [
    "np.rad2deg(ang_2t1), np.rad2deg(ang_2t2)"
   ]
  },
  {
   "cell_type": "code",
   "execution_count": 10,
   "metadata": {},
   "outputs": [
    {
     "data": {
      "text/plain": [
       "-158.22760378502872"
      ]
     },
     "execution_count": 10,
     "metadata": {},
     "output_type": "execute_result"
    }
   ],
   "source": [
    "np.rad2deg(ang_2t1) - 180"
   ]
  },
  {
   "cell_type": "code",
   "execution_count": 11,
   "metadata": {},
   "outputs": [
    {
     "data": {
      "text/plain": [
       "(-1.19, 1.95)"
      ]
     },
     "execution_count": 11,
     "metadata": {},
     "output_type": "execute_result"
    }
   ],
   "source": [
    "# Calculemos las direcciones principales para este estado de esfuerzos (tau_n=0).\n",
    "ang_2t1c = np.arctan2(-(sx -sy)/2, +txy, ).round(2)\n",
    "ang_2t2c = np.arctan2(+(sx -sy)/2, -txy, ).round(2)\n",
    "\n",
    "# Recordemos que lo trabaja como radianes\n",
    "ang_2t1c, ang_2t2c "
   ]
  },
  {
   "cell_type": "code",
   "execution_count": 12,
   "metadata": {},
   "outputs": [
    {
     "data": {
      "text/plain": [
       "(-68.18197762056796, 111.72677005051052)"
      ]
     },
     "execution_count": 12,
     "metadata": {},
     "output_type": "execute_result"
    }
   ],
   "source": [
    "np.rad2deg(ang_2t1c), np.rad2deg(ang_2t2c)"
   ]
  },
  {
   "cell_type": "code",
   "execution_count": 16,
   "metadata": {},
   "outputs": [
    {
     "data": {
      "text/plain": [
       "-4.710796326794896"
      ]
     },
     "execution_count": 16,
     "metadata": {},
     "output_type": "execute_result"
    }
   ],
   "source": [
    "# Verificamos\n",
    "\n",
    "# ang_2t1c = ang_2t1 + 180\n",
    "ang_2t2 - ang_2t1 - np.pi"
   ]
  },
  {
   "cell_type": "code",
   "execution_count": null,
   "metadata": {},
   "outputs": [],
   "source": []
  }
 ],
 "metadata": {
  "kernelspec": {
   "display_name": "Python 3",
   "language": "python",
   "name": "python3"
  },
  "language_info": {
   "codemirror_mode": {
    "name": "ipython",
    "version": 3
   },
   "file_extension": ".py",
   "mimetype": "text/x-python",
   "name": "python",
   "nbconvert_exporter": "python",
   "pygments_lexer": "ipython3",
   "version": "3.10.6"
  },
  "orig_nbformat": 4
 },
 "nbformat": 4,
 "nbformat_minor": 2
}
