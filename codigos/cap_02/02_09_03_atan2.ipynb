{
 "cells": [
  {
   "attachments": {},
   "cell_type": "markdown",
   "metadata": {},
   "source": [
    "# 2.9.3. Ejemplo de la función atan2\n",
    "\n",
    "|Quién | Fecha | Qué hizo |\n",
    "| ---  | ---   | ---      |\n",
    "|Michael Heredia Pérez, <mherediap@unal.edu.co> | Marzo 17, 2023 | Explicación de la función atan2: motivación y ejemplos |\n",
    "\n"
   ]
  },
  {
   "cell_type": "code",
   "execution_count": 1,
   "metadata": {},
   "outputs": [],
   "source": [
    "import numpy as np\n",
    "import matplotlib.pyplot as plt\n",
    "\n",
    "# Para imprimir algo bonito\n",
    "import sympy as sp\n",
    "from IPython.display import Math                 \n",
    "def imprimir (texto, variable, unidad=False):\n",
    "    if unidad:\n",
    "        return Math(texto + rf'{sp.latex(variable)}' + unidad)\n",
    "    else:\n",
    "        return Math(texto + rf'{sp.latex(variable)}') "
   ]
  },
  {
   "attachments": {},
   "cell_type": "markdown",
   "metadata": {},
   "source": [
    "## Motivación: ¿en qué cuadrante se calculan los ángulos?\n",
    "\n",
    "Es posible verificar que si tenemos un punto de coordenadas (1,1), se ubicará en el primer cuadrante del plano cartesiano, y si trazamos el vector que representa este forma un ángulo de 45° respecto al eje x. Lo podemos calcular como $$\\tan(\\theta) = \\left(\\frac{1}{1}\\right) \\rightarrow \\theta = \\arctan\\left(\\frac{1}{1}\\right) = 45^{\\circ}$$"
   ]
  },
  {
   "cell_type": "code",
   "execution_count": 2,
   "metadata": {},
   "outputs": [
    {
     "data": {
      "text/plain": [
       "45.0"
      ]
     },
     "execution_count": 2,
     "metadata": {},
     "output_type": "execute_result"
    }
   ],
   "source": [
    "x = 1\n",
    "y = 1\n",
    "np.rad2deg( np.arctan( y/x ) ) "
   ]
  },
  {
   "attachments": {},
   "cell_type": "markdown",
   "metadata": {},
   "source": [
    "Por el contrario, si tomamos el punto $(-1, -1)$, su vector estará ubicado en el tercer cuadrante. ¿cuál es el ángulo que forma con el eje x? $$\\tan(\\theta) = \\left(\\frac{-1}{-1}\\right) \\rightarrow \\theta = \\arctan\\left(\\frac{-1}{-1}\\right) = \\arctan\\left(\\frac{1}{1}\\right) = ... 45^{\\circ}?$$"
   ]
  },
  {
   "cell_type": "code",
   "execution_count": 3,
   "metadata": {},
   "outputs": [
    {
     "data": {
      "text/plain": [
       "45.0"
      ]
     },
     "execution_count": 3,
     "metadata": {},
     "output_type": "execute_result"
    }
   ],
   "source": [
    "np.rad2deg( np.arctan( (-y)/(-x) ))"
   ]
  },
  {
   "attachments": {},
   "cell_type": "markdown",
   "metadata": {},
   "source": [
    "Lo cual no tiene sentido. Veamos el gráfico de esta situación."
   ]
  },
  {
   "cell_type": "code",
   "execution_count": 4,
   "metadata": {},
   "outputs": [
    {
     "data": {
      "image/png": "[encoded data removed]",
      "text/plain": [
       "<Figure size 640x480 with 1 Axes>"
      ]
     },
     "metadata": {},
     "output_type": "display_data"
    }
   ],
   "source": [
    "plt.figure()\n",
    "\n",
    "# Dibujo los puntos\n",
    "plt.plot(x, y, \"*r\")\n",
    "plt.plot(-x, -y, \"*r\")\n",
    "\n",
    "# Represento los vetores\n",
    "plt.plot((-x, x),(-y, y))\n",
    "\n",
    "# Dibujo los ejes\n",
    "plt.axvline(x=0, color=\"grey\")\n",
    "plt.axhline(y=0, color=\"grey\")\n",
    "\n",
    "plt.show()\n",
    "\n",
    "# Es posible dibujar los ángulos pero haría el código muy largo.\n",
    "# - https://stackoverflow.com/questions/25227100/best-way-to-plot-an-angle-between-two-lines-in-matplotlib\n",
    "# - https://www.tutorialspoint.com/best-way-to-plot-an-angle-between-two-lines-in-matplotlib\n"
   ]
  },
  {
   "attachments": {},
   "cell_type": "markdown",
   "metadata": {},
   "source": [
    "Debemos tener en cuenta el cuadrante e el cual está ubicado nuestro vector, o en otras palabras, no hacer simplificaciones de signos al operar. Para ello, existe la función llamada \\textbf{atan2(y,x)}, y que en Python se llama ```arctan2()```. Calculemos $\\theta_1$ el ángulo que forma el vecotr $(1,1)$ respecto al eje $x$, y $\\theta_2$ el ángulo que forma el vecotr $(-1,-1)$ respecto al eje $x$.  "
   ]
  },
  {
   "cell_type": "code",
   "execution_count": 5,
   "metadata": {},
   "outputs": [
    {
     "name": "stdout",
     "output_type": "stream",
     "text": [
      "t1 = 45.0°\n",
      "t2 = -135.0°\n"
     ]
    }
   ],
   "source": [
    "# theta : t\n",
    "t1 = np.rad2deg( np.arctan2( y, x))\n",
    "t2 = np.rad2deg( np.arctan2(-y,-x)) \n",
    "\n",
    "print(f\"t1 = {t1}°\")\n",
    "print(f\"t2 = {t2}°\")"
   ]
  },
  {
   "attachments": {},
   "cell_type": "markdown",
   "metadata": {},
   "source": [
    "Los resultados anteriores si tiene sentido. Sin embargo, el ángulo $\\theta_2$ se está midiendo en sentido horario, y nuestros ángulos los debemos medir en sentido antihorario (solo en el caso del círculo de Mohr se miden en sentido horario, esto debido a la construcción de su curva paramétrica). Simplemente le sumamos 360°, o lo mismo, $2\\pi$."
   ]
  },
  {
   "cell_type": "code",
   "execution_count": 6,
   "metadata": {},
   "outputs": [
    {
     "name": "stdout",
     "output_type": "stream",
     "text": [
      "t2 = 225.0°\n"
     ]
    }
   ],
   "source": [
    "t2 += 360\n",
    "print(f\"t2 = {t2}°\")"
   ]
  },
  {
   "attachments": {},
   "cell_type": "markdown",
   "metadata": {},
   "source": [
    "## Creando una función\n",
    "\n",
    "Vamos a calcular los ángulos $2\\theta_1$, $2\\theta_2$, $2\\theta_{1c}$ y $2\\theta_{2c}$ que hemos planteado en la construcción del círculo de Mohr. Para ellos usaremos la función ```arctan2``` de Python. Como esta función nos devuelve un resultado en radianes, podríamos crear una nueva función que directamente nos regrese el resultado esperado en grados, sin intermediarios, y llamarla ```arctan2d```; además, haremos que el resultado esté redondeado a dos cifras decimales."
   ]
  },
  {
   "cell_type": "code",
   "execution_count": 7,
   "metadata": {},
   "outputs": [],
   "source": [
    "# Definimos una función lambda para arctan2d\n",
    "arctan2d = lambda y,x : np.rad2deg(np.arctan2(y,x)).round(2)\n"
   ]
  },
  {
   "cell_type": "code",
   "execution_count": 8,
   "metadata": {},
   "outputs": [
    {
     "name": "stdout",
     "output_type": "stream",
     "text": [
      "t1 = 45.0°\n",
      "t2 = -135.0°\n"
     ]
    }
   ],
   "source": [
    "# Ejemplo anterior\n",
    "t1 = arctan2d(y, x)\n",
    "t2 = arctan2d(-y, -x)\n",
    "\n",
    "print(f\"t1 = {t1}°\")\n",
    "print(f\"t2 = {t2}°\")"
   ]
  },
  {
   "attachments": {},
   "cell_type": "markdown",
   "metadata": {},
   "source": [
    "Aún así, podemos mejorar mucho más esta función para considerar el caso de que el resultado sea negativo."
   ]
  },
  {
   "cell_type": "code",
   "execution_count": 9,
   "metadata": {},
   "outputs": [],
   "source": [
    "def arctan2d(y, x):\n",
    "    t = np.rad2deg(np.arctan2(y,x)).round(2)\n",
    "    if t < 0:\n",
    "        t += 360\n",
    "    return t"
   ]
  },
  {
   "cell_type": "code",
   "execution_count": 10,
   "metadata": {},
   "outputs": [
    {
     "name": "stdout",
     "output_type": "stream",
     "text": [
      "t1 = 45.0°\n",
      "t2 = 225.0°\n"
     ]
    }
   ],
   "source": [
    "# Ejemplo anterior\n",
    "t1 = arctan2d(y, x)\n",
    "t2 = arctan2d(-y, -x)\n",
    "\n",
    "print(f\"t1 = {t1}°\")\n",
    "print(f\"t2 = {t2}°\")"
   ]
  },
  {
   "attachments": {},
   "cell_type": "markdown",
   "metadata": {},
   "source": [
    "## Ejemplo: calculando los ángulos del círculo de Mohr\n",
    "\n",
    "Recordemos las ecuaciones para calcular los ángulos que debemos recorrer para llegar al estado de esfuezo snormales máximos y mínimos.\n",
    "$$\\tan(2\\theta_1) = \\frac{2\\tau_{xy}}{\\sigma_x - \\sigma_y}$$\n",
    "$$\\tan(2\\theta_2) = \\frac{-2\\tau_{xy}}{-(\\sigma_x - \\sigma_y)}$$\n",
    "\n",
    "y los ángulos que debemos recorrer para llegar al estado de esfuerzos cortantes máximos y mínimos.\n",
    "$$\\cot(2\\theta_{1c}) = \\frac{-2\\tau_{xy}}{\\sigma_x - \\sigma_y}$$\n",
    "$$\\cot(2\\theta_{2c}) = \\frac{2\\tau_{xy}}{-(\\sigma_x - \\sigma_y)}$$\n",
    "\n",
    "\n",
    "El estado de esfuerzos es el siguiente, medido en pascales [Pa]"
   ]
  },
  {
   "cell_type": "code",
   "execution_count": 11,
   "metadata": {},
   "outputs": [],
   "source": [
    "sx  = 3 \n",
    "sy  = -2\n",
    "txy = 1"
   ]
  },
  {
   "cell_type": "code",
   "execution_count": 12,
   "metadata": {},
   "outputs": [],
   "source": [
    "# Calculemos las direcciones principales para este estado de esfuerzos (tau_n=0).\n",
    "ang_2t_1  = arctan2d(     +txy, +(sx -sy))\n",
    "ang_2t_2  = arctan2d(     -txy, -(sx -sy))\n",
    "ang_2t_1c = arctan2d(-(sx -sy), +txy     )\n",
    "ang_2t_2c = arctan2d(+(sx -sy), -txy     )"
   ]
  },
  {
   "cell_type": "code",
   "execution_count": 13,
   "metadata": {},
   "outputs": [
    {
     "data": {
      "text/latex": [
       "$\\displaystyle 2\\theta_1 = 11.31°$"
      ],
      "text/plain": [
       "<IPython.core.display.Math object>"
      ]
     },
     "execution_count": 13,
     "metadata": {},
     "output_type": "execute_result"
    }
   ],
   "source": [
    "imprimir(r\"2\\theta_1 = \", ang_2t_1, \"°\")"
   ]
  },
  {
   "cell_type": "code",
   "execution_count": 14,
   "metadata": {},
   "outputs": [
    {
     "data": {
      "text/latex": [
       "$\\displaystyle 2\\theta_2 = 191.31°$"
      ],
      "text/plain": [
       "<IPython.core.display.Math object>"
      ]
     },
     "execution_count": 14,
     "metadata": {},
     "output_type": "execute_result"
    }
   ],
   "source": [
    "imprimir(r\"2\\theta_2 = \", ang_2t_2, \"°\")"
   ]
  },
  {
   "cell_type": "code",
   "execution_count": 15,
   "metadata": {},
   "outputs": [
    {
     "data": {
      "text/latex": [
       "$\\displaystyle 2\\theta_{1c} = 281.31°$"
      ],
      "text/plain": [
       "<IPython.core.display.Math object>"
      ]
     },
     "execution_count": 15,
     "metadata": {},
     "output_type": "execute_result"
    }
   ],
   "source": [
    "imprimir(r\"2\\theta_{1c} = \", ang_2t_1c, \"°\")"
   ]
  },
  {
   "cell_type": "code",
   "execution_count": 16,
   "metadata": {},
   "outputs": [
    {
     "data": {
      "text/latex": [
       "$\\displaystyle 2\\theta_{2c} = 101.31°$"
      ],
      "text/plain": [
       "<IPython.core.display.Math object>"
      ]
     },
     "execution_count": 16,
     "metadata": {},
     "output_type": "execute_result"
    }
   ],
   "source": [
    "imprimir(r\"2\\theta_{2c} = \", ang_2t_2c, \"°\")"
   ]
  },
  {
   "attachments": {},
   "cell_type": "markdown",
   "metadata": {},
   "source": [
    "Verifiquemos las relaciones conocidas: \n",
    "$$2\\theta_2 = 2\\theta_1 + 180°$$\n",
    "$$2\\theta_{1c} = 2\\theta_1 - 90°$$\n",
    "$$2\\theta_{2c} = 2\\theta_1 + 90°$$"
   ]
  },
  {
   "cell_type": "code",
   "execution_count": 17,
   "metadata": {},
   "outputs": [
    {
     "data": {
      "text/plain": [
       "0.0"
      ]
     },
     "execution_count": 17,
     "metadata": {},
     "output_type": "execute_result"
    }
   ],
   "source": [
    "ang_2t_2 - (ang_2t_1 + 180)"
   ]
  },
  {
   "cell_type": "code",
   "execution_count": 18,
   "metadata": {},
   "outputs": [
    {
     "data": {
      "text/plain": [
       "360.0"
      ]
     },
     "execution_count": 18,
     "metadata": {},
     "output_type": "execute_result"
    }
   ],
   "source": [
    "ang_2t_1c - (ang_2t_1 - 90)"
   ]
  },
  {
   "cell_type": "code",
   "execution_count": 19,
   "metadata": {},
   "outputs": [
    {
     "data": {
      "text/plain": [
       "0.0"
      ]
     },
     "execution_count": 19,
     "metadata": {},
     "output_type": "execute_result"
    }
   ],
   "source": [
    "ang_2t_2c - (ang_2t_1 + 90)"
   ]
  },
  {
   "attachments": {},
   "cell_type": "markdown",
   "metadata": {},
   "source": [
    "Nota: llegar a 0° es lo mismo que llegar a 360°, dimos una vuelta completa."
   ]
  }
 ],
 "metadata": {
  "kernelspec": {
   "display_name": "Python 3",
   "language": "python",
   "name": "python3"
  },
  "language_info": {
   "codemirror_mode": {
    "name": "ipython",
    "version": 3
   },
   "file_extension": ".py",
   "mimetype": "text/x-python",
   "name": "python",
   "nbconvert_exporter": "python",
   "pygments_lexer": "ipython3",
   "version": "3.10.6"
  },
  "orig_nbformat": 4
 },
 "nbformat": 4,
 "nbformat_minor": 2
}
