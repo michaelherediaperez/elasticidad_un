{
 "cells": [
  {
   "cell_type": "markdown",
   "metadata": {
    "colab_type": "text",
    "id": "view-in-github"
   },
   "source": [
    "<a href=\"https://colab.research.google.com/github/michaelherediaperez/mecanica_de_solidos_un/blob/main/codigos/cap_02/02_06_01_Cambio_de_base.ipynb\" target=\"_parent\"><img src=\"https://colab.research.google.com/assets/colab-badge.svg\" alt=\"Open In Colab\"/></a>"
   ]
  },
  {
   "cell_type": "markdown",
   "metadata": {
    "id": "UyAhKeEIsEqh"
   },
   "source": [
    "# 2.6.1. Particularización de la matriz de tensiones al caso tridimensional\n",
    "\n",
    "|Quién | Fecha | Qué hizo |\n",
    "| ---  | ---   | ---      |\n",
    "|Michael Heredia Pérez, <mherediap@unal.edu.co> | Julio 13, 2022  | Conversión de código de MAXIMA a Python|\n",
    "|Diego Andrés Alvarez, <daalvarez@unal.edu.co>  | Agosto 29, 2022 | Mejorando comentarios                  |"
   ]
  },
  {
   "cell_type": "code",
   "execution_count": 1,
   "metadata": {
    "id": "API5h85VrvWX"
   },
   "outputs": [],
   "source": [
    "import sympy as sp\n",
    "\n",
    "# Para imprimir bonito\n",
    "from IPython.display import Math\n",
    "sp.init_printing()                  \n",
    "def imprimir (texto, variable):\n",
    "    return Math(texto +  rf'{sp.latex(variable)}')"
   ]
  },
  {
   "cell_type": "markdown",
   "metadata": {
    "id": "L66opn_C5Tr_"
   },
   "source": [
    "Se definen las variables simbólicas necesarias:"
   ]
  },
  {
   "cell_type": "code",
   "execution_count": 2,
   "metadata": {
    "id": "S7-I1WarsUgw"
   },
   "outputs": [],
   "source": [
    "sx, sy, sz    = sp.symbols(\"sigma_x, sigma_y, sigma_z\")\n",
    "txy, txz, tyz = sp.symbols(\"tau_xy,  tau_xz,  tau_yz\")\n",
    "\n",
    "a1, a2, a3    = sp.symbols(\"alpha_1:4\")\n",
    "b1, b2, b3    = sp.symbols(\"beta_1:4\")\n",
    "g1, g2, g3    = sp.symbols(\"gamma_1:4\")"
   ]
  },
  {
   "cell_type": "markdown",
   "metadata": {
    "id": "gUyQP-4l5Z5y"
   },
   "source": [
    "Se define la matriz de tensiones en coordenadas rectangulares $\\boldsymbol{\\sigma}$:"
   ]
  },
  {
   "cell_type": "code",
   "execution_count": 3,
   "metadata": {
    "colab": {
     "base_uri": "https://localhost:8080/",
     "height": 78
    },
    "id": "GOVDxdkOtb4j",
    "outputId": "6797dfe5-04a4-49f7-e0f8-d7533c5acad1"
   },
   "outputs": [
    {
     "data": {
      "text/latex": [
       "$\\displaystyle \\boldsymbol{\\sigma} = \\left[\\begin{matrix}\\sigma_{x} & \\tau_{xy} & \\tau_{xz}\\\\\\tau_{xy} & \\sigma_{y} & \\tau_{yz}\\\\\\tau_{xz} & \\tau_{yz} & \\sigma_{z}\\end{matrix}\\right]$"
      ],
      "text/plain": [
       "<IPython.core.display.Math object>"
      ]
     },
     "execution_count": 3,
     "metadata": {},
     "output_type": "execute_result"
    }
   ],
   "source": [
    "sigma = sp.Matrix([[sx, txy, txz],\n",
    "                   [txy, sy, tyz],\n",
    "                   [txz, tyz, sz]])\n",
    "\n",
    "imprimir(r\"\\boldsymbol{\\sigma} = \", sigma)"
   ]
  },
  {
   "cell_type": "markdown",
   "metadata": {
    "id": "vLtLDIWz5q_9"
   },
   "source": [
    "Se define la matriz de transformación $\\boldsymbol{T}$:"
   ]
  },
  {
   "cell_type": "code",
   "execution_count": 4,
   "metadata": {
    "colab": {
     "base_uri": "https://localhost:8080/",
     "height": 78
    },
    "id": "I5V1Uk_Rub9O",
    "outputId": "d5eb666d-03c7-4370-c227-744bc25d53a2"
   },
   "outputs": [
    {
     "data": {
      "text/latex": [
       "$\\displaystyle \\boldsymbol{T} = \\left[\\begin{matrix}\\alpha_{1} & \\alpha_{2} & \\alpha_{3}\\\\\\beta_{1} & \\beta_{2} & \\beta_{3}\\\\\\gamma_{1} & \\gamma_{2} & \\gamma_{3}\\end{matrix}\\right]$"
      ],
      "text/plain": [
       "<IPython.core.display.Math object>"
      ]
     },
     "execution_count": 4,
     "metadata": {},
     "output_type": "execute_result"
    }
   ],
   "source": [
    "T = sp.Matrix([[a1, a2, a3],     \n",
    "               [b1, b2, b3],      \n",
    "               [g1, g2, g3]])\n",
    "\n",
    "imprimir(r\"\\boldsymbol{T} = \", T)"
   ]
  },
  {
   "cell_type": "markdown",
   "metadata": {
    "id": "9du7Qzz07wKz"
   },
   "source": [
    "Se calcula la matriz de tensiones $\\boldsymbol{\\sigma}'$ en el sistema de coordenadas especificadas por los vectores definidos en la matriz $\\boldsymbol{T}$. Recuerde que\n",
    "\n",
    "\\begin{equation*}\n",
    "\\boldsymbol{\\sigma}' = \\boldsymbol{T}^T \\boldsymbol{\\sigma} \\boldsymbol{T}.\n",
    "\\end{equation*}"
   ]
  },
  {
   "cell_type": "code",
   "execution_count": 5,
   "metadata": {
    "id": "YLhi9ppBu7h8"
   },
   "outputs": [],
   "source": [
    "sigmaP = T.T*sigma*T            # ecuación (2.18)"
   ]
  },
  {
   "cell_type": "markdown",
   "metadata": {
    "id": "wI_VbHIb8NMn"
   },
   "source": [
    "Se extraen los términos de la matriz de tensiones $\\boldsymbol{\\sigma}'$:"
   ]
  },
  {
   "cell_type": "code",
   "execution_count": 6,
   "metadata": {
    "colab": {
     "base_uri": "https://localhost:8080/",
     "height": 38
    },
    "id": "WGpqR1I17g73",
    "outputId": "d9080cec-2986-4e6f-de46-286ebf136954"
   },
   "outputs": [],
   "source": [
    "sxp   = sp.factor(sigmaP[0,0])  # elemento 1,1 de la matriz sigmaP\n",
    "syp   = sp.factor(sigmaP[1,1])\n",
    "szp   = sp.factor(sigmaP[2,2])\n",
    "typzp = sp.factor(sigmaP[1,2])  # elemento 2,3 de la matriz sigmaP\n",
    "txpzp = sp.factor(sigmaP[0,2])  # elemento 1,3 de la matriz sigmaP \n",
    "txpyp = sp.factor(sigmaP[0,1])  # elemento 1,2 de la matriz sigmaP "
   ]
  },
  {
   "cell_type": "code",
   "execution_count": 7,
   "metadata": {
    "colab": {
     "base_uri": "https://localhost:8080/",
     "height": 38
    },
    "id": "k_7k9Lsq8lYS",
    "outputId": "147beb90-da1b-459f-da24-ed6b17c07301"
   },
   "outputs": [
    {
     "data": {
      "text/latex": [
       "$\\displaystyle \\sigma_{x'} = \\alpha_{1}^{2} \\sigma_{x} + 2 \\alpha_{1} \\beta_{1} \\tau_{xy} + 2 \\alpha_{1} \\gamma_{1} \\tau_{xz} + \\beta_{1}^{2} \\sigma_{y} + 2 \\beta_{1} \\gamma_{1} \\tau_{yz} + \\gamma_{1}^{2} \\sigma_{z}$"
      ],
      "text/plain": [
       "<IPython.core.display.Math object>"
      ]
     },
     "execution_count": 7,
     "metadata": {},
     "output_type": "execute_result"
    }
   ],
   "source": [
    "imprimir(r\"\\sigma_{x'} = \", sxp)"
   ]
  },
  {
   "cell_type": "code",
   "execution_count": 8,
   "metadata": {
    "colab": {
     "base_uri": "https://localhost:8080/",
     "height": 38
    },
    "id": "k_7k9Lsq8lYS",
    "outputId": "147beb90-da1b-459f-da24-ed6b17c07301"
   },
   "outputs": [
    {
     "data": {
      "text/latex": [
       "$\\displaystyle \\sigma_{y'} = \\alpha_{2}^{2} \\sigma_{x} + 2 \\alpha_{2} \\beta_{2} \\tau_{xy} + 2 \\alpha_{2} \\gamma_{2} \\tau_{xz} + \\beta_{2}^{2} \\sigma_{y} + 2 \\beta_{2} \\gamma_{2} \\tau_{yz} + \\gamma_{2}^{2} \\sigma_{z}$"
      ],
      "text/plain": [
       "<IPython.core.display.Math object>"
      ]
     },
     "execution_count": 8,
     "metadata": {},
     "output_type": "execute_result"
    }
   ],
   "source": [
    "imprimir(r\"\\sigma_{y'} = \", syp)"
   ]
  },
  {
   "cell_type": "code",
   "execution_count": 9,
   "metadata": {
    "colab": {
     "base_uri": "https://localhost:8080/",
     "height": 38
    },
    "id": "k_7k9Lsq8lYS",
    "outputId": "147beb90-da1b-459f-da24-ed6b17c07301"
   },
   "outputs": [
    {
     "data": {
      "text/latex": [
       "$\\displaystyle \\sigma_{z'} = \\alpha_{3}^{2} \\sigma_{x} + 2 \\alpha_{3} \\beta_{3} \\tau_{xy} + 2 \\alpha_{3} \\gamma_{3} \\tau_{xz} + \\beta_{3}^{2} \\sigma_{y} + 2 \\beta_{3} \\gamma_{3} \\tau_{yz} + \\gamma_{3}^{2} \\sigma_{z}$"
      ],
      "text/plain": [
       "<IPython.core.display.Math object>"
      ]
     },
     "execution_count": 9,
     "metadata": {},
     "output_type": "execute_result"
    }
   ],
   "source": [
    "imprimir(r\"\\sigma_{z'} = \", szp)"
   ]
  },
  {
   "cell_type": "code",
   "execution_count": 10,
   "metadata": {},
   "outputs": [
    {
     "data": {
      "text/latex": [
       "$\\displaystyle \\tau_{y'z'} = \\alpha_{2} \\alpha_{3} \\sigma_{x} + \\alpha_{2} \\beta_{3} \\tau_{xy} + \\alpha_{2} \\gamma_{3} \\tau_{xz} + \\alpha_{3} \\beta_{2} \\tau_{xy} + \\alpha_{3} \\gamma_{2} \\tau_{xz} + \\beta_{2} \\beta_{3} \\sigma_{y} + \\beta_{2} \\gamma_{3} \\tau_{yz} + \\beta_{3} \\gamma_{2} \\tau_{yz} + \\gamma_{2} \\gamma_{3} \\sigma_{z}$"
      ],
      "text/plain": [
       "<IPython.core.display.Math object>"
      ]
     },
     "execution_count": 10,
     "metadata": {},
     "output_type": "execute_result"
    }
   ],
   "source": [
    "imprimir(r\"\\tau_{y'z'} = \", typzp)"
   ]
  },
  {
   "cell_type": "code",
   "execution_count": 11,
   "metadata": {
    "id": "xgwALI5M85co"
   },
   "outputs": [
    {
     "data": {
      "text/latex": [
       "$\\displaystyle \\tau_{x'z'} = \\alpha_{1} \\alpha_{3} \\sigma_{x} + \\alpha_{1} \\beta_{3} \\tau_{xy} + \\alpha_{1} \\gamma_{3} \\tau_{xz} + \\alpha_{3} \\beta_{1} \\tau_{xy} + \\alpha_{3} \\gamma_{1} \\tau_{xz} + \\beta_{1} \\beta_{3} \\sigma_{y} + \\beta_{1} \\gamma_{3} \\tau_{yz} + \\beta_{3} \\gamma_{1} \\tau_{yz} + \\gamma_{1} \\gamma_{3} \\sigma_{z}$"
      ],
      "text/plain": [
       "<IPython.core.display.Math object>"
      ]
     },
     "execution_count": 11,
     "metadata": {},
     "output_type": "execute_result"
    }
   ],
   "source": [
    "imprimir(r\"\\tau_{x'z'} = \", txpzp)"
   ]
  },
  {
   "cell_type": "code",
   "execution_count": 12,
   "metadata": {
    "id": "FoKC5l4q9DTt"
   },
   "outputs": [
    {
     "data": {
      "text/latex": [
       "$\\displaystyle \\tau_{x'y'} = \\alpha_{1} \\alpha_{2} \\sigma_{x} + \\alpha_{1} \\beta_{2} \\tau_{xy} + \\alpha_{1} \\gamma_{2} \\tau_{xz} + \\alpha_{2} \\beta_{1} \\tau_{xy} + \\alpha_{2} \\gamma_{1} \\tau_{xz} + \\beta_{1} \\beta_{2} \\sigma_{y} + \\beta_{1} \\gamma_{2} \\tau_{yz} + \\beta_{2} \\gamma_{1} \\tau_{yz} + \\gamma_{1} \\gamma_{2} \\sigma_{z}$"
      ],
      "text/plain": [
       "<IPython.core.display.Math object>"
      ]
     },
     "execution_count": 12,
     "metadata": {},
     "output_type": "execute_result"
    }
   ],
   "source": [
    "imprimir(r\"\\tau_{x'y'} = \", txpyp)"
   ]
  },
  {
   "cell_type": "markdown",
   "metadata": {
    "id": "4m9kyexVBjVN"
   },
   "source": [
    "Las ecuaciones anteriores pueden expresarse de forma matricial, como $\\boldsymbol{\\sigma'} = \\boldsymbol{T}_{\\boldsymbol{\\sigma}} \\boldsymbol{\\sigma}$"
   ]
  },
  {
   "cell_type": "code",
   "execution_count": 13,
   "metadata": {
    "colab": {
     "base_uri": "https://localhost:8080/",
     "height": 139
    },
    "id": "w_L98PIEBriY",
    "outputId": "692b3088-a690-4d81-f6ca-c3b6a925a2de"
   },
   "outputs": [],
   "source": [
    "Tsigma = sp.linear_eq_to_matrix([sxp, syp, szp, typzp, txpzp, txpyp ], (sx, sy, sz, tyz, txz, txy))[0] # ecuación (2.23)"
   ]
  },
  {
   "cell_type": "code",
   "execution_count": 14,
   "metadata": {},
   "outputs": [
    {
     "data": {
      "text/latex": [
       "$\\displaystyle \\boldsymbol{T}_{\\boldsymbol{\\sigma}} = \\left[\\begin{matrix}\\alpha_{1}^{2} & \\beta_{1}^{2} & \\gamma_{1}^{2} & 2 \\beta_{1} \\gamma_{1} & 2 \\alpha_{1} \\gamma_{1} & 2 \\alpha_{1} \\beta_{1}\\\\\\alpha_{2}^{2} & \\beta_{2}^{2} & \\gamma_{2}^{2} & 2 \\beta_{2} \\gamma_{2} & 2 \\alpha_{2} \\gamma_{2} & 2 \\alpha_{2} \\beta_{2}\\\\\\alpha_{3}^{2} & \\beta_{3}^{2} & \\gamma_{3}^{2} & 2 \\beta_{3} \\gamma_{3} & 2 \\alpha_{3} \\gamma_{3} & 2 \\alpha_{3} \\beta_{3}\\\\\\alpha_{2} \\alpha_{3} & \\beta_{2} \\beta_{3} & \\gamma_{2} \\gamma_{3} & \\beta_{2} \\gamma_{3} + \\beta_{3} \\gamma_{2} & \\alpha_{2} \\gamma_{3} + \\alpha_{3} \\gamma_{2} & \\alpha_{2} \\beta_{3} + \\alpha_{3} \\beta_{2}\\\\\\alpha_{1} \\alpha_{3} & \\beta_{1} \\beta_{3} & \\gamma_{1} \\gamma_{3} & \\beta_{1} \\gamma_{3} + \\beta_{3} \\gamma_{1} & \\alpha_{1} \\gamma_{3} + \\alpha_{3} \\gamma_{1} & \\alpha_{1} \\beta_{3} + \\alpha_{3} \\beta_{1}\\\\\\alpha_{1} \\alpha_{2} & \\beta_{1} \\beta_{2} & \\gamma_{1} \\gamma_{2} & \\beta_{1} \\gamma_{2} + \\beta_{2} \\gamma_{1} & \\alpha_{1} \\gamma_{2} + \\alpha_{2} \\gamma_{1} & \\alpha_{1} \\beta_{2} + \\alpha_{2} \\beta_{1}\\end{matrix}\\right]$"
      ],
      "text/plain": [
       "<IPython.core.display.Math object>"
      ]
     },
     "execution_count": 14,
     "metadata": {},
     "output_type": "execute_result"
    }
   ],
   "source": [
    "imprimir(r'\\boldsymbol{T}_{\\boldsymbol{\\sigma}} = ', Tsigma)"
   ]
  }
 ],
 "metadata": {
  "colab": {
   "authorship_tag": "ABX9TyPlDTLeOncPItJkjsXJWtdy",
   "collapsed_sections": [],
   "include_colab_link": true,
   "name": "02_06_01.ipynb",
   "provenance": []
  },
  "kernelspec": {
   "display_name": "Python 3 (ipykernel)",
   "language": "python",
   "name": "python3"
  },
  "language_info": {
   "codemirror_mode": {
    "name": "ipython",
    "version": 3
   },
   "file_extension": ".py",
   "mimetype": "text/x-python",
   "name": "python",
   "nbconvert_exporter": "python",
   "pygments_lexer": "ipython3",
   "version": "3.9.7"
  }
 },
 "nbformat": 4,
 "nbformat_minor": 1
}
