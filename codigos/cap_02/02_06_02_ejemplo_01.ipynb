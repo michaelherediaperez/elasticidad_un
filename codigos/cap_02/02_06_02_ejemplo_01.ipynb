{
 "cells": [
  {
   "cell_type": "markdown",
   "metadata": {
    "colab_type": "text",
    "id": "view-in-github"
   },
   "source": [
    "<a href=\"https://colab.research.google.com/github/michaelherediaperez/mecanica_de_solidos_un/blob/main/codigos/cap_02/02_06_02_ejemplo_01.ipynb\" target=\"_parent\"><img src=\"https://colab.research.google.com/assets/colab-badge.svg\" alt=\"Open In Colab\"/></a>"
   ]
  },
  {
   "cell_type": "markdown",
   "metadata": {
    "id": "U5leorZWcI5W"
   },
   "source": [
    "# Ejemplo sección 2.6.2\n",
    "\n",
    "|Quién | Fecha | Qué hizo |\n",
    "| ---  | ---   | ---      |\n",
    "|Michael Heredia Pérez, <mherediap@unal.edu.co> | Julio 14, 2022 | Conversión de código de MAXIMA a Python|\n",
    "|Michael Heredia Pérez, <mherediap@unal.edu.co> | Septiembre 2, 2022 | Mejorando legibilidad|\n",
    "\n",
    "Considere el sólido elástico de espesor $t$ de la figura <font color='blue'>2.9</font> y sometido a la acción de una carga puntual longitudinal de intensidad P. Este ejemplo es el llamado *problema de Flamant* que se discutirá en la sección <font color='blue'>6.13.3</font>. Con respecto a los ejes mostrados en dicha figura, se puede demostrar (ver eq. (<font color='blue'>6.83</font>)) que las componentes del esfuerzo están dadas por:\n",
    "\n",
    "$$ \\sigma_x = \\frac{2Px^2y}{\\pi(x^2+y^2)^2} \\text{ ; }  \\sigma_y = \\frac{2Py^3}{\\pi(x^2+y^2)^2} \\text{ ; } \\tau_{xy} = \\frac{2Pxy^2}{\\pi(x^2+y^2)}   $$\n",
    "\n",
    "\n",
    "<p align=\"center\">\n",
    " <img width=\"600\" height=\"350\" src=https://drive.google.com/uc?id=1eAbW9IQvkjEK50OUyBmhvbDUSsJf9wMa\n",
    ">\n",
    "</p>\n",
    "\n",
    "Se pide reescribir las componentes de esfuerzo $\\sigma_x$, $\\sigma_y$ y $\\tau_{xy}$ en función de los ejes $x'$ y $y'$.\n",
    "\n",
    "Recordemos que las fórmulas de conversión de coordenadas rectangulares a polares son $x = r .cos(\\theta)$ y $y = r .sin(\\theta)$, por lo tanto, aplicando las fórmulas anteriores se pueden reescribir las ecuaciones (<font color='blue'>2.26</font>) como:\n",
    "\n",
    "$$ \\sigma_x = \\frac{-2P.sin(\\theta)cos^2(\\theta)}{\\pi r} \\text{ ; }  \n",
    "\\sigma_y = \\frac{2P.sin^3(\\theta)}{\\pi r} \\text{ ; } \n",
    "\\tau_{xy} = \\frac{2P.sin(\\theta)cos^2(\\theta)}{\\pi r}   $$\n",
    "\n",
    "Teniendo en cuenta que los vectores unitarios que describen los ejes $x'$ y $y'$ son respectivamente $\\boldsymbol{\\hat{e}}'_1 = [cos(\\theta), sin(\\theta)]^T$ y $\\boldsymbol{\\hat{e}}'_2 = [-sin(\\theta), cos(\\theta)]^T$, podemos aplicar la ecuación (<font color='blue'>2.16</font>) y el siguiente código: "
   ]
  },
  {
   "cell_type": "code",
   "execution_count": 1,
   "metadata": {
    "id": "JWwFPKQ-cFDZ"
   },
   "outputs": [],
   "source": [
    "import sympy as sp  # Librería para cálculo simbólico.\n",
    "\n",
    "# Para imprimir bonito\n",
    "from IPython.display import Math\n",
    "sp.init_printing()                  \n",
    "def imprimir (texto, variable):\n",
    "    return Math(texto +  rf'{sp.latex(variable)}')"
   ]
  },
  {
   "cell_type": "markdown",
   "metadata": {
    "id": "ONmKfn9adYzk"
   },
   "source": [
    "Se definen las variables simbólicas necesarias. "
   ]
  },
  {
   "cell_type": "code",
   "execution_count": 2,
   "metadata": {
    "colab": {
     "base_uri": "https://localhost:8080/",
     "height": 38
    },
    "id": "BlTtQ5oXdAqS",
    "outputId": "be652dc0-0114-45ba-df0d-366f32832951"
   },
   "outputs": [
    {
     "data": {
      "image/png": "[encoded data removed]",
      "text/latex": [
       "$\\displaystyle \\left( \\sigma_{x}, \\  \\sigma_{y}, \\  \\tau_{xy}, \\  \\theta, \\  r, \\  P, \\  \\pi\\right)$"
      ],
      "text/plain": [
       "(σₓ, σ_y, τ_xy, θ, r, P, π)"
      ]
     },
     "execution_count": 2,
     "metadata": {},
     "output_type": "execute_result"
    }
   ],
   "source": [
    "sx, sy, txy = sp.symbols(\"sigma_x, sigma_y, tau_xy\")\n",
    "t, r, P, pi = sp.symbols(\"theta, r, P, pi\")\n",
    "\n",
    "sx, sy, txy, t, r, P, pi"
   ]
  },
  {
   "cell_type": "markdown",
   "metadata": {
    "id": "eUYBz63CdjAS"
   },
   "source": [
    "Se especifican las fórmulas de conversión de coordenadas rectangulares a polares, las cuales serán reemplazadas en $\\sigma_x$ (```sx```), $\\sigma_y$ (```sy```) y $\\tau_{xy}$ (```txy```)."
   ]
  },
  {
   "cell_type": "code",
   "execution_count": 3,
   "metadata": {
    "id": "sjRJjUpndh64"
   },
   "outputs": [],
   "source": [
    "x = r*sp.cos(t)\n",
    "y = r*sp.sin(t)"
   ]
  },
  {
   "cell_type": "markdown",
   "metadata": {
    "id": "S7rvpaIpd9X_"
   },
   "source": [
    "Se especifican las ecuaciones correspondientes al $\\sigma_x$ (```sx```), $\\sigma_y$ (```sy```) y $\\tau_{xy}$ (```txy```) dados en el problema, con la aplicación de simplificaciones trigonométricas mediante el comando ```trigsimp``` del paquete ```sympy```.\n",
    "\n",
    "Nota: reecuerde que MAXIMA también tiene el comando ```trigsimp```.\n",
    "\n",
    "$\\sigma_x=$"
   ]
  },
  {
   "cell_type": "code",
   "execution_count": 4,
   "metadata": {
    "id": "ly7fy_lbrwmt"
   },
   "outputs": [],
   "source": [
    "sx  = sp.trigsimp(  -(2*P*x**2*y) / (pi*(x**2 + y**2)**2) )\n",
    "sy  = sp.trigsimp(  -(2*P*y**3)   / (pi*(x**2 + y**2)**2) )\n",
    "txy = sp.trigsimp(  -(2*P*x*y**2) / (pi*(x**2 + y**2)**2) )"
   ]
  },
  {
   "cell_type": "code",
   "execution_count": 5,
   "metadata": {
    "colab": {
     "base_uri": "https://localhost:8080/",
     "height": 54
    },
    "id": "mT8ApPZ-r3-u",
    "outputId": "6dfdb80c-a0a4-4aee-870b-e26f2eb6498f"
   },
   "outputs": [
    {
     "data": {
      "text/latex": [
       "$\\displaystyle \\sigma_{x} = - \\frac{2 P \\sin{\\left(\\theta \\right)} \\cos^{2}{\\left(\\theta \\right)}}{\\pi r}$"
      ],
      "text/plain": [
       "<IPython.core.display.Math object>"
      ]
     },
     "execution_count": 5,
     "metadata": {},
     "output_type": "execute_result"
    }
   ],
   "source": [
    "imprimir(r\"\\sigma_{x} = \", sx)"
   ]
  },
  {
   "cell_type": "code",
   "execution_count": 6,
   "metadata": {
    "colab": {
     "base_uri": "https://localhost:8080/",
     "height": 55
    },
    "id": "dvRxjvatr6-E",
    "outputId": "b5434918-f80c-459a-d3d0-f036fef92e52"
   },
   "outputs": [
    {
     "data": {
      "text/latex": [
       "$\\displaystyle \\sigma_{y} = - \\frac{2 P \\sin^{3}{\\left(\\theta \\right)}}{\\pi r}$"
      ],
      "text/plain": [
       "<IPython.core.display.Math object>"
      ]
     },
     "execution_count": 6,
     "metadata": {},
     "output_type": "execute_result"
    }
   ],
   "source": [
    "imprimir(r\"\\sigma_{y} = \", sy)"
   ]
  },
  {
   "cell_type": "code",
   "execution_count": 7,
   "metadata": {
    "colab": {
     "base_uri": "https://localhost:8080/",
     "height": 55
    },
    "id": "m6PWOTQIr_Xv",
    "outputId": "6901f2f8-fd64-4519-c59d-75e4a62c2f45"
   },
   "outputs": [
    {
     "data": {
      "text/latex": [
       "$\\displaystyle \\tau_{xy} = - \\frac{2 P \\sin^{2}{\\left(\\theta \\right)} \\cos{\\left(\\theta \\right)}}{\\pi r}$"
      ],
      "text/plain": [
       "<IPython.core.display.Math object>"
      ]
     },
     "execution_count": 7,
     "metadata": {},
     "output_type": "execute_result"
    }
   ],
   "source": [
    "imprimir(r\"\\tau_{xy} = \", txy)"
   ]
  },
  {
   "cell_type": "markdown",
   "metadata": {
    "id": "ODCwPLWrfvL-"
   },
   "source": [
    "Se define la matriz de tensiones $\\underline{\\underline{\\boldsymbol{\\sigma}}}$ en dos dimensiones:"
   ]
  },
  {
   "cell_type": "code",
   "execution_count": 8,
   "metadata": {
    "colab": {
     "base_uri": "https://localhost:8080/",
     "height": 68
    },
    "id": "AeDXUUYTfqRi",
    "outputId": "285e2ef8-ea93-4bc6-a497-949689dabf73"
   },
   "outputs": [
    {
     "data": {
      "text/latex": [
       "$\\displaystyle \\underline{\\underline{\\boldsymbol{\\sigma}}} = \\left[\\begin{matrix}- \\frac{2 P \\sin{\\left(\\theta \\right)} \\cos^{2}{\\left(\\theta \\right)}}{\\pi r} & - \\frac{2 P \\sin^{2}{\\left(\\theta \\right)} \\cos{\\left(\\theta \\right)}}{\\pi r}\\\\- \\frac{2 P \\sin^{2}{\\left(\\theta \\right)} \\cos{\\left(\\theta \\right)}}{\\pi r} & - \\frac{2 P \\sin^{3}{\\left(\\theta \\right)}}{\\pi r}\\end{matrix}\\right]$"
      ],
      "text/plain": [
       "<IPython.core.display.Math object>"
      ]
     },
     "execution_count": 8,
     "metadata": {},
     "output_type": "execute_result"
    }
   ],
   "source": [
    "sigma = sp.Matrix([[sx, txy],\n",
    "                   [txy, sy]])\n",
    "imprimir(r\"\\underline{\\underline{\\boldsymbol{\\sigma}}} = \", sigma)"
   ]
  },
  {
   "cell_type": "markdown",
   "metadata": {
    "id": "gtBJku-Rgdtu"
   },
   "source": [
    "Se define la matriz de transformación $\\boldsymbol{T}$:"
   ]
  },
  {
   "cell_type": "code",
   "execution_count": 9,
   "metadata": {
    "colab": {
     "base_uri": "https://localhost:8080/",
     "height": 58
    },
    "id": "Gj7tuwnRgIEZ",
    "outputId": "4c465e18-b84e-4713-8fdd-c33ca6bfb440"
   },
   "outputs": [
    {
     "data": {
      "text/latex": [
       "$\\displaystyle \\boldsymbol{T} = \\left[\\begin{matrix}\\cos{\\left(\\theta \\right)} & - \\sin{\\left(\\theta \\right)}\\\\\\sin{\\left(\\theta \\right)} & \\cos{\\left(\\theta \\right)}\\end{matrix}\\right]$"
      ],
      "text/plain": [
       "<IPython.core.display.Math object>"
      ]
     },
     "execution_count": 9,
     "metadata": {},
     "output_type": "execute_result"
    }
   ],
   "source": [
    "T = sp.Matrix([[sp.cos(t), -sp.sin(t)],\n",
    "               [sp.sin(t),  sp.cos(t)]])\n",
    "imprimir(r\"\\boldsymbol{T} = \", T)"
   ]
  },
  {
   "cell_type": "markdown",
   "metadata": {
    "id": "uVTNHZUVgVYs"
   },
   "source": [
    "Se transforma la matriz de esfuerzos utilizando la ecuación (<font color='blue'>2.16</font>). Recuerde\n",
    "\n",
    "$$\\underline{\\underline{\\boldsymbol{\\sigma}}}' = T^T \\underline{\\underline{\\boldsymbol{\\sigma}}} T$$"
   ]
  },
  {
   "cell_type": "code",
   "execution_count": 10,
   "metadata": {
    "colab": {
     "base_uri": "https://localhost:8080/",
     "height": 61
    },
    "id": "A53EXCOsgTxJ",
    "outputId": "8f0141b5-c090-4365-cab3-fc3cbf1cdc56"
   },
   "outputs": [
    {
     "data": {
      "text/latex": [
       "$\\displaystyle \\underline{\\underline{\\boldsymbol{\\sigma}}}' = \\left[\\begin{matrix}- \\frac{2 P \\sin{\\left(\\theta \\right)}}{\\pi r} & 0\\\\0 & 0\\end{matrix}\\right]$"
      ],
      "text/plain": [
       "<IPython.core.display.Math object>"
      ]
     },
     "execution_count": 10,
     "metadata": {},
     "output_type": "execute_result"
    }
   ],
   "source": [
    "sigmaP = sp.trigsimp( sp.Transpose(T)*sigma*T)      #T.T * sigma * T\n",
    "imprimir(r\"\\underline{\\underline{\\boldsymbol{\\sigma}}}' = \", sigmaP)"
   ]
  },
  {
   "cell_type": "markdown",
   "metadata": {
    "id": "7ymJe--ng3-7"
   },
   "source": [
    "Se extraen los valores asociados a $\\sigma_x'$ (```sxp```), $\\sigma_y'$ (```syp```) y $\\tau_{x'y'}$ (```txpyp```)."
   ]
  },
  {
   "cell_type": "code",
   "execution_count": 11,
   "metadata": {
    "id": "Ilq7YZcQgw_h"
   },
   "outputs": [],
   "source": [
    "sxp   = sigmaP[0,0]\n",
    "syp   = sigmaP[1,1]\n",
    "txpyp = sigmaP[0,1]"
   ]
  },
  {
   "cell_type": "code",
   "execution_count": 12,
   "metadata": {
    "colab": {
     "base_uri": "https://localhost:8080/",
     "height": 53
    },
    "id": "jY7Z65KJtjby",
    "outputId": "1963e05a-1ee6-4c10-ce91-78aa70cba4ea"
   },
   "outputs": [
    {
     "data": {
      "text/latex": [
       "$\\displaystyle \\sigma_{x'} = - \\frac{2 P \\sin{\\left(\\theta \\right)}}{\\pi r}$"
      ],
      "text/plain": [
       "<IPython.core.display.Math object>"
      ]
     },
     "execution_count": 12,
     "metadata": {},
     "output_type": "execute_result"
    }
   ],
   "source": [
    "imprimir(r\"\\sigma_{x'} = \", sxp)"
   ]
  },
  {
   "cell_type": "code",
   "execution_count": 13,
   "metadata": {
    "colab": {
     "base_uri": "https://localhost:8080/",
     "height": 38
    },
    "id": "5gp2MZMnhIVX",
    "outputId": "49a3c3d5-ff3a-4ecf-c4bb-a97ca5a49376"
   },
   "outputs": [
    {
     "data": {
      "text/latex": [
       "$\\displaystyle \\sigma_{y'} = 0$"
      ],
      "text/plain": [
       "<IPython.core.display.Math object>"
      ]
     },
     "execution_count": 13,
     "metadata": {},
     "output_type": "execute_result"
    }
   ],
   "source": [
    "imprimir(r\"\\sigma_{y'} = \", syp)"
   ]
  },
  {
   "cell_type": "code",
   "execution_count": 14,
   "metadata": {
    "colab": {
     "base_uri": "https://localhost:8080/",
     "height": 38
    },
    "id": "kN9oWP8PhNJW",
    "outputId": "3605e307-8ee5-48fe-fbf5-8674a3cb54b9"
   },
   "outputs": [
    {
     "data": {
      "text/latex": [
       "$\\displaystyle \\tau_{x'y'} = 0$"
      ],
      "text/plain": [
       "<IPython.core.display.Math object>"
      ]
     },
     "execution_count": 14,
     "metadata": {},
     "output_type": "execute_result"
    }
   ],
   "source": [
    "imprimir(r\"\\tau_{x'y'} = \", txpyp)"
   ]
  },
  {
   "cell_type": "markdown",
   "metadata": {
    "id": "qfq5_Y5rNWRQ"
   },
   "source": [
    "Observe que, al transformar los esfuerzos al sistema de coordenadas expresado por los ejes $x'$ y $y'$ se simplifica notablemente las ecuaciones, por lo que es preferible trabajar con esta última formulación. Finalmente, note que cuando $r \\rightarrow 0$ el esfuerzo tiende a infinito, lo cual no es físicamente posible. En la realidad lo que pasaría es que existiría fluencia en el material alrededor de la carga puntual; sin embargo, los esfuerzos alejados de dicha carga puntual sí se podrían estimar por las ecuaciones anteriores, en virtud del *Principio de Saint-Venant* que veremos en la sección <font color='blue'>5.12</font>."
   ]
  }
 ],
 "metadata": {
  "colab": {
   "authorship_tag": "ABX9TyOtMLop03Lj+xLMlqsAmpEu",
   "include_colab_link": true,
   "provenance": []
  },
  "kernelspec": {
   "display_name": "Python 3",
   "language": "python",
   "name": "python3"
  },
  "language_info": {
   "codemirror_mode": {
    "name": "ipython",
    "version": 3
   },
   "file_extension": ".py",
   "mimetype": "text/x-python",
   "name": "python",
   "nbconvert_exporter": "python",
   "pygments_lexer": "ipython3",
   "version": "3.8.8"
  }
 },
 "nbformat": 4,
 "nbformat_minor": 1
}
