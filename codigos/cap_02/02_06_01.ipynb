{
  "nbformat": 4,
  "nbformat_minor": 0,
  "metadata": {
    "colab": {
      "name": "02_06_01.ipynb",
      "provenance": [],
      "collapsed_sections": [],
      "authorship_tag": "ABX9TyPlDTLeOncPItJkjsXJWtdy",
      "include_colab_link": true
    },
    "kernelspec": {
      "name": "python3",
      "display_name": "Python 3"
    },
    "language_info": {
      "name": "python"
    }
  },
  "cells": [
    {
      "cell_type": "markdown",
      "metadata": {
        "id": "view-in-github",
        "colab_type": "text"
      },
      "source": [
        "<a href=\"https://colab.research.google.com/github/michaelherediaperez/mecanica_de_solidos_un/blob/main/codigos/cap_02/02_06_01.ipynb\" target=\"_parent\"><img src=\"https://colab.research.google.com/assets/colab-badge.svg\" alt=\"Open In Colab\"/></a>"
      ]
    },
    {
      "cell_type": "markdown",
      "source": [
        "# 2.6.1. Particularización de la matriz de tensiones al caso tridimensional\n",
        "\n",
        "|Quién | Fecha | Qué hizo |\n",
        "| ---  | ---   | ---      |\n",
        "|Michael Heredia Pérez, <mherediap@unal.edu.co> | Julio 13, 2022 | Conversión de código de MAXIMA a Python|"
      ],
      "metadata": {
        "id": "UyAhKeEIsEqh"
      }
    },
    {
      "cell_type": "code",
      "execution_count": 2,
      "metadata": {
        "id": "API5h85VrvWX"
      },
      "outputs": [],
      "source": [
        "import sympy as sp  # Librería para cálculo simbólico.\n",
        "\n",
        "# Para imprimir bonito.\n",
        "sp.init_printing() "
      ]
    },
    {
      "cell_type": "markdown",
      "source": [
        "Se definen las variables simbólicas necesarias. Se emplea la notación de $\\LaTeX$"
      ],
      "metadata": {
        "id": "L66opn_C5Tr_"
      }
    },
    {
      "cell_type": "code",
      "source": [
        "sx, sy, sz    = sp.symbols(r\"\\sigma_x, \\sigma_y, \\sigma_z\")\n",
        "txy, txz, tyz = sp.symbols(r\"\\tau_{xy}, \\tau_{xz}, \\tau_{yz}\")\n",
        "\n",
        "a1, a2, a3 = sp.symbols(r\"\\alpha_1, \\alpha_2, \\alpha_3\")\n",
        "b1, b2, b3 = sp.symbols(r\"\\beta_1, \\beta_2, \\beta_3\")\n",
        "g1, g2, g3 = sp.symbols(r\"\\gamma_1, \\gamma_2, \\gamma_3\")"
      ],
      "metadata": {
        "id": "S7-I1WarsUgw"
      },
      "execution_count": 3,
      "outputs": []
    },
    {
      "cell_type": "markdown",
      "source": [
        "Se define la matriz de tensiones en coordenadas rectagnulares: $\\sigma$"
      ],
      "metadata": {
        "id": "gUyQP-4l5Z5y"
      }
    },
    {
      "cell_type": "code",
      "source": [
        "sigma = sp.Matrix([ [sx, txy, txz],\n",
        "                    [txy, sy, tyz],\n",
        "                    [txz, tyz, sz] ])\n",
        "sigma"
      ],
      "metadata": {
        "colab": {
          "base_uri": "https://localhost:8080/",
          "height": 78
        },
        "id": "GOVDxdkOtb4j",
        "outputId": "6797dfe5-04a4-49f7-e0f8-d7533c5acad1"
      },
      "execution_count": 4,
      "outputs": [
        {
          "output_type": "execute_result",
          "data": {
            "text/plain": [
              "⎡ \\sigmaₓ   \\tau_{xy}  \\tau_{xz}⎤\n",
              "⎢                               ⎥\n",
              "⎢\\tau_{xy}  \\sigma_y   \\tau_{yz}⎥\n",
              "⎢                               ⎥\n",
              "⎣\\tau_{xz}  \\tau_{yz}  \\sigma_z ⎦"
            ],
            "text/latex": "$\\displaystyle \\left[\\begin{matrix}\\sigma_{x} & \\tau_{xy} & \\tau_{xz}\\\\\\tau_{xy} & \\sigma_{y} & \\tau_{yz}\\\\\\tau_{xz} & \\tau_{yz} & \\sigma_{z}\\end{matrix}\\right]$"
          },
          "metadata": {},
          "execution_count": 4
        }
      ]
    },
    {
      "cell_type": "markdown",
      "source": [
        "Se define la matriz de transformación: $T$"
      ],
      "metadata": {
        "id": "vLtLDIWz5q_9"
      }
    },
    {
      "cell_type": "code",
      "source": [
        "T = sp.Matrix([ [a1, a2, a3],     \n",
        "                [b1, b2, b3],      \n",
        "                [g1, g2, g3] ])\n",
        "\n",
        "T"
      ],
      "metadata": {
        "colab": {
          "base_uri": "https://localhost:8080/",
          "height": 78
        },
        "id": "I5V1Uk_Rub9O",
        "outputId": "d5eb666d-03c7-4370-c227-744bc25d53a2"
      },
      "execution_count": 5,
      "outputs": [
        {
          "output_type": "execute_result",
          "data": {
            "text/plain": [
              "⎡\\alpha₁  \\alpha₂  \\alpha₃⎤\n",
              "⎢                         ⎥\n",
              "⎢\\beta₁   \\beta₂   \\beta₃ ⎥\n",
              "⎢                         ⎥\n",
              "⎣\\gamma₁  \\gamma₂  \\gamma₃⎦"
            ],
            "text/latex": "$\\displaystyle \\left[\\begin{matrix}\\alpha_{1} & \\alpha_{2} & \\alpha_{3}\\\\\\beta_{1} & \\beta_{2} & \\beta_{3}\\\\\\gamma_{1} & \\gamma_{2} & \\gamma_{3}\\end{matrix}\\right]$"
          },
          "metadata": {},
          "execution_count": 5
        }
      ]
    },
    {
      "cell_type": "markdown",
      "source": [
        "Se calcula la matriz de tensiones $\\sigma'$ en el sistema de coordenadas especificadas por los vectores definidos en la matriz $T$. Recuerde $\\sigma' = T^\\intercal.\\sigma.T$"
      ],
      "metadata": {
        "id": "9du7Qzz07wKz"
      }
    },
    {
      "cell_type": "code",
      "source": [
        "sigmaP = sp.Transpose(T)*sigma*T        # Eq. (2.18 del main)"
      ],
      "metadata": {
        "id": "YLhi9ppBu7h8"
      },
      "execution_count": 6,
      "outputs": []
    },
    {
      "cell_type": "markdown",
      "source": [
        "Se extraen los términos de la matriz de tensiones $\\sigma'$:\n",
        "\n",
        "$\\sigma_x' = $ "
      ],
      "metadata": {
        "id": "wI_VbHIb8NMn"
      }
    },
    {
      "cell_type": "code",
      "source": [
        "sxp = sp.factor( sigmaP[0,0] )  # elemento 1,1 de la matriz sigmaP\n",
        "sxp"
      ],
      "metadata": {
        "colab": {
          "base_uri": "https://localhost:8080/",
          "height": 38
        },
        "id": "WGpqR1I17g73",
        "outputId": "d9080cec-2986-4e6f-de46-286ebf136954"
      },
      "execution_count": 7,
      "outputs": [
        {
          "output_type": "execute_result",
          "data": {
            "text/plain": [
              "       2                                                                      \n",
              "\\alpha₁ ⋅\\sigmaₓ + 2⋅\\alpha₁⋅\\beta₁⋅\\tau_{xy} + 2⋅\\alpha₁⋅\\gamma₁⋅\\tau_{xz} + \n",
              "\n",
              "      2                                                2         \n",
              "\\beta₁ ⋅\\sigma_y + 2⋅\\beta₁⋅\\gamma₁⋅\\tau_{yz} + \\gamma₁ ⋅\\sigma_z"
            ],
            "image/png": "[encoded data removed]",
            "text/latex": "$\\displaystyle \\alpha_{1}^{2} \\sigma_{x} + 2 \\alpha_{1} \\beta_{1} \\tau_{xy} + 2 \\alpha_{1} \\gamma_{1} \\tau_{xz} + \\beta_{1}^{2} \\sigma_{y} + 2 \\beta_{1} \\gamma_{1} \\tau_{yz} + \\gamma_{1}^{2} \\sigma_{z}$"
          },
          "metadata": {},
          "execution_count": 7
        }
      ]
    },
    {
      "cell_type": "markdown",
      "source": [
        "$\\sigma_y' = $"
      ],
      "metadata": {
        "id": "10pFTDh38mlV"
      }
    },
    {
      "cell_type": "code",
      "source": [
        "syp = sp.factor( sigmaP[1,1] )\n",
        "syp"
      ],
      "metadata": {
        "colab": {
          "base_uri": "https://localhost:8080/",
          "height": 38
        },
        "id": "v5kQGVxR8hI0",
        "outputId": "ac4bab93-ac4e-4c8b-cd60-bfbdf23b3cf7"
      },
      "execution_count": 8,
      "outputs": [
        {
          "output_type": "execute_result",
          "data": {
            "text/plain": [
              "       2                                                                      \n",
              "\\alpha₂ ⋅\\sigmaₓ + 2⋅\\alpha₂⋅\\beta₂⋅\\tau_{xy} + 2⋅\\alpha₂⋅\\gamma₂⋅\\tau_{xz} + \n",
              "\n",
              "      2                                                2         \n",
              "\\beta₂ ⋅\\sigma_y + 2⋅\\beta₂⋅\\gamma₂⋅\\tau_{yz} + \\gamma₂ ⋅\\sigma_z"
            ],
            "image/png": "[encoded data removed]",
            "text/latex": "$\\displaystyle \\alpha_{2}^{2} \\sigma_{x} + 2 \\alpha_{2} \\beta_{2} \\tau_{xy} + 2 \\alpha_{2} \\gamma_{2} \\tau_{xz} + \\beta_{2}^{2} \\sigma_{y} + 2 \\beta_{2} \\gamma_{2} \\tau_{yz} + \\gamma_{2}^{2} \\sigma_{z}$"
          },
          "metadata": {},
          "execution_count": 8
        }
      ]
    },
    {
      "cell_type": "markdown",
      "source": [
        "$\\sigma_z' = $"
      ],
      "metadata": {
        "id": "w1YT-wyn8sID"
      }
    },
    {
      "cell_type": "code",
      "source": [
        "szp = sp.factor( sigmaP[2,2] )\n",
        "szp"
      ],
      "metadata": {
        "colab": {
          "base_uri": "https://localhost:8080/",
          "height": 38
        },
        "id": "k_7k9Lsq8lYS",
        "outputId": "147beb90-da1b-459f-da24-ed6b17c07301"
      },
      "execution_count": 9,
      "outputs": [
        {
          "output_type": "execute_result",
          "data": {
            "text/plain": [
              "       2                                                                      \n",
              "\\alpha₃ ⋅\\sigmaₓ + 2⋅\\alpha₃⋅\\beta₃⋅\\tau_{xy} + 2⋅\\alpha₃⋅\\gamma₃⋅\\tau_{xz} + \n",
              "\n",
              "      2                                                2         \n",
              "\\beta₃ ⋅\\sigma_y + 2⋅\\beta₃⋅\\gamma₃⋅\\tau_{yz} + \\gamma₃ ⋅\\sigma_z"
            ],
            "image/png": "[encoded data removed]",
            "text/latex": "$\\displaystyle \\alpha_{3}^{2} \\sigma_{x} + 2 \\alpha_{3} \\beta_{3} \\tau_{xy} + 2 \\alpha_{3} \\gamma_{3} \\tau_{xz} + \\beta_{3}^{2} \\sigma_{y} + 2 \\beta_{3} \\gamma_{3} \\tau_{yz} + \\gamma_{3}^{2} \\sigma_{z}$"
          },
          "metadata": {},
          "execution_count": 9
        }
      ]
    },
    {
      "cell_type": "markdown",
      "source": [
        "$\\tau_{y'z'} = $"
      ],
      "metadata": {
        "id": "s7hcnoO18xdN"
      }
    },
    {
      "cell_type": "code",
      "source": [
        "typzp = sp.factor( sigmaP[1,2] )   # elemento 2,3 de la matriz sigmaP\n",
        "typzp"
      ],
      "metadata": {
        "colab": {
          "base_uri": "https://localhost:8080/",
          "height": 38
        },
        "id": "l0jw3HCf8whj",
        "outputId": "94ff1bfa-6050-43a7-be31-63752b30490a"
      },
      "execution_count": 10,
      "outputs": [
        {
          "output_type": "execute_result",
          "data": {
            "text/plain": [
              "\\alpha₂⋅\\alpha₃⋅\\sigmaₓ + \\alpha₂⋅\\beta₃⋅\\tau_{xy} + \\alpha₂⋅\\gamma₃⋅\\tau_{xz}\n",
              " + \\alpha₃⋅\\beta₂⋅\\tau_{xy} + \\alpha₃⋅\\gamma₂⋅\\tau_{xz} + \\beta₂⋅\\beta₃⋅\\sigma\n",
              "_y + \\beta₂⋅\\gamma₃⋅\\tau_{yz} + \\beta₃⋅\\gamma₂⋅\\tau_{yz} + \\gamma₂⋅\\gamma₃⋅\\si\n",
              "gma_z"
            ],
            "image/png": "[encoded data removed]",
            "text/latex": "$\\displaystyle \\alpha_{2} \\alpha_{3} \\sigma_{x} + \\alpha_{2} \\beta_{3} \\tau_{xy} + \\alpha_{2} \\gamma_{3} \\tau_{xz} + \\alpha_{3} \\beta_{2} \\tau_{xy} + \\alpha_{3} \\gamma_{2} \\tau_{xz} + \\beta_{2} \\beta_{3} \\sigma_{y} + \\beta_{2} \\gamma_{3} \\tau_{yz} + \\beta_{3} \\gamma_{2} \\tau_{yz} + \\gamma_{2} \\gamma_{3} \\sigma_{z}$"
          },
          "metadata": {},
          "execution_count": 10
        }
      ]
    },
    {
      "cell_type": "markdown",
      "source": [
        "$\\tau_{x'z'} = $"
      ],
      "metadata": {
        "id": "xgwALI5M85co"
      }
    },
    {
      "cell_type": "code",
      "source": [
        "txpzp = sp.factor( sigmaP[0,2] )   # elemento 1,3 de la matriz sigmaP \n",
        "txpzp "
      ],
      "metadata": {
        "colab": {
          "base_uri": "https://localhost:8080/",
          "height": 38
        },
        "id": "zbFlhU_284ns",
        "outputId": "9acf5f00-6e59-460e-9f81-7790f3484dcb"
      },
      "execution_count": 11,
      "outputs": [
        {
          "output_type": "execute_result",
          "data": {
            "text/plain": [
              "\\alpha₁⋅\\alpha₃⋅\\sigmaₓ + \\alpha₁⋅\\beta₃⋅\\tau_{xy} + \\alpha₁⋅\\gamma₃⋅\\tau_{xz}\n",
              " + \\alpha₃⋅\\beta₁⋅\\tau_{xy} + \\alpha₃⋅\\gamma₁⋅\\tau_{xz} + \\beta₁⋅\\beta₃⋅\\sigma\n",
              "_y + \\beta₁⋅\\gamma₃⋅\\tau_{yz} + \\beta₃⋅\\gamma₁⋅\\tau_{yz} + \\gamma₁⋅\\gamma₃⋅\\si\n",
              "gma_z"
            ],
            "image/png": "[encoded data removed]",
            "text/latex": "$\\displaystyle \\alpha_{1} \\alpha_{3} \\sigma_{x} + \\alpha_{1} \\beta_{3} \\tau_{xy} + \\alpha_{1} \\gamma_{3} \\tau_{xz} + \\alpha_{3} \\beta_{1} \\tau_{xy} + \\alpha_{3} \\gamma_{1} \\tau_{xz} + \\beta_{1} \\beta_{3} \\sigma_{y} + \\beta_{1} \\gamma_{3} \\tau_{yz} + \\beta_{3} \\gamma_{1} \\tau_{yz} + \\gamma_{1} \\gamma_{3} \\sigma_{z}$"
          },
          "metadata": {},
          "execution_count": 11
        }
      ]
    },
    {
      "cell_type": "markdown",
      "source": [
        "$\\tau_{x'y'}=$"
      ],
      "metadata": {
        "id": "FoKC5l4q9DTt"
      }
    },
    {
      "cell_type": "code",
      "source": [
        "txpyp = sp.factor( sigmaP[0,1] )   # elemento 1,2 de la matriz sigmaP \n",
        "txpyp"
      ],
      "metadata": {
        "colab": {
          "base_uri": "https://localhost:8080/",
          "height": 38
        },
        "id": "m96ELksP9BzD",
        "outputId": "711996dc-1cb6-44ae-99bd-eb0335aca1fd"
      },
      "execution_count": 12,
      "outputs": [
        {
          "output_type": "execute_result",
          "data": {
            "text/plain": [
              "\\alpha₁⋅\\alpha₂⋅\\sigmaₓ + \\alpha₁⋅\\beta₂⋅\\tau_{xy} + \\alpha₁⋅\\gamma₂⋅\\tau_{xz}\n",
              " + \\alpha₂⋅\\beta₁⋅\\tau_{xy} + \\alpha₂⋅\\gamma₁⋅\\tau_{xz} + \\beta₁⋅\\beta₂⋅\\sigma\n",
              "_y + \\beta₁⋅\\gamma₂⋅\\tau_{yz} + \\beta₂⋅\\gamma₁⋅\\tau_{yz} + \\gamma₁⋅\\gamma₂⋅\\si\n",
              "gma_z"
            ],
            "image/png": "[encoded data removed]",
            "text/latex": "$\\displaystyle \\alpha_{1} \\alpha_{2} \\sigma_{x} + \\alpha_{1} \\beta_{2} \\tau_{xy} + \\alpha_{1} \\gamma_{2} \\tau_{xz} + \\alpha_{2} \\beta_{1} \\tau_{xy} + \\alpha_{2} \\gamma_{1} \\tau_{xz} + \\beta_{1} \\beta_{2} \\sigma_{y} + \\beta_{1} \\gamma_{2} \\tau_{yz} + \\beta_{2} \\gamma_{1} \\tau_{yz} + \\gamma_{1} \\gamma_{2} \\sigma_{z}$"
          },
          "metadata": {},
          "execution_count": 12
        }
      ]
    },
    {
      "cell_type": "markdown",
      "source": [
        "Las ecuaciones anteriores pueden expresarse de forma matricial, como $\\underline{\\sigma'}=\\underline{\\underline{T_{\\sigma}}}\\underline{\\sigma}$\n",
        "\n",
        "$\\underline{\\underline{T_{\\sigma}}} = $"
      ],
      "metadata": {
        "id": "4m9kyexVBjVN"
      }
    },
    {
      "cell_type": "code",
      "source": [
        "sp.linear_eq_to_matrix([sxp, syp, szp, typzp, txpzp, txpyp ], (sx, sy, sz, tyz, txz, txy))[0]"
      ],
      "metadata": {
        "colab": {
          "base_uri": "https://localhost:8080/",
          "height": 139
        },
        "id": "w_L98PIEBriY",
        "outputId": "692b3088-a690-4d81-f6ca-c3b6a925a2de"
      },
      "execution_count": 13,
      "outputs": [
        {
          "output_type": "execute_result",
          "data": {
            "text/plain": [
              "⎡          2               2               2                                  \n",
              "⎢   \\alpha₁          \\beta₁         \\gamma₁              2⋅\\beta₁⋅\\gamma₁     \n",
              "⎢                                                                             \n",
              "⎢          2               2               2                                  \n",
              "⎢   \\alpha₂          \\beta₂         \\gamma₂              2⋅\\beta₂⋅\\gamma₂     \n",
              "⎢                                                                             \n",
              "⎢          2               2               2                                  \n",
              "⎢   \\alpha₃          \\beta₃         \\gamma₃              2⋅\\beta₃⋅\\gamma₃     \n",
              "⎢                                                                             \n",
              "⎢\\alpha₂⋅\\alpha₃  \\beta₂⋅\\beta₃  \\gamma₂⋅\\gamma₃  \\beta₂⋅\\gamma₃ + \\beta₃⋅\\gam\n",
              "⎢                                                                             \n",
              "⎢\\alpha₁⋅\\alpha₃  \\beta₁⋅\\beta₃  \\gamma₁⋅\\gamma₃  \\beta₁⋅\\gamma₃ + \\beta₃⋅\\gam\n",
              "⎢                                                                             \n",
              "⎣\\alpha₁⋅\\alpha₂  \\beta₁⋅\\beta₂  \\gamma₁⋅\\gamma₂  \\beta₁⋅\\gamma₂ + \\beta₂⋅\\gam\n",
              "\n",
              "                                                                       ⎤\n",
              "             2⋅\\alpha₁⋅\\gamma₁                 2⋅\\alpha₁⋅\\beta₁        ⎥\n",
              "                                                                       ⎥\n",
              "                                                                       ⎥\n",
              "             2⋅\\alpha₂⋅\\gamma₂                 2⋅\\alpha₂⋅\\beta₂        ⎥\n",
              "                                                                       ⎥\n",
              "                                                                       ⎥\n",
              "             2⋅\\alpha₃⋅\\gamma₃                 2⋅\\alpha₃⋅\\beta₃        ⎥\n",
              "                                                                       ⎥\n",
              "ma₂  \\alpha₂⋅\\gamma₃ + \\alpha₃⋅\\gamma₂  \\alpha₂⋅\\beta₃ + \\alpha₃⋅\\beta₂⎥\n",
              "                                                                       ⎥\n",
              "ma₁  \\alpha₁⋅\\gamma₃ + \\alpha₃⋅\\gamma₁  \\alpha₁⋅\\beta₃ + \\alpha₃⋅\\beta₁⎥\n",
              "                                                                       ⎥\n",
              "ma₁  \\alpha₁⋅\\gamma₂ + \\alpha₂⋅\\gamma₁  \\alpha₁⋅\\beta₂ + \\alpha₂⋅\\beta₁⎦"
            ],
            "text/latex": "$\\displaystyle \\left[\\begin{matrix}\\alpha_{1}^{2} & \\beta_{1}^{2} & \\gamma_{1}^{2} & 2 \\beta_{1} \\gamma_{1} & 2 \\alpha_{1} \\gamma_{1} & 2 \\alpha_{1} \\beta_{1}\\\\\\alpha_{2}^{2} & \\beta_{2}^{2} & \\gamma_{2}^{2} & 2 \\beta_{2} \\gamma_{2} & 2 \\alpha_{2} \\gamma_{2} & 2 \\alpha_{2} \\beta_{2}\\\\\\alpha_{3}^{2} & \\beta_{3}^{2} & \\gamma_{3}^{2} & 2 \\beta_{3} \\gamma_{3} & 2 \\alpha_{3} \\gamma_{3} & 2 \\alpha_{3} \\beta_{3}\\\\\\alpha_{2} \\alpha_{3} & \\beta_{2} \\beta_{3} & \\gamma_{2} \\gamma_{3} & \\beta_{2} \\gamma_{3} + \\beta_{3} \\gamma_{2} & \\alpha_{2} \\gamma_{3} + \\alpha_{3} \\gamma_{2} & \\alpha_{2} \\beta_{3} + \\alpha_{3} \\beta_{2}\\\\\\alpha_{1} \\alpha_{3} & \\beta_{1} \\beta_{3} & \\gamma_{1} \\gamma_{3} & \\beta_{1} \\gamma_{3} + \\beta_{3} \\gamma_{1} & \\alpha_{1} \\gamma_{3} + \\alpha_{3} \\gamma_{1} & \\alpha_{1} \\beta_{3} + \\alpha_{3} \\beta_{1}\\\\\\alpha_{1} \\alpha_{2} & \\beta_{1} \\beta_{2} & \\gamma_{1} \\gamma_{2} & \\beta_{1} \\gamma_{2} + \\beta_{2} \\gamma_{1} & \\alpha_{1} \\gamma_{2} + \\alpha_{2} \\gamma_{1} & \\alpha_{1} \\beta_{2} + \\alpha_{2} \\beta_{1}\\end{matrix}\\right]$"
          },
          "metadata": {},
          "execution_count": 13
        }
      ]
    }
  ]
}