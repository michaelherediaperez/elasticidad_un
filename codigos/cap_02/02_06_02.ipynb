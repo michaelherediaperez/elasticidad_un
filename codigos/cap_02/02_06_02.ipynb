{
  "nbformat": 4,
  "nbformat_minor": 0,
  "metadata": {
    "colab": {
      "name": "02_06_02.ipynb",
      "provenance": [],
      "authorship_tag": "ABX9TyPflGfKx5oUdZxq4iEJUPpb",
      "include_colab_link": true
    },
    "kernelspec": {
      "name": "python3",
      "display_name": "Python 3"
    },
    "language_info": {
      "name": "python"
    }
  },
  "cells": [
    {
      "cell_type": "markdown",
      "metadata": {
        "id": "view-in-github",
        "colab_type": "text"
      },
      "source": [
        "<a href=\"https://colab.research.google.com/github/michaelherediaperez/mecanica_de_solidos_un/blob/main/codigos/cap_02/02_06_02.ipynb\" target=\"_parent\"><img src=\"https://colab.research.google.com/assets/colab-badge.svg\" alt=\"Open In Colab\"/></a>"
      ]
    },
    {
      "cell_type": "markdown",
      "source": [
        "# 2.6.2. Particularización de la matriz de tensiones al caso bidimensional\n",
        "\n",
        "|Quién | Fecha | Qué hizo |\n",
        "| ---  | ---   | ---      |\n",
        "|Michael Heredia Pérez, <mherediap@unal.edu.co> | Julio 13, 2022 | Conversión de código de MAXIMA a Python|"
      ],
      "metadata": {
        "id": "NAoS6ednVeVF"
      }
    },
    {
      "cell_type": "code",
      "execution_count": 1,
      "metadata": {
        "id": "NqmgovsLVSru"
      },
      "outputs": [],
      "source": [
        "import sympy as sp  # Librería para cálculo simbólico.\n",
        "\n",
        "# Para imprimir bonito.\n",
        "sp.init_printing() "
      ]
    },
    {
      "cell_type": "markdown",
      "source": [
        "Se definen las variables simbólicas necesarias. Se emplea la notación de $\\LaTeX$"
      ],
      "metadata": {
        "id": "lw_gSrDMVm_E"
      }
    },
    {
      "cell_type": "code",
      "source": [
        "sx, sy, txy    = sp.symbols(r\"\\sigma_x, \\sigma_y, \\tau_{xy}\")\n",
        "t = sp.Symbol(r\"\\theta\")"
      ],
      "metadata": {
        "id": "39gUJGhAVlSZ"
      },
      "execution_count": 2,
      "outputs": []
    },
    {
      "cell_type": "markdown",
      "source": [
        "Se define la matriz de transformación: $T$"
      ],
      "metadata": {
        "id": "ymtFOkhGV-gC"
      }
    },
    {
      "cell_type": "code",
      "source": [
        "T = sp.Matrix([ [sp.cos(t), -sp.sin(t), 0],\n",
        "                [sp.sin(t), sp.cos(t),  0],\n",
        "                [0,         0,          0] ])\n",
        "T"
      ],
      "metadata": {
        "colab": {
          "base_uri": "https://localhost:8080/",
          "height": 78
        },
        "id": "SrWOcBWeV9QC",
        "outputId": "bb048468-00f9-495e-cfdb-93f6f9df7801"
      },
      "execution_count": 3,
      "outputs": [
        {
          "output_type": "execute_result",
          "data": {
            "text/plain": [
              "⎡cos(\\theta)  -sin(\\theta)  0⎤\n",
              "⎢                            ⎥\n",
              "⎢sin(\\theta)  cos(\\theta)   0⎥\n",
              "⎢                            ⎥\n",
              "⎣     0            0        0⎦"
            ],
            "text/latex": "$\\displaystyle \\left[\\begin{matrix}\\cos{\\left(\\theta \\right)} & - \\sin{\\left(\\theta \\right)} & 0\\\\\\sin{\\left(\\theta \\right)} & \\cos{\\left(\\theta \\right)} & 0\\\\0 & 0 & 0\\end{matrix}\\right]$"
          },
          "metadata": {},
          "execution_count": 3
        }
      ]
    },
    {
      "cell_type": "markdown",
      "source": [
        "Se define la matriz de tensiones en coordenadas rectangulares: $\\sigma$"
      ],
      "metadata": {
        "id": "htL68YaKYbje"
      }
    },
    {
      "cell_type": "code",
      "source": [
        "sigma = sp.Matrix([ [sx, txy, 0],\n",
        "                    [txy, sy, 0],\n",
        "                    [0, 0, 0] ])\n",
        "sigma"
      ],
      "metadata": {
        "colab": {
          "base_uri": "https://localhost:8080/",
          "height": 78
        },
        "id": "xNJkvFn5YQcb",
        "outputId": "99539879-103c-4327-c159-a30716a47ed0"
      },
      "execution_count": 4,
      "outputs": [
        {
          "output_type": "execute_result",
          "data": {
            "text/plain": [
              "⎡ \\sigmaₓ   \\tau_{xy}  0⎤\n",
              "⎢                       ⎥\n",
              "⎢\\tau_{xy}  \\sigma_y   0⎥\n",
              "⎢                       ⎥\n",
              "⎣    0          0      0⎦"
            ],
            "text/latex": "$\\displaystyle \\left[\\begin{matrix}\\sigma_{x} & \\tau_{xy} & 0\\\\\\tau_{xy} & \\sigma_{y} & 0\\\\0 & 0 & 0\\end{matrix}\\right]$"
          },
          "metadata": {},
          "execution_count": 4
        }
      ]
    },
    {
      "cell_type": "markdown",
      "source": [
        "Se calcula la matriz de tensiones $\\sigma'$ en el sistema de coordenadas especificado por los vectores definitos en la matriz T. Recuerde $\\sigma' = T^\\intercal.\\sigma.T$"
      ],
      "metadata": {
        "id": "2bAWBKBSYxv9"
      }
    },
    {
      "cell_type": "code",
      "source": [
        "sigmaP = sp.Transpose(T)*sigma*T        # Eq. (2.18 del main)"
      ],
      "metadata": {
        "id": "Qq6EL7jfZIFY"
      },
      "execution_count": 5,
      "outputs": []
    },
    {
      "cell_type": "markdown",
      "source": [
        "No contamos con la función ```trigreduce``` de MAXIMA, pero podemos llegar a un resultado similar, poco simplificado"
      ],
      "metadata": {
        "id": "wHf---nubOI4"
      }
    },
    {
      "cell_type": "code",
      "source": [
        "# Internamente se reduce la expresión trigonométrica.\n",
        "sigmaP = sp.trigsimp(sigmaP)"
      ],
      "metadata": {
        "id": "Jv6jXNc_bM23"
      },
      "execution_count": 6,
      "outputs": []
    },
    {
      "cell_type": "markdown",
      "source": [
        "Se extraen los términos de la matriz de tensiones: $\\sigma'$\n",
        "\n",
        "$\\sigma_x'(\\theta) = $"
      ],
      "metadata": {
        "id": "MQ6FMqXYZOtE"
      }
    },
    {
      "cell_type": "code",
      "source": [
        "sxp = sp.cancel(sigmaP[0,0])\n",
        "sxp"
      ],
      "metadata": {
        "colab": {
          "base_uri": "https://localhost:8080/",
          "height": 53
        },
        "id": "1Ag7fKGiZRM3",
        "outputId": "b03be5b5-4732-4c28-854a-9101514745e3"
      },
      "execution_count": 7,
      "outputs": [
        {
          "output_type": "execute_result",
          "data": {
            "text/plain": [
              "\\sigmaₓ⋅cos(2⋅\\theta)   \\sigmaₓ   \\sigma_y⋅cos(2⋅\\theta)   \\sigma_y           \n",
              "───────────────────── + ─────── - ────────────────────── + ──────── + \\tau_{xy\n",
              "          2                2                2                 2               \n",
              "\n",
              "               \n",
              "}⋅sin(2⋅\\theta)\n",
              "               "
            ],
            "image/png": "[encoded data removed]",
            "text/latex": "$\\displaystyle \\frac{\\sigma_{x} \\cos{\\left(2 \\theta \\right)}}{2} + \\frac{\\sigma_{x}}{2} - \\frac{\\sigma_{y} \\cos{\\left(2 \\theta \\right)}}{2} + \\frac{\\sigma_{y}}{2} + \\tau_{xy} \\sin{\\left(2 \\theta \\right)}$"
          },
          "metadata": {},
          "execution_count": 7
        }
      ]
    },
    {
      "cell_type": "markdown",
      "source": [
        "$\\sigma_y'(\\theta) = $"
      ],
      "metadata": {
        "id": "RtzXgpRwbD3J"
      }
    },
    {
      "cell_type": "code",
      "source": [
        "syp = sp.cancel(sigmaP[1,1])\n",
        "syp "
      ],
      "metadata": {
        "colab": {
          "base_uri": "https://localhost:8080/",
          "height": 53
        },
        "id": "WEZUAe89Zdcy",
        "outputId": "42aa54cf-1b69-4a65-dfa6-422b586f3b71"
      },
      "execution_count": 8,
      "outputs": [
        {
          "output_type": "execute_result",
          "data": {
            "text/plain": [
              "  \\sigmaₓ⋅cos(2⋅\\theta)   \\sigmaₓ   \\sigma_y⋅cos(2⋅\\theta)   \\sigma_y         \n",
              "- ───────────────────── + ─────── + ────────────────────── + ──────── - \\tau_{\n",
              "            2                2                2                 2             \n",
              "\n",
              "                 \n",
              "xy}⋅sin(2⋅\\theta)\n",
              "                 "
            ],
            "image/png": "[encoded data removed]",
            "text/latex": "$\\displaystyle - \\frac{\\sigma_{x} \\cos{\\left(2 \\theta \\right)}}{2} + \\frac{\\sigma_{x}}{2} + \\frac{\\sigma_{y} \\cos{\\left(2 \\theta \\right)}}{2} + \\frac{\\sigma_{y}}{2} - \\tau_{xy} \\sin{\\left(2 \\theta \\right)}$"
          },
          "metadata": {},
          "execution_count": 8
        }
      ]
    },
    {
      "cell_type": "markdown",
      "source": [
        "$\\tau_{x'y'}(\\theta) = $"
      ],
      "metadata": {
        "id": "5YVX681xbZns"
      }
    },
    {
      "cell_type": "code",
      "source": [
        "txpyp = sp.cancel(sigmaP[0,1])\n",
        "txpyp"
      ],
      "metadata": {
        "colab": {
          "base_uri": "https://localhost:8080/",
          "height": 53
        },
        "id": "sShOVB_rbHWk",
        "outputId": "9b3b27e8-9c03-4dcb-d7ba-07338962c894"
      },
      "execution_count": 9,
      "outputs": [
        {
          "output_type": "execute_result",
          "data": {
            "text/plain": [
              "  \\sigmaₓ⋅sin(2⋅\\theta)   \\sigma_y⋅sin(2⋅\\theta)                          \n",
              "- ───────────────────── + ────────────────────── + \\tau_{xy}⋅cos(2⋅\\theta)\n",
              "            2                       2                                     "
            ],
            "image/png": "[encoded data removed]",
            "text/latex": "$\\displaystyle - \\frac{\\sigma_{x} \\sin{\\left(2 \\theta \\right)}}{2} + \\frac{\\sigma_{y} \\sin{\\left(2 \\theta \\right)}}{2} + \\tau_{xy} \\cos{\\left(2 \\theta \\right)}$"
          },
          "metadata": {},
          "execution_count": 9
        }
      ]
    },
    {
      "cell_type": "markdown",
      "source": [
        "Las ecuaciones anteriores pueden expresarse en un sistema matricial $\\underline{\\sigma}_{2D} = \\underline{\\underline{T_{\\sigma, 2D}}}\\underline{\\sigma, 2D}$\n",
        "\n",
        "$\\underline{\\underline{T_{\\sigma, 2D}}} = $"
      ],
      "metadata": {
        "id": "LifgiCfgHoxg"
      }
    },
    {
      "cell_type": "code",
      "source": [
        "sp.trigsimp(sp.linear_eq_to_matrix([sxp, syp, txpyp], (sx, sy, txy))[0])"
      ],
      "metadata": {
        "colab": {
          "base_uri": "https://localhost:8080/",
          "height": 82
        },
        "id": "7ayiWcYgIE_2",
        "outputId": "44846c69-2ae1-40b0-c149-7620779e1a92"
      },
      "execution_count": 10,
      "outputs": [
        {
          "output_type": "execute_result",
          "data": {
            "text/plain": [
              "⎡    2               2                         ⎤\n",
              "⎢ cos (\\theta)    sin (\\theta)   sin(2⋅\\theta) ⎥\n",
              "⎢                                              ⎥\n",
              "⎢    2               2                         ⎥\n",
              "⎢ sin (\\theta)    cos (\\theta)   -sin(2⋅\\theta)⎥\n",
              "⎢                                              ⎥\n",
              "⎢-sin(2⋅\\theta)   sin(2⋅\\theta)                ⎥\n",
              "⎢───────────────  ─────────────  cos(2⋅\\theta) ⎥\n",
              "⎣       2               2                      ⎦"
            ],
            "text/latex": "$\\displaystyle \\left[\\begin{matrix}\\cos^{2}{\\left(\\theta \\right)} & \\sin^{2}{\\left(\\theta \\right)} & \\sin{\\left(2 \\theta \\right)}\\\\\\sin^{2}{\\left(\\theta \\right)} & \\cos^{2}{\\left(\\theta \\right)} & - \\sin{\\left(2 \\theta \\right)}\\\\- \\frac{\\sin{\\left(2 \\theta \\right)}}{2} & \\frac{\\sin{\\left(2 \\theta \\right)}}{2} & \\cos{\\left(2 \\theta \\right)}\\end{matrix}\\right]$"
          },
          "metadata": {},
          "execution_count": 10
        }
      ]
    }
  ]
}