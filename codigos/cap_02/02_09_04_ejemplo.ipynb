{
 "cells": [
  {
   "cell_type": "markdown",
   "metadata": {
    "colab_type": "text",
    "id": "view-in-github"
   },
   "source": [
    "<a href=\"https://colab.research.google.com/github/michaelherediaperez/mecanica_de_solidos_un/blob/main/codigos/cap_02/02_09_04_ejemplo.ipynb\" target=\"_parent\"><img src=\"https://colab.research.google.com/assets/colab-badge.svg\" alt=\"Open In Colab\"/></a>"
   ]
  },
  {
   "cell_type": "markdown",
   "metadata": {
    "id": "hkrhEpAeT85c"
   },
   "source": [
    "# 2.9.4. Ejemplo Círculo de mohr\n",
    "\n",
    "|Quién | Fecha | Qué hizo |\n",
    "| ---  | ---   | ---      |\n",
    "|Michael Heredia Pérez, <mherediap@unal.edu.co> | Julio 15, 2022 | Conversión de código de MAXIMA a Python|\n",
    "|Michael Heredia Pérez, <mherediap@unal.edu.co> | Septiembre 15, 2022 | Mejor presentación de resultados y otros cálculos|\n",
    "|Michael Heredia Pérez, <mherediap@unal.edu.co> | Septiembre 19, 2022 | Cambiando comando ```.eig``` por ```.eigh``` |\n",
    "\n"
   ]
  },
  {
   "cell_type": "code",
   "execution_count": 2,
   "metadata": {
    "id": "ZYiAHiPIT0nr"
   },
   "outputs": [],
   "source": [
    "import numpy as np              # Librería para cálculo algebráico.\n",
    "import matplotlib.pyplot as plt # Librería para hacer gráficas.\n",
    "\n",
    "# Para imprimir algo bonito\n",
    "import sympy as sp\n",
    "from IPython.display import Math                 \n",
    "def imprimir (texto, variable, unidad=False):\n",
    "    if unidad:\n",
    "        return Math(texto + rf'{sp.latex(variable)}' + unidad)\n",
    "    else:\n",
    "        return Math(texto + rf'{sp.latex(variable)}') "
   ]
  },
  {
   "cell_type": "markdown",
   "metadata": {
    "id": "NTJ-M7-6XNe8"
   },
   "source": [
    "El estado de esfuerzos es el siguiente:"
   ]
  },
  {
   "cell_type": "code",
   "execution_count": 3,
   "metadata": {
    "colab": {
     "base_uri": "https://localhost:8080/"
    },
    "id": "cbDS1zoBUMZr",
    "outputId": "35ca2765-f839-431d-918e-387768e0d1e7"
   },
   "outputs": [
    {
     "data": {
      "text/latex": [
       "$\\displaystyle \\underline{\\underline{\\boldsymbol{\\sigma}}} =\\left[\\begin{matrix}-1 & -3\\\\-3 & 2\\end{matrix}\\right]$"
      ],
      "text/plain": [
       "<IPython.core.display.Math object>"
      ]
     },
     "execution_count": 3,
     "metadata": {},
     "output_type": "execute_result"
    }
   ],
   "source": [
    "# Se definen los esfuerzos\n",
    "sx  = -1 # Pa\n",
    "sy  =  2 # Pa\n",
    "txy = -3 # Pa\n",
    "\n",
    "# Se construye la matriz de tensiones (esfuerzos).\n",
    "sigma = np.array([[ sx, txy], \n",
    "                  [txy, sy]])\n",
    "\n",
    "imprimir(r\"\\underline{\\underline{\\boldsymbol{\\sigma}}} =\", sp.Matrix(sigma))"
   ]
  },
  {
   "cell_type": "code",
   "execution_count": 4,
   "metadata": {},
   "outputs": [
    {
     "data": {
      "text/plain": [
       "array([[-1, -3],\n",
       "       [-3,  2]])"
      ]
     },
     "execution_count": 4,
     "metadata": {},
     "output_type": "execute_result"
    }
   ],
   "source": [
    "# Veamos cómo se imprime la matriz sigma sin formato\n",
    "sigma"
   ]
  },
  {
   "cell_type": "markdown",
   "metadata": {
    "id": "Iw2S9jCWYRD3"
   },
   "source": [
    "En códigos pasados calculamos el polinomio característico con la función ```sympy.charpoly()```, la cual nos arroja un resultado simbólico; al ser este un cálculo algebráico, usamos la función ```numpy.poly()``` la cual devuelve los coeficientes de dicho polinomio.\n",
    "\n",
    "Para más detalles revisar la [documentación](https://numpy.org/doc/stable/reference/generated/numpy.poly.html).\n",
    "\n",
    "A diferencia de MAXIMA, este arreglo inicia con el coeficiente del termino con el máximo exponente."
   ]
  },
  {
   "cell_type": "code",
   "execution_count": 5,
   "metadata": {
    "colab": {
     "base_uri": "https://localhost:8080/"
    },
    "id": "m1NxdljcXaRT",
    "outputId": "2431b198-6e5a-4820-9482-1cf4e4e76986"
   },
   "outputs": [
    {
     "data": {
      "text/plain": [
       "array([  1.,  -1., -11.])"
      ]
     },
     "execution_count": 5,
     "metadata": {},
     "output_type": "execute_result"
    }
   ],
   "source": [
    "# Obtengo los coeficientes del polinomio característico:\n",
    "polinomcar = np.poly(sigma)\n",
    "polinomcar"
   ]
  },
  {
   "cell_type": "markdown",
   "metadata": {
    "id": "Oz2YXLoKf3ph"
   },
   "source": [
    "Es decir, que el polinomio característico es \n",
    "\n",
    "$$\n",
    "p(\\sigma_n) = \\sigma_n^2 - \\sigma_n - 11 \n",
    "$$\n",
    "\n",
    "Recuerde que un polinomio se puede expresar como el siguiente producto punto:\n",
    "\n",
    "$$\n",
    "\\left \\langle (\\sigma_n^2, \\sigma_n, 1), (1, -1, -11) \\right \\rangle \n",
    "$$\n",
    "\n",
    "Ahora, se calculan las raices del polinomio característico, las cuales son la magnitud de los esfuerzos principales."
   ]
  },
  {
   "cell_type": "code",
   "execution_count": 6,
   "metadata": {
    "colab": {
     "base_uri": "https://localhost:8080/"
    },
    "id": "3lhHq9jmf2AL",
    "outputId": "33decf04-625e-4532-ca8c-e44afa204982"
   },
   "outputs": [],
   "source": [
    "s1_xy, s2_xy = np.roots(polinomcar)"
   ]
  },
  {
   "cell_type": "code",
   "execution_count": 7,
   "metadata": {},
   "outputs": [
    {
     "data": {
      "text/latex": [
       "$\\displaystyle (\\sigma_1)_{xy} =3.854 Pa$"
      ],
      "text/plain": [
       "<IPython.core.display.Math object>"
      ]
     },
     "execution_count": 7,
     "metadata": {},
     "output_type": "execute_result"
    }
   ],
   "source": [
    "imprimir(r\"(\\sigma_1)_{xy} =\", s1_xy.round(3), \" Pa\")"
   ]
  },
  {
   "cell_type": "code",
   "execution_count": 8,
   "metadata": {},
   "outputs": [
    {
     "data": {
      "text/latex": [
       "$\\displaystyle (\\sigma_2)_{xy} =-2.854 Pa$"
      ],
      "text/plain": [
       "<IPython.core.display.Math object>"
      ]
     },
     "execution_count": 8,
     "metadata": {},
     "output_type": "execute_result"
    }
   ],
   "source": [
    "imprimir(r\"(\\sigma_2)_{xy} =\", s2_xy.round(3), \" Pa\")"
   ]
  },
  {
   "cell_type": "markdown",
   "metadata": {
    "id": "45HqSro5gVMI"
   },
   "source": [
    "Los esfuerzos principales también se pueden calcular resolviendo el sistema de valores y vectores propios. Sabiendo que, para la matriz $\\underline{\\underline{\\boldsymbol{\\sigma}}}$, sus valores propios son las magnitudes de los esfuerzos principales y sus vectores propios son las direcciones principales, procedemos a resolver el problema $\\underline{\\underline{\\boldsymbol{\\sigma}}} \\boldsymbol{\\hat{n}} = \\sigma_n \\boldsymbol{\\hat{n}}$ con el comando ```np.linalg.eigh()``` el cual retorna una lista de dos entradas, la primera contiene los valores propios y la segunda contiene los vectores porpios.\n",
    "\n",
    "*Nota: refiérase a la documentación para entender porqué se usa el comando [np.linalg.eigh](https://numpy.org/doc/stable/reference/generated/numpy.linalg.eigh.html) en lugar del [np.linalg.eig](https://numpy.org/doc/stable/reference/generated/numpy.linalg.eig.html)*. "
   ]
  },
  {
   "cell_type": "code",
   "execution_count": 9,
   "metadata": {
    "id": "qHmK-X5HemsB"
   },
   "outputs": [],
   "source": [
    "valp, vecp   = np.linalg.eigh(sigma)\n",
    "\n",
    "# Extraigo los resultados (ordenados de menor a mayor)\n",
    "s2_xy, s1_xy = valp\n",
    "n2g,   n1g   = vecp[:,0], vecp[:,1]     # Las columnas, no las filas.\n",
    "            #= vecp.T[0], vecp.T[1]       es una forma alterna."
   ]
  },
  {
   "cell_type": "code",
   "execution_count": 10,
   "metadata": {},
   "outputs": [
    {
     "data": {
      "text/latex": [
       "$\\displaystyle (\\sigma_1)_{xy} =3.854 Pa$"
      ],
      "text/plain": [
       "<IPython.core.display.Math object>"
      ]
     },
     "execution_count": 10,
     "metadata": {},
     "output_type": "execute_result"
    }
   ],
   "source": [
    "imprimir(r\"(\\sigma_1)_{xy} =\", s1_xy.round(3), \" Pa\")"
   ]
  },
  {
   "cell_type": "code",
   "execution_count": 11,
   "metadata": {},
   "outputs": [
    {
     "data": {
      "text/latex": [
       "$\\displaystyle (\\sigma_2)_{xy} =-2.854 Pa$"
      ],
      "text/plain": [
       "<IPython.core.display.Math object>"
      ]
     },
     "execution_count": 11,
     "metadata": {},
     "output_type": "execute_result"
    }
   ],
   "source": [
    "imprimir(r\"(\\sigma_2)_{xy} =\", s2_xy.round(3), \" Pa\")"
   ]
  },
  {
   "cell_type": "code",
   "execution_count": 12,
   "metadata": {},
   "outputs": [
    {
     "data": {
      "text/latex": [
       "$\\displaystyle \\boldsymbol{\\hat{n}}^T_1 =\\mathtt{\\text{[-0.52573111  0.85065081]}}$"
      ],
      "text/plain": [
       "<IPython.core.display.Math object>"
      ]
     },
     "execution_count": 12,
     "metadata": {},
     "output_type": "execute_result"
    }
   ],
   "source": [
    "imprimir(r\"\\boldsymbol{\\hat{n}}^T_1 =\", n1g)"
   ]
  },
  {
   "cell_type": "code",
   "execution_count": 13,
   "metadata": {},
   "outputs": [
    {
     "data": {
      "text/latex": [
       "$\\displaystyle \\boldsymbol{\\hat{n}}^T_2 =\\mathtt{\\text{[-0.85065081 -0.52573111]}}$"
      ],
      "text/plain": [
       "<IPython.core.display.Math object>"
      ]
     },
     "execution_count": 13,
     "metadata": {},
     "output_type": "execute_result"
    }
   ],
   "source": [
    "imprimir(r\"\\boldsymbol{\\hat{n}}^T_2 =\", n2g)"
   ]
  },
  {
   "cell_type": "code",
   "execution_count": 14,
   "metadata": {
    "colab": {
     "base_uri": "https://localhost:8080/"
    },
    "id": "FjdhkT-Vhc5_",
    "outputId": "865283cd-5667-42a2-ea1f-cc28aded1677"
   },
   "outputs": [
    {
     "data": {
      "text/plain": [
       "array([[-0.85065081, -0.52573111],\n",
       "       [-0.52573111,  0.85065081]])"
      ]
     },
     "execution_count": 14,
     "metadata": {},
     "output_type": "execute_result"
    }
   ],
   "source": [
    "# Y si miramos el contenido del arreglo \"vecp\"\n",
    "vecp"
   ]
  },
  {
   "cell_type": "markdown",
   "metadata": {
    "id": "JFuzJ6gWicI4"
   },
   "source": [
    "Se calcula el ángulo asociado al esfuerzo principal $(\\sigma_1)_{xy}$ con la ecuación:\n",
    "\n",
    "$$\n",
    "\\text{tan }2\\theta_1 = \\frac{2\\tau_{xy}}{\\sigma_x - \\sigma_y}\n",
    "$$\n"
   ]
  },
  {
   "cell_type": "code",
   "execution_count": 15,
   "metadata": {
    "colab": {
     "base_uri": "https://localhost:8080/"
    },
    "id": "1c0bRqR6ibow",
    "outputId": "08989170-5634-48f7-8df0-da1676989f21"
   },
   "outputs": [
    {
     "data": {
      "text/latex": [
       "$\\displaystyle \\theta_1 =-1.0172 rad$"
      ],
      "text/plain": [
       "<IPython.core.display.Math object>"
      ]
     },
     "execution_count": 15,
     "metadata": {},
     "output_type": "execute_result"
    }
   ],
   "source": [
    "t1 = np.arctan2(2*txy, sx - sy)/2\n",
    "imprimir(r\"\\theta_1 =\", t1.round(4), \" rad\")"
   ]
  },
  {
   "cell_type": "code",
   "execution_count": 16,
   "metadata": {},
   "outputs": [
    {
     "data": {
      "text/latex": [
       "$\\displaystyle \\theta_1 =-58.28 °$"
      ],
      "text/plain": [
       "<IPython.core.display.Math object>"
      ]
     },
     "execution_count": 16,
     "metadata": {},
     "output_type": "execute_result"
    }
   ],
   "source": [
    "# Expresamos el ángulo en grados\n",
    "imprimir(r\"\\theta_1 =\", np.rad2deg(t1).round(2), \" °\")"
   ]
  },
  {
   "cell_type": "markdown",
   "metadata": {},
   "source": [
    "A partir del ángulo $\\theta_1$ y con las relaciones aprendidas, es posible indicar las direcciones principales como:"
   ]
  },
  {
   "cell_type": "code",
   "execution_count": 17,
   "metadata": {
    "colab": {
     "base_uri": "https://localhost:8080/"
    },
    "id": "w8wm4cocixWB",
    "outputId": "bea07a28-584e-40ce-d1cf-86bcc85dc337"
   },
   "outputs": [],
   "source": [
    "n1g = np.array([np.cos(t1), np.sin(t1)])\n",
    "n2g = np.array([np.cos(t1 + np.pi/2), np.sin(t1 + np.pi/2)])"
   ]
  },
  {
   "cell_type": "code",
   "execution_count": 18,
   "metadata": {},
   "outputs": [
    {
     "data": {
      "text/latex": [
       "$\\displaystyle \\boldsymbol{\\hat{n}}^T_1 =\\mathtt{\\text{[ 0.52573111 -0.85065081]}}$"
      ],
      "text/plain": [
       "<IPython.core.display.Math object>"
      ]
     },
     "execution_count": 18,
     "metadata": {},
     "output_type": "execute_result"
    }
   ],
   "source": [
    "imprimir(r\"\\boldsymbol{\\hat{n}}^T_1 =\", n1g)"
   ]
  },
  {
   "cell_type": "code",
   "execution_count": 19,
   "metadata": {},
   "outputs": [
    {
     "data": {
      "text/latex": [
       "$\\displaystyle \\boldsymbol{\\hat{n}}^T_2 =\\mathtt{\\text{[0.85065081 0.52573111]}}$"
      ],
      "text/plain": [
       "<IPython.core.display.Math object>"
      ]
     },
     "execution_count": 19,
     "metadata": {},
     "output_type": "execute_result"
    }
   ],
   "source": [
    "imprimir(r\"\\boldsymbol{\\hat{n}}^T_2 =\", n2g)"
   ]
  },
  {
   "cell_type": "markdown",
   "metadata": {},
   "source": [
    "Finalmente, el esfuerzo cortante máximo $\\tau_{max}$ a partir de la ecuación (2.65):\n",
    "\n",
    "$$\n",
    "\\tau_{max} = +\\frac{(\\sigma_1)_{xy} - (\\sigma_2)_{xy}}{2} = +\\sqrt{\\left(\\frac{\\sigma_x - \\sigma_y}{2}\\right)^2 + \\tau_{xy}^2 }  \n",
    "$$"
   ]
  },
  {
   "cell_type": "code",
   "execution_count": 20,
   "metadata": {},
   "outputs": [
    {
     "data": {
      "text/latex": [
       "$\\displaystyle \\tau_{max} =3.354 Pa$"
      ],
      "text/plain": [
       "<IPython.core.display.Math object>"
      ]
     },
     "execution_count": 20,
     "metadata": {},
     "output_type": "execute_result"
    }
   ],
   "source": [
    "tau_max = np.sqrt(((sx - sy)/2)**2 + txy**2)\n",
    "imprimir(r\"\\tau_{max} =\", tau_max.round(3), \" Pa\")"
   ]
  },
  {
   "cell_type": "markdown",
   "metadata": {},
   "source": [
    "Y recuerde que actúa sobre los planos ubicados a 45° de $\\theta_1$, es decir, sobre los planos que tienen los siguientes vectores unitarios:"
   ]
  },
  {
   "cell_type": "code",
   "execution_count": 21,
   "metadata": {},
   "outputs": [
    {
     "data": {
      "text/plain": [
       "[0.9732489894677302, -0.2297529205473612]"
      ]
     },
     "execution_count": 21,
     "metadata": {},
     "output_type": "execute_result"
    }
   ],
   "source": [
    "[ np.cos(t1 + np.pi/4), np.sin(t1 + np.pi/4) ]"
   ]
  },
  {
   "cell_type": "code",
   "execution_count": 22,
   "metadata": {},
   "outputs": [
    {
     "data": {
      "text/plain": [
       "[-0.22975292054736113, -0.9732489894677302]"
      ]
     },
     "execution_count": 22,
     "metadata": {},
     "output_type": "execute_result"
    }
   ],
   "source": [
    "[ np.cos(t1 - np.pi/4), np.sin(t1 - np.pi/4) ]"
   ]
  },
  {
   "cell_type": "markdown",
   "metadata": {},
   "source": [
    "Recuerde que lo relevante en el cálculo de vectores propios es su dirección, no su sentido (+ o -)."
   ]
  },
  {
   "cell_type": "markdown",
   "metadata": {
    "id": "5FrzkmQ2kTbg"
   },
   "source": [
    "## Gráfico del círculo de Mohr\n",
    "\n",
    "Utilizando las funcinaliades de graficación de Python es posible dibujar el círculo de Mohr para este estado de esfuerzos. Para ellos, empleamos las funciones parametrizadas.\n",
    "\n",
    "El círculo de mohr tiene dominio [0, 180°), esto lo calculo pero en radianes:"
   ]
  },
  {
   "cell_type": "code",
   "execution_count": 23,
   "metadata": {
    "id": "rdcj9QJPjug0"
   },
   "outputs": [],
   "source": [
    "# Discretizo el dominio en 100 puntos.\n",
    "tt = np.linspace(0, np.pi, 100)   "
   ]
  },
  {
   "cell_type": "markdown",
   "metadata": {
    "id": "wTt_Jv-0ruaK"
   },
   "source": [
    "Realizo el cálculo de las ecuaciones (2.31) y (2.32). Como el dominio lo definí en un arreglo de numpy, simplemente evalúo las ecuaciones en el arreglo completo. "
   ]
  },
  {
   "cell_type": "code",
   "execution_count": 24,
   "metadata": {
    "id": "BMsuIcV2rvK7"
   },
   "outputs": [],
   "source": [
    "ssn_t = ( sx+sy )/2 + ( sx-sy )/2*np.cos( 2*tt ) + txy*np.sin( 2*tt )\n",
    "ttn_t = txy*np.cos( 2*tt ) - ( sx-sy )/2*np.sin( 2*tt ) "
   ]
  },
  {
   "cell_type": "markdown",
   "metadata": {
    "id": "CKRjn-ZdsQN8"
   },
   "source": [
    "Realizo el gráfico"
   ]
  },
  {
   "cell_type": "code",
   "execution_count": 26,
   "metadata": {
    "colab": {
     "base_uri": "https://localhost:8080/",
     "height": 615
    },
    "id": "LPX9xbh1md6Z",
    "outputId": "bd4d1e0d-7900-42ce-81e9-d7a7cf562bf7"
   },
   "outputs": [
    {
     "data": {
      "image/png": "[encoded data removed]",
      "text/plain": [
       "<Figure size 1000x1000 with 1 Axes>"
      ]
     },
     "metadata": {},
     "output_type": "display_data"
    }
   ],
   "source": [
    "# Defino un tamaño de fuente para todo el gráfico.\n",
    "plt.rcParams.update({'font.size': 14})\n",
    "\n",
    "# Inicio el lienzo.\n",
    "fig, ax = plt.subplots()\n",
    "fig.set_figwidth(10)\n",
    "fig.set_figheight(10)\n",
    "\n",
    "# Dibujo la recta que pasa por los puntos C y A.\n",
    "ax.plot((sy, sx), (-txy, txy), \"--g\")\n",
    "\n",
    "ax.plot(sy, -txy, \"*r\")  \n",
    "ax.plot(sx, txy,  \"*r\")  \n",
    "\n",
    "ax.text(sy, -txy*1.1, r\"$( \\sigma_y, -\\tau_{xy} )=$\" + f\"({sy}, {-txy})\")  \n",
    "ax.text(sx, txy*0.95,  r\"$( \\sigma_x, \\tau_{xy} )=$\" + f\"({sx}, {txy})\")  \n",
    "\n",
    "# Marco el centro de la circunferencia O.\n",
    "ax.plot((sx+sy)/2, 0, \"*r\")\n",
    "ax.text((sx+sy)/2, 0,  \"O\")\n",
    "\n",
    "# Dibujo la circunferencia.\n",
    "ax.plot(ssn_t, ttn_t, \"-b\")\n",
    "\n",
    "# Ubico los esfuerzos sx, sy \n",
    "ax.plot(sx, 0, \"*r\")\n",
    "ax.text(sx, 0.1, r\"$\\sigma_x = $\" + f\"{sx}\")\n",
    "ax.plot(sy, 0, \"*r\")\n",
    "ax.text(sy, 0.1, r\"$\\sigma_y = $\" + f\"{sy}\")\n",
    "\n",
    "# Ubico los esfuerzos principales s1, s2 \n",
    "ax.plot(s1_xy, 0, \"*r\")\n",
    "ax.text(s1_xy, 0.1, r\"$\\sigma_1 = $\" + f\"{round(s1_xy, 2)}\")\n",
    "ax.plot(s2_xy, 0, \"*r\")\n",
    "ax.text(s2_xy, 0.1, r\"$\\sigma_2 = $\" + f\"{round(s2_xy, 2)}\")\n",
    "\n",
    "# Indico el esfuerzo cortante máximo.\n",
    "ax.plot((sx+sy)/2, tau_max, \"*r\")\n",
    "ax.text((sx+sy)/2, 1.05*tau_max, r\"$(\\tau_{max})_{xy} = $\" + f\"{round(tau_max, 2)}\")\n",
    "\n",
    "# Nombre de los ejes.\n",
    "ax.set_xlabel(\"Esfuerzo normal \" + r\"$\\sigma_n$\" + \"[ Pa]\" )\n",
    "ax.set_ylabel(\"Esfuerzo cortante \" + r\"$\\tau_n$\" + \"[ Pa]\")\n",
    "\n",
    "# Configuro parámetros del lienzo.\n",
    "ax.grid(which='major', linestyle='-')\n",
    "ax.set_aspect('equal', adjustable='box')\n",
    "\n",
    "# Presento en pantalla el lienzo.\n",
    "plt.show()"
   ]
  },
  {
   "cell_type": "code",
   "execution_count": null,
   "metadata": {},
   "outputs": [],
   "source": []
  }
 ],
 "metadata": {
  "colab": {
   "authorship_tag": "ABX9TyPzsVKC98eOCdm/CUQsM3pG",
   "include_colab_link": true,
   "name": "02_09_04_ejemplo.ipynb",
   "provenance": []
  },
  "kernelspec": {
   "display_name": "Python 3.10.4 64-bit",
   "language": "python",
   "name": "python3"
  },
  "language_info": {
   "codemirror_mode": {
    "name": "ipython",
    "version": 3
   },
   "file_extension": ".py",
   "mimetype": "text/x-python",
   "name": "python",
   "nbconvert_exporter": "python",
   "pygments_lexer": "ipython3",
   "version": "3.10.6"
  },
  "vscode": {
   "interpreter": {
    "hash": "916dbcbb3f70747c44a77c7bcd40155683ae19c65e1c03b4aa3499c5328201f1"
   }
  }
 },
 "nbformat": 4,
 "nbformat_minor": 1
}
