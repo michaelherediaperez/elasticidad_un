{
  "nbformat": 4,
  "nbformat_minor": 0,
  "metadata": {
    "colab": {
      "name": "02_09_04_ejemplo.ipynb",
      "provenance": [],
      "authorship_tag": "ABX9TyM6EBnsMwElkF3mXywqIwuS",
      "include_colab_link": true
    },
    "kernelspec": {
      "name": "python3",
      "display_name": "Python 3"
    },
    "language_info": {
      "name": "python"
    }
  },
  "cells": [
    {
      "cell_type": "markdown",
      "metadata": {
        "id": "view-in-github",
        "colab_type": "text"
      },
      "source": [
        "<a href=\"https://colab.research.google.com/github/michaelherediaperez/mecanica_de_solidos_un/blob/main/codigos/cap_02/02_09_04_ejemplo.ipynb\" target=\"_parent\"><img src=\"https://colab.research.google.com/assets/colab-badge.svg\" alt=\"Open In Colab\"/></a>"
      ]
    },
    {
      "cell_type": "markdown",
      "source": [
        "# 2.9.4. Ejemplo Círculo de mohr\n",
        "\n",
        "|Quién | Fecha | Qué hizo |\n",
        "| ---  | ---   | ---      |\n",
        "|Michael Heredia Pérez, <mherediap@unal.edu.co> | Julio 15, 2022 | Conversión de código de MATLAB a Python|\n",
        "\n"
      ],
      "metadata": {
        "id": "hkrhEpAeT85c"
      }
    },
    {
      "cell_type": "code",
      "execution_count": 1,
      "metadata": {
        "id": "ZYiAHiPIT0nr"
      },
      "outputs": [],
      "source": [
        "import numpy as np              # Librería para cálculo algebráico.\n",
        "import matplotlib.pyplot as plt # Librería para hacer gráficas."
      ]
    },
    {
      "cell_type": "markdown",
      "source": [
        "El estado de esfuerzos es el siguiente:"
      ],
      "metadata": {
        "id": "NTJ-M7-6XNe8"
      }
    },
    {
      "cell_type": "code",
      "source": [
        "# Se definen los esfuerzos [Pa].\n",
        "sx  = -1 \n",
        "sy  = 2\n",
        "txy = -3    \n",
        "\n",
        "# Se construye la matriz de tensiones (esfuerzos).\n",
        "sigma = np.array([[sx, txy], \n",
        "                  [txy, sy]])\n",
        "sigma"
      ],
      "metadata": {
        "colab": {
          "base_uri": "https://localhost:8080/"
        },
        "id": "cbDS1zoBUMZr",
        "outputId": "e9b176c8-14e5-483f-ffbc-e3ae727bc471"
      },
      "execution_count": 2,
      "outputs": [
        {
          "output_type": "execute_result",
          "data": {
            "text/plain": [
              "array([[-1, -3],\n",
              "       [-3,  2]])"
            ]
          },
          "metadata": {},
          "execution_count": 2
        }
      ]
    },
    {
      "cell_type": "markdown",
      "source": [
        "En códigos pasados calculamos el polinomio característico con la función ```sympy.charpoly()```, la cual nos arroja un resultado simbólico; al ser este un cálculo algebráico, usamos la función ```numpy.poly()``` la cual devuelve los coeficientes de dicho polinomio.\n",
        "\n",
        "Para más detalles revisar la [documentación](https://numpy.org/doc/stable/reference/generated/numpy.poly.html).\n",
        "\n",
        "A diferencia de MAXIMA, este arreglo inicia con elcoeficiente del termino con el máximo exponente, así: [$\\sigma_n^2$, $\\sigma_n$, 1] "
      ],
      "metadata": {
        "id": "Iw2S9jCWYRD3"
      }
    },
    {
      "cell_type": "code",
      "source": [
        "# Obtengo los coeficientes del polinomio característico:\n",
        "polinomcar = np.poly(sigma)\n",
        "polinomcar"
      ],
      "metadata": {
        "colab": {
          "base_uri": "https://localhost:8080/"
        },
        "id": "m1NxdljcXaRT",
        "outputId": "37de07a0-c934-41d8-d32a-e63c55fb81c0"
      },
      "execution_count": 3,
      "outputs": [
        {
          "output_type": "execute_result",
          "data": {
            "text/plain": [
              "array([  1.,  -1., -11.])"
            ]
          },
          "metadata": {},
          "execution_count": 3
        }
      ]
    },
    {
      "cell_type": "markdown",
      "source": [
        "Es decir, el polinomio característico es de la forma $x^2 - x - 11$\n",
        "\n",
        "Calculo la raices del polinomio característico, las cuales son la magnitud de los esfuerzos principales."
      ],
      "metadata": {
        "id": "Oz2YXLoKf3ph"
      }
    },
    {
      "cell_type": "code",
      "source": [
        "np.roots(polinomcar)"
      ],
      "metadata": {
        "colab": {
          "base_uri": "https://localhost:8080/"
        },
        "id": "3lhHq9jmf2AL",
        "outputId": "e70be99a-77f5-450a-a64e-6f31de438cd9"
      },
      "execution_count": 4,
      "outputs": [
        {
          "output_type": "execute_result",
          "data": {
            "text/plain": [
              "array([ 3.85410197, -2.85410197])"
            ]
          },
          "metadata": {},
          "execution_count": 4
        }
      ]
    },
    {
      "cell_type": "markdown",
      "source": [
        "Verificamos estos resultados con los de MAXIMA"
      ],
      "metadata": {
        "id": "MH42CYIOeVNr"
      }
    },
    {
      "cell_type": "code",
      "source": [
        "[-(3*np.sqrt(5)-1)/2, (3*np.sqrt(5)+1)/2 ]"
      ],
      "metadata": {
        "colab": {
          "base_uri": "https://localhost:8080/"
        },
        "id": "Uu-CCKFyaktn",
        "outputId": "6c7e7418-3363-4565-a982-8c66d82ca71a"
      },
      "execution_count": 5,
      "outputs": [
        {
          "output_type": "execute_result",
          "data": {
            "text/plain": [
              "[-2.8541019662496847, 3.8541019662496847]"
            ]
          },
          "metadata": {},
          "execution_count": 5
        }
      ]
    },
    {
      "cell_type": "markdown",
      "source": [
        "Ahora calculamos los valores y vectores propios:"
      ],
      "metadata": {
        "id": "45HqSro5gVMI"
      }
    },
    {
      "cell_type": "code",
      "source": [
        "valp, vecp = np.linalg.eig(sigma)"
      ],
      "metadata": {
        "id": "qHmK-X5HemsB"
      },
      "execution_count": 6,
      "outputs": []
    },
    {
      "cell_type": "code",
      "source": [
        "valp"
      ],
      "metadata": {
        "colab": {
          "base_uri": "https://localhost:8080/"
        },
        "id": "gSMVH3SdhWxt",
        "outputId": "9b99bfc7-ea89-44ff-a46f-b9703a36ca6e"
      },
      "execution_count": 7,
      "outputs": [
        {
          "output_type": "execute_result",
          "data": {
            "text/plain": [
              "array([-2.85410197,  3.85410197])"
            ]
          },
          "metadata": {},
          "execution_count": 7
        }
      ]
    },
    {
      "cell_type": "markdown",
      "source": [
        "Los vectores principales son las columnas de la matriz ```vecp```. Nótese que a diferencia de Matlab, Python lo calcula con el signo contrario, es decir, en el sentido opuesto. Igualmente ocurrió en un ejemplo anterior."
      ],
      "metadata": {
        "id": "gSWa_HIGh1x8"
      }
    },
    {
      "cell_type": "code",
      "source": [
        "vecp"
      ],
      "metadata": {
        "colab": {
          "base_uri": "https://localhost:8080/"
        },
        "id": "FjdhkT-Vhc5_",
        "outputId": "7f3716b0-0625-4509-8c93-c130325eee1e"
      },
      "execution_count": 8,
      "outputs": [
        {
          "output_type": "execute_result",
          "data": {
            "text/plain": [
              "array([[-0.85065081,  0.52573111],\n",
              "       [-0.52573111, -0.85065081]])"
            ]
          },
          "metadata": {},
          "execution_count": 8
        }
      ]
    },
    {
      "cell_type": "markdown",
      "source": [
        "Se calcula el ángulo asociado al esfuerzo principal $\\sigma_1$. Recuerde que la respuesta está dada en radiane.\n",
        "\n",
        "$\\theta_1=$"
      ],
      "metadata": {
        "id": "JFuzJ6gWicI4"
      }
    },
    {
      "cell_type": "code",
      "source": [
        "t1 = np.arctan2(2*txy, sx-sy)/2\n",
        "t1"
      ],
      "metadata": {
        "colab": {
          "base_uri": "https://localhost:8080/"
        },
        "id": "1c0bRqR6ibow",
        "outputId": "894a893f-66ad-40d7-80cb-157c0dc4319a"
      },
      "execution_count": 9,
      "outputs": [
        {
          "output_type": "execute_result",
          "data": {
            "text/plain": [
              "-1.0172219678978514"
            ]
          },
          "metadata": {},
          "execution_count": 9
        }
      ]
    },
    {
      "cell_type": "markdown",
      "source": [
        "El vector unitario asocido al esfuerzo principal 1 es:"
      ],
      "metadata": {
        "id": "yUPsJhGGi2cd"
      }
    },
    {
      "cell_type": "code",
      "source": [
        "[np.cos(t1), np.sin(t1)]"
      ],
      "metadata": {
        "colab": {
          "base_uri": "https://localhost:8080/"
        },
        "id": "w8wm4cocixWB",
        "outputId": "6f812ccc-ca40-43e6-9697-b42e29bcaa5a"
      },
      "execution_count": 10,
      "outputs": [
        {
          "output_type": "execute_result",
          "data": {
            "text/plain": [
              "[0.5257311121191336, -0.8506508083520399]"
            ]
          },
          "metadata": {},
          "execution_count": 10
        }
      ]
    },
    {
      "cell_type": "markdown",
      "source": [
        "## Gráfico del círculo de mohr\n",
        "\n",
        "Utilizando las funcinaliades de graficación de Python es posible dibujar el círculo de Mohr para este estado de esfuerzos. Para ellos, empleamos las funciones parametrizadas.\n",
        "\n",
        "El círculo de mohr tiene dominio [0, 180°), esto lo calculo pero en radianes:"
      ],
      "metadata": {
        "id": "5FrzkmQ2kTbg"
      }
    },
    {
      "cell_type": "code",
      "source": [
        "# Discretizo el dominio en 100 puntos.\n",
        "tt = np.linspace(0, np.pi, 100)   "
      ],
      "metadata": {
        "id": "rdcj9QJPjug0"
      },
      "execution_count": 11,
      "outputs": []
    },
    {
      "cell_type": "markdown",
      "source": [
        "Realizo el cálculo de las ecuaciones (2.31) y (2.32). Como el dominio lo definí en un arreglo de numpy, simplemente evalúo las ecuaciones en el arreglo completo. "
      ],
      "metadata": {
        "id": "wTt_Jv-0ruaK"
      }
    },
    {
      "cell_type": "code",
      "source": [
        "ssn_t = ( sx+sy )/2 + ( sx-sy )/2*np.cos( 2*tt ) + txy*np.sin( 2*tt )\n",
        "ttn_t = txy*np.cos( 2*tt ) - ( sx-sy )/2*np.sin( 2*tt ) "
      ],
      "metadata": {
        "id": "BMsuIcV2rvK7"
      },
      "execution_count": 12,
      "outputs": []
    },
    {
      "cell_type": "markdown",
      "source": [
        "Guardo en variables separadas los esfuerzos principales (las entradas del vector de valores principales)"
      ],
      "metadata": {
        "id": "z1Zf7HrwtYth"
      }
    },
    {
      "cell_type": "code",
      "source": [
        "s2, s1 = valp"
      ],
      "metadata": {
        "id": "Damq1cJAtfr1"
      },
      "execution_count": 13,
      "outputs": []
    },
    {
      "cell_type": "markdown",
      "source": [
        "Calculo el esfuerzo cortante máximo, como el radio de la circunferencia."
      ],
      "metadata": {
        "id": "wulmeogDvj-j"
      }
    },
    {
      "cell_type": "code",
      "source": [
        "tmax_xy = np.sqrt( ((sx-sy)/2)**2 + txy**2 )\n",
        "tmax_xy"
      ],
      "metadata": {
        "colab": {
          "base_uri": "https://localhost:8080/"
        },
        "id": "7KQ6EqrFvn4P",
        "outputId": "15e8c097-426b-4e83-adef-d7b2b9171eef"
      },
      "execution_count": 14,
      "outputs": [
        {
          "output_type": "execute_result",
          "data": {
            "text/plain": [
              "3.3541019662496847"
            ]
          },
          "metadata": {},
          "execution_count": 14
        }
      ]
    },
    {
      "cell_type": "markdown",
      "source": [
        "Ahora si, realizo el gráfico"
      ],
      "metadata": {
        "id": "CKRjn-ZdsQN8"
      }
    },
    {
      "cell_type": "code",
      "source": [
        "# Defino un tamaño de fuente para todo el gráfico.\n",
        "plt.rcParams.update({'font.size': 13})\n",
        "\n",
        "# Inicio el lienzo.\n",
        "fig, ax = plt.subplots()\n",
        "fig.set_figwidth(10)\n",
        "fig.set_figheight(10)\n",
        "\n",
        "# Dibujo los ejes.\n",
        "plt.plot((1.3*s2, 1.3*s1), (0, 0), \"-k\")\n",
        "plt.plot((1.3*s2, 1.3*s2), (-1.3*tmax_xy, 1.3*tmax_xy), \"-k\")\n",
        "\n",
        "# Dibujo la recta que pasa por los puntos C y A.\n",
        "ax.plot((sy, sx), (-txy, txy), \"--g\")\n",
        "\n",
        "ax.plot(sy, -txy, \"*r\")  # un 1% más abajo del punto.\n",
        "ax.plot(sx, txy,  \"*r\")  # un 1% más arriba del punto.\n",
        "\n",
        "ax.text(sy, -txy*1.1, r\"$( \\sigma_y, -\\tau_{xy} )=$\" + f\"({sy} Pa, {-txy} Pa)\")  \n",
        "ax.text(sx, txy*0.95,  r\"$( \\sigma_x, \\tau_{xy} )=$\" + f\"({sx} Pa, {txy} Pa)\")  \n",
        "\n",
        "# Marco el centro de la circunferencia O.\n",
        "ax.plot((sx+sy)/2, 0, \"*r\")\n",
        "ax.text((sx+sy)/2, 0,  \"O\")\n",
        "\n",
        "# Dibujo la circunferencia.\n",
        "ax.plot(ssn_t, ttn_t, \"-b\")\n",
        "\n",
        "# Ubico los esfuerzos sx, sy \n",
        "ax.plot(sx, 0, \"*r\")\n",
        "ax.text(sx, 0.1, r\"$\\sigma_x = $\" + f\"{sx} Pa\")\n",
        "ax.plot(sy, 0, \"*r\")\n",
        "ax.text(sy, 0.1, r\"$\\sigma_y = $\" + f\"{sy} Pa\")\n",
        "\n",
        "# Ubico los esfuerzos principales s1, s2 \n",
        "ax.plot(s1, 0, \"*r\")\n",
        "ax.text(s1, 0.1, r\"$\\sigma_1 = $\" + f\"{round(s1, 2)} Pa\")\n",
        "ax.plot(s2, 0, \"*r\")\n",
        "ax.text(s2, 0.1, r\"$\\sigma_2 = $\" + f\"{round(s2, 2)} Pa\")\n",
        "\n",
        "# Indico el esfuerzo cortante máximo.\n",
        "ax.plot(0, tmax_xy, \"*r\")\n",
        "ax.text(0, 1.1*tmax_xy, r\"$(\\tau_{max})_{xy} = $\" + f\"{round(tmax_xy, 4)} Pa\")\n",
        "\n",
        "# Nombre de los ejes.\n",
        "ax.set_xlabel(\"Esfuerzo normal \" + r\"$\\sigma_n$\" )\n",
        "ax.set_ylabel(\"Esfuerzo cortante \" + r\"$\\tau_n$\")\n",
        "\n",
        "# Configuro parámetros del lienzo.\n",
        "ax.grid(b=True, which='major', linestyle='-')\n",
        "ax.set_aspect('equal', adjustable='box')\n",
        "#plt.axis('off')\n",
        "\n",
        "# Presento en pantalla el lienzo.\n",
        "plt.show()"
      ],
      "metadata": {
        "colab": {
          "base_uri": "https://localhost:8080/",
          "height": 615
        },
        "id": "LPX9xbh1md6Z",
        "outputId": "c386f954-d78d-4bc5-ecfd-6d923f712b07"
      },
      "execution_count": 15,
      "outputs": [
        {
          "output_type": "display_data",
          "data": {
            "text/plain": [
              "<Figure size 720x720 with 1 Axes>"
            ],
            "image/png": "[encoded data removed]"
          },
          "metadata": {
            "needs_background": "light"
          }
        }
      ]
    }
  ]
}