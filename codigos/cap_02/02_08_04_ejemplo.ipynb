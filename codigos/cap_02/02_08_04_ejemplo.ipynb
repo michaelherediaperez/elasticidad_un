{
  "nbformat": 4,
  "nbformat_minor": 0,
  "metadata": {
    "colab": {
      "provenance": [],
      "authorship_tag": "ABX9TyM45bk5FCHGOcQZHXJ9wJzb",
      "include_colab_link": true
    },
    "kernelspec": {
      "name": "python3",
      "display_name": "Python 3"
    },
    "language_info": {
      "name": "python"
    }
  },
  "cells": [
    {
      "cell_type": "markdown",
      "metadata": {
        "id": "view-in-github",
        "colab_type": "text"
      },
      "source": [
        "<a href=\"https://colab.research.google.com/github/michaelherediaperez/mecanica_de_solidos_un/blob/main/codigos/cap_02/02_08_04_ejemplo.ipynb\" target=\"_parent\"><img src=\"https://colab.research.google.com/assets/colab-badge.svg\" alt=\"Open In Colab\"/></a>"
      ]
    },
    {
      "cell_type": "markdown",
      "source": [
        "# Ejemplo (verificación) sección 2.8.4.\n",
        "\n",
        "|Quién | Fecha | Qué hizo |\n",
        "| ---  | ---   | ---      |\n",
        "|Michael Heredia Pérez, <mherediap@unal.edu.co> | Julio 15, 2022 | Conversión de código de MAXIMA a Python|\n"
      ],
      "metadata": {
        "id": "R1qOyKK_Sofe"
      }
    },
    {
      "cell_type": "code",
      "execution_count": null,
      "metadata": {
        "id": "hLc9fQtySb2x"
      },
      "outputs": [],
      "source": [
        "import numpy as np # Librería para cálculo algebráico.\n",
        "\n",
        "# Defino los vectores.\n",
        "n1 = np.array( [0, 2/np.sqrt(5),  1/np.sqrt(5)] )\n",
        "n2 = np.array( [1,            0,             0] )\n",
        "n3 = np.array( [0, 1/np.sqrt(5), -2/np.sqrt(5)] )"
      ]
    },
    {
      "cell_type": "code",
      "source": [
        "# Producto punto entre n1 y n2.\n",
        "np.dot(n1, n2)"
      ],
      "metadata": {
        "colab": {
          "base_uri": "https://localhost:8080/"
        },
        "id": "i6G5-xZdTS9I",
        "outputId": "91a9957d-0a6c-4b02-abcb-b31ebe684e94"
      },
      "execution_count": null,
      "outputs": [
        {
          "output_type": "execute_result",
          "data": {
            "text/plain": [
              "0.0"
            ]
          },
          "metadata": {},
          "execution_count": 2
        }
      ]
    },
    {
      "cell_type": "code",
      "source": [
        "# Producto punto entre n1 y n3.\n",
        "np.dot(n1, n3)"
      ],
      "metadata": {
        "colab": {
          "base_uri": "https://localhost:8080/"
        },
        "id": "5Z8AP48ATcpd",
        "outputId": "ea2addd9-dc54-44e8-f0e3-33a11241e24c"
      },
      "execution_count": null,
      "outputs": [
        {
          "output_type": "execute_result",
          "data": {
            "text/plain": [
              "0.0"
            ]
          },
          "metadata": {},
          "execution_count": 3
        }
      ]
    },
    {
      "cell_type": "code",
      "source": [
        "# Producto punto entre n2 y n3.\n",
        "np.dot(n2, n3)"
      ],
      "metadata": {
        "colab": {
          "base_uri": "https://localhost:8080/"
        },
        "id": "X3mk0c3hTfNK",
        "outputId": "c5ca619d-abe2-482b-baac-bd0044d2249c"
      },
      "execution_count": null,
      "outputs": [
        {
          "output_type": "execute_result",
          "data": {
            "text/plain": [
              "0.0"
            ]
          },
          "metadata": {},
          "execution_count": 4
        }
      ]
    }
  ]
}