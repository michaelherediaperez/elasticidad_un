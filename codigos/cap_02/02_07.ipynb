{
  "nbformat": 4,
  "nbformat_minor": 0,
  "metadata": {
    "colab": {
      "provenance": [],
      "collapsed_sections": [],
      "authorship_tag": "ABX9TyMxSLZF8aJ6qHwFpqrN6+5+",
      "include_colab_link": true
    },
    "kernelspec": {
      "name": "python3",
      "display_name": "Python 3"
    },
    "language_info": {
      "name": "python"
    }
  },
  "cells": [
    {
      "cell_type": "markdown",
      "metadata": {
        "id": "view-in-github",
        "colab_type": "text"
      },
      "source": [
        "<a href=\"https://colab.research.google.com/github/michaelherediaperez/mecanica_de_solidos_un/blob/main/codigos/cap_02/02_07.ipynb\" target=\"_parent\"><img src=\"https://colab.research.google.com/assets/colab-badge.svg\" alt=\"Open In Colab\"/></a>"
      ]
    },
    {
      "cell_type": "markdown",
      "source": [
        "# 2.7. Esfuerzos normales y tangenciales sobre un plano.\n",
        "\n",
        "|Quién | Fecha | Qué hizo |\n",
        "| ---  | ---   | ---      |\n",
        "|Michael Heredia Pérez, <mherediap@unal.edu.co> | Julio 14, 2022 | Conversión de código de MAXIMA a Python|\n",
        "|Michael Heredia Pérez, <mherediap@unal.edu.co> | Septiembre 7, 2022 | Mejorando legibilidad|\n",
        "\n",
        "Verificación de las operaciones realizadas."
      ],
      "metadata": {
        "id": "2pOZDC-bnLTv"
      }
    },
    {
      "cell_type": "code",
      "execution_count": 11,
      "metadata": {
        "id": "MyIMIKxnnG0j"
      },
      "outputs": [],
      "source": [
        "import sympy as sp  # Librería para cálculo simbólico.\n",
        "\n",
        "# Para imprimir bonito\n",
        "from IPython.display import Math\n",
        "sp.init_printing()                  \n",
        "def imprimir (texto, variable):\n",
        "    return Math(texto +  rf'{sp.latex(variable)}')"
      ]
    },
    {
      "cell_type": "markdown",
      "source": [
        "Se definen las variables simbólicas necesarias."
      ],
      "metadata": {
        "id": "5Ik7bF5VnsYs"
      }
    },
    {
      "cell_type": "code",
      "source": [
        "sx, sy, sz        = sp.symbols(\"sigma_x, sigma_y, sigma_z\")\n",
        "txy, txz, tyz     = sp.symbols(\"tau_xy, tau_xz, tau_yz\")\n",
        "alfa, beta, gamma = sp.symbols(\"alpha, beta, gamma\")\n",
        "\n",
        "# Por ejemplo\n",
        "alfa, beta, gamma"
      ],
      "metadata": {
        "id": "wBkCUDEunnka",
        "colab": {
          "base_uri": "https://localhost:8080/",
          "height": 38
        },
        "outputId": "ae5fa7ae-6272-400a-9525-f9cb956bac8c"
      },
      "execution_count": 12,
      "outputs": [
        {
          "output_type": "execute_result",
          "data": {
            "text/plain": [
              "(α, β, γ)"
            ],
            "image/png": "[encoded data removed]",
            "text/latex": "$\\displaystyle \\left( \\alpha, \\  \\beta, \\  \\gamma\\right)$"
          },
          "metadata": {},
          "execution_count": 12
        }
      ]
    },
    {
      "cell_type": "markdown",
      "source": [
        "Se define la matriz de tensiones en coordenadas rectagnulares: $\\underline{\\underline{\\boldsymbol{\\sigma}}}$"
      ],
      "metadata": {
        "id": "RNSrWyIin2MM"
      }
    },
    {
      "cell_type": "code",
      "source": [
        "sigma = sp.Matrix([ [sx, txy, txz],\n",
        "                    [txy, sy, tyz],\n",
        "                    [txz, tyz, sz] ])\n",
        "imprimir(r\"\\underline{\\underline{\\boldsymbol{\\sigma}}} = \", sigma)"
      ],
      "metadata": {
        "colab": {
          "base_uri": "https://localhost:8080/",
          "height": 78
        },
        "id": "DW_E0619n1OI",
        "outputId": "1eb85b13-4257-40fd-f1db-4301ffbbca53"
      },
      "execution_count": 13,
      "outputs": [
        {
          "output_type": "execute_result",
          "data": {
            "text/plain": [
              "<IPython.core.display.Math object>"
            ],
            "text/latex": "$\\displaystyle \\underline{\\underline{\\boldsymbol{\\sigma}}} = \\left[\\begin{matrix}\\sigma_{x} & \\tau_{xy} & \\tau_{xz}\\\\\\tau_{xy} & \\sigma_{y} & \\tau_{yz}\\\\\\tau_{xz} & \\tau_{yz} & \\sigma_{z}\\end{matrix}\\right]$"
          },
          "metadata": {},
          "execution_count": 13
        }
      ]
    },
    {
      "cell_type": "markdown",
      "source": [
        "Se define el vector columna $\\boldsymbol{\\hat{n}}$ (```ng```) "
      ],
      "metadata": {
        "id": "ZjLI-hiHojv7"
      }
    },
    {
      "cell_type": "code",
      "source": [
        "ng = sp.Matrix([alfa, beta, gamma])\n",
        "imprimir(r\"\\boldsymbol{\\hat{n}} = \", ng)"
      ],
      "metadata": {
        "colab": {
          "base_uri": "https://localhost:8080/",
          "height": 78
        },
        "id": "lvVcnHAuoWP4",
        "outputId": "3a3c838a-0c22-42f1-a2be-1a0ccef4c5ba"
      },
      "execution_count": 14,
      "outputs": [
        {
          "output_type": "execute_result",
          "data": {
            "text/plain": [
              "<IPython.core.display.Math object>"
            ],
            "text/latex": "$\\displaystyle \\boldsymbol{\\hat{n}} = \\left[\\begin{matrix}\\alpha\\\\\\beta\\\\\\gamma\\end{matrix}\\right]$"
          },
          "metadata": {},
          "execution_count": 14
        }
      ]
    },
    {
      "cell_type": "markdown",
      "source": [
        "Se calcula el vector $\\mathbf{q}$"
      ],
      "metadata": {
        "id": "tLNdzbgYo-75"
      }
    },
    {
      "cell_type": "code",
      "source": [
        "q = sigma*ng\n",
        "imprimir(r\"\\mathbf{q} = \", q)"
      ],
      "metadata": {
        "colab": {
          "base_uri": "https://localhost:8080/",
          "height": 78
        },
        "id": "mc6xwpRJo8TW",
        "outputId": "116e4647-add4-4c00-9654-3af44f9b2c92"
      },
      "execution_count": 18,
      "outputs": [
        {
          "output_type": "execute_result",
          "data": {
            "text/plain": [
              "<IPython.core.display.Math object>"
            ],
            "text/latex": "$\\displaystyle \\mathbf{q} = \\left[\\begin{matrix}\\alpha \\sigma_{x} + \\beta \\tau_{xy} + \\gamma \\tau_{xz}\\\\\\alpha \\tau_{xy} + \\beta \\sigma_{y} + \\gamma \\tau_{yz}\\\\\\alpha \\tau_{xz} + \\beta \\tau_{yz} + \\gamma \\sigma_{z}\\end{matrix}\\right]$"
          },
          "metadata": {},
          "execution_count": 18
        }
      ]
    },
    {
      "cell_type": "markdown",
      "source": [
        "Se hace el producto punto $\\left \\langle \\mathbf{q}, \\mathbf{\\hat{n}} \\right \\rangle$ para obtener $\\sigma_n$ "
      ],
      "metadata": {
        "id": "PNexUSzwpNoR"
      }
    },
    {
      "cell_type": "code",
      "source": [
        "sigma_n = sp.expand( sp.Transpose(q)*ng )\n",
        "imprimir(r\"\\sigma_n = \", sigma_n[0])    "
      ],
      "metadata": {
        "colab": {
          "base_uri": "https://localhost:8080/",
          "height": 38
        },
        "id": "KNY9-geapHll",
        "outputId": "2e7fa766-3f1b-4684-ff68-6add1907b096"
      },
      "execution_count": 16,
      "outputs": [
        {
          "output_type": "execute_result",
          "data": {
            "text/plain": [
              "<IPython.core.display.Math object>"
            ],
            "text/latex": "$\\displaystyle \\sigma_n = \\alpha^{2} \\sigma_{x} + 2 \\alpha \\beta \\tau_{xy} + 2 \\alpha \\gamma \\tau_{xz} + \\beta^{2} \\sigma_{y} + 2 \\beta \\gamma \\tau_{yz} + \\gamma^{2} \\sigma_{z}$"
          },
          "metadata": {},
          "execution_count": 16
        }
      ]
    },
    {
      "cell_type": "markdown",
      "source": [
        "Finalmente, se calcula el valor del esfuerzo cortante (su magnitud) sabiendo que:  \n",
        "\n",
        "$$|\\tau_n| := \\left \\| \\boldsymbol{\\sigma_s} \\right \\|$$ \n",
        "\n",
        "Y por pitágoras\n",
        "\n",
        "$$ \\left \\| \\mathbf{q} \\right \\| ^2 = \\sigma_n^2 + \\tau_n^2$$"
      ],
      "metadata": {
        "id": "DVUFj0DVqTlX"
      }
    },
    {
      "cell_type": "code",
      "source": [
        "taun2 = q.T*q - sigma_n**2  # sp.Transpose(q)*q = q.T * q  \n",
        "imprimir(r\"\\tau_n^2 = \", taun2[0])  "
      ],
      "metadata": {
        "colab": {
          "base_uri": "https://localhost:8080/",
          "height": 41
        },
        "id": "ea9LeRLzp5M0",
        "outputId": "a4658c07-d55e-4dcf-d4a4-446ade1c0cf1"
      },
      "execution_count": 17,
      "outputs": [
        {
          "output_type": "execute_result",
          "data": {
            "text/plain": [
              "<IPython.core.display.Math object>"
            ],
            "text/latex": "$\\displaystyle \\tau_n^2 = \\left(\\alpha \\sigma_{x} + \\beta \\tau_{xy} + \\gamma \\tau_{xz}\\right)^{2} + \\left(\\alpha \\tau_{xy} + \\beta \\sigma_{y} + \\gamma \\tau_{yz}\\right)^{2} + \\left(\\alpha \\tau_{xz} + \\beta \\tau_{yz} + \\gamma \\sigma_{z}\\right)^{2} - \\left(\\alpha^{2} \\sigma_{x} + 2 \\alpha \\beta \\tau_{xy} + 2 \\alpha \\gamma \\tau_{xz} + \\beta^{2} \\sigma_{y} + 2 \\beta \\gamma \\tau_{yz} + \\gamma^{2} \\sigma_{z}\\right)^{2}$"
          },
          "metadata": {},
          "execution_count": 17
        }
      ]
    }
  ]
}