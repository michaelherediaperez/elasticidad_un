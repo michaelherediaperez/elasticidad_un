{
 "cells": [
  {
   "cell_type": "markdown",
   "metadata": {
    "colab_type": "text",
    "id": "view-in-github"
   },
   "source": [
    "<a href=\"https://colab.research.google.com/github/michaelherediaperez/mecanica_de_solidos_un/blob/main/codigos/cap_02/02_07.ipynb\" target=\"_parent\"><img src=\"https://colab.research.google.com/assets/colab-badge.svg\" alt=\"Open In Colab\"/></a>"
   ]
  },
  {
   "cell_type": "markdown",
   "metadata": {
    "id": "2pOZDC-bnLTv"
   },
   "source": [
    "# 2.7. Esfuerzos normales y tangenciales sobre un plano\n",
    "\n",
    "|Quién | Fecha | Qué hizo |\n",
    "| ---  | ---   | ---      |\n",
    "|Michael Heredia Pérez, <mherediap@unal.edu.co> | Julio 14, 2022 | Conversión de código de MAXIMA a Python|\n",
    "|Michael Heredia Pérez, <mherediap@unal.edu.co> | Septiembre 7, 2022 | Mejorando legibilidad|\n",
    "|Diego Andrés Alvarez, <daalvarez@unal.edu.co>  | Septiembre 7, 2022 | Cálculo de los esfuerzos cortantes sobre los planos normales a los vectores $\\hat{\\boldsymbol{e}}_1 \\equiv \\boldsymbol{\\hat i}$, $\\hat{\\boldsymbol{e}}_2 \\equiv \\boldsymbol{\\hat j}$ y $\\hat{\\boldsymbol{e}}_3 \\equiv \\boldsymbol{\\hat k}$                  |\n",
    "\n",
    "Verificación de las operaciones realizadas."
   ]
  },
  {
   "cell_type": "code",
   "execution_count": 1,
   "metadata": {
    "id": "MyIMIKxnnG0j"
   },
   "outputs": [],
   "source": [
    "import sympy as sp  # Librería para cálculo simbólico.\n",
    "\n",
    "# Para imprimir bonito\n",
    "sp.init_printing() \n",
    "from IPython.display import Math               \n",
    "def imprimir (texto, variable):\n",
    "    return Math(texto +  rf'{sp.latex(variable)}')"
   ]
  },
  {
   "cell_type": "markdown",
   "metadata": {
    "id": "5Ik7bF5VnsYs"
   },
   "source": [
    "Se definen las variables simbólicas necesarias."
   ]
  },
  {
   "cell_type": "code",
   "execution_count": 2,
   "metadata": {
    "colab": {
     "base_uri": "https://localhost:8080/",
     "height": 38
    },
    "id": "wBkCUDEunnka",
    "outputId": "ae5fa7ae-6272-400a-9525-f9cb956bac8c"
   },
   "outputs": [],
   "source": [
    "sx, sy, sz        = sp.symbols(\"sigma_x, sigma_y, sigma_z\")\n",
    "txy, txz, tyz     = sp.symbols(\"tau_xy, tau_xz, tau_yz\")\n",
    "alfa, beta, gamma = sp.symbols(\"alpha, beta, gamma\")"
   ]
  },
  {
   "cell_type": "markdown",
   "metadata": {
    "id": "RNSrWyIin2MM"
   },
   "source": [
    "Se define la matriz de tensiones en coordenadas rectangulares: $\\underline{\\underline{\\boldsymbol{\\sigma}}}$"
   ]
  },
  {
   "cell_type": "code",
   "execution_count": 3,
   "metadata": {
    "colab": {
     "base_uri": "https://localhost:8080/",
     "height": 78
    },
    "id": "DW_E0619n1OI",
    "outputId": "1eb85b13-4257-40fd-f1db-4301ffbbca53"
   },
   "outputs": [
    {
     "data": {
      "text/latex": [
       "$\\displaystyle \\underline{\\underline{\\boldsymbol{\\sigma}}} = \\left[\\begin{matrix}\\sigma_{x} & \\tau_{xy} & \\tau_{xz}\\\\\\tau_{xy} & \\sigma_{y} & \\tau_{yz}\\\\\\tau_{xz} & \\tau_{yz} & \\sigma_{z}\\end{matrix}\\right]$"
      ],
      "text/plain": [
       "<IPython.core.display.Math object>"
      ]
     },
     "execution_count": 3,
     "metadata": {},
     "output_type": "execute_result"
    }
   ],
   "source": [
    "sigma = sp.Matrix([[ sx, txy, txz],\n",
    "                   [txy,  sy, tyz],\n",
    "                   [txz, tyz,  sz]])\n",
    "imprimir(r\"\\underline{\\underline{\\boldsymbol{\\sigma}}} = \", sigma)"
   ]
  },
  {
   "cell_type": "markdown",
   "metadata": {
    "id": "ZjLI-hiHojv7"
   },
   "source": [
    "Se define el vector columna $\\boldsymbol{\\hat{n}}$ (```ng```) "
   ]
  },
  {
   "cell_type": "code",
   "execution_count": 4,
   "metadata": {
    "colab": {
     "base_uri": "https://localhost:8080/",
     "height": 78
    },
    "id": "lvVcnHAuoWP4",
    "outputId": "3a3c838a-0c22-42f1-a2be-1a0ccef4c5ba"
   },
   "outputs": [
    {
     "data": {
      "text/latex": [
       "$\\displaystyle \\boldsymbol{\\hat{n}} = \\left[\\begin{matrix}\\alpha\\\\\\beta\\\\\\gamma\\end{matrix}\\right]$"
      ],
      "text/plain": [
       "<IPython.core.display.Math object>"
      ]
     },
     "execution_count": 4,
     "metadata": {},
     "output_type": "execute_result"
    }
   ],
   "source": [
    "ng = sp.Matrix([alfa, beta, gamma])\n",
    "imprimir(r\"\\boldsymbol{\\hat{n}} = \", ng)"
   ]
  },
  {
   "cell_type": "markdown",
   "metadata": {
    "id": "tLNdzbgYo-75"
   },
   "source": [
    "Se calcula el vector $\\boldsymbol{q}$"
   ]
  },
  {
   "cell_type": "code",
   "execution_count": 5,
   "metadata": {
    "colab": {
     "base_uri": "https://localhost:8080/",
     "height": 78
    },
    "id": "mc6xwpRJo8TW",
    "outputId": "116e4647-add4-4c00-9654-3af44f9b2c92"
   },
   "outputs": [
    {
     "data": {
      "text/latex": [
       "$\\displaystyle \\boldsymbol{q} = \\left[\\begin{matrix}\\alpha \\sigma_{x} + \\beta \\tau_{xy} + \\gamma \\tau_{xz}\\\\\\alpha \\tau_{xy} + \\beta \\sigma_{y} + \\gamma \\tau_{yz}\\\\\\alpha \\tau_{xz} + \\beta \\tau_{yz} + \\gamma \\sigma_{z}\\end{matrix}\\right]$"
      ],
      "text/plain": [
       "<IPython.core.display.Math object>"
      ]
     },
     "execution_count": 5,
     "metadata": {},
     "output_type": "execute_result"
    }
   ],
   "source": [
    "q = sigma*ng\n",
    "imprimir(r\"\\boldsymbol{q} = \", q)"
   ]
  },
  {
   "cell_type": "markdown",
   "metadata": {
    "id": "PNexUSzwpNoR"
   },
   "source": [
    "Se hace el producto punto $\\left \\langle \\boldsymbol{q}, \\boldsymbol{\\hat{n}} \\right \\rangle$ para obtener $\\sigma_n$ "
   ]
  },
  {
   "cell_type": "code",
   "execution_count": 6,
   "metadata": {
    "colab": {
     "base_uri": "https://localhost:8080/",
     "height": 38
    },
    "id": "KNY9-geapHll",
    "outputId": "2e7fa766-3f1b-4684-ff68-6add1907b096"
   },
   "outputs": [
    {
     "data": {
      "text/latex": [
       "$\\displaystyle \\sigma_n = \\alpha^{2} \\sigma_{x} + 2 \\alpha \\beta \\tau_{xy} + 2 \\alpha \\gamma \\tau_{xz} + \\beta^{2} \\sigma_{y} + 2 \\beta \\gamma \\tau_{yz} + \\gamma^{2} \\sigma_{z}$"
      ],
      "text/plain": [
       "<IPython.core.display.Math object>"
      ]
     },
     "execution_count": 6,
     "metadata": {},
     "output_type": "execute_result"
    }
   ],
   "source": [
    "sigma_n = sp.expand(q.dot(ng))       # es equivalente a: sigma_n = sp.expand(q.T*ng)[0]\n",
    "imprimir(r\"\\sigma_n = \", sigma_n)"
   ]
  },
  {
   "cell_type": "markdown",
   "metadata": {
    "id": "DVUFj0DVqTlX"
   },
   "source": [
    "Finalmente, se calcula el valor del esfuerzo cortante (su magnitud) sabiendo que:  \n",
    "\n",
    "$$|\\tau_n| := \\left \\| \\boldsymbol{\\sigma_s} \\right \\|$$ \n",
    "\n",
    "Y por Pitágoras\n",
    "\n",
    "$$ \\left \\| \\boldsymbol{q} \\right \\| ^2 = \\sigma_n^2 + \\tau_n^2$$"
   ]
  },
  {
   "cell_type": "code",
   "execution_count": 7,
   "metadata": {},
   "outputs": [
    {
     "data": {
      "image/png": "[encoded data removed]",
      "text/latex": [
       "$\\displaystyle \\left(\\alpha \\sigma_{x} + \\beta \\tau_{xy} + \\gamma \\tau_{xz}\\right)^{2} + \\left(\\alpha \\tau_{xy} + \\beta \\sigma_{y} + \\gamma \\tau_{yz}\\right)^{2} + \\left(\\alpha \\tau_{xz} + \\beta \\tau_{yz} + \\gamma \\sigma_{z}\\right)^{2}$"
      ],
      "text/plain": [
       "                        2                            2                        \n",
       "(α⋅σₓ + β⋅τ_xy + γ⋅τ_xz)  + (α⋅τ_xy + β⋅σ_y + γ⋅τ_yz)  + (α⋅τ_xz + β⋅τ_yz + γ⋅\n",
       "\n",
       "    2\n",
       "σ_z) "
      ]
     },
     "execution_count": 7,
     "metadata": {},
     "output_type": "execute_result"
    }
   ],
   "source": [
    "# se calcula |q|²\n",
    "q.dot(q)"
   ]
  },
  {
   "cell_type": "code",
   "execution_count": 8,
   "metadata": {
    "colab": {
     "base_uri": "https://localhost:8080/",
     "height": 41
    },
    "id": "ea9LeRLzp5M0",
    "outputId": "a4658c07-d55e-4dcf-d4a4-446ade1c0cf1"
   },
   "outputs": [
    {
     "data": {
      "text/latex": [
       "$\\displaystyle \\tau_n^2 = \\left(\\alpha \\sigma_{x} + \\beta \\tau_{xy} + \\gamma \\tau_{xz}\\right)^{2} + \\left(\\alpha \\tau_{xy} + \\beta \\sigma_{y} + \\gamma \\tau_{yz}\\right)^{2} + \\left(\\alpha \\tau_{xz} + \\beta \\tau_{yz} + \\gamma \\sigma_{z}\\right)^{2} - \\left(\\alpha^{2} \\sigma_{x} + 2 \\alpha \\beta \\tau_{xy} + 2 \\alpha \\gamma \\tau_{xz} + \\beta^{2} \\sigma_{y} + 2 \\beta \\gamma \\tau_{yz} + \\gamma^{2} \\sigma_{z}\\right)^{2}$"
      ],
      "text/plain": [
       "<IPython.core.display.Math object>"
      ]
     },
     "execution_count": 8,
     "metadata": {},
     "output_type": "execute_result"
    }
   ],
   "source": [
    "taun2 = q.dot(q) - sigma_n**2        # sp.Transpose(q)*q = q.T * q  \n",
    "imprimir(r\"\\tau_n^2 = \", taun2)  "
   ]
  },
  {
   "cell_type": "markdown",
   "metadata": {},
   "source": [
    "Calculemos los esfuerzos cortantes sobre los planos normales a los vectores $\\hat{\\boldsymbol{e}}_1 \\equiv \\boldsymbol{\\hat i}$, $\\hat{\\boldsymbol{e}}_2 \\equiv \\boldsymbol{\\hat j}$ y $\\hat{\\boldsymbol{e}}_3 \\equiv \\boldsymbol{\\hat k}$, respectivamente:"
   ]
  },
  {
   "cell_type": "code",
   "execution_count": 9,
   "metadata": {},
   "outputs": [
    {
     "data": {
      "image/png": "[encoded data removed]",
      "text/latex": [
       "$\\displaystyle \\tau_{xy}^{2} + \\tau_{xz}^{2}$"
      ],
      "text/plain": [
       "    2       2\n",
       "τ_xy  + τ_xz "
      ]
     },
     "execution_count": 9,
     "metadata": {},
     "output_type": "execute_result"
    }
   ],
   "source": [
    "taun2.subs([(alfa,1), (beta,0), (gamma, 0)])"
   ]
  },
  {
   "cell_type": "code",
   "execution_count": 10,
   "metadata": {},
   "outputs": [
    {
     "data": {
      "image/png": "[encoded data removed]",
      "text/latex": [
       "$\\displaystyle \\tau_{xy}^{2} + \\tau_{yz}^{2}$"
      ],
      "text/plain": [
       "    2       2\n",
       "τ_xy  + τ_yz "
      ]
     },
     "execution_count": 10,
     "metadata": {},
     "output_type": "execute_result"
    }
   ],
   "source": [
    "taun2.subs([(alfa,0), (beta,1), (gamma, 0)])"
   ]
  },
  {
   "cell_type": "code",
   "execution_count": 11,
   "metadata": {},
   "outputs": [
    {
     "data": {
      "image/png": "[encoded data removed]",
      "text/latex": [
       "$\\displaystyle \\tau_{xz}^{2} + \\tau_{yz}^{2}$"
      ],
      "text/plain": [
       "    2       2\n",
       "τ_xz  + τ_yz "
      ]
     },
     "execution_count": 11,
     "metadata": {},
     "output_type": "execute_result"
    }
   ],
   "source": [
    "taun2.subs([(alfa,0), (beta,0), (gamma, 1)])"
   ]
  }
 ],
 "metadata": {
  "colab": {
   "authorship_tag": "ABX9TyMxSLZF8aJ6qHwFpqrN6+5+",
   "collapsed_sections": [],
   "include_colab_link": true,
   "provenance": []
  },
  "kernelspec": {
   "display_name": "Python 3 (ipykernel)",
   "language": "python",
   "name": "python3"
  },
  "language_info": {
   "codemirror_mode": {
    "name": "ipython",
    "version": 3
   },
   "file_extension": ".py",
   "mimetype": "text/x-python",
   "name": "python",
   "nbconvert_exporter": "python",
   "pygments_lexer": "ipython3",
   "version": "3.10.4"
  }
 },
 "nbformat": 4,
 "nbformat_minor": 1
}
