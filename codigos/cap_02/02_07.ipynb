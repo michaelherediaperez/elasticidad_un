{
  "nbformat": 4,
  "nbformat_minor": 0,
  "metadata": {
    "colab": {
      "name": "02_07.ipynb",
      "provenance": [],
      "collapsed_sections": [],
      "authorship_tag": "ABX9TyNWQtTvf2/8ymnNG/otR3d1",
      "include_colab_link": true
    },
    "kernelspec": {
      "name": "python3",
      "display_name": "Python 3"
    },
    "language_info": {
      "name": "python"
    }
  },
  "cells": [
    {
      "cell_type": "markdown",
      "metadata": {
        "id": "view-in-github",
        "colab_type": "text"
      },
      "source": [
        "<a href=\"https://colab.research.google.com/github/michaelherediaperez/mecanica_de_solidos_un/blob/main/codigos/cap_02/02_07.ipynb\" target=\"_parent\"><img src=\"https://colab.research.google.com/assets/colab-badge.svg\" alt=\"Open In Colab\"/></a>"
      ]
    },
    {
      "cell_type": "markdown",
      "source": [
        "# 2.7. Esfuerzos normales y tangenciales sobre un plano.\n",
        "\n",
        "|Quién | Fecha | Qué hizo |\n",
        "| ---  | ---   | ---      |\n",
        "|Michael Heredia Pérez, <mherediap@unal.edu.co> | Julio 14, 2022 | Conversión de código de MAXIMA a Python|\n",
        "\n",
        "Verificación de las operaciones realizadas."
      ],
      "metadata": {
        "id": "2pOZDC-bnLTv"
      }
    },
    {
      "cell_type": "code",
      "execution_count": 1,
      "metadata": {
        "id": "MyIMIKxnnG0j"
      },
      "outputs": [],
      "source": [
        "import sympy as sp  # Librería para cálculo simbólico.\n",
        "\n",
        "# Para imprimir bonito.\n",
        "sp.init_printing() "
      ]
    },
    {
      "cell_type": "markdown",
      "source": [
        "Se definen las variables simbólicas necesarias. Se emplea la notación de $\\LaTeX$"
      ],
      "metadata": {
        "id": "5Ik7bF5VnsYs"
      }
    },
    {
      "cell_type": "code",
      "source": [
        "sx, sy, sz        = sp.symbols(r\"\\sigma_x, \\sigma_y, \\sigma_z\")\n",
        "txy, txz, tyz     = sp.symbols(r\"\\tau_{xy}, \\tau_{xz}, \\tau_{yz}\")\n",
        "alfa, beta, gamma = sp.symbols(r\"\\alpha, \\beta, \\gamma\")"
      ],
      "metadata": {
        "id": "wBkCUDEunnka"
      },
      "execution_count": 2,
      "outputs": []
    },
    {
      "cell_type": "markdown",
      "source": [
        "Se define la matriz de tensiones en coordenadas rectagnulares: $\\sigma$"
      ],
      "metadata": {
        "id": "RNSrWyIin2MM"
      }
    },
    {
      "cell_type": "code",
      "source": [
        "sigma = sp.Matrix([ [sx, txy, txz],\n",
        "                    [txy, sy, tyz],\n",
        "                    [txz, tyz, sz] ])\n",
        "sigma"
      ],
      "metadata": {
        "colab": {
          "base_uri": "https://localhost:8080/",
          "height": 78
        },
        "id": "DW_E0619n1OI",
        "outputId": "c4e0b6a3-74bd-4111-8e8e-89662252c3f5"
      },
      "execution_count": 3,
      "outputs": [
        {
          "output_type": "execute_result",
          "data": {
            "text/plain": [
              "⎡ \\sigmaₓ   \\tau_{xy}  \\tau_{xz}⎤\n",
              "⎢                               ⎥\n",
              "⎢\\tau_{xy}  \\sigma_y   \\tau_{yz}⎥\n",
              "⎢                               ⎥\n",
              "⎣\\tau_{xz}  \\tau_{yz}  \\sigma_z ⎦"
            ],
            "text/latex": "$\\displaystyle \\left[\\begin{matrix}\\sigma_{x} & \\tau_{xy} & \\tau_{xz}\\\\\\tau_{xy} & \\sigma_{y} & \\tau_{yz}\\\\\\tau_{xz} & \\tau_{yz} & \\sigma_{z}\\end{matrix}\\right]$"
          },
          "metadata": {},
          "execution_count": 3
        }
      ]
    },
    {
      "cell_type": "markdown",
      "source": [
        "Se define el vector columna $\\hat{n}$ (```ng```) "
      ],
      "metadata": {
        "id": "ZjLI-hiHojv7"
      }
    },
    {
      "cell_type": "code",
      "source": [
        "ng = sp.Matrix([alfa, beta, gamma])\n",
        "ng"
      ],
      "metadata": {
        "colab": {
          "base_uri": "https://localhost:8080/",
          "height": 78
        },
        "id": "lvVcnHAuoWP4",
        "outputId": "9e5889ca-0c1a-44d4-edb9-7d341b78b62e"
      },
      "execution_count": 4,
      "outputs": [
        {
          "output_type": "execute_result",
          "data": {
            "text/plain": [
              "⎡\\alpha⎤\n",
              "⎢      ⎥\n",
              "⎢\\beta ⎥\n",
              "⎢      ⎥\n",
              "⎣\\gamma⎦"
            ],
            "text/latex": "$\\displaystyle \\left[\\begin{matrix}\\alpha\\\\\\beta\\\\\\gamma\\end{matrix}\\right]$"
          },
          "metadata": {},
          "execution_count": 4
        }
      ]
    },
    {
      "cell_type": "markdown",
      "source": [
        "Se calcula el vector $q$"
      ],
      "metadata": {
        "id": "tLNdzbgYo-75"
      }
    },
    {
      "cell_type": "code",
      "source": [
        "q = sigma*ng\n",
        "q"
      ],
      "metadata": {
        "colab": {
          "base_uri": "https://localhost:8080/",
          "height": 78
        },
        "id": "mc6xwpRJo8TW",
        "outputId": "07805ac8-0d33-44b8-c63d-e83aace1f07b"
      },
      "execution_count": 5,
      "outputs": [
        {
          "output_type": "execute_result",
          "data": {
            "text/plain": [
              "⎡\\alpha⋅\\sigmaₓ + \\beta⋅\\tau_{xy} + \\gamma⋅\\tau_{xz} ⎤\n",
              "⎢                                                    ⎥\n",
              "⎢\\alpha⋅\\tau_{xy} + \\beta⋅\\sigma_y + \\gamma⋅\\tau_{yz}⎥\n",
              "⎢                                                    ⎥\n",
              "⎣\\alpha⋅\\tau_{xz} + \\beta⋅\\tau_{yz} + \\gamma⋅\\sigma_z⎦"
            ],
            "text/latex": "$\\displaystyle \\left[\\begin{matrix}\\alpha \\sigma_{x} + \\beta \\tau_{xy} + \\gamma \\tau_{xz}\\\\\\alpha \\tau_{xy} + \\beta \\sigma_{y} + \\gamma \\tau_{yz}\\\\\\alpha \\tau_{xz} + \\beta \\tau_{yz} + \\gamma \\sigma_{z}\\end{matrix}\\right]$"
          },
          "metadata": {},
          "execution_count": 5
        }
      ]
    },
    {
      "cell_type": "markdown",
      "source": [
        "Se haceelproducto punto entre $q$ (```q```) y $\\hat{n}$ (```ng```) para obtener $\\sigma_n$ (```sigman```)\n",
        "\n",
        "$\\sigma_n=$"
      ],
      "metadata": {
        "id": "PNexUSzwpNoR"
      }
    },
    {
      "cell_type": "code",
      "source": [
        "sigman = sp.expand( sp.Transpose(q)*ng )\n",
        "sigman[0]   # En simpy TODO son matrices, para que no salga con corchetes \n",
        "            # selecciono el primer (y único) elemento."
      ],
      "metadata": {
        "colab": {
          "base_uri": "https://localhost:8080/",
          "height": 38
        },
        "id": "KNY9-geapHll",
        "outputId": "4d8f5f56-6a45-4871-d091-b00f37b6c030"
      },
      "execution_count": 6,
      "outputs": [
        {
          "output_type": "execute_result",
          "data": {
            "text/plain": [
              "      2                                                                       \n",
              "\\alpha ⋅\\sigmaₓ + 2⋅\\alpha⋅\\beta⋅\\tau_{xy} + 2⋅\\alpha⋅\\gamma⋅\\tau_{xz} + \\beta\n",
              "\n",
              "2                                             2         \n",
              " ⋅\\sigma_y + 2⋅\\beta⋅\\gamma⋅\\tau_{yz} + \\gamma ⋅\\sigma_z"
            ],
            "image/png": "[encoded data removed]",
            "text/latex": "$\\displaystyle \\alpha^{2} \\sigma_{x} + 2 \\alpha \\beta \\tau_{xy} + 2 \\alpha \\gamma \\tau_{xz} + \\beta^{2} \\sigma_{y} + 2 \\beta \\gamma \\tau_{yz} + \\gamma^{2} \\sigma_{z}$"
          },
          "metadata": {},
          "execution_count": 6
        }
      ]
    },
    {
      "cell_type": "markdown",
      "source": [
        "Finalmente, la expresión para $\\tau_n$ (```taun```) se presenta elevada al cuadrado ($^2$).\n",
        "\n",
        "$\\tau_n^2=$"
      ],
      "metadata": {
        "id": "DVUFj0DVqTlX"
      }
    },
    {
      "cell_type": "code",
      "source": [
        "taun2 = sp.Transpose(q)*q - sigman**2\n",
        "taun2[0]"
      ],
      "metadata": {
        "colab": {
          "base_uri": "https://localhost:8080/",
          "height": 41
        },
        "id": "ea9LeRLzp5M0",
        "outputId": "78457395-5bf6-4dde-8c5c-8c5bbe6dac5b"
      },
      "execution_count": 7,
      "outputs": [
        {
          "output_type": "execute_result",
          "data": {
            "text/plain": [
              "                                                                              \n",
              "                                                     2                        \n",
              "(\\alpha⋅\\sigmaₓ + \\beta⋅\\tau_{xy} + \\gamma⋅\\tau_{xz})  + (\\alpha⋅\\tau_{xy} + \\\n",
              "\n",
              "                                                                              \n",
              "                                 2                                            \n",
              "beta⋅\\sigma_y + \\gamma⋅\\tau_{yz})  + (\\alpha⋅\\tau_{xz} + \\beta⋅\\tau_{yz} + \\ga\n",
              "\n",
              "                                                                              \n",
              "             2   ⎛      2                                                     \n",
              "mma⋅\\sigma_z)  - ⎝\\alpha ⋅\\sigmaₓ + 2⋅\\alpha⋅\\beta⋅\\tau_{xy} + 2⋅\\alpha⋅\\gamma\n",
              "\n",
              "                                                                           2\n",
              "                  2                                             2         ⎞ \n",
              "⋅\\tau_{xz} + \\beta ⋅\\sigma_y + 2⋅\\beta⋅\\gamma⋅\\tau_{yz} + \\gamma ⋅\\sigma_z⎠ "
            ],
            "image/png": "[encoded data removed]",
            "text/latex": "$\\displaystyle \\left(\\alpha \\sigma_{x} + \\beta \\tau_{xy} + \\gamma \\tau_{xz}\\right)^{2} + \\left(\\alpha \\tau_{xy} + \\beta \\sigma_{y} + \\gamma \\tau_{yz}\\right)^{2} + \\left(\\alpha \\tau_{xz} + \\beta \\tau_{yz} + \\gamma \\sigma_{z}\\right)^{2} - \\left(\\alpha^{2} \\sigma_{x} + 2 \\alpha \\beta \\tau_{xy} + 2 \\alpha \\gamma \\tau_{xz} + \\beta^{2} \\sigma_{y} + 2 \\beta \\gamma \\tau_{yz} + \\gamma^{2} \\sigma_{z}\\right)^{2}$"
          },
          "metadata": {},
          "execution_count": 7
        }
      ]
    }
  ]
}