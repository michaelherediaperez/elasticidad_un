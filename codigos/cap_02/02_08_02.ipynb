{
  "cells": [
    {
      "cell_type": "markdown",
      "metadata": {
        "id": "Wt1ihxMd0SbZ"
      },
      "source": [
        "# 2.8.2. Tensiones y direcciones principales en tres dimensiones\n",
        "\n",
        "|Quién | Fecha | Qué hizo |\n",
        "| ---  | ---   | ---      |\n",
        "|Michael Heredia Pérez, <mherediap@unal.edu.co> | Julio 14, 2022 | Conversión de código de MAXIMA a Python|\n",
        "|Diego Andrés Alvarez, <daalvarez@unal.edu.co>  | Septiembre 13, 2022 | Método alterno para calcular el polinomio característico |"
      ]
    },
    {
      "cell_type": "code",
      "execution_count": 1,
      "metadata": {
        "id": "zWB0-GrS0OSE"
      },
      "outputs": [],
      "source": [
        "import sympy as sp  # Librería para cálculo simbólico.\n",
        "\n",
        "# Para imprimir bonito\n",
        "sp.init_printing()\n",
        "from IPython.display import Math                 \n",
        "def imprimir (texto, variable):\n",
        "    return Math(texto +  rf'{sp.latex(variable)}')"
      ]
    },
    {
      "cell_type": "markdown",
      "metadata": {
        "id": "2JjBA749118M"
      },
      "source": [
        "Se definen las variables simbólicas necesarias. Se emplea la notación de $\\LaTeX$"
      ]
    },
    {
      "cell_type": "code",
      "execution_count": 2,
      "metadata": {
        "id": "ddjskHfK1zv-"
      },
      "outputs": [],
      "source": [
        "sx, sy, sz, txy, txz, tyz = sp.symbols(r\"sigma_x, sigma_y, sigma_z, tau_xy, tau_xz, tau_yz\")\n",
        "sn                        = sp.Symbol(r\"sigma_n\")"
      ]
    },
    {
      "cell_type": "markdown",
      "metadata": {
        "id": "tbqP2R9016tM"
      },
      "source": [
        "Se define la matriz de tensiones en coordenadas rectangulares: $\\underline{\\underline{\\boldsymbol{\\sigma}}}$"
      ]
    },
    {
      "cell_type": "code",
      "execution_count": 3,
      "metadata": {
        "colab": {
          "base_uri": "https://localhost:8080/",
          "height": 79
        },
        "id": "3_JDj3ja14gG",
        "outputId": "ee7702eb-c13f-4e8c-c18c-d66ee5fd3c12"
      },
      "outputs": [
        {
          "output_type": "execute_result",
          "data": {
            "text/plain": [
              "<IPython.core.display.Math object>"
            ],
            "text/latex": "$\\displaystyle \\underline{\\underline{\\boldsymbol{\\sigma}}} = \\left[\\begin{matrix}\\sigma_{x} & \\tau_{xy} & \\tau_{xz}\\\\\\tau_{xy} & \\sigma_{y} & \\tau_{yz}\\\\\\tau_{xz} & \\tau_{yz} & \\sigma_{z}\\end{matrix}\\right]$"
          },
          "metadata": {},
          "execution_count": 3
        }
      ],
      "source": [
        "sigma = sp.Matrix([[sx, txy, txz],\n",
        "                   [txy, sy, tyz],\n",
        "                   [txz, tyz, sz]])\n",
        "imprimir(r\"\\underline{\\underline{\\boldsymbol{\\sigma}}} = \", sigma)"
      ]
    },
    {
      "cell_type": "markdown",
      "metadata": {
        "id": "y9B4cJll2AO2"
      },
      "source": [
        "Se define el polinomio característico y se expresa en función de $\\sigma_n$ (```sn```). En MAXIMA se hace con el comando ```charpoly```, en SYMPY se emplea el comando de la librería ```sympy``` que lleva el mismo nombre.  "
      ]
    },
    {
      "cell_type": "code",
      "execution_count": 17,
      "metadata": {
        "colab": {
          "base_uri": "https://localhost:8080/",
          "height": 39
        },
        "id": "I_Fq8UKR19Lb",
        "outputId": "a9c0f7f5-abe3-4ec8-fe46-ce271f11b272"
      },
      "outputs": [
        {
          "output_type": "execute_result",
          "data": {
            "text/plain": [
              "    3     2                       ⎛                                 2       2 \n",
              "- σₙ  + σₙ ⋅(σₓ + σ_y + σ_z) + σₙ⋅⎝-σₓ⋅σ_y - σₓ⋅σ_z - σ_y⋅σ_z + τ_xy  + τ_xz  \n",
              "\n",
              "      2⎞                       2           2           2                   \n",
              "+ τ_yz ⎠ + σₓ⋅σ_y⋅σ_z - σₓ⋅τ_yz  - σ_y⋅τ_xz  - σ_z⋅τ_xy  + 2⋅τ_xy⋅τ_xz⋅τ_yz"
            ],
            "image/png": "[encoded data removed]",
            "text/latex": "$\\displaystyle - \\sigma_{n}^{3} + \\sigma_{n}^{2} \\left(\\sigma_{x} + \\sigma_{y} + \\sigma_{z}\\right) + \\sigma_{n} \\left(- \\sigma_{x} \\sigma_{y} - \\sigma_{x} \\sigma_{z} - \\sigma_{y} \\sigma_{z} + \\tau_{xy}^{2} + \\tau_{xz}^{2} + \\tau_{yz}^{2}\\right) + \\sigma_{x} \\sigma_{y} \\sigma_{z} - \\sigma_{x} \\tau_{yz}^{2} - \\sigma_{y} \\tau_{xz}^{2} - \\sigma_{z} \\tau_{xy}^{2} + 2 \\tau_{xy} \\tau_{xz} \\tau_{yz}$"
          },
          "metadata": {},
          "execution_count": 17
        }
      ],
      "source": [
        "# Debido a la convención de signos, multiplico por (-1) a ambos lados.\n",
        "polinomcar = -sigma.charpoly(sn)\n",
        "polinomcar.as_expr()                # No como un objeto, como expresión mat."
      ]
    },
    {
      "cell_type": "markdown",
      "metadata": {
        "id": "mApVyfhuFhZ8"
      },
      "source": [
        "Observe que el polinomio característico también se puede obtener como $\\det(\\underline{\\underline{\\boldsymbol{\\sigma}}} - \\sigma_n \\boldsymbol{I}) = 0$:"
      ]
    },
    {
      "cell_type": "code",
      "execution_count": 5,
      "metadata": {
        "id": "-N6gtN9JFhZ-",
        "outputId": "c129c92c-cac5-4428-e48a-13b0b92b83d8",
        "colab": {
          "base_uri": "https://localhost:8080/",
          "height": 39
        }
      },
      "outputs": [
        {
          "output_type": "execute_result",
          "data": {
            "text/plain": [
              "    3     2        2         2                                                \n",
              "- σₙ  + σₙ ⋅σₓ + σₙ ⋅σ_y + σₙ ⋅σ_z - σₙ⋅σₓ⋅σ_y - σₙ⋅σₓ⋅σ_z - σₙ⋅σ_y⋅σ_z + σₙ⋅τ\n",
              "\n",
              "   2          2          2                       2           2           2    \n",
              "_xy  + σₙ⋅τ_xz  + σₙ⋅τ_yz  + σₓ⋅σ_y⋅σ_z - σₓ⋅τ_yz  - σ_y⋅τ_xz  - σ_z⋅τ_xy  + 2\n",
              "\n",
              "               \n",
              "⋅τ_xy⋅τ_xz⋅τ_yz"
            ],
            "image/png": "[encoded data removed]",
            "text/latex": "$\\displaystyle - \\sigma_{n}^{3} + \\sigma_{n}^{2} \\sigma_{x} + \\sigma_{n}^{2} \\sigma_{y} + \\sigma_{n}^{2} \\sigma_{z} - \\sigma_{n} \\sigma_{x} \\sigma_{y} - \\sigma_{n} \\sigma_{x} \\sigma_{z} - \\sigma_{n} \\sigma_{y} \\sigma_{z} + \\sigma_{n} \\tau_{xy}^{2} + \\sigma_{n} \\tau_{xz}^{2} + \\sigma_{n} \\tau_{yz}^{2} + \\sigma_{x} \\sigma_{y} \\sigma_{z} - \\sigma_{x} \\tau_{yz}^{2} - \\sigma_{y} \\tau_{xz}^{2} - \\sigma_{z} \\tau_{xy}^{2} + 2 \\tau_{xy} \\tau_{xz} \\tau_{yz}$"
          },
          "metadata": {},
          "execution_count": 5
        }
      ],
      "source": [
        "I = sp.eye(3)  # la matriz identidad\n",
        "polinomcar2 = sp.det(sigma - sn*I)\n",
        "polinomcar2"
      ]
    },
    {
      "cell_type": "markdown",
      "metadata": {
        "id": "T_2JEOhnFhZ_"
      },
      "source": [
        "Ambas formas dan el mismo resultado:"
      ]
    },
    {
      "cell_type": "code",
      "execution_count": 6,
      "metadata": {
        "id": "bV6P6nGPFhaB",
        "outputId": "b699bafd-d6b2-421b-ef26-21bb2708db23",
        "colab": {
          "base_uri": "https://localhost:8080/",
          "height": 37
        }
      },
      "outputs": [
        {
          "output_type": "execute_result",
          "data": {
            "text/plain": [
              "0"
            ],
            "image/png": "[encoded data removed]",
            "text/latex": "$\\displaystyle 0$"
          },
          "metadata": {},
          "execution_count": 6
        }
      ],
      "source": [
        "sp.expand(polinomcar.as_expr() - polinomcar2)"
      ]
    },
    {
      "cell_type": "markdown",
      "metadata": {
        "id": "I-1l93ZI3caS"
      },
      "source": [
        "Con el método ```all_coeff()``` se extraen los coeficientes del polinomio característico aún si son cero (0). "
      ]
    },
    {
      "cell_type": "code",
      "execution_count": 7,
      "metadata": {
        "colab": {
          "base_uri": "https://localhost:8080/",
          "height": 39
        },
        "id": "EZ85JqUk3VPh",
        "outputId": "61ce24c2-4948-421e-ae05-df87f5cfc634"
      },
      "outputs": [
        {
          "output_type": "execute_result",
          "data": {
            "text/plain": [
              "⎡                                                     2       2       2       \n",
              "⎣-1, σₓ + σ_y + σ_z, -σₓ⋅σ_y - σₓ⋅σ_z - σ_y⋅σ_z + τ_xy  + τ_xz  + τ_yz , σₓ⋅σ_\n",
              "\n",
              "               2           2           2                   ⎤\n",
              "y⋅σ_z - σₓ⋅τ_yz  - σ_y⋅τ_xz  - σ_z⋅τ_xy  + 2⋅τ_xy⋅τ_xz⋅τ_yz⎦"
            ],
            "image/png": "[encoded data removed]",
            "text/latex": "$\\displaystyle \\left[ -1, \\  \\sigma_{x} + \\sigma_{y} + \\sigma_{z}, \\  - \\sigma_{x} \\sigma_{y} - \\sigma_{x} \\sigma_{z} - \\sigma_{y} \\sigma_{z} + \\tau_{xy}^{2} + \\tau_{xz}^{2} + \\tau_{yz}^{2}, \\  \\sigma_{x} \\sigma_{y} \\sigma_{z} - \\sigma_{x} \\tau_{yz}^{2} - \\sigma_{y} \\tau_{xz}^{2} - \\sigma_{z} \\tau_{xy}^{2} + 2 \\tau_{xy} \\tau_{xz} \\tau_{yz}\\right]$"
          },
          "metadata": {},
          "execution_count": 7
        }
      ],
      "source": [
        "invar = polinomcar.all_coeffs()\n",
        "invar"
      ]
    },
    {
      "cell_type": "markdown",
      "metadata": {
        "id": "b2hyGoW5s8eQ"
      },
      "source": [
        "Estos coeficientes son los invariantes de esfuerzos. Se extraen a continuación:"
      ]
    },
    {
      "cell_type": "code",
      "execution_count": 8,
      "metadata": {
        "colab": {
          "base_uri": "https://localhost:8080/",
          "height": 38
        },
        "id": "gk7zkq0TrJiz",
        "outputId": "257b846b-0e6f-434e-d5aa-081c3fb0f6be"
      },
      "outputs": [
        {
          "output_type": "execute_result",
          "data": {
            "text/plain": [
              "<IPython.core.display.Math object>"
            ],
            "text/latex": "$\\displaystyle I_0 = -1$"
          },
          "metadata": {},
          "execution_count": 8
        }
      ],
      "source": [
        "I0 = invar[0]\n",
        "imprimir(r\"I_0 = \", I0)"
      ]
    },
    {
      "cell_type": "code",
      "execution_count": 9,
      "metadata": {
        "colab": {
          "base_uri": "https://localhost:8080/",
          "height": 38
        },
        "id": "69UYAKm7tHEZ",
        "outputId": "060cbb04-80c4-4506-ba6b-8eeba7d517e8"
      },
      "outputs": [
        {
          "output_type": "execute_result",
          "data": {
            "text/plain": [
              "<IPython.core.display.Math object>"
            ],
            "text/latex": "$\\displaystyle I_1 = \\sigma_{x} + \\sigma_{y} + \\sigma_{z}$"
          },
          "metadata": {},
          "execution_count": 9
        }
      ],
      "source": [
        "I1 = invar[1]\n",
        "imprimir(r\"I_1 = \", I1)"
      ]
    },
    {
      "cell_type": "code",
      "execution_count": 10,
      "metadata": {
        "colab": {
          "base_uri": "https://localhost:8080/",
          "height": 39
        },
        "id": "ekuj1HrLtZdY",
        "outputId": "05a45730-d62e-4db4-f882-d8e994c18a0d"
      },
      "outputs": [
        {
          "output_type": "execute_result",
          "data": {
            "text/plain": [
              "<IPython.core.display.Math object>"
            ],
            "text/latex": "$\\displaystyle I_2 = \\sigma_{x} \\sigma_{y} + \\sigma_{x} \\sigma_{z} + \\sigma_{y} \\sigma_{z} - \\tau_{xy}^{2} - \\tau_{xz}^{2} - \\tau_{yz}^{2}$"
          },
          "metadata": {},
          "execution_count": 10
        }
      ],
      "source": [
        "I2 = -invar[2]\n",
        "imprimir(r\"I_2 = \", I2)"
      ]
    },
    {
      "cell_type": "code",
      "execution_count": 11,
      "metadata": {
        "colab": {
          "base_uri": "https://localhost:8080/",
          "height": 39
        },
        "id": "RvuK59xSteyJ",
        "outputId": "618a0a1e-270c-43de-89cb-9e72adc877b0"
      },
      "outputs": [
        {
          "output_type": "execute_result",
          "data": {
            "text/plain": [
              "<IPython.core.display.Math object>"
            ],
            "text/latex": "$\\displaystyle I_3 = \\sigma_{x} \\sigma_{y} \\sigma_{z} - \\sigma_{x} \\tau_{yz}^{2} - \\sigma_{y} \\tau_{xz}^{2} - \\sigma_{z} \\tau_{xy}^{2} + 2 \\tau_{xy} \\tau_{xz} \\tau_{yz}$"
          },
          "metadata": {},
          "execution_count": 11
        }
      ],
      "source": [
        "I3 = invar[3]\n",
        "imprimir(r\"I_3 = \", I3)"
      ]
    },
    {
      "cell_type": "markdown",
      "metadata": {
        "id": "AnD_SfBduKGB"
      },
      "source": [
        "Se verifican las igualdades (<font color='blue'>2.47</font>), por lo que cada línea debe imprimir cero; aquí el comando ```sympy.Trace()``` calcula la traza de la matriz en cuestión. "
      ]
    },
    {
      "cell_type": "code",
      "execution_count": 12,
      "metadata": {
        "colab": {
          "base_uri": "https://localhost:8080/",
          "height": 37
        },
        "id": "U9w52mDstqRI",
        "outputId": "cb1e5918-f715-4e86-efc4-6279903a419a"
      },
      "outputs": [
        {
          "output_type": "execute_result",
          "data": {
            "text/plain": [
              "0"
            ],
            "image/png": "[encoded data removed]",
            "text/latex": "$\\displaystyle 0$"
          },
          "metadata": {},
          "execution_count": 12
        }
      ],
      "source": [
        "I1 - sp.simplify(sp.Trace(sigma))    # Si no se simplifica deja indicada la traza"
      ]
    },
    {
      "cell_type": "code",
      "execution_count": 13,
      "metadata": {
        "colab": {
          "base_uri": "https://localhost:8080/",
          "height": 37
        },
        "id": "RutADrrbvCrY",
        "outputId": "0965fb4f-9938-48b4-d588-d64879e4cfc6"
      },
      "outputs": [
        {
          "output_type": "execute_result",
          "data": {
            "text/plain": [
              "0"
            ],
            "image/png": "[encoded data removed]",
            "text/latex": "$\\displaystyle 0$"
          },
          "metadata": {},
          "execution_count": 13
        }
      ],
      "source": [
        "sp.factor(I2 - (sp.simplify(sp.Trace(sigma))**2 - sp.simplify(sp.Trace(sigma*sigma)) )/2)"
      ]
    },
    {
      "cell_type": "code",
      "execution_count": 14,
      "metadata": {
        "colab": {
          "base_uri": "https://localhost:8080/",
          "height": 37
        },
        "id": "0HfEEqGEwd7J",
        "outputId": "0f63f9f6-c2cb-494e-cdb2-e62170146531"
      },
      "outputs": [
        {
          "output_type": "execute_result",
          "data": {
            "text/plain": [
              "0"
            ],
            "image/png": "[encoded data removed]",
            "text/latex": "$\\displaystyle 0$"
          },
          "metadata": {},
          "execution_count": 14
        }
      ],
      "source": [
        "I3 - sigma.det()"
      ]
    }
  ],
  "metadata": {
    "colab": {
      "name": "02_08_02.ipynb",
      "provenance": []
    },
    "kernelspec": {
      "display_name": "Python 3.10.4 64-bit",
      "language": "python",
      "name": "python3"
    },
    "language_info": {
      "codemirror_mode": {
        "name": "ipython",
        "version": 3
      },
      "file_extension": ".py",
      "mimetype": "text/x-python",
      "name": "python",
      "nbconvert_exporter": "python",
      "pygments_lexer": "ipython3",
      "version": "3.10.4"
    },
    "vscode": {
      "interpreter": {
        "hash": "916dbcbb3f70747c44a77c7bcd40155683ae19c65e1c03b4aa3499c5328201f1"
      }
    }
  },
  "nbformat": 4,
  "nbformat_minor": 0
}