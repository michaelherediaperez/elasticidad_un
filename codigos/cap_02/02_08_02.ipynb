{
  "nbformat": 4,
  "nbformat_minor": 0,
  "metadata": {
    "colab": {
      "name": "02_08_02.ipynb",
      "provenance": [],
      "authorship_tag": "ABX9TyPR73SHhCzXf+2ix8lw17uo",
      "include_colab_link": true
    },
    "kernelspec": {
      "name": "python3",
      "display_name": "Python 3"
    },
    "language_info": {
      "name": "python"
    }
  },
  "cells": [
    {
      "cell_type": "markdown",
      "metadata": {
        "id": "view-in-github",
        "colab_type": "text"
      },
      "source": [
        "<a href=\"https://colab.research.google.com/github/michaelherediaperez/mecanica_de_solidos_un/blob/main/codigos/cap_02/02_08_02.ipynb\" target=\"_parent\"><img src=\"https://colab.research.google.com/assets/colab-badge.svg\" alt=\"Open In Colab\"/></a>"
      ]
    },
    {
      "cell_type": "markdown",
      "source": [
        "# 2.8.2. Tensiones y direcciones principales en tres dimensiones\n",
        "\n",
        "|Quién | Fecha | Qué hizo |\n",
        "| ---  | ---   | ---      |\n",
        "|Michael Heredia Pérez, <mherediap@unal.edu.co> | Julio 14, 2022 | Conversión de código de MAXIMA a Python|"
      ],
      "metadata": {
        "id": "Wt1ihxMd0SbZ"
      }
    },
    {
      "cell_type": "code",
      "execution_count": 1,
      "metadata": {
        "id": "zWB0-GrS0OSE"
      },
      "outputs": [],
      "source": [
        "import sympy as sp  # Librería para cálculo simbólico.\n",
        "\n",
        "# Para imprimir bonito.\n",
        "sp.init_printing() "
      ]
    },
    {
      "cell_type": "markdown",
      "source": [
        "Se definen las variables simbólicas necesarias. Se emplea la notación de $\\LaTeX$"
      ],
      "metadata": {
        "id": "2JjBA749118M"
      }
    },
    {
      "cell_type": "code",
      "source": [
        "sx, sy, sz    = sp.symbols(r\"\\sigma_x, \\sigma_y, \\sigma_z\")\n",
        "txy, txz, tyz = sp.symbols(r\"\\tau_{xy}, \\tau_{xz}, \\tau_{yz}\")\n",
        "sn = sp.Symbol(r\"\\sigma_n\")"
      ],
      "metadata": {
        "id": "ddjskHfK1zv-"
      },
      "execution_count": 2,
      "outputs": []
    },
    {
      "cell_type": "markdown",
      "source": [
        "Se define la matriz de tensiones en coordenadas rectagnulares: $\\sigma$"
      ],
      "metadata": {
        "id": "tbqP2R9016tM"
      }
    },
    {
      "cell_type": "code",
      "source": [
        "sigma = sp.Matrix([ [sx, txy, txz],\n",
        "                    [txy, sy, tyz],\n",
        "                    [txz, tyz, sz] ])\n",
        "sigma"
      ],
      "metadata": {
        "colab": {
          "base_uri": "https://localhost:8080/",
          "height": 78
        },
        "id": "3_JDj3ja14gG",
        "outputId": "5bc2af2c-9d35-481e-df5a-0892633fc8c2"
      },
      "execution_count": 3,
      "outputs": [
        {
          "output_type": "execute_result",
          "data": {
            "text/plain": [
              "⎡ \\sigmaₓ   \\tau_{xy}  \\tau_{xz}⎤\n",
              "⎢                               ⎥\n",
              "⎢\\tau_{xy}  \\sigma_y   \\tau_{yz}⎥\n",
              "⎢                               ⎥\n",
              "⎣\\tau_{xz}  \\tau_{yz}  \\sigma_z ⎦"
            ],
            "text/latex": "$\\displaystyle \\left[\\begin{matrix}\\sigma_{x} & \\tau_{xy} & \\tau_{xz}\\\\\\tau_{xy} & \\sigma_{y} & \\tau_{yz}\\\\\\tau_{xz} & \\tau_{yz} & \\sigma_{z}\\end{matrix}\\right]$"
          },
          "metadata": {},
          "execution_count": 3
        }
      ]
    },
    {
      "cell_type": "markdown",
      "source": [
        "Se define el polinomio característico y se expresa en función de $\\sigma_n$ (```sn```). En MAXIMA se hace con el comando ```charpoly```, en sympy se emplea el comando de la librería ```sympy``` que lleva el mismo nombre.  "
      ],
      "metadata": {
        "id": "y9B4cJll2AO2"
      }
    },
    {
      "cell_type": "code",
      "source": [
        "# Devido a la convención de signos, multiplico por (-1) a ambos lados.\n",
        "polinomcar = -sigma.charpoly(sn)\n",
        "polinomcar"
      ],
      "metadata": {
        "colab": {
          "base_uri": "https://localhost:8080/",
          "height": 39
        },
        "id": "I_Fq8UKR19Lb",
        "outputId": "2e6f8392-d361-423e-f9ac-da2604a94682"
      },
      "execution_count": 4,
      "outputs": [
        {
          "output_type": "execute_result",
          "data": {
            "text/plain": [
              "PurePoly(-\\sigma_n**3 + (\\sigma_x + \\sigma_y + \\sigma_z)*\\sigma_n**2 + (-\\sigm\n",
              "a_x*\\sigma_y - \\sigma_x*\\sigma_z - \\sigma_y*\\sigma_z + \\tau_{xy}**2 + \\tau_{xz\n",
              "}**2 + \\tau_{yz}**2)*\\sigma_n + \\sigma_x*\\sigma_y*\\sigma_z - \\sigma_x*\\tau_{yz\n",
              "}**2 - \\sigma_y*\\tau_{xz}**2 - \\sigma_z*\\tau_{xy}**2 + 2*\\tau_{xy}*\\tau_{xz}*\\\n",
              "tau_{yz}, \\sigma_n, domain='ZZ[\\sigma_x,\\sigma_y,\\sigma_z,\\tau_{xy},\\tau_{xz},\n",
              "\\tau_{yz}]')"
            ],
            "image/png": "[encoded data removed]",
            "text/latex": "$\\displaystyle \\operatorname{PurePoly}{\\left( -\\sigma_{n}^{3} + \\left(\\sigma_{x} + \\sigma_{y} + \\sigma_{z}\\right) \\sigma_{n}^{2} + \\left(- \\sigma_{x} \\sigma_{y} - \\sigma_{x} \\sigma_{z} - \\sigma_{y} \\sigma_{z} + \\tau_{xy}^{2} + \\tau_{xz}^{2} + \\tau_{yz}^{2}\\right) \\sigma_{n} + \\sigma_{x} \\sigma_{y} \\sigma_{z} - \\sigma_{x} \\tau_{yz}^{2} - \\sigma_{y} \\tau_{xz}^{2} - \\sigma_{z} \\tau_{xy}^{2} + 2 \\tau_{xy} \\tau_{xz} \\tau_{yz}, \\sigma_{n}, domain=\\mathbb{Z}\\left[\\sigma_{x}, \\sigma_{y}, \\sigma_{z}, \\tau_{xy}, \\tau_{xz}, \\tau_{yz}\\right] \\right)}$"
          },
          "metadata": {},
          "execution_count": 4
        }
      ]
    },
    {
      "cell_type": "markdown",
      "source": [
        "Con el método ```all_coeff()``` se extraen los coeficientes del polinomio característico aún si son cero (0). "
      ],
      "metadata": {
        "id": "I-1l93ZI3caS"
      }
    },
    {
      "cell_type": "code",
      "source": [
        "polinomcar.all_coeffs()"
      ],
      "metadata": {
        "id": "EZ85JqUk3VPh",
        "colab": {
          "base_uri": "https://localhost:8080/",
          "height": 39
        },
        "outputId": "107ae28d-825e-4148-b7f1-b38eaf1ef2bc"
      },
      "execution_count": 5,
      "outputs": [
        {
          "output_type": "execute_result",
          "data": {
            "text/plain": [
              "⎡                                                                             \n",
              "⎣-1, \\sigmaₓ + \\sigma_y + \\sigma_z, -\\sigmaₓ⋅\\sigma_y - \\sigmaₓ⋅\\sigma_z - \\si\n",
              "\n",
              "                          2            2            2                         \n",
              "gma_y⋅\\sigma_z + \\tau_{xy}  + \\tau_{xz}  + \\tau_{yz} , \\sigmaₓ⋅\\sigma_y⋅\\sigma\n",
              "\n",
              "                      2                     2                     2           \n",
              "_z - \\sigmaₓ⋅\\tau_{yz}  - \\sigma_y⋅\\tau_{xz}  - \\sigma_z⋅\\tau_{xy}  + 2⋅\\tau_{\n",
              "\n",
              "                       ⎤\n",
              "xy}⋅\\tau_{xz}⋅\\tau_{yz}⎦"
            ],
            "image/png": "[encoded data removed]",
            "text/latex": "$\\displaystyle \\left[ -1, \\  \\sigma_{x} + \\sigma_{y} + \\sigma_{z}, \\  - \\sigma_{x} \\sigma_{y} - \\sigma_{x} \\sigma_{z} - \\sigma_{y} \\sigma_{z} + \\tau_{xy}^{2} + \\tau_{xz}^{2} + \\tau_{yz}^{2}, \\  \\sigma_{x} \\sigma_{y} \\sigma_{z} - \\sigma_{x} \\tau_{yz}^{2} - \\sigma_{y} \\tau_{xz}^{2} - \\sigma_{z} \\tau_{xy}^{2} + 2 \\tau_{xy} \\tau_{xz} \\tau_{yz}\\right]$"
          },
          "metadata": {},
          "execution_count": 5
        }
      ]
    },
    {
      "cell_type": "markdown",
      "source": [
        "Estos coeficientes son los invariantes de esfuerzos. Se extraen a continuación:\n",
        "\n",
        "$I_0 =$"
      ],
      "metadata": {
        "id": "b2hyGoW5s8eQ"
      }
    },
    {
      "cell_type": "code",
      "source": [
        "I0 = polinomcar.all_coeffs()[0]\n",
        "I0"
      ],
      "metadata": {
        "colab": {
          "base_uri": "https://localhost:8080/",
          "height": 38
        },
        "id": "gk7zkq0TrJiz",
        "outputId": "96fd2f4d-9463-4de6-b2c6-2c6e2462f081"
      },
      "execution_count": 6,
      "outputs": [
        {
          "output_type": "execute_result",
          "data": {
            "text/plain": [
              "-1"
            ],
            "image/png": "[encoded data removed]",
            "text/latex": "$\\displaystyle -1$"
          },
          "metadata": {},
          "execution_count": 6
        }
      ]
    },
    {
      "cell_type": "markdown",
      "source": [
        "$I_1=$"
      ],
      "metadata": {
        "id": "WdfN5SMOtVwg"
      }
    },
    {
      "cell_type": "code",
      "source": [
        "I1 = polinomcar.all_coeffs()[1]\n",
        "I1"
      ],
      "metadata": {
        "colab": {
          "base_uri": "https://localhost:8080/",
          "height": 38
        },
        "id": "69UYAKm7tHEZ",
        "outputId": "ec0e1043-09bf-49ae-f590-300f4adb89e4"
      },
      "execution_count": 7,
      "outputs": [
        {
          "output_type": "execute_result",
          "data": {
            "text/plain": [
              "\\sigmaₓ + \\sigma_y + \\sigma_z"
            ],
            "image/png": "[encoded data removed]",
            "text/latex": "$\\displaystyle \\sigma_{x} + \\sigma_{y} + \\sigma_{z}$"
          },
          "metadata": {},
          "execution_count": 7
        }
      ]
    },
    {
      "cell_type": "markdown",
      "source": [
        "$I_2=$"
      ],
      "metadata": {
        "id": "0_eS1QBata2t"
      }
    },
    {
      "cell_type": "code",
      "source": [
        "I2 = -polinomcar.all_coeffs()[2]\n",
        "I2"
      ],
      "metadata": {
        "colab": {
          "base_uri": "https://localhost:8080/",
          "height": 39
        },
        "id": "ekuj1HrLtZdY",
        "outputId": "80d85eb8-97fe-4bdf-b2e1-7907c10f1315"
      },
      "execution_count": 8,
      "outputs": [
        {
          "output_type": "execute_result",
          "data": {
            "text/plain": [
              "                                                                   2          \n",
              "\\sigmaₓ⋅\\sigma_y + \\sigmaₓ⋅\\sigma_z + \\sigma_y⋅\\sigma_z - \\tau_{xy}  - \\tau_{x\n",
              "\n",
              "  2            2\n",
              "z}  - \\tau_{yz} "
            ],
            "image/png": "[encoded data removed]",
            "text/latex": "$\\displaystyle \\sigma_{x} \\sigma_{y} + \\sigma_{x} \\sigma_{z} + \\sigma_{y} \\sigma_{z} - \\tau_{xy}^{2} - \\tau_{xz}^{2} - \\tau_{yz}^{2}$"
          },
          "metadata": {},
          "execution_count": 8
        }
      ]
    },
    {
      "cell_type": "markdown",
      "source": [
        "$I_3=$"
      ],
      "metadata": {
        "id": "KX0-HF96tncq"
      }
    },
    {
      "cell_type": "code",
      "source": [
        "I3 = polinomcar.all_coeffs()[3]\n",
        "I3"
      ],
      "metadata": {
        "colab": {
          "base_uri": "https://localhost:8080/",
          "height": 39
        },
        "id": "RvuK59xSteyJ",
        "outputId": "56c07d87-6564-4493-f4f0-a828f4e301e1"
      },
      "execution_count": 9,
      "outputs": [
        {
          "output_type": "execute_result",
          "data": {
            "text/plain": [
              "                                             2                     2          \n",
              "\\sigmaₓ⋅\\sigma_y⋅\\sigma_z - \\sigmaₓ⋅\\tau_{yz}  - \\sigma_y⋅\\tau_{xz}  - \\sigma_\n",
              "\n",
              "           2                                  \n",
              "z⋅\\tau_{xy}  + 2⋅\\tau_{xy}⋅\\tau_{xz}⋅\\tau_{yz}"
            ],
            "image/png": "[encoded data removed]",
            "text/latex": "$\\displaystyle \\sigma_{x} \\sigma_{y} \\sigma_{z} - \\sigma_{x} \\tau_{yz}^{2} - \\sigma_{y} \\tau_{xz}^{2} - \\sigma_{z} \\tau_{xy}^{2} + 2 \\tau_{xy} \\tau_{xz} \\tau_{yz}$"
          },
          "metadata": {},
          "execution_count": 9
        }
      ]
    },
    {
      "cell_type": "markdown",
      "source": [
        "Se verifican las igualdades (2.47), por lo que cada línea debe imprimir cero; aquí el comando ```sympy.Trace()``` calcula la traza de la matriz en cuestión. "
      ],
      "metadata": {
        "id": "AnD_SfBduKGB"
      }
    },
    {
      "cell_type": "code",
      "source": [
        "I1 - sp.simplify( sp.Trace(sigma) )    # Si no se simplifica deja indicada la traza"
      ],
      "metadata": {
        "colab": {
          "base_uri": "https://localhost:8080/",
          "height": 38
        },
        "id": "U9w52mDstqRI",
        "outputId": "c19e2b8b-edfd-49ad-9aff-15242d84ccd0"
      },
      "execution_count": 10,
      "outputs": [
        {
          "output_type": "execute_result",
          "data": {
            "text/plain": [
              "0"
            ],
            "image/png": "[encoded data removed]",
            "text/latex": "$\\displaystyle 0$"
          },
          "metadata": {},
          "execution_count": 10
        }
      ]
    },
    {
      "cell_type": "code",
      "source": [
        "sp.factor( I2 - (sp.simplify(sp.Trace(sigma))**2 - sp.simplify(sp.Trace(sigma*sigma)) )/2 )"
      ],
      "metadata": {
        "colab": {
          "base_uri": "https://localhost:8080/",
          "height": 38
        },
        "id": "RutADrrbvCrY",
        "outputId": "9da2029c-944d-41e9-928f-f0a92b640cbb"
      },
      "execution_count": 11,
      "outputs": [
        {
          "output_type": "execute_result",
          "data": {
            "text/plain": [
              "0"
            ],
            "image/png": "[encoded data removed]",
            "text/latex": "$\\displaystyle 0$"
          },
          "metadata": {},
          "execution_count": 11
        }
      ]
    },
    {
      "cell_type": "code",
      "source": [
        "I3 - sigma.det()"
      ],
      "metadata": {
        "colab": {
          "base_uri": "https://localhost:8080/",
          "height": 38
        },
        "id": "0HfEEqGEwd7J",
        "outputId": "8765f85e-d726-4c04-f9f5-e774b984c213"
      },
      "execution_count": 12,
      "outputs": [
        {
          "output_type": "execute_result",
          "data": {
            "text/plain": [
              "0"
            ],
            "image/png": "[encoded data removed]",
            "text/latex": "$\\displaystyle 0$"
          },
          "metadata": {},
          "execution_count": 12
        }
      ]
    }
  ]
}