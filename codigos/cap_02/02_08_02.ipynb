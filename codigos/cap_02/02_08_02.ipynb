{
 "cells": [
  {
   "cell_type": "markdown",
   "metadata": {
    "colab_type": "text",
    "id": "view-in-github"
   },
   "source": [
    "<a href=\"https://colab.research.google.com/github/michaelherediaperez/mecanica_de_solidos_un/blob/main/codigos/cap_02/02_08_02.ipynb\" target=\"_parent\"><img src=\"https://colab.research.google.com/assets/colab-badge.svg\" alt=\"Open In Colab\"/></a>"
   ]
  },
  {
   "cell_type": "markdown",
   "metadata": {
    "id": "Wt1ihxMd0SbZ"
   },
   "source": [
    "# 2.8.2. Tensiones y direcciones principales en tres dimensiones\n",
    "\n",
    "|Quién | Fecha | Qué hizo |\n",
    "| ---  | ---   | ---      |\n",
    "|Michael Heredia Pérez, <mherediap@unal.edu.co> | Julio 14, 2022 | Conversión de código de MAXIMA a Python|"
   ]
  },
  {
   "cell_type": "code",
   "execution_count": 33,
   "metadata": {
    "id": "zWB0-GrS0OSE"
   },
   "outputs": [],
   "source": [
    "import sympy as sp  # Librería para cálculo simbólico.\n",
    "\n",
    "# Para imprimir bonito\n",
    "sp.init_printing()\n",
    "from IPython.display import Math                 \n",
    "def imprimir (texto, variable):\n",
    "    return Math(texto +  rf'{sp.latex(variable)}')"
   ]
  },
  {
   "cell_type": "markdown",
   "metadata": {
    "id": "2JjBA749118M"
   },
   "source": [
    "Se definen las variables simbólicas necesarias. Se emplea la notación de $\\LaTeX$"
   ]
  },
  {
   "cell_type": "code",
   "execution_count": 34,
   "metadata": {
    "id": "ddjskHfK1zv-"
   },
   "outputs": [],
   "source": [
    "sx, sy, sz, txy, txz, tyz = sp.symbols(r\"sigma_x, sigma_y, sigma_z, tau_xy, tau_xz, tau_yz\")\n",
    "sn                        = sp.Symbol(r\"sigma_n\")"
   ]
  },
  {
   "cell_type": "markdown",
   "metadata": {
    "id": "tbqP2R9016tM"
   },
   "source": [
    "Se define la matriz de tensiones en coordenadas rectangulares: $\\underline{\\underline{\\boldsymbol{\\sigma}}}$"
   ]
  },
  {
   "cell_type": "code",
   "execution_count": 35,
   "metadata": {
    "colab": {
     "base_uri": "https://localhost:8080/",
     "height": 78
    },
    "id": "3_JDj3ja14gG",
    "outputId": "5bc2af2c-9d35-481e-df5a-0892633fc8c2"
   },
   "outputs": [
    {
     "data": {
      "text/latex": [
       "$\\displaystyle \\underline{\\underline{\\boldsymbol{\\sigma}}} = \\left[\\begin{matrix}\\sigma_{x} & \\tau_{xy} & \\tau_{xz}\\\\\\tau_{xy} & \\sigma_{y} & \\tau_{yz}\\\\\\tau_{xz} & \\tau_{yz} & \\sigma_{z}\\end{matrix}\\right]$"
      ],
      "text/plain": [
       "<IPython.core.display.Math object>"
      ]
     },
     "execution_count": 35,
     "metadata": {},
     "output_type": "execute_result"
    }
   ],
   "source": [
    "sigma = sp.Matrix([ [sx, txy, txz],\n",
    "                    [txy, sy, tyz],\n",
    "                    [txz, tyz, sz] ])\n",
    "imprimir(r\"\\underline{\\underline{\\boldsymbol{\\sigma}}} = \", sigma)"
   ]
  },
  {
   "cell_type": "markdown",
   "metadata": {
    "id": "y9B4cJll2AO2"
   },
   "source": [
    "Se define el polinomio característico y se expresa en función de $\\sigma_n$ (```sn```). En MAXIMA se hace con el comando ```charpoly```, en SYMPY se emplea el comando de la librería ```sympy``` que lleva el mismo nombre.  "
   ]
  },
  {
   "cell_type": "code",
   "execution_count": 57,
   "metadata": {
    "colab": {
     "base_uri": "https://localhost:8080/",
     "height": 39
    },
    "id": "I_Fq8UKR19Lb",
    "outputId": "2e6f8392-d361-423e-f9ac-da2604a94682"
   },
   "outputs": [
    {
     "data": {
      "image/png": "[encoded data removed]",
      "text/latex": [
       "$\\displaystyle \\operatorname{PurePoly}{\\left( -\\sigma_{n}^{3} + \\left(\\sigma_{x} + \\sigma_{y} + \\sigma_{z}\\right) \\sigma_{n}^{2} + \\left(- \\sigma_{x} \\sigma_{y} - \\sigma_{x} \\sigma_{z} - \\sigma_{y} \\sigma_{z} + \\tau_{xy}^{2} + \\tau_{xz}^{2} + \\tau_{yz}^{2}\\right) \\sigma_{n} + \\sigma_{x} \\sigma_{y} \\sigma_{z} - \\sigma_{x} \\tau_{yz}^{2} - \\sigma_{y} \\tau_{xz}^{2} - \\sigma_{z} \\tau_{xy}^{2} + 2 \\tau_{xy} \\tau_{xz} \\tau_{yz}, \\sigma_{n}, domain=\\mathbb{Z}\\left[\\sigma_{x}, \\sigma_{y}, \\sigma_{z}, \\tau_{xy}, \\tau_{xz}, \\tau_{yz}\\right] \\right)}$"
      ],
      "text/plain": [
       "PurePoly(-sigma_n**3 + (sigma_x + sigma_y + sigma_z)*sigma_n**2 + (-sigma_x*sigma_y - sigma_x*sigma_z - sigma_y*sigma_z + tau_xy**2 + tau_xz**2 + tau_yz**2)*sigma_n + sigma_x*sigma_y*sigma_z - sigma_x*tau_yz*\n",
       "*2 - sigma_y*tau_xz**2 - sigma_z*tau_xy**2 + 2*tau_xy*tau_xz*tau_yz, sigma_n, domain='ZZ[sigma_x,sigma_y,sigma_z,tau_xy,tau_xz,tau_yz]')"
      ]
     },
     "execution_count": 57,
     "metadata": {},
     "output_type": "execute_result"
    }
   ],
   "source": [
    "# Devido a la convención de signos, multiplico por (-1) a ambos lados.\n",
    "polinomcar = -sigma.charpoly(sn)\n",
    "polinomcar"
   ]
  },
  {
   "cell_type": "markdown",
   "metadata": {
    "id": "I-1l93ZI3caS"
   },
   "source": [
    "Con el método ```all_coeff()``` se extraen los coeficientes del polinomio característico aún si son cero (0). "
   ]
  },
  {
   "cell_type": "code",
   "execution_count": 58,
   "metadata": {
    "colab": {
     "base_uri": "https://localhost:8080/",
     "height": 39
    },
    "id": "EZ85JqUk3VPh",
    "outputId": "107ae28d-825e-4148-b7f1-b38eaf1ef2bc"
   },
   "outputs": [
    {
     "data": {
      "image/png": "[encoded data removed]",
      "text/latex": [
       "$\\displaystyle \\left[ -1, \\  \\sigma_{x} + \\sigma_{y} + \\sigma_{z}, \\  - \\sigma_{x} \\sigma_{y} - \\sigma_{x} \\sigma_{z} - \\sigma_{y} \\sigma_{z} + \\tau_{xy}^{2} + \\tau_{xz}^{2} + \\tau_{yz}^{2}, \\  \\sigma_{x} \\sigma_{y} \\sigma_{z} - \\sigma_{x} \\tau_{yz}^{2} - \\sigma_{y} \\tau_{xz}^{2} - \\sigma_{z} \\tau_{xy}^{2} + 2 \\tau_{xy} \\tau_{xz} \\tau_{yz}\\right]$"
      ],
      "text/plain": [
       "⎡                                                     2       2       2                      2           2           2                   ⎤\n",
       "⎣-1, σₓ + σ_y + σ_z, -σₓ⋅σ_y - σₓ⋅σ_z - σ_y⋅σ_z + τ_xy  + τ_xz  + τ_yz , σₓ⋅σ_y⋅σ_z - σₓ⋅τ_yz  - σ_y⋅τ_xz  - σ_z⋅τ_xy  + 2⋅τ_xy⋅τ_xz⋅τ_yz⎦"
      ]
     },
     "execution_count": 58,
     "metadata": {},
     "output_type": "execute_result"
    }
   ],
   "source": [
    "invar = polinomcar.all_coeffs()\n",
    "invar"
   ]
  },
  {
   "cell_type": "markdown",
   "metadata": {
    "id": "b2hyGoW5s8eQ"
   },
   "source": [
    "Estos coeficientes son los invariantes de esfuerzos. Se extraen a continuación:"
   ]
  },
  {
   "cell_type": "code",
   "execution_count": 59,
   "metadata": {
    "colab": {
     "base_uri": "https://localhost:8080/",
     "height": 38
    },
    "id": "gk7zkq0TrJiz",
    "outputId": "96fd2f4d-9463-4de6-b2c6-2c6e2462f081"
   },
   "outputs": [
    {
     "data": {
      "text/latex": [
       "$\\displaystyle I_0 = -1$"
      ],
      "text/plain": [
       "<IPython.core.display.Math object>"
      ]
     },
     "execution_count": 59,
     "metadata": {},
     "output_type": "execute_result"
    }
   ],
   "source": [
    "I0 = invar[0]\n",
    "imprimir(r\"I_0 = \", I0)"
   ]
  },
  {
   "cell_type": "code",
   "execution_count": 60,
   "metadata": {
    "colab": {
     "base_uri": "https://localhost:8080/",
     "height": 38
    },
    "id": "69UYAKm7tHEZ",
    "outputId": "ec0e1043-09bf-49ae-f590-300f4adb89e4"
   },
   "outputs": [
    {
     "data": {
      "text/latex": [
       "$\\displaystyle I_1 = \\sigma_{x} + \\sigma_{y} + \\sigma_{z}$"
      ],
      "text/plain": [
       "<IPython.core.display.Math object>"
      ]
     },
     "execution_count": 60,
     "metadata": {},
     "output_type": "execute_result"
    }
   ],
   "source": [
    "I1 = invar[1]\n",
    "imprimir(r\"I_1 = \", I1)"
   ]
  },
  {
   "cell_type": "code",
   "execution_count": 61,
   "metadata": {
    "colab": {
     "base_uri": "https://localhost:8080/",
     "height": 39
    },
    "id": "ekuj1HrLtZdY",
    "outputId": "80d85eb8-97fe-4bdf-b2e1-7907c10f1315"
   },
   "outputs": [
    {
     "data": {
      "text/latex": [
       "$\\displaystyle I_2 = \\sigma_{x} \\sigma_{y} + \\sigma_{x} \\sigma_{z} + \\sigma_{y} \\sigma_{z} - \\tau_{xy}^{2} - \\tau_{xz}^{2} - \\tau_{yz}^{2}$"
      ],
      "text/plain": [
       "<IPython.core.display.Math object>"
      ]
     },
     "execution_count": 61,
     "metadata": {},
     "output_type": "execute_result"
    }
   ],
   "source": [
    "I2 = -invar[2]\n",
    "imprimir(r\"I_2 = \", I2)"
   ]
  },
  {
   "cell_type": "code",
   "execution_count": 62,
   "metadata": {
    "colab": {
     "base_uri": "https://localhost:8080/",
     "height": 39
    },
    "id": "RvuK59xSteyJ",
    "outputId": "56c07d87-6564-4493-f4f0-a828f4e301e1"
   },
   "outputs": [
    {
     "data": {
      "text/latex": [
       "$\\displaystyle I_3 = \\sigma_{x} \\sigma_{y} \\sigma_{z} - \\sigma_{x} \\tau_{yz}^{2} - \\sigma_{y} \\tau_{xz}^{2} - \\sigma_{z} \\tau_{xy}^{2} + 2 \\tau_{xy} \\tau_{xz} \\tau_{yz}$"
      ],
      "text/plain": [
       "<IPython.core.display.Math object>"
      ]
     },
     "execution_count": 62,
     "metadata": {},
     "output_type": "execute_result"
    }
   ],
   "source": [
    "I3 = invar[3]\n",
    "imprimir(r\"I_3 = \", I3)"
   ]
  },
  {
   "cell_type": "markdown",
   "metadata": {
    "id": "AnD_SfBduKGB"
   },
   "source": [
    "Se verifican las igualdades (<font color='blue'>2.47</font>), por lo que cada línea debe imprimir cero; aquí el comando ```sympy.Trace()``` calcula la traza de la matriz en cuestión. "
   ]
  },
  {
   "cell_type": "code",
   "execution_count": 63,
   "metadata": {
    "colab": {
     "base_uri": "https://localhost:8080/",
     "height": 38
    },
    "id": "U9w52mDstqRI",
    "outputId": "c19e2b8b-edfd-49ad-9aff-15242d84ccd0"
   },
   "outputs": [
    {
     "data": {
      "image/png": "[encoded data removed]",
      "text/latex": [
       "$\\displaystyle 0$"
      ],
      "text/plain": [
       "0"
      ]
     },
     "execution_count": 63,
     "metadata": {},
     "output_type": "execute_result"
    }
   ],
   "source": [
    "I1 - sp.simplify(sp.Trace(sigma))    # Si no se simplifica deja indicada la traza"
   ]
  },
  {
   "cell_type": "code",
   "execution_count": 64,
   "metadata": {
    "colab": {
     "base_uri": "https://localhost:8080/",
     "height": 38
    },
    "id": "RutADrrbvCrY",
    "outputId": "9da2029c-944d-41e9-928f-f0a92b640cbb"
   },
   "outputs": [
    {
     "data": {
      "image/png": "[encoded data removed]",
      "text/latex": [
       "$\\displaystyle 0$"
      ],
      "text/plain": [
       "0"
      ]
     },
     "execution_count": 64,
     "metadata": {},
     "output_type": "execute_result"
    }
   ],
   "source": [
    "sp.factor( I2 - (sp.simplify(sp.Trace(sigma))**2 - sp.simplify(sp.Trace(sigma*sigma)) )/2 )"
   ]
  },
  {
   "cell_type": "code",
   "execution_count": 65,
   "metadata": {
    "colab": {
     "base_uri": "https://localhost:8080/",
     "height": 38
    },
    "id": "0HfEEqGEwd7J",
    "outputId": "8765f85e-d726-4c04-f9f5-e774b984c213"
   },
   "outputs": [
    {
     "data": {
      "image/png": "[encoded data removed]",
      "text/latex": [
       "$\\displaystyle 0$"
      ],
      "text/plain": [
       "0"
      ]
     },
     "execution_count": 65,
     "metadata": {},
     "output_type": "execute_result"
    }
   ],
   "source": [
    "I3 - sigma.det()"
   ]
  }
 ],
 "metadata": {
  "colab": {
   "authorship_tag": "ABX9TyPR73SHhCzXf+2ix8lw17uo",
   "include_colab_link": true,
   "name": "02_08_02.ipynb",
   "provenance": []
  },
  "kernelspec": {
   "display_name": "Python 3 (ipykernel)",
   "language": "python",
   "name": "python3"
  },
  "language_info": {
   "codemirror_mode": {
    "name": "ipython",
    "version": 3
   },
   "file_extension": ".py",
   "mimetype": "text/x-python",
   "name": "python",
   "nbconvert_exporter": "python",
   "pygments_lexer": "ipython3",
   "version": "3.9.7"
  }
 },
 "nbformat": 4,
 "nbformat_minor": 1
}
