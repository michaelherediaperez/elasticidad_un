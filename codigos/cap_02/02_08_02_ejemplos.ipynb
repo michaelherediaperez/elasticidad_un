{
  "cells": [
    {
      "cell_type": "markdown",
      "metadata": {
        "colab_type": "text",
        "id": "view-in-github"
      },
      "source": [
        "<a href=\"https://colab.research.google.com/github/michaelherediaperez/mecanica_de_solidos_un/blob/main/codigos/cap_02/02_08_02_ejemplos.ipynb\" target=\"_parent\"><img src=\"https://colab.research.google.com/assets/colab-badge.svg\" alt=\"Open In Colab\"/></a>"
      ]
    },
    {
      "cell_type": "markdown",
      "metadata": {
        "id": "EmIIUCONzP7n"
      },
      "source": [
        "# Ejemplo (verificación) sección 2.8.2.\n",
        "\n",
        "|Quién | Fecha | Qué hizo |\n",
        "| ---  | ---   | ---      |\n",
        "|Michael Heredia Pérez, <mherediap@unal.edu.co> | Julio 14, 2022 | Conversión de código de MAXIMA a Python|\n",
        "|Diego Andrés Alvarez, <daalvarez@unal.edu.co>  | Septiembre 13, 2022 | Mejorando los comentarios |\n",
        "\n",
        "Considere un punto P sometido a los esfuerzos $\\sigma_x=$ 1 Pa, $\\sigma_y=$ 3 Pa, $\\sigma_z= \\tau_{xy} = \\tau_{xz} =$ 0 Pa y $\\tau_{yz}=$ 2 Pa. Encuentre las direcciones, las magnitudes y los planos osbre los que actúan los esfuerzos principales  \n"
      ]
    },
    {
      "cell_type": "code",
      "execution_count": 1,
      "metadata": {
        "id": "zAmG_inly3EO"
      },
      "outputs": [],
      "source": [
        "import numpy as np  # Librería para cálculo algebráico."
      ]
    },
    {
      "cell_type": "markdown",
      "metadata": {
        "id": "yQfKLGCszgpS"
      },
      "source": [
        "## Verificación del sistema de coordenadas de la mano derecha\n",
        "\n",
        "En MAXIMA se trabaja con la librería ```vect``` que define el producto cruz como la combinación del operador ```~``` y la función ```express()```; sin embargo en numpy basta con emplear la función ```numpy.cross```."
      ]
    },
    {
      "cell_type": "code",
      "execution_count": 2,
      "metadata": {
        "id": "WU9PPeRczfat"
      },
      "outputs": [],
      "source": [
        "# Defino los vectores.\n",
        "n1  = np.array([ 0, 2/np.sqrt(5), 1/np.sqrt(5) ])\n",
        "n2a = np.array([ 1,            0,            0 ])   # n2 del ejercicio.\n",
        "n2b = np.array([-1,            0,            0 ])   # n2 con sentido contrario."
      ]
    },
    {
      "cell_type": "code",
      "execution_count": 3,
      "metadata": {
        "colab": {
          "base_uri": "https://localhost:8080/"
        },
        "id": "sTu3XYy30qTL",
        "outputId": "8fd8f3bb-a423-415c-da09-83d858f84f42"
      },
      "outputs": [
        {
          "data": {
            "text/plain": [
              "array([ 0.        ,  0.4472136 , -0.89442719])"
            ]
          },
          "execution_count": 3,
          "metadata": {},
          "output_type": "execute_result"
        }
      ],
      "source": [
        "# Se calcula el producto cruz: n1 x n2a.\n",
        "n3a = np.cross(n1, n2a)\n",
        "n3a"
      ]
    },
    {
      "cell_type": "code",
      "execution_count": 4,
      "metadata": {
        "colab": {
          "base_uri": "https://localhost:8080/"
        },
        "id": "g3JeXuML00ut",
        "outputId": "6fb892d5-bcb3-4602-ad23-cf21eff5de53"
      },
      "outputs": [
        {
          "data": {
            "text/plain": [
              "array([ 0.        , -0.4472136 ,  0.89442719])"
            ]
          },
          "execution_count": 4,
          "metadata": {},
          "output_type": "execute_result"
        }
      ],
      "source": [
        "# Se calcula el producto cruz: n1 x n2b\n",
        "n3b = np.cross(n1, n2b)\n",
        "n3b"
      ]
    },
    {
      "cell_type": "markdown",
      "metadata": {
        "id": "1zgeN9JD1czD"
      },
      "source": [
        "Verifique estos resultados según las conclusiones del ejercicio.\n",
        "\n",
        "## Verificación de la no existencia de esfuerzos cortantes\n",
        "\n",
        "Se construye la matriz de esfuerzos $\\underline{\\underline{\\boldsymbol{\\sigma}}}$ y de transformación $\\boldsymbol{T}$:"
      ]
    },
    {
      "cell_type": "code",
      "execution_count": 5,
      "metadata": {
        "id": "181xzSoy18fj"
      },
      "outputs": [],
      "source": [
        "sigma = np.array([[ 1, 0, 0 ],\n",
        "                  [ 0, 3, 2 ],\n",
        "                  [ 0, 2, 0 ]])\n",
        "\n",
        "# Recuerde, T = [n1, n2, n3]\n",
        "T = np.array([[            0, 1,             0 ],\n",
        "              [ 2/np.sqrt(5), 0,  1/np.sqrt(5) ],\n",
        "              [ 1/np.sqrt(5), 0, -2/np.sqrt(5) ]])"
      ]
    },
    {
      "cell_type": "markdown",
      "metadata": {
        "id": "BRjr3Nrk2pFP"
      },
      "source": [
        "La matriz de esfuerzos en el nuevo sistema de coordenadas, $\\underline{\\underline{\\boldsymbol{\\sigma}}}'$"
      ]
    },
    {
      "cell_type": "code",
      "execution_count": 6,
      "metadata": {
        "colab": {
          "base_uri": "https://localhost:8080/"
        },
        "id": "x8rUtQig2m8g",
        "outputId": "e0f51076-ee6f-4bb9-b4d0-cec08abd22ee"
      },
      "outputs": [
        {
          "data": {
            "text/plain": [
              "array([[ 4.,  0., -0.],\n",
              "       [ 0.,  1.,  0.],\n",
              "       [ 0.,  0., -1.]])"
            ]
          },
          "execution_count": 6,
          "metadata": {},
          "output_type": "execute_result"
        }
      ],
      "source": [
        "sigmaP = T.T@sigma@T\n",
        "sigmaP.round(5)"
      ]
    }
  ],
  "metadata": {
    "colab": {
      "authorship_tag": "ABX9TyNiu0YAmQr7p7mUuwl5kv96",
      "include_colab_link": true,
      "provenance": []
    },
    "kernelspec": {
      "display_name": "Python 3.10.4 64-bit",
      "language": "python",
      "name": "python3"
    },
    "language_info": {
      "name": "python",
      "version": "3.10.4"
    },
    "vscode": {
      "interpreter": {
        "hash": "916dbcbb3f70747c44a77c7bcd40155683ae19c65e1c03b4aa3499c5328201f1"
      }
    }
  },
  "nbformat": 4,
  "nbformat_minor": 0
}
