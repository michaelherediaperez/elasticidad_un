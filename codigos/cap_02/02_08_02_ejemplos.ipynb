{
 "cells": [
  {
   "cell_type": "markdown",
   "metadata": {
    "colab_type": "text",
    "id": "view-in-github"
   },
   "source": [
    "<a href=\"https://colab.research.google.com/github/michaelherediaperez/mecanica_de_solidos_un/blob/main/codigos/cap_02/02_08_02_ejemplos_vf.ipynb\" target=\"_parent\"><img src=\"https://colab.research.google.com/assets/colab-badge.svg\" alt=\"Open In Colab\"/></a>"
   ]
  },
  {
   "cell_type": "markdown",
   "metadata": {
    "id": "EmIIUCONzP7n"
   },
   "source": [
    "# Ejemplo (verificación) sección 2.8.2.\n",
    "\n",
    "|Quién | Fecha | Qué hizo |\n",
    "| ---  | ---   | ---      |\n",
    "|Michael Heredia Pérez, <mherediap@unal.edu.co> | Julio 14, 2022 | Conversión de código de MAXIMA a Python|\n",
    "|Diego Andrés Alvarez, <daalvarez@unal.edu.co>  | Septiembre 13, 2022 | Mejorando los comentarios |\n",
    "\n"
   ]
  },
  {
   "cell_type": "code",
   "execution_count": 1,
   "metadata": {
    "id": "zAmG_inly3EO"
   },
   "outputs": [],
   "source": [
    "import numpy as np  # Librería para cálculo algebráico."
   ]
  },
  {
   "cell_type": "markdown",
   "metadata": {
    "id": "yQfKLGCszgpS"
   },
   "source": [
    "## Verificación del sistema de coordenadas de la mano derecha\n",
    "\n",
    "En MAXIMA se trabaja con la librería ```vect``` que define el producto cruz como la combinación del operador ```~``` y la función ```express()```; sin embargo en numpy basta con emplear la función ```numpy.cross```."
   ]
  },
  {
   "cell_type": "code",
   "execution_count": 2,
   "metadata": {
    "id": "WU9PPeRczfat"
   },
   "outputs": [],
   "source": [
    "# Defino los vectores.\n",
    "n1  = np.array([ 0, 2/np.sqrt(5), 1/np.sqrt(5) ])\n",
    "n2a = np.array([ 1,            0,            0 ])   # n2 del ejercicio.\n",
    "n2b = np.array([-1,            0,            0 ])   # n2 con sentido contrario."
   ]
  },
  {
   "cell_type": "code",
   "execution_count": 3,
   "metadata": {
    "colab": {
     "base_uri": "https://localhost:8080/"
    },
    "id": "sTu3XYy30qTL",
    "outputId": "d991edbd-49c9-45b4-f3ed-dce03e4e8551"
   },
   "outputs": [
    {
     "data": {
      "text/plain": [
       "array([ 0.        ,  0.4472136 , -0.89442719])"
      ]
     },
     "execution_count": 3,
     "metadata": {},
     "output_type": "execute_result"
    }
   ],
   "source": [
    "# Se calcula el producto cruz: n1 x n2a.\n",
    "n3a = np.cross(n1, n2a)\n",
    "n3a"
   ]
  },
  {
   "cell_type": "code",
   "execution_count": 4,
   "metadata": {
    "colab": {
     "base_uri": "https://localhost:8080/"
    },
    "id": "g3JeXuML00ut",
    "outputId": "92acc23d-8211-48a7-979c-3838bfa1d119"
   },
   "outputs": [
    {
     "data": {
      "text/plain": [
       "array([ 0.        , -0.4472136 ,  0.89442719])"
      ]
     },
     "execution_count": 4,
     "metadata": {},
     "output_type": "execute_result"
    }
   ],
   "source": [
    "# Se calcula el producto cruz: n1 x n2b\n",
    "n3b = np.cross(n1, n2b)\n",
    "n3b"
   ]
  },
  {
   "cell_type": "markdown",
   "metadata": {
    "id": "1zgeN9JD1czD"
   },
   "source": [
    "Verifique estos resultados según las conclusiones del ejercicio.\n",
    "\n",
    "## Verificación de la no existencia de esfuerzos cortantes\n",
    "\n",
    "Se construye la matriz de esfuerzos $\\underline{\\underline{\\boldsymbol{\\sigma}}}$ y de transformación $\\boldsymbol{T}$:"
   ]
  },
  {
   "cell_type": "code",
   "execution_count": 5,
   "metadata": {
    "id": "181xzSoy18fj"
   },
   "outputs": [],
   "source": [
    "sigma = np.array([[ 1, 0, 0 ],\n",
    "                  [ 0, 3, 2 ],\n",
    "                  [ 0, 2, 0 ]])\n",
    "\n",
    "# Recuerde, T = [n1, n2, n3]\n",
    "T = np.array([[            0, 1,             0 ],\n",
    "              [ 2/np.sqrt(5), 0,  1/np.sqrt(5) ],\n",
    "              [ 1/np.sqrt(5), 0, -2/np.sqrt(5) ]])"
   ]
  },
  {
   "cell_type": "markdown",
   "metadata": {
    "id": "BRjr3Nrk2pFP"
   },
   "source": [
    "La matriz de esfeurzos en el nuevo sistema de coordenadas, $\\underline{\\underline{\\boldsymbol{\\sigma}}}'$"
   ]
  },
  {
   "cell_type": "code",
   "execution_count": 6,
   "metadata": {
    "colab": {
     "base_uri": "https://localhost:8080/"
    },
    "id": "x8rUtQig2m8g",
    "outputId": "addd0d09-3262-42f2-93a4-77c8fe79ee49"
   },
   "outputs": [
    {
     "data": {
      "text/plain": [
       "array([[ 4.,  0.,  0.],\n",
       "       [ 0.,  1.,  0.],\n",
       "       [ 0.,  0., -1.]])"
      ]
     },
     "execution_count": 6,
     "metadata": {},
     "output_type": "execute_result"
    }
   ],
   "source": [
    "sigmaP = T.T@sigma@T\n",
    "sigmaP.round(5)"
   ]
  }
 ],
 "metadata": {
  "colab": {
   "authorship_tag": "ABX9TyPAcX7LGBE3MjAoKXkvUpes",
   "include_colab_link": true,
   "name": "02_08_02_ejemplos_vf.ipynb",
   "provenance": []
  },
  "kernelspec": {
   "display_name": "Python 3 (ipykernel)",
   "language": "python",
   "name": "python3"
  },
  "language_info": {
   "codemirror_mode": {
    "name": "ipython",
    "version": 3
   },
   "file_extension": ".py",
   "mimetype": "text/x-python",
   "name": "python",
   "nbconvert_exporter": "python",
   "pygments_lexer": "ipython3",
   "version": "3.10.4"
  }
 },
 "nbformat": 4,
 "nbformat_minor": 1
}
