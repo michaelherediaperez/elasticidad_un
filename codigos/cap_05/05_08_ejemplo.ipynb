{
  "cells": [
    {
      "attachments": {},
      "cell_type": "markdown",
      "id": "51b9cbf4",
      "metadata": {},
      "source": [
        "# Ejemplo sección 5.8. Función de tensión de Airy\n",
        "\n",
        "## Cálculo de los esfuerzos, deformaciones y desplazamientos en una viga utilizando la función de tensión de Airy\n",
        "\n",
        "|Quién | Fecha | Qué hizo |\n",
        "| ---  | ---   | ---      |\n",
        "|Juan Nicolás Ramirez, <jnramirezg@unal.edu.co> | Marzo 8, 2023 | Conversión de código de MAXIMA a Python|\n",
        "|Michael Heredia Pérez, <mherediap@unal.edu.co> | Marzo 8, 2022 | Completando la información del código|"
      ]
    },
    {
      "attachments": {},
      "cell_type": "markdown",
      "id": "18a523b2",
      "metadata": {},
      "source": [
        "Antes de continuar, se solicita al lector leer de nuevo las dos primeras páginas de la Sección <font color='blue'>4.9</font> para mayor provecho de las explicaciones. Consideremos la viga mostrada en la Figura <font color='blue'>4.19</font>, la cual soporta sobre su cara inferior una carga uniformemente distribuida de magnitud $q$. De dicha viga, se desean calcular analíticamente los esfuerzos $\\sigma_x$, $\\sigma_y$ y $\\tau_{xy}$ que actúan sobre ella utilizando la función de tensión de Airy."
      ]
    },
    {
      "cell_type": "code",
      "execution_count": 1,
      "id": "aa9cb753",
      "metadata": {
        "id": "aa9cb753"
      },
      "outputs": [],
      "source": [
        "import sympy as sp\n",
        "\n",
        "# Para imprimir bonito\n",
        "sp.init_printing() \n",
        "from IPython.display import Math               \n",
        "def imprimir (texto, variable):\n",
        "    return Math(texto +  rf'{sp.latex(variable)}')"
      ]
    },
    {
      "cell_type": "code",
      "execution_count": 2,
      "id": "2f310160",
      "metadata": {
        "id": "2f310160"
      },
      "outputs": [],
      "source": [
        "# Definimos las variables simbólicas\n",
        "x, y, z            = sp.symbols(\"x, y, z\")\n",
        "A20, A21, A03, A23 = sp.symbols(\"A20, A21, A03, A23\")\n",
        "c, L, q            = sp.symbols(\"c, L, q\")\n",
        "E, nu              = sp.symbols(\"E, nu\")\n",
        "u0, v0, w0         = sp.symbols(\"u0, v0, w0\")"
      ]
    },
    {
      "cell_type": "code",
      "execution_count": 3,
      "id": "b9be0873",
      "metadata": {
        "id": "b9be0873"
      },
      "outputs": [
        {
          "data": {
            "image/png": "[encoded data removed]",
            "text/latex": [
              "$\\displaystyle A_{03} y^{3} + A_{20} x^{2} + A_{21} x^{2} y + A_{23} x^{2} y^{3} - \\frac{A_{23} y^{5}}{5}$"
            ],
            "text/plain": [
              "                                              5\n",
              "     3        2        2          2  3   A₂₃⋅y \n",
              "A₀₃⋅y  + A₂₀⋅x  + A₂₁⋅x ⋅y + A₂₃⋅x ⋅y  - ──────\n",
              "                                           5   "
            ]
          },
          "execution_count": 3,
          "metadata": {},
          "output_type": "execute_result"
        }
      ],
      "source": [
        "# Creamos la función de tensión de Airy \n",
        "phi = A20*x**2 + A21*x**2*y + A03*y**3 + A23*x**2*y**3 - A23*y**5/5\n",
        "phi"
      ]
    },
    {
      "cell_type": "code",
      "execution_count": 4,
      "id": "0477000f",
      "metadata": {
        "id": "0477000f"
      },
      "outputs": [],
      "source": [
        "# Definimos las constantes\n",
        "t = 1\n",
        "V = 0"
      ]
    },
    {
      "cell_type": "code",
      "execution_count": 5,
      "id": "892baabd",
      "metadata": {
        "id": "892baabd"
      },
      "outputs": [],
      "source": [
        "# Definimmos una función para el biarmónico.\n",
        "laplaciano = lambda f : sp.diff(f,x,2) + sp.diff(f,y,2)\n",
        "# Definimos una función para el biarmónico a partir del laplaciano.\n",
        "biarmonico = lambda f : laplaciano(laplaciano(f))"
      ]
    },
    {
      "cell_type": "code",
      "execution_count": 6,
      "id": "f4ba1664",
      "metadata": {
        "colab": {
          "base_uri": "https://localhost:8080/",
          "height": 37
        },
        "id": "f4ba1664",
        "outputId": "3345e7a3-df1c-4fa8-d822-76b37e5ffa03"
      },
      "outputs": [
        {
          "data": {
            "image/png": "[encoded data removed]",
            "text/latex": [
              "$\\displaystyle 0$"
            ],
            "text/plain": [
              "0"
            ]
          },
          "execution_count": 6,
          "metadata": {},
          "output_type": "execute_result"
        }
      ],
      "source": [
        "# Verificamos que la función de tensión de Airy es una función biarmónica.\n",
        "biarmonico(phi)"
      ]
    },
    {
      "cell_type": "code",
      "execution_count": 7,
      "id": "3c11bc7e",
      "metadata": {
        "id": "3c11bc7e"
      },
      "outputs": [],
      "source": [
        "# Calculamos los esfuerzos normales y cortantes.\n",
        "sx  =  sp.diff(phi,y,2) + V\n",
        "sy  =  sp.diff(phi,x,2) + V\n",
        "txy = -sp.diff(phi,x,1,y,1)"
      ]
    },
    {
      "cell_type": "code",
      "execution_count": 8,
      "id": "71d1e1bc",
      "metadata": {
        "id": "71d1e1bc"
      },
      "outputs": [],
      "source": [
        "# Definimos las funciones de fuerza cortante (V) y momento flector (M)\n",
        "V = lambda xx: -sp.integrate(sp.integrate(txy.subs(x,xx)  , (z,0,t)), (y,-c,c))\n",
        "M = lambda xx: -sp.integrate(sp.integrate( sx.subs(x,xx)*y, (z,0,t)), (y,-c,c))\n",
        "\n",
        "# Calculamos\n",
        "fax = sp.integrate(sp.integrate(sx, (z,0,t)), (y,-c,c))"
      ]
    },
    {
      "cell_type": "code",
      "execution_count": 9,
      "id": "3bfc2063",
      "metadata": {
        "id": "3bfc2063"
      },
      "outputs": [],
      "source": [
        "e1 = txy.subs(y,+c) - 0\n",
        "e2 = txy.subs(y,-c) - 0\n",
        "e3 = sy.subs(y, +c) - q/t\n",
        "e4 = sy.subs(y, -c) - 0"
      ]
    },
    {
      "cell_type": "code",
      "execution_count": 10,
      "id": "4ea48ef5",
      "metadata": {
        "id": "4ea48ef5"
      },
      "outputs": [],
      "source": [
        "e5 = V(-L) - (-q*L)\n",
        "e6 = V(+L) - (+q*L)\n",
        "e7 = M(-L) - 0\n",
        "e8 = M(+L) - 0\n",
        "e9 = fax   - 0"
      ]
    },
    {
      "cell_type": "code",
      "execution_count": 11,
      "id": "ba7f058f",
      "metadata": {
        "id": "ba7f058f"
      },
      "outputs": [],
      "source": [
        "# Encontramos el valor de cada constante\n",
        "ctes = sp.solve([e1,e2,e3,e4,e5,e6,e7,e8,e9], [A20,A21,A03,A23])"
      ]
    },
    {
      "cell_type": "code",
      "execution_count": 12,
      "id": "439c7f89",
      "metadata": {
        "id": "439c7f89"
      },
      "outputs": [],
      "source": [
        "# Reemplazamos en las expresiones para esfuerzos.\n",
        "sx  = sp.factor( sx.subs([(A20, ctes[A20]), (A21, ctes[A21]), (A03, ctes[A03]), (A23, ctes[A23])]))\n",
        "sy  = sp.factor( sy.subs([(A20, ctes[A20]), (A21, ctes[A21]), (A03, ctes[A03]), (A23, ctes[A23])]))\n",
        "txy = sp.factor(txy.subs([(A20, ctes[A20]), (A21, ctes[A21]), (A03, ctes[A03]), (A23, ctes[A23])]))"
      ]
    },
    {
      "cell_type": "code",
      "execution_count": 13,
      "id": "a820669b",
      "metadata": {},
      "outputs": [
        {
          "data": {
            "text/latex": [
              "$\\displaystyle \\sigma_x = - \\frac{q y \\left(- 15 L^{2} + 6 c^{2} + 15 x^{2} - 10 y^{2}\\right)}{20 c^{3}}$"
            ],
            "text/plain": [
              "<IPython.core.display.Math object>"
            ]
          },
          "execution_count": 13,
          "metadata": {},
          "output_type": "execute_result"
        }
      ],
      "source": [
        "imprimir(r\"\\sigma_x = \", sx)"
      ]
    },
    {
      "cell_type": "code",
      "execution_count": 14,
      "id": "8ee9703c",
      "metadata": {},
      "outputs": [
        {
          "data": {
            "text/latex": [
              "$\\displaystyle \\sigma_y = - \\frac{q \\left(- 2 c + y\\right) \\left(c + y\\right)^{2}}{4 c^{3}}$"
            ],
            "text/plain": [
              "<IPython.core.display.Math object>"
            ]
          },
          "execution_count": 14,
          "metadata": {},
          "output_type": "execute_result"
        }
      ],
      "source": [
        "imprimir(r\"\\sigma_y = \", sy)"
      ]
    },
    {
      "cell_type": "code",
      "execution_count": 15,
      "id": "0a39879c",
      "metadata": {},
      "outputs": [
        {
          "data": {
            "text/latex": [
              "$\\displaystyle \\tau_{xy} = \\frac{3 q x \\left(- c + y\\right) \\left(c + y\\right)}{4 c^{3}}$"
            ],
            "text/plain": [
              "<IPython.core.display.Math object>"
            ]
          },
          "execution_count": 15,
          "metadata": {},
          "output_type": "execute_result"
        }
      ],
      "source": [
        "imprimir(r\"\\tau_{xy} = \", txy)"
      ]
    },
    {
      "cell_type": "code",
      "execution_count": 16,
      "id": "bb2e64f9",
      "metadata": {
        "id": "bb2e64f9"
      },
      "outputs": [],
      "source": [
        "# Se define el módulo de cortante\n",
        "G = E/(2*(1+nu))\n",
        "\n",
        "# Calculamos las deformaciones longitudinales y angulares\n",
        "ex  = sp.factor((1/E)*(sx - nu*sy))\n",
        "ey  = sp.factor((1/E)*(sy - nu*sx))\n",
        "gxy = sp.factor((1/G)*txy)"
      ]
    },
    {
      "cell_type": "code",
      "execution_count": 17,
      "id": "292b9f3f",
      "metadata": {},
      "outputs": [
        {
          "data": {
            "text/latex": [
              "$\\displaystyle \\varepsilon_x = - \\frac{q \\left(- 15 L^{2} y + 10 c^{3} \\nu + 15 c^{2} \\nu y + 6 c^{2} y - 5 \\nu y^{3} + 15 x^{2} y - 10 y^{3}\\right)}{20 E c^{3}}$"
            ],
            "text/plain": [
              "<IPython.core.display.Math object>"
            ]
          },
          "execution_count": 17,
          "metadata": {},
          "output_type": "execute_result"
        }
      ],
      "source": [
        "imprimir(r\"\\varepsilon_x = \", ex)"
      ]
    },
    {
      "cell_type": "code",
      "execution_count": 18,
      "id": "e5738527",
      "metadata": {},
      "outputs": [
        {
          "data": {
            "text/latex": [
              "$\\displaystyle \\varepsilon_y = \\frac{q \\left(- 15 L^{2} \\nu y + 10 c^{3} + 6 c^{2} \\nu y + 15 c^{2} y + 15 \\nu x^{2} y - 10 \\nu y^{3} - 5 y^{3}\\right)}{20 E c^{3}}$"
            ],
            "text/plain": [
              "<IPython.core.display.Math object>"
            ]
          },
          "execution_count": 18,
          "metadata": {},
          "output_type": "execute_result"
        }
      ],
      "source": [
        "imprimir(r\"\\varepsilon_y = \", ey)"
      ]
    },
    {
      "cell_type": "code",
      "execution_count": 19,
      "id": "6d774099",
      "metadata": {},
      "outputs": [
        {
          "data": {
            "text/latex": [
              "$\\displaystyle \\gamma_{xy} = \\frac{3 q x \\left(- c + y\\right) \\left(c + y\\right) \\left(\\nu + 1\\right)}{2 E c^{3}}$"
            ],
            "text/plain": [
              "<IPython.core.display.Math object>"
            ]
          },
          "execution_count": 19,
          "metadata": {},
          "output_type": "execute_result"
        }
      ],
      "source": [
        "imprimir(r\"\\gamma_{xy} = \", gxy)"
      ]
    },
    {
      "cell_type": "code",
      "execution_count": 20,
      "id": "1b8450a1",
      "metadata": {
        "id": "1b8450a1"
      },
      "outputs": [],
      "source": [
        "df_dy_dg_dx = gxy - sp.diff(sp.integrate(ex,x),y) - sp.diff(sp.integrate(ey,y),x)"
      ]
    },
    {
      "cell_type": "code",
      "execution_count": 21,
      "id": "a5cf7638",
      "metadata": {
        "id": "a5cf7638"
      },
      "outputs": [],
      "source": [
        "df_dy = sp.factor(sp.expand(df_dy_dg_dx.subs(x,0))) + w0"
      ]
    },
    {
      "cell_type": "code",
      "execution_count": 22,
      "id": "853ea76f",
      "metadata": {
        "id": "853ea76f"
      },
      "outputs": [
        {
          "data": {
            "text/latex": [
              "$\\displaystyle \\frac{dg}{dx} = - w_{0} + \\frac{q x \\left(- 15 L^{2} - 15 c^{2} \\nu - 24 c^{2} + 5 x^{2}\\right)}{20 E c^{3}}$"
            ],
            "text/plain": [
              "<IPython.core.display.Math object>"
            ]
          },
          "execution_count": 22,
          "metadata": {},
          "output_type": "execute_result"
        }
      ],
      "source": [
        "dg_dx = sp.factor(sp.expand(df_dy_dg_dx.subs(y,0))) - w0\n",
        "imprimir(r\"\\frac{dg}{dx} = \", dg_dx)"
      ]
    },
    {
      "cell_type": "code",
      "execution_count": 23,
      "id": "fcd296d1",
      "metadata": {
        "id": "fcd296d1"
      },
      "outputs": [],
      "source": [
        "f = sp.integrate(df_dy, y) + u0\n",
        "g = sp.integrate(dg_dx, x) + v0"
      ]
    },
    {
      "cell_type": "code",
      "execution_count": 24,
      "id": "34a53b73",
      "metadata": {},
      "outputs": [
        {
          "data": {
            "text/latex": [
              "$\\displaystyle f = u_{0} + w_{0} y$"
            ],
            "text/plain": [
              "<IPython.core.display.Math object>"
            ]
          },
          "execution_count": 24,
          "metadata": {},
          "output_type": "execute_result"
        }
      ],
      "source": [
        "imprimir(r\"f = \", f)"
      ]
    },
    {
      "cell_type": "code",
      "execution_count": 25,
      "id": "08988b98",
      "metadata": {},
      "outputs": [
        {
          "data": {
            "text/latex": [
              "$\\displaystyle g = v_{0} - w_{0} x + \\frac{q x^{4}}{16 E c^{3}} + \\frac{x^{2} \\left(- 15 L^{2} q - 15 c^{2} \\nu q - 24 c^{2} q\\right)}{40 E c^{3}}$"
            ],
            "text/plain": [
              "<IPython.core.display.Math object>"
            ]
          },
          "execution_count": 25,
          "metadata": {},
          "output_type": "execute_result"
        }
      ],
      "source": [
        "imprimir(r\"g = \", g)"
      ]
    },
    {
      "cell_type": "code",
      "execution_count": 26,
      "id": "82ffcc91",
      "metadata": {
        "id": "82ffcc91"
      },
      "outputs": [],
      "source": [
        "u = sp.integrate(ex, x) + f\n",
        "v = sp.integrate(ey, y) + g"
      ]
    },
    {
      "cell_type": "code",
      "execution_count": 27,
      "id": "c4a1d682",
      "metadata": {
        "id": "c4a1d682"
      },
      "outputs": [],
      "source": [
        "e1 = u.subs([(x, 0)])       - 0\n",
        "e2 = v.subs([(x,+L),(y,0)]) - 0\n",
        "e3 = v.subs([(x,-L),(y,0)]) - 0"
      ]
    },
    {
      "cell_type": "code",
      "execution_count": 28,
      "id": "d72385cb",
      "metadata": {
        "id": "d72385cb"
      },
      "outputs": [],
      "source": [
        "ctes = sp.solve([e1,e2,e3],[u0, v0, w0])"
      ]
    },
    {
      "cell_type": "code",
      "execution_count": 29,
      "id": "0019ad2d",
      "metadata": {
        "id": "0019ad2d",
        "scrolled": true
      },
      "outputs": [],
      "source": [
        "u = sp.factor(u.subs([(u0, ctes[u0]),(v0, ctes[v0]),(w0, ctes[w0])]))\n",
        "v = sp.factor(v.subs([(u0, ctes[u0]),(v0, ctes[v0]),(w0, ctes[w0])]))"
      ]
    },
    {
      "cell_type": "code",
      "execution_count": 30,
      "id": "cfe4f5a1",
      "metadata": {
        "colab": {
          "base_uri": "https://localhost:8080/",
          "height": 56
        },
        "id": "cfe4f5a1",
        "outputId": "c1195be8-6a08-4117-fd27-5db352f019c8"
      },
      "outputs": [
        {
          "data": {
            "image/png": "[encoded data removed]",
            "text/latex": [
              "$\\displaystyle \\frac{q \\left(25 L^{4} + 30 L^{2} c^{2} \\nu + 48 L^{2} c^{2}\\right)}{80 E c^{3}}$"
            ],
            "text/plain": [
              "  ⎛    4       2  2         2  2⎞\n",
              "q⋅⎝25⋅L  + 30⋅L ⋅c ⋅ν + 48⋅L ⋅c ⎠\n",
              "─────────────────────────────────\n",
              "                   3             \n",
              "             80⋅E⋅c              "
            ]
          },
          "execution_count": 30,
          "metadata": {},
          "output_type": "execute_result"
        }
      ],
      "source": [
        "v.subs([(x,0), (y,0)])"
      ]
    }
  ],
  "metadata": {
    "colab": {
      "provenance": []
    },
    "kernelspec": {
      "display_name": "Python 3",
      "language": "python",
      "name": "python3"
    },
    "language_info": {
      "codemirror_mode": {
        "name": "ipython",
        "version": 3
      },
      "file_extension": ".py",
      "mimetype": "text/x-python",
      "name": "python",
      "nbconvert_exporter": "python",
      "pygments_lexer": "ipython3",
      "version": "3.10.6"
    }
  },
  "nbformat": 4,
  "nbformat_minor": 5
}
