{
  "nbformat": 4,
  "nbformat_minor": 0,
  "metadata": {
    "colab": {
      "name": "05_08_ejemplo.ipynb",
      "provenance": [],
      "authorship_tag": "ABX9TyMP1VHCXJAKncWDCe6ijULe",
      "include_colab_link": true
    },
    "kernelspec": {
      "name": "python3",
      "display_name": "Python 3"
    },
    "language_info": {
      "name": "python"
    }
  },
  "cells": [
    {
      "cell_type": "markdown",
      "metadata": {
        "id": "view-in-github",
        "colab_type": "text"
      },
      "source": [
        "<a href=\"https://colab.research.google.com/github/michaelherediaperez/mecanica_de_solidos_un/blob/main/codigos/cap_05/05_08_ejemplo.ipynb\" target=\"_parent\"><img src=\"https://colab.research.google.com/assets/colab-badge.svg\" alt=\"Open In Colab\"/></a>"
      ]
    },
    {
      "cell_type": "markdown",
      "source": [
        "# Ejemplo sección 5.8. Función de tensión de Airy\n",
        "\n",
        "## Cálculo de los esfuerzos, deformaciones y desplazamientos en una viga utilizando la función de tensión de Airy\n",
        "\n",
        "|Quién | Fecha | Qué hizo |\n",
        "| ---  | ---   | ---      |\n",
        "|Michael Heredia Pérez, <mherediap@unal.edu.co> | Julio 20, 2022 | Conversión de código de MAXIMA a Python|"
      ],
      "metadata": {
        "id": "Rc6-ZzJ3uhHT"
      }
    },
    {
      "cell_type": "markdown",
      "source": [
        "Antes de continuar, se solicita al lector leer de nuevo las dos primeras páginas de la Sección <font color='blue'>4.9</font> para mayor provecho de las explicaciones. Consideremos la viga mostrada en la Figura <font color='blue'>4.19</font>, la cual soporta sobre su cara inferior una carga uniformemente distribuida de magnitud $q$. De dicha viga, se desean calcular analíticamente los esfuerzos $\\sigma_x$, $\\sigma_y$ y $\\tau_{xy}$ que actúan sobre ella utilizando la función de tensión de Airy."
      ],
      "metadata": {
        "id": "L7KhLVcDv437"
      }
    },
    {
      "cell_type": "code",
      "execution_count": null,
      "metadata": {
        "id": "3p6PtnRatFNX"
      },
      "outputs": [],
      "source": [
        ""
      ]
    }
  ]
}