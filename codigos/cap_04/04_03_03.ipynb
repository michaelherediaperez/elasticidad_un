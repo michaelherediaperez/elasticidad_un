{
  "nbformat": 4,
  "nbformat_minor": 0,
  "metadata": {
    "colab": {
      "name": "04_03_03.ipynb",
      "provenance": [],
      "collapsed_sections": [],
      "authorship_tag": "ABX9TyOsOvDSLbrIfUPtlfnq3r14",
      "include_colab_link": true
    },
    "kernelspec": {
      "name": "python3",
      "display_name": "Python 3"
    },
    "language_info": {
      "name": "python"
    }
  },
  "cells": [
    {
      "cell_type": "markdown",
      "metadata": {
        "id": "view-in-github",
        "colab_type": "text"
      },
      "source": [
        "<a href=\"https://colab.research.google.com/github/michaelherediaperez/mecanica_de_solidos_un/blob/main/codigos/cap_04/04_03_03.ipynb\" target=\"_parent\"><img src=\"https://colab.research.google.com/assets/colab-badge.svg\" alt=\"Open In Colab\"/></a>"
      ]
    },
    {
      "cell_type": "markdown",
      "source": [
        "# 4.3.3. Ley de Hooke generalizada para materiales isótropos\n",
        "\n",
        "|Quién | Fecha | Qué hizo |\n",
        "| ---  | ---   | ---      |\n",
        "|Michael Heredia Pérez, <mherediap@unal.edu.co> | Agosto 4, 2022 | Conversión de código de MAXIMA a Python|\n",
        "\n",
        "## Despeje de las ecuaciones para $\\sigma_x$, $\\sigma_y$, $\\sigma_z$"
      ],
      "metadata": {
        "id": "Q1np-HmVdZu3"
      }
    },
    {
      "cell_type": "code",
      "execution_count": 1,
      "metadata": {
        "id": "S325VqiidXcS"
      },
      "outputs": [],
      "source": [
        "from sympy import *\n",
        "init_printing()"
      ]
    },
    {
      "cell_type": "markdown",
      "source": [
        "Defino las variables"
      ],
      "metadata": {
        "id": "Rf_vMddLdwSe"
      }
    },
    {
      "cell_type": "code",
      "source": [
        "ex, ey, ez = symbols(\"varepsilon_x, varepsilon_y, varepsilon_z\")\n",
        "sx, sy, sz = symbols(\"sigma_x, sigma_y, sigma_z\")\n",
        "E, nu, lamb_da = symbols(\"E, nu, lambda\")\n",
        "\n",
        "ex, ey, ez, sx, sy, sz, E, nu, lamb_da"
      ],
      "metadata": {
        "colab": {
          "base_uri": "https://localhost:8080/",
          "height": 38
        },
        "id": "mREL25dldtdI",
        "outputId": "08239943-c1c6-4f68-9d27-1065f604ec0d"
      },
      "execution_count": 2,
      "outputs": [
        {
          "output_type": "execute_result",
          "data": {
            "text/plain": [
              "(varepsilonₓ, varepsilon_y, varepsilon_z, σₓ, σ_y, σ_z, E, ν, λ)"
            ],
            "image/png": "[encoded data removed]",
            "text/latex": "$\\displaystyle \\left( \\varepsilon_{x}, \\  \\varepsilon_{y}, \\  \\varepsilon_{z}, \\  \\sigma_{x}, \\  \\sigma_{y}, \\  \\sigma_{z}, \\  E, \\  \\nu, \\  \\lambda\\right)$"
          },
          "metadata": {},
          "execution_count": 2
        }
      ]
    },
    {
      "cell_type": "markdown",
      "source": [
        "Defino las ecuaciones, recuerde, igualando la ecuación a cero."
      ],
      "metadata": {
        "id": "yG9BmbkYecDU"
      }
    },
    {
      "cell_type": "code",
      "source": [
        " eq_ex = ex - (1/E)*(sx - nu*(sy + sz))   # eq 1\n",
        " eq_ey = ey - (1/E)*(sy - nu*(sx + sz))   # eq 2\n",
        " eq_ez = ez - (1/E)*(sz - nu*(sx + sy))   # eq 3\n",
        "\n",
        " eq_ex, eq_ey, eq_ez"
      ],
      "metadata": {
        "id": "LmWtV--qd-8J",
        "colab": {
          "base_uri": "https://localhost:8080/",
          "height": 58
        },
        "outputId": "68779f95-abd5-4e72-e63b-091750e932ff"
      },
      "execution_count": 3,
      "outputs": [
        {
          "output_type": "execute_result",
          "data": {
            "text/plain": [
              "⎛              -ν⋅(σ_y + σ_z) + σₓ                 -ν⋅(σₓ + σ_z) + σ_y        \n",
              "⎜varepsilonₓ - ───────────────────, varepsilon_y - ───────────────────, vareps\n",
              "⎝                       E                                   E                 \n",
              "\n",
              "         -ν⋅(σₓ + σ_y) + σ_z⎞\n",
              "ilon_z - ───────────────────⎟\n",
              "                  E         ⎠"
            ],
            "image/png": "[encoded data removed]",
            "text/latex": "$\\displaystyle \\left( \\varepsilon_{x} - \\frac{- \\nu \\left(\\sigma_{y} + \\sigma_{z}\\right) + \\sigma_{x}}{E}, \\  \\varepsilon_{y} - \\frac{- \\nu \\left(\\sigma_{x} + \\sigma_{z}\\right) + \\sigma_{y}}{E}, \\  \\varepsilon_{z} - \\frac{- \\nu \\left(\\sigma_{x} + \\sigma_{y}\\right) + \\sigma_{z}}{E}\\right)$"
          },
          "metadata": {},
          "execution_count": 3
        }
      ]
    },
    {
      "cell_type": "markdown",
      "source": [
        "Despejo sx, sy y sx de las ecuaciones"
      ],
      "metadata": {
        "id": "cV3kpEB3e5ZT"
      }
    },
    {
      "cell_type": "code",
      "source": [
        "factor( solve([eq_ex, eq_ey, eq_ez], (sx, sy, sz)) )"
      ],
      "metadata": {
        "colab": {
          "base_uri": "https://localhost:8080/",
          "height": 58
        },
        "id": "uOKTXvJeerr_",
        "outputId": "5373ee68-7de3-4e0c-cca3-8434243f2486"
      },
      "execution_count": 4,
      "outputs": [
        {
          "output_type": "execute_result",
          "data": {
            "text/plain": [
              "⎧    E⋅(ν⋅varepsilonₓ - ν⋅varepsilon_y - ν⋅varepsilon_z - varepsilonₓ)       -\n",
              "⎨σₓ: ─────────────────────────────────────────────────────────────────, σ_y: ─\n",
              "⎩                            (ν + 1)⋅(2⋅ν - 1)                                \n",
              "\n",
              "E⋅(ν⋅varepsilonₓ - ν⋅varepsilon_y + ν⋅varepsilon_z + varepsilon_y)        -E⋅(\n",
              "───────────────────────────────────────────────────────────────────, σ_z: ────\n",
              "                        (ν + 1)⋅(2⋅ν - 1)                                     \n",
              "\n",
              "ν⋅varepsilonₓ + ν⋅varepsilon_y - ν⋅varepsilon_z + varepsilon_z) ⎫\n",
              "────────────────────────────────────────────────────────────────⎬\n",
              "                     (ν + 1)⋅(2⋅ν - 1)                          ⎭"
            ],
            "image/png": "[encoded data removed]",
            "text/latex": "$\\displaystyle \\left\\{ \\sigma_{x} : \\frac{E \\left(\\nu \\varepsilon_{x} - \\nu \\varepsilon_{y} - \\nu \\varepsilon_{z} - \\varepsilon_{x}\\right)}{\\left(\\nu + 1\\right) \\left(2 \\nu - 1\\right)}, \\  \\sigma_{y} : - \\frac{E \\left(\\nu \\varepsilon_{x} - \\nu \\varepsilon_{y} + \\nu \\varepsilon_{z} + \\varepsilon_{y}\\right)}{\\left(\\nu + 1\\right) \\left(2 \\nu - 1\\right)}, \\  \\sigma_{z} : - \\frac{E \\left(\\nu \\varepsilon_{x} + \\nu \\varepsilon_{y} - \\nu \\varepsilon_{z} + \\varepsilon_{z}\\right)}{\\left(\\nu + 1\\right) \\left(2 \\nu - 1\\right)}\\right\\}$"
          },
          "metadata": {},
          "execution_count": 4
        }
      ]
    },
    {
      "cell_type": "markdown",
      "source": [
        "## Coeficientes de la matriz constitutiva $D$\n",
        "\n",
        "Se definen las variables faltantes (esfuerzos cortantes y deformacines tangenciales)"
      ],
      "metadata": {
        "id": "SScbuKsEFvE_"
      }
    },
    {
      "cell_type": "code",
      "source": [
        "txy, txz, tyz  = symbols(\"tau_xy, tau_xz, tau_yz\")\n",
        "gxy, gxz, gyz  = symbols(\"gamma_xy, gamma_xz, gamma_yz\")\n",
        "\n",
        "txy, txz, tyz, gxy, gxz, gyz"
      ],
      "metadata": {
        "colab": {
          "base_uri": "https://localhost:8080/",
          "height": 38
        },
        "id": "btnBE896Fw9Z",
        "outputId": "d1033027-4b37-49cf-e86b-4db1fafdd531"
      },
      "execution_count": 5,
      "outputs": [
        {
          "output_type": "execute_result",
          "data": {
            "text/plain": [
              "(τ_xy, τ_xz, τ_yz, γ_xy, γ_xz, γ_yz)"
            ],
            "image/png": "[encoded data removed]",
            "text/latex": "$\\displaystyle \\left( \\tau_{xy}, \\  \\tau_{xz}, \\  \\tau_{yz}, \\  \\gamma_{xy}, \\  \\gamma_{xz}, \\  \\gamma_{yz}\\right)$"
          },
          "metadata": {},
          "execution_count": 5
        }
      ]
    },
    {
      "cell_type": "markdown",
      "source": [
        "Se define la delatación cúbica (eq. 4.28)"
      ],
      "metadata": {
        "id": "iaD4_d8eF9Wy"
      }
    },
    {
      "cell_type": "code",
      "source": [
        "e = ex + ey + ez\n",
        "e"
      ],
      "metadata": {
        "colab": {
          "base_uri": "https://localhost:8080/",
          "height": 38
        },
        "id": "6hD_xVVHF7Tn",
        "outputId": "c6eac37e-d935-4185-d69e-5b1980ec1fed"
      },
      "execution_count": 6,
      "outputs": [
        {
          "output_type": "execute_result",
          "data": {
            "text/plain": [
              "varepsilonₓ + varepsilon_y + varepsilon_z"
            ],
            "image/png": "[encoded data removed]",
            "text/latex": "$\\displaystyle \\varepsilon_{x} + \\varepsilon_{y} + \\varepsilon_{z}$"
          },
          "metadata": {},
          "execution_count": 6
        }
      ]
    },
    {
      "cell_type": "markdown",
      "source": [
        "Las constantes de Lamé"
      ],
      "metadata": {
        "id": "tgQs1dw6GB8D"
      }
    },
    {
      "cell_type": "code",
      "source": [
        "lamb_da = nu*E / ((1+nu) * (1-2*nu))    # eq. 4.15\n",
        "G = E / (2 * (1+nu))                    # eq 4.8\n",
        "\n",
        "lamb_da, G"
      ],
      "metadata": {
        "colab": {
          "base_uri": "https://localhost:8080/",
          "height": 58
        },
        "id": "CUx7ZsfxF_zd",
        "outputId": "448241dd-6fcd-4c27-88e0-96dc7368a2d2"
      },
      "execution_count": 7,
      "outputs": [
        {
          "output_type": "execute_result",
          "data": {
            "text/plain": [
              "⎛       E⋅ν            E   ⎞\n",
              "⎜─────────────────, ───────⎟\n",
              "⎝(1 - 2⋅ν)⋅(ν + 1)  2⋅ν + 2⎠"
            ],
            "image/png": "[encoded data removed]",
            "text/latex": "$\\displaystyle \\left( \\frac{E \\nu}{\\left(1 - 2 \\nu\\right) \\left(\\nu + 1\\right)}, \\  \\frac{E}{2 \\nu + 2}\\right)$"
          },
          "metadata": {},
          "execution_count": 7
        }
      ]
    },
    {
      "cell_type": "markdown",
      "source": [
        "Se definen las ecuaciones de Lamé (eq 4.14), recordadno que deben estar igualadas a cero."
      ],
      "metadata": {
        "id": "7Sv252D1GNhF"
      }
    },
    {
      "cell_type": "code",
      "source": [
        "sx = lamb_da*e + 2*G*ex\n",
        "sy = lamb_da*e + 2*G*ey\n",
        "sz = lamb_da*e + 2*G*ez\n",
        "\n",
        "txy = G*gxy\n",
        "txz = G*gxz\n",
        "tyz = G*gyz"
      ],
      "metadata": {
        "id": "b30m4rRQGEvt"
      },
      "execution_count": 8,
      "outputs": []
    },
    {
      "cell_type": "markdown",
      "source": [
        "Se despeja la matriz constitutiva $D$ para el caso isótropo. En MAXIMA se emplea el comando ```coefmatrix```, pero en sympy tenemos ```linear_eq_to_matrix()```."
      ],
      "metadata": {
        "id": "y-YcCDx6GTUJ"
      }
    },
    {
      "cell_type": "code",
      "source": [
        "D = linear_eq_to_matrix([sx, sy, sz, txy, txz, tyz], (ex, ey, ez, gxy, gxz, gyz))[0]\n",
        "D"
      ],
      "metadata": {
        "colab": {
          "base_uri": "https://localhost:8080/",
          "height": 153
        },
        "id": "_cnRUzH9GQ3e",
        "outputId": "4286b3ff-a14c-4bd8-91b7-5d3f743a40f4"
      },
      "execution_count": 9,
      "outputs": [
        {
          "output_type": "execute_result",
          "data": {
            "text/plain": [
              "⎡       E⋅ν            2⋅E                E⋅ν                          E⋅ν    \n",
              "⎢───────────────── + ───────       ─────────────────            ──────────────\n",
              "⎢(1 - 2⋅ν)⋅(ν + 1)   2⋅ν + 2       (1 - 2⋅ν)⋅(ν + 1)            (1 - 2⋅ν)⋅(ν +\n",
              "⎢                                                                             \n",
              "⎢            E⋅ν                     E⋅ν            2⋅E                E⋅ν    \n",
              "⎢     ─────────────────       ───────────────── + ───────       ──────────────\n",
              "⎢     (1 - 2⋅ν)⋅(ν + 1)       (1 - 2⋅ν)⋅(ν + 1)   2⋅ν + 2       (1 - 2⋅ν)⋅(ν +\n",
              "⎢                                                                             \n",
              "⎢            E⋅ν                          E⋅ν                     E⋅ν         \n",
              "⎢     ─────────────────            ─────────────────       ───────────────── +\n",
              "⎢     (1 - 2⋅ν)⋅(ν + 1)            (1 - 2⋅ν)⋅(ν + 1)       (1 - 2⋅ν)⋅(ν + 1)  \n",
              "⎢                                                                             \n",
              "⎢                                                                             \n",
              "⎢             0                            0                            0     \n",
              "⎢                                                                             \n",
              "⎢                                                                             \n",
              "⎢                                                                             \n",
              "⎢             0                            0                            0     \n",
              "⎢                                                                             \n",
              "⎢                                                                             \n",
              "⎢                                                                             \n",
              "⎢             0                            0                            0     \n",
              "⎣                                                                             \n",
              "\n",
              "                                   ⎤\n",
              "───          0        0        0   ⎥\n",
              " 1)                                ⎥\n",
              "                                   ⎥\n",
              "                                   ⎥\n",
              "───          0        0        0   ⎥\n",
              " 1)                                ⎥\n",
              "                                   ⎥\n",
              "   2⋅E                             ⎥\n",
              " ───────     0        0        0   ⎥\n",
              " 2⋅ν + 2                           ⎥\n",
              "                                   ⎥\n",
              "             E                     ⎥\n",
              "          ───────     0        0   ⎥\n",
              "          2⋅ν + 2                  ⎥\n",
              "                                   ⎥\n",
              "                      E            ⎥\n",
              "             0     ───────     0   ⎥\n",
              "                   2⋅ν + 2         ⎥\n",
              "                                   ⎥\n",
              "                               E   ⎥\n",
              "             0        0     ───────⎥\n",
              "                            2⋅ν + 2⎦"
            ],
            "text/latex": "$\\displaystyle \\left[\\begin{matrix}\\frac{E \\nu}{\\left(1 - 2 \\nu\\right) \\left(\\nu + 1\\right)} + \\frac{2 E}{2 \\nu + 2} & \\frac{E \\nu}{\\left(1 - 2 \\nu\\right) \\left(\\nu + 1\\right)} & \\frac{E \\nu}{\\left(1 - 2 \\nu\\right) \\left(\\nu + 1\\right)} & 0 & 0 & 0\\\\\\frac{E \\nu}{\\left(1 - 2 \\nu\\right) \\left(\\nu + 1\\right)} & \\frac{E \\nu}{\\left(1 - 2 \\nu\\right) \\left(\\nu + 1\\right)} + \\frac{2 E}{2 \\nu + 2} & \\frac{E \\nu}{\\left(1 - 2 \\nu\\right) \\left(\\nu + 1\\right)} & 0 & 0 & 0\\\\\\frac{E \\nu}{\\left(1 - 2 \\nu\\right) \\left(\\nu + 1\\right)} & \\frac{E \\nu}{\\left(1 - 2 \\nu\\right) \\left(\\nu + 1\\right)} & \\frac{E \\nu}{\\left(1 - 2 \\nu\\right) \\left(\\nu + 1\\right)} + \\frac{2 E}{2 \\nu + 2} & 0 & 0 & 0\\\\0 & 0 & 0 & \\frac{E}{2 \\nu + 2} & 0 & 0\\\\0 & 0 & 0 & 0 & \\frac{E}{2 \\nu + 2} & 0\\\\0 & 0 & 0 & 0 & 0 & \\frac{E}{2 \\nu + 2}\\end{matrix}\\right]$"
          },
          "metadata": {},
          "execution_count": 9
        }
      ]
    },
    {
      "cell_type": "markdown",
      "source": [
        "Podemos factorizar \n",
        "\n",
        "$$\\frac{E}{1+\\nu},$$ obteniendo:"
      ],
      "metadata": {
        "id": "SKkdMWmWGaZF"
      }
    },
    {
      "cell_type": "code",
      "source": [
        "simplify(D / (E/(1+nu)))"
      ],
      "metadata": {
        "colab": {
          "base_uri": "https://localhost:8080/",
          "height": 142
        },
        "id": "JzAcQ_AjGXnQ",
        "outputId": "e28c7c1a-0194-47f5-cdfc-4085441fe942"
      },
      "execution_count": 10,
      "outputs": [
        {
          "output_type": "execute_result",
          "data": {
            "text/plain": [
              "⎡ ν - 1     -ν       -ν                  ⎤\n",
              "⎢───────  ───────  ───────   0    0    0 ⎥\n",
              "⎢2⋅ν - 1  2⋅ν - 1  2⋅ν - 1               ⎥\n",
              "⎢                                        ⎥\n",
              "⎢  -ν      ν - 1     -ν                  ⎥\n",
              "⎢───────  ───────  ───────   0    0    0 ⎥\n",
              "⎢2⋅ν - 1  2⋅ν - 1  2⋅ν - 1               ⎥\n",
              "⎢                                        ⎥\n",
              "⎢  -ν       -ν      ν - 1                ⎥\n",
              "⎢───────  ───────  ───────   0    0    0 ⎥\n",
              "⎢2⋅ν - 1  2⋅ν - 1  2⋅ν - 1               ⎥\n",
              "⎢                                        ⎥\n",
              "⎢   0        0        0     1/2   0    0 ⎥\n",
              "⎢                                        ⎥\n",
              "⎢   0        0        0      0   1/2   0 ⎥\n",
              "⎢                                        ⎥\n",
              "⎣   0        0        0      0    0   1/2⎦"
            ],
            "text/latex": "$\\displaystyle \\left[\\begin{matrix}\\frac{\\nu - 1}{2 \\nu - 1} & - \\frac{\\nu}{2 \\nu - 1} & - \\frac{\\nu}{2 \\nu - 1} & 0 & 0 & 0\\\\- \\frac{\\nu}{2 \\nu - 1} & \\frac{\\nu - 1}{2 \\nu - 1} & - \\frac{\\nu}{2 \\nu - 1} & 0 & 0 & 0\\\\- \\frac{\\nu}{2 \\nu - 1} & - \\frac{\\nu}{2 \\nu - 1} & \\frac{\\nu - 1}{2 \\nu - 1} & 0 & 0 & 0\\\\0 & 0 & 0 & \\frac{1}{2} & 0 & 0\\\\0 & 0 & 0 & 0 & \\frac{1}{2} & 0\\\\0 & 0 & 0 & 0 & 0 & \\frac{1}{2}\\end{matrix}\\right]$"
          },
          "metadata": {},
          "execution_count": 10
        }
      ]
    },
    {
      "cell_type": "markdown",
      "source": [
        "NOTA: Podrá pensar que el resultado es el negativo de lo que debería ser, pero no lo es, simplemente debe factorizar (-1) de los términos fraccionarios asociados a los esfuerzos normales."
      ],
      "metadata": {
        "id": "7bRv5xGMIS7r"
      }
    }
  ]
}