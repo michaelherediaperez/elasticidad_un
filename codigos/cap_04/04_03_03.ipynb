{
  "cells": [
    {
      "cell_type": "markdown",
      "metadata": {
        "colab_type": "text",
        "id": "view-in-github"
      },
      "source": [
        "<a href=\"https://colab.research.google.com/github/michaelherediaperez/mecanica_de_solidos_un/blob/main/codigos/cap_04/04_03_03.ipynb\" target=\"_parent\"><img src=\"https://colab.research.google.com/assets/colab-badge.svg\" alt=\"Open In Colab\"/></a>"
      ]
    },
    {
      "cell_type": "markdown",
      "metadata": {
        "id": "Q1np-HmVdZu3"
      },
      "source": [
        "# 4.3.3. Ley de Hooke generalizada para materiales isótropos\n",
        "\n",
        "|Quién | Fecha | Qué hizo |\n",
        "| ---  | ---   | ---      |\n",
        "|Michael Heredia Pérez, <mherediap@unal.edu.co> | Agosto 4, 2022 | Conversión de código de MAXIMA a Python|\n",
        "|Michael Heredia Pérez, <mherediap@unal.edu.co> | Octubre 5, 2022 | Mejorando legibilidad del código y añadiendo sistema matricial|\n",
        "\n",
        "## Despeje de las ecuaciones para $\\sigma_x$, $\\sigma_y$, $\\sigma_z$"
      ]
    },
    {
      "cell_type": "code",
      "execution_count": 1,
      "metadata": {
        "id": "S325VqiidXcS"
      },
      "outputs": [],
      "source": [
        "import sympy as sp\n",
        "\n",
        "# Para imprimir bonito\n",
        "sp.init_printing()\n",
        "from IPython.display import Math                 \n",
        "def imprimir (texto, variable):\n",
        "    return Math(texto +  rf'{sp.latex(variable)}')"
      ]
    },
    {
      "cell_type": "markdown",
      "metadata": {
        "id": "Rf_vMddLdwSe"
      },
      "source": [
        "Defino las variables"
      ]
    },
    {
      "cell_type": "code",
      "execution_count": 2,
      "metadata": {
        "colab": {
          "base_uri": "https://localhost:8080/",
          "height": 38
        },
        "id": "mREL25dldtdI",
        "outputId": "08239943-c1c6-4f68-9d27-1065f604ec0d"
      },
      "outputs": [
        {
          "data": {
            "image/png": "[encoded data removed]",
            "text/latex": [
              "$\\displaystyle \\left( \\varepsilon_{x}, \\  \\varepsilon_{y}, \\  \\varepsilon_{z}, \\  \\sigma_{x}, \\  \\sigma_{y}, \\  \\sigma_{z}, \\  E, \\  \\nu, \\  \\lambda\\right)$"
            ],
            "text/plain": [
              "(varepsilonₓ, varepsilon_y, varepsilon_z, σₓ, σ_y, σ_z, E, ν, λ)"
            ]
          },
          "execution_count": 2,
          "metadata": {},
          "output_type": "execute_result"
        }
      ],
      "source": [
        "ex, ey, ez     = sp.symbols(\"varepsilon_x, varepsilon_y, varepsilon_z\")\n",
        "sx, sy, sz     = sp.symbols(\"sigma_x, sigma_y, sigma_z\")\n",
        "\n",
        "# Recuerde que \"lambda\" es una palabra reservada de python.\n",
        "E, nu, lamb_da = sp.symbols(\"E, nu, lambda\")    \n",
        "\n",
        "ex, ey, ez, sx, sy, sz, E, nu, lamb_da"
      ]
    },
    {
      "cell_type": "markdown",
      "metadata": {
        "id": "yG9BmbkYecDU"
      },
      "source": [
        "Defino las ecuaciones, recuerde, igualando la ecuación a cero."
      ]
    },
    {
      "cell_type": "code",
      "execution_count": 3,
      "metadata": {
        "colab": {
          "base_uri": "https://localhost:8080/",
          "height": 58
        },
        "id": "LmWtV--qd-8J",
        "outputId": "68779f95-abd5-4e72-e63b-091750e932ff"
      },
      "outputs": [
        {
          "data": {
            "image/png": "[encoded data removed]",
            "text/latex": [
              "$\\displaystyle \\left( \\varepsilon_{x} - \\frac{- \\nu \\left(\\sigma_{y} + \\sigma_{z}\\right) + \\sigma_{x}}{E}, \\  \\varepsilon_{y} - \\frac{- \\nu \\left(\\sigma_{x} + \\sigma_{z}\\right) + \\sigma_{y}}{E}, \\  \\varepsilon_{z} - \\frac{- \\nu \\left(\\sigma_{x} + \\sigma_{y}\\right) + \\sigma_{z}}{E}\\right)$"
            ],
            "text/plain": [
              "⎛              -ν⋅(σ_y + σ_z) + σₓ                 -ν⋅(σₓ + σ_z) + σ_y        \n",
              "⎜varepsilonₓ - ───────────────────, varepsilon_y - ───────────────────, vareps\n",
              "⎝                       E                                   E                 \n",
              "\n",
              "         -ν⋅(σₓ + σ_y) + σ_z⎞\n",
              "ilon_z - ───────────────────⎟\n",
              "                  E         ⎠"
            ]
          },
          "execution_count": 3,
          "metadata": {},
          "output_type": "execute_result"
        }
      ],
      "source": [
        " eq_ex = ex - (1/E)*(sx - nu*(sy + sz))   # eq 1\n",
        " eq_ey = ey - (1/E)*(sy - nu*(sx + sz))   # eq 2\n",
        " eq_ez = ez - (1/E)*(sz - nu*(sx + sy))   # eq 3\n",
        "\n",
        " eq_ex, eq_ey, eq_ez"
      ]
    },
    {
      "cell_type": "markdown",
      "metadata": {
        "id": "cV3kpEB3e5ZT"
      },
      "source": [
        "Despejo sx, sy y sx de las ecuaciones"
      ]
    },
    {
      "cell_type": "code",
      "execution_count": 4,
      "metadata": {
        "colab": {
          "base_uri": "https://localhost:8080/",
          "height": 58
        },
        "id": "uOKTXvJeerr_",
        "outputId": "5373ee68-7de3-4e0c-cca3-8434243f2486"
      },
      "outputs": [
        {
          "data": {
            "image/png": "[encoded data removed]",
            "text/latex": [
              "$\\displaystyle \\left\\{ \\sigma_{x} : \\frac{E \\left(\\nu \\varepsilon_{x} - \\nu \\varepsilon_{y} - \\nu \\varepsilon_{z} - \\varepsilon_{x}\\right)}{\\left(\\nu + 1\\right) \\left(2 \\nu - 1\\right)}, \\  \\sigma_{y} : - \\frac{E \\left(\\nu \\varepsilon_{x} - \\nu \\varepsilon_{y} + \\nu \\varepsilon_{z} + \\varepsilon_{y}\\right)}{\\left(\\nu + 1\\right) \\left(2 \\nu - 1\\right)}, \\  \\sigma_{z} : - \\frac{E \\left(\\nu \\varepsilon_{x} + \\nu \\varepsilon_{y} - \\nu \\varepsilon_{z} + \\varepsilon_{z}\\right)}{\\left(\\nu + 1\\right) \\left(2 \\nu - 1\\right)}\\right\\}$"
            ],
            "text/plain": [
              "⎧    E⋅(ν⋅varepsilonₓ - ν⋅varepsilon_y - ν⋅varepsilon_z - varepsilonₓ)       -\n",
              "⎨σₓ: ─────────────────────────────────────────────────────────────────, σ_y: ─\n",
              "⎩                            (ν + 1)⋅(2⋅ν - 1)                                \n",
              "\n",
              "E⋅(ν⋅varepsilonₓ - ν⋅varepsilon_y + ν⋅varepsilon_z + varepsilon_y)        -E⋅(\n",
              "───────────────────────────────────────────────────────────────────, σ_z: ────\n",
              "                        (ν + 1)⋅(2⋅ν - 1)                                     \n",
              "\n",
              "ν⋅varepsilonₓ + ν⋅varepsilon_y - ν⋅varepsilon_z + varepsilon_z) ⎫\n",
              "────────────────────────────────────────────────────────────────⎬\n",
              "                     (ν + 1)⋅(2⋅ν - 1)                          ⎭"
            ]
          },
          "execution_count": 4,
          "metadata": {},
          "output_type": "execute_result"
        }
      ],
      "source": [
        "sp.factor( sp.solve([eq_ex, eq_ey, eq_ez], (sx, sy, sz)) )"
      ]
    },
    {
      "cell_type": "markdown",
      "metadata": {
        "id": "SScbuKsEFvE_"
      },
      "source": [
        "## Coeficientes de la matriz constitutiva $D$\n",
        "\n",
        "Se definen las variables faltantes (esfuerzos cortantes y deformacines tangenciales)"
      ]
    },
    {
      "cell_type": "code",
      "execution_count": 5,
      "metadata": {
        "colab": {
          "base_uri": "https://localhost:8080/",
          "height": 38
        },
        "id": "btnBE896Fw9Z",
        "outputId": "d1033027-4b37-49cf-e86b-4db1fafdd531"
      },
      "outputs": [
        {
          "data": {
            "image/png": "[encoded data removed]",
            "text/latex": [
              "$\\displaystyle \\left( \\tau_{xy}, \\  \\tau_{xz}, \\  \\tau_{yz}, \\  \\gamma_{xy}, \\  \\gamma_{xz}, \\  \\gamma_{yz}\\right)$"
            ],
            "text/plain": [
              "(τ_xy, τ_xz, τ_yz, γ_xy, γ_xz, γ_yz)"
            ]
          },
          "execution_count": 5,
          "metadata": {},
          "output_type": "execute_result"
        }
      ],
      "source": [
        "txy, txz, tyz  = sp.symbols(\"tau_xy, tau_xz, tau_yz\")\n",
        "gxy, gxz, gyz  = sp.symbols(\"gamma_xy, gamma_xz, gamma_yz\")\n",
        "\n",
        "txy, txz, tyz, gxy, gxz, gyz"
      ]
    },
    {
      "cell_type": "markdown",
      "metadata": {
        "id": "iaD4_d8eF9Wy"
      },
      "source": [
        "Se define la delatación cúbica (eq. 4.28)"
      ]
    },
    {
      "cell_type": "code",
      "execution_count": 6,
      "metadata": {
        "colab": {
          "base_uri": "https://localhost:8080/",
          "height": 38
        },
        "id": "6hD_xVVHF7Tn",
        "outputId": "c6eac37e-d935-4185-d69e-5b1980ec1fed"
      },
      "outputs": [
        {
          "data": {
            "text/latex": [
              "$\\displaystyle e = \\varepsilon_{x} + \\varepsilon_{y} + \\varepsilon_{z}$"
            ],
            "text/plain": [
              "<IPython.core.display.Math object>"
            ]
          },
          "execution_count": 6,
          "metadata": {},
          "output_type": "execute_result"
        }
      ],
      "source": [
        "e = ex + ey + ez\n",
        "imprimir(r\"e = \", e)"
      ]
    },
    {
      "cell_type": "markdown",
      "metadata": {
        "id": "tgQs1dw6GB8D"
      },
      "source": [
        "Las constantes de Lamé"
      ]
    },
    {
      "cell_type": "code",
      "execution_count": 7,
      "metadata": {
        "colab": {
          "base_uri": "https://localhost:8080/",
          "height": 58
        },
        "id": "CUx7ZsfxF_zd",
        "outputId": "448241dd-6fcd-4c27-88e0-96dc7368a2d2"
      },
      "outputs": [],
      "source": [
        "lamb_da = nu*E / ((1+nu) * (1-2*nu))    # eq. 4.15, primera constante de Lamé.\n",
        "G = E / (2 * (1+nu))                    # eq 4.8,   segunda constante de Lamé."
      ]
    },
    {
      "cell_type": "code",
      "execution_count": 8,
      "metadata": {},
      "outputs": [
        {
          "data": {
            "text/latex": [
              "$\\displaystyle \\lambda = \\frac{E \\nu}{\\left(1 - 2 \\nu\\right) \\left(\\nu + 1\\right)}$"
            ],
            "text/plain": [
              "<IPython.core.display.Math object>"
            ]
          },
          "execution_count": 8,
          "metadata": {},
          "output_type": "execute_result"
        }
      ],
      "source": [
        "imprimir(r\"\\lambda = \", lamb_da)"
      ]
    },
    {
      "cell_type": "code",
      "execution_count": 9,
      "metadata": {},
      "outputs": [
        {
          "data": {
            "text/latex": [
              "$\\displaystyle G = \\frac{E}{2 \\nu + 2}$"
            ],
            "text/plain": [
              "<IPython.core.display.Math object>"
            ]
          },
          "execution_count": 9,
          "metadata": {},
          "output_type": "execute_result"
        }
      ],
      "source": [
        "imprimir(r\"G = \", G)"
      ]
    },
    {
      "cell_type": "markdown",
      "metadata": {
        "id": "7Sv252D1GNhF"
      },
      "source": [
        "Se definen las ecuaciones de Lamé (eq 4.14), recordadno que deben estar igualadas a cero."
      ]
    },
    {
      "cell_type": "code",
      "execution_count": 10,
      "metadata": {
        "id": "b30m4rRQGEvt"
      },
      "outputs": [],
      "source": [
        "sx = lamb_da*e + 2*G*ex         # 4.14a\n",
        "sy = lamb_da*e + 2*G*ey         # 4.14b\n",
        "sz = lamb_da*e + 2*G*ez         # 4.14c\n",
        "\n",
        "txy = G*gxy                     # 4.14d\n",
        "txz = G*gxz                     # 4.14e\n",
        "tyz = G*gyz                     # 4.14f"
      ]
    },
    {
      "cell_type": "markdown",
      "metadata": {
        "id": "y-YcCDx6GTUJ"
      },
      "source": [
        "Se despeja la matriz constitutiva $D$ para el caso isótropo. En MAXIMA se emplea el comando ```coefmatrix```, pero en sympy tenemos ```linear_eq_to_matrix()```."
      ]
    },
    {
      "cell_type": "code",
      "execution_count": 11,
      "metadata": {
        "colab": {
          "base_uri": "https://localhost:8080/",
          "height": 153
        },
        "id": "_cnRUzH9GQ3e",
        "outputId": "4286b3ff-a14c-4bd8-91b7-5d3f743a40f4"
      },
      "outputs": [
        {
          "data": {
            "text/latex": [
              "$\\displaystyle \\boldsymbol{D} = \\left[\\begin{matrix}\\frac{E \\nu}{\\left(1 - 2 \\nu\\right) \\left(\\nu + 1\\right)} + \\frac{2 E}{2 \\nu + 2} & \\frac{E \\nu}{\\left(1 - 2 \\nu\\right) \\left(\\nu + 1\\right)} & \\frac{E \\nu}{\\left(1 - 2 \\nu\\right) \\left(\\nu + 1\\right)} & 0 & 0 & 0\\\\\\frac{E \\nu}{\\left(1 - 2 \\nu\\right) \\left(\\nu + 1\\right)} & \\frac{E \\nu}{\\left(1 - 2 \\nu\\right) \\left(\\nu + 1\\right)} + \\frac{2 E}{2 \\nu + 2} & \\frac{E \\nu}{\\left(1 - 2 \\nu\\right) \\left(\\nu + 1\\right)} & 0 & 0 & 0\\\\\\frac{E \\nu}{\\left(1 - 2 \\nu\\right) \\left(\\nu + 1\\right)} & \\frac{E \\nu}{\\left(1 - 2 \\nu\\right) \\left(\\nu + 1\\right)} & \\frac{E \\nu}{\\left(1 - 2 \\nu\\right) \\left(\\nu + 1\\right)} + \\frac{2 E}{2 \\nu + 2} & 0 & 0 & 0\\\\0 & 0 & 0 & \\frac{E}{2 \\nu + 2} & 0 & 0\\\\0 & 0 & 0 & 0 & \\frac{E}{2 \\nu + 2} & 0\\\\0 & 0 & 0 & 0 & 0 & \\frac{E}{2 \\nu + 2}\\end{matrix}\\right]$"
            ],
            "text/plain": [
              "<IPython.core.display.Math object>"
            ]
          },
          "execution_count": 11,
          "metadata": {},
          "output_type": "execute_result"
        }
      ],
      "source": [
        "D = sp.linear_eq_to_matrix([sx, sy, sz, txy, txz, tyz], (ex, ey, ez, gxy, gxz, gyz))[0]\n",
        "imprimir(r\"\\boldsymbol{D} = \", D)"
      ]
    },
    {
      "cell_type": "markdown",
      "metadata": {},
      "source": [
        "Podemos factorizar la matriz $\\frac{E}{1+\\nu}$ de la matriz $\\boldsymbol{D}$ "
      ]
    },
    {
      "cell_type": "code",
      "execution_count": 12,
      "metadata": {},
      "outputs": [
        {
          "data": {
            "text/latex": [
              "$\\displaystyle \\boldsymbol{D} = \\frac{E}{1+\\nu}\\left[\\begin{matrix}\\frac{\\nu - 1}{2 \\nu - 1} & - \\frac{\\nu}{2 \\nu - 1} & - \\frac{\\nu}{2 \\nu - 1} & 0 & 0 & 0\\\\- \\frac{\\nu}{2 \\nu - 1} & \\frac{\\nu - 1}{2 \\nu - 1} & - \\frac{\\nu}{2 \\nu - 1} & 0 & 0 & 0\\\\- \\frac{\\nu}{2 \\nu - 1} & - \\frac{\\nu}{2 \\nu - 1} & \\frac{\\nu - 1}{2 \\nu - 1} & 0 & 0 & 0\\\\0 & 0 & 0 & \\frac{1}{2} & 0 & 0\\\\0 & 0 & 0 & 0 & \\frac{1}{2} & 0\\\\0 & 0 & 0 & 0 & 0 & \\frac{1}{2}\\end{matrix}\\right]$"
            ],
            "text/plain": [
              "<IPython.core.display.Math object>"
            ]
          },
          "execution_count": 12,
          "metadata": {},
          "output_type": "execute_result"
        }
      ],
      "source": [
        "D = sp.simplify(D / (E/(1+nu)))\n",
        "imprimir(r\"\\boldsymbol{D} = \\frac{E}{1+\\nu}\", D)"
      ]
    },
    {
      "cell_type": "markdown",
      "metadata": {
        "id": "7bRv5xGMIS7r"
      },
      "source": [
        "NOTA: Podrá pensar que el resultado es el negativo de lo que debería ser, pero no lo es, simplemente debe factorizar (-1) de los términos fraccionarios asociados a los esfuerzos normales."
      ]
    },
    {
      "cell_type": "markdown",
      "metadata": {},
      "source": [
        "## Sistema matricial con la ecuación 4.17\n",
        "\n",
        "El sistema de ecuaciones (4.14) se puede expresar como una relación entre la matriz de tensiones $\\underline{\\underline{\\boldsymbol{\\sigma}}}$ y la de deformaciones matemáticas $\\underline{\\underline{\\boldsymbol{\\varepsilon}}}$ (3.15):\n",
        "\n",
        "$$\\underline{\\underline{\\boldsymbol{\\sigma}}} = \\lambda \\text{tr}(\\underline{\\underline{\\boldsymbol{\\varepsilon}}}) + 2G\\underline{\\underline{\\boldsymbol{\\varepsilon}}}$$\n",
        "\n",
        "Lo cual en notación tensorial se escribe como:\n",
        "\n",
        "$$  \\sigma_{ij} = \\lambda \\delta_{ij}\\varepsilon_{kk} + 2G\\varepsilon_{ij}  $$"
      ]
    },
    {
      "cell_type": "code",
      "execution_count": 13,
      "metadata": {},
      "outputs": [
        {
          "data": {
            "text/latex": [
              "$\\displaystyle \\underline{\\underline{\\boldsymbol{\\sigma}}} = \\left[\\begin{matrix}\\frac{E \\nu \\left(\\varepsilon_{x} + \\varepsilon_{y} + \\varepsilon_{z}\\right)}{\\left(1 - 2 \\nu\\right) \\left(\\nu + 1\\right)} + \\frac{2 E \\varepsilon_{x}}{2 \\nu + 2} & \\frac{2 E \\varepsilon_{xy}}{2 \\nu + 2} & \\frac{2 E \\varepsilon_{xz}}{2 \\nu + 2}\\\\\\frac{2 E \\varepsilon_{xy}}{2 \\nu + 2} & \\frac{E \\nu \\left(\\varepsilon_{x} + \\varepsilon_{y} + \\varepsilon_{z}\\right)}{\\left(1 - 2 \\nu\\right) \\left(\\nu + 1\\right)} + \\frac{2 E \\varepsilon_{y}}{2 \\nu + 2} & \\frac{2 E \\varepsilon_{yz}}{2 \\nu + 2}\\\\\\frac{2 E \\varepsilon_{xz}}{2 \\nu + 2} & \\frac{2 E \\varepsilon_{yz}}{2 \\nu + 2} & \\frac{E \\nu \\left(\\varepsilon_{x} + \\varepsilon_{y} + \\varepsilon_{z}\\right)}{\\left(1 - 2 \\nu\\right) \\left(\\nu + 1\\right)} + \\frac{2 E \\varepsilon_{z}}{2 \\nu + 2}\\end{matrix}\\right]$"
            ],
            "text/plain": [
              "<IPython.core.display.Math object>"
            ]
          },
          "execution_count": 13,
          "metadata": {},
          "output_type": "execute_result"
        }
      ],
      "source": [
        "# Defio simbólicamente las deformaciones angulares matemáticas.\n",
        "exy, exz, eyz = sp.symbols(\"varepsilon_xy, varepsilon_xz, varepsilon_yz\")\n",
        "\n",
        "# Defino la matriz de esfuerzos.\n",
        "sigma = sp.Matrix([[sx, txy, txz],\n",
        "                   [txy, sy, tyz],\n",
        "                   [txz, tyz, sz]])\n",
        "\n",
        "# Defino la matriz de deformaciones matemáticas.\n",
        "epsilon = sp.Matrix([[ex,  exy, exz],\n",
        "                     [exy, ey,  eyz],\n",
        "                     [exz, eyz, ez]])\n",
        "\n",
        "# La matriz identidad de orden 3\n",
        "I = sp.eye(3)\n",
        "\n",
        "sigma = lamb_da*sp.trace(epsilon)*I + 2*G*epsilon\n",
        "imprimir(r\"\\underline{\\underline{\\boldsymbol{\\sigma}}} = \", sigma)"
      ]
    },
    {
      "cell_type": "code",
      "execution_count": 14,
      "metadata": {},
      "outputs": [
        {
          "data": {
            "text/latex": [
              "$\\displaystyle \\sigma_x = \\frac{E \\left(\\nu \\varepsilon_{x} - \\nu \\varepsilon_{y} - \\nu \\varepsilon_{z} - \\varepsilon_{x}\\right)}{\\left(\\nu + 1\\right) \\left(2 \\nu - 1\\right)}$"
            ],
            "text/plain": [
              "<IPython.core.display.Math object>"
            ]
          },
          "execution_count": 14,
          "metadata": {},
          "output_type": "execute_result"
        }
      ],
      "source": [
        "imprimir(r\"\\sigma_x = \", sp.factor(sigma[0,0]))"
      ]
    },
    {
      "cell_type": "code",
      "execution_count": 15,
      "metadata": {},
      "outputs": [
        {
          "data": {
            "text/latex": [
              "$\\displaystyle \\sigma_y = - \\frac{E \\left(\\nu \\varepsilon_{x} - \\nu \\varepsilon_{y} + \\nu \\varepsilon_{z} + \\varepsilon_{y}\\right)}{\\left(\\nu + 1\\right) \\left(2 \\nu - 1\\right)}$"
            ],
            "text/plain": [
              "<IPython.core.display.Math object>"
            ]
          },
          "execution_count": 15,
          "metadata": {},
          "output_type": "execute_result"
        }
      ],
      "source": [
        "imprimir(r\"\\sigma_y = \", sp.factor(sigma[1,1]))"
      ]
    },
    {
      "cell_type": "code",
      "execution_count": 16,
      "metadata": {},
      "outputs": [
        {
          "data": {
            "text/latex": [
              "$\\displaystyle \\sigma_z = - \\frac{E \\left(\\nu \\varepsilon_{x} + \\nu \\varepsilon_{y} - \\nu \\varepsilon_{z} + \\varepsilon_{z}\\right)}{\\left(\\nu + 1\\right) \\left(2 \\nu - 1\\right)}$"
            ],
            "text/plain": [
              "<IPython.core.display.Math object>"
            ]
          },
          "execution_count": 16,
          "metadata": {},
          "output_type": "execute_result"
        }
      ],
      "source": [
        "imprimir(r\"\\sigma_z = \", sp.factor(sigma[2,2]))"
      ]
    },
    {
      "cell_type": "code",
      "execution_count": 17,
      "metadata": {},
      "outputs": [
        {
          "data": {
            "text/latex": [
              "$\\displaystyle \\tau_{xy} = \\frac{E \\varepsilon_{xy}}{\\nu + 1}$"
            ],
            "text/plain": [
              "<IPython.core.display.Math object>"
            ]
          },
          "execution_count": 17,
          "metadata": {},
          "output_type": "execute_result"
        }
      ],
      "source": [
        "imprimir(r\"\\tau_{xy} = \", sp.factor(sigma[0,1]))"
      ]
    },
    {
      "cell_type": "code",
      "execution_count": 18,
      "metadata": {},
      "outputs": [
        {
          "data": {
            "text/latex": [
              "$\\displaystyle \\tau_{xz} = \\frac{E \\varepsilon_{xz}}{\\nu + 1}$"
            ],
            "text/plain": [
              "<IPython.core.display.Math object>"
            ]
          },
          "execution_count": 18,
          "metadata": {},
          "output_type": "execute_result"
        }
      ],
      "source": [
        "imprimir(r\"\\tau_{xz} = \", sp.factor(sigma[0,2]))"
      ]
    },
    {
      "cell_type": "code",
      "execution_count": 19,
      "metadata": {},
      "outputs": [
        {
          "data": {
            "text/latex": [
              "$\\displaystyle \\tau_{yz} = \\frac{E \\varepsilon_{yz}}{\\nu + 1}$"
            ],
            "text/plain": [
              "<IPython.core.display.Math object>"
            ]
          },
          "execution_count": 19,
          "metadata": {},
          "output_type": "execute_result"
        }
      ],
      "source": [
        "imprimir(r\"\\tau_{yz} = \", sp.factor(sigma[1,2]))"
      ]
    },
    {
      "cell_type": "markdown",
      "metadata": {},
      "source": [
        "**NOTA:** Tenga en cuenta que las ecuaciones anteriores son válidas para materiales con comportamiento **elástico, lineal e isótropo**."
      ]
    }
  ],
  "metadata": {
    "colab": {
      "authorship_tag": "ABX9TyOsOvDSLbrIfUPtlfnq3r14",
      "collapsed_sections": [],
      "include_colab_link": true,
      "name": "04_03_03.ipynb",
      "provenance": []
    },
    "kernelspec": {
      "display_name": "Python 3.10.4 64-bit",
      "language": "python",
      "name": "python3"
    },
    "language_info": {
      "codemirror_mode": {
        "name": "ipython",
        "version": 3
      },
      "file_extension": ".py",
      "mimetype": "text/x-python",
      "name": "python",
      "nbconvert_exporter": "python",
      "pygments_lexer": "ipython3",
      "version": "3.10.4"
    },
    "vscode": {
      "interpreter": {
        "hash": "916dbcbb3f70747c44a77c7bcd40155683ae19c65e1c03b4aa3499c5328201f1"
      }
    }
  },
  "nbformat": 4,
  "nbformat_minor": 0
}
