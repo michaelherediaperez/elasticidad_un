{
  "nbformat": 4,
  "nbformat_minor": 0,
  "metadata": {
    "colab": {
      "name": "04_08_03_ejemplo_TP.ipynb",
      "provenance": [],
      "authorship_tag": "ABX9TyPd5ca2MS8yPPpUe+IE4iBS",
      "include_colab_link": true
    },
    "kernelspec": {
      "name": "python3",
      "display_name": "Python 3"
    },
    "language_info": {
      "name": "python"
    }
  },
  "cells": [
    {
      "cell_type": "markdown",
      "metadata": {
        "id": "view-in-github",
        "colab_type": "text"
      },
      "source": [
        "<a href=\"https://colab.research.google.com/github/michaelherediaperez/mecanica_de_solidos_un/blob/main/codigos/cap_04/04_08_03_ejemplo_TP.ipynb\" target=\"_parent\"><img src=\"https://colab.research.google.com/assets/colab-badge.svg\" alt=\"Open In Colab\"/></a>"
      ]
    },
    {
      "cell_type": "markdown",
      "source": [
        "# 4.8.3. Relación entre los esfuerzos principales obtenidos en el análisis bidimensional y tridimensional \n",
        "\n",
        "|Quién | Fecha | Qué hizo |\n",
        "| ---  | ---   | ---      |\n",
        "|Michael Heredia Pérez, <mherediap@unal.edu.co> | Julio 20, 2022 | Conversión de código de MATLAB a Python|\n",
        "\n",
        "## Ejemplo de *tensión plana*\n"
      ],
      "metadata": {
        "id": "ZiuVgBpBNpeb"
      }
    },
    {
      "cell_type": "markdown",
      "source": [
        "Al igual que como hicimos con sympy, podemos importar completamente la librería de numpy para trabajar con ella, sin embargo, recuerden que no es la práctica recomendada."
      ],
      "metadata": {
        "id": "DMaMGRjdPbe2"
      }
    },
    {
      "cell_type": "code",
      "execution_count": 1,
      "metadata": {
        "id": "JLVyHVSCNGTs"
      },
      "outputs": [],
      "source": [
        "from numpy import *\n",
        "set_printoptions(precision=4)   # imprime todo con 4 cifras decimales max"
      ]
    },
    {
      "cell_type": "markdown",
      "source": [
        "Si suponemos que este punto está sujeto a un estado de **tensión plana**, adicionalmente a $\\sigma_x = $ − 1 Pa, $\\sigma_y = $ = 2 Pa y $\\tau_{xy} = $ − 3 Pa, se debe tener en cuenta que $\\tay_{xz} = \\tau_{yz} = \\sigma_z = } 0 Pa. Armando la matriz (4.38) y resolviendo el problema de valores y vectores propios, obtenemos:\n"
      ],
      "metadata": {
        "id": "3WJWjq03PoHr"
      }
    },
    {
      "cell_type": "code",
      "source": [
        "# Defino las variables.\n",
        "sx  = -1\n",
        "sy  = 2\n",
        "txy = -3\n",
        "\n",
        "# La matriz de esfuerzos.\n",
        "sigma = array([[sx, txy, 0],\n",
        "               [txy, sy, 0],\n",
        "               [0,    0, 0]])\n",
        "sigma"
      ],
      "metadata": {
        "colab": {
          "base_uri": "https://localhost:8080/"
        },
        "id": "FiZXRDZBPmJZ",
        "outputId": "1c3c6e74-8082-4279-f470-16ff96b95454"
      },
      "execution_count": 2,
      "outputs": [
        {
          "output_type": "execute_result",
          "data": {
            "text/plain": [
              "array([[-1, -3,  0],\n",
              "       [-3,  2,  0],\n",
              "       [ 0,  0,  0]])"
            ]
          },
          "metadata": {},
          "execution_count": 2
        }
      ]
    },
    {
      "cell_type": "code",
      "source": [
        "# Calculo lo vectores y valores propios\n",
        "valp, vecp = linalg.eig(sigma)"
      ],
      "metadata": {
        "id": "jASDK_9wRmH6"
      },
      "execution_count": 3,
      "outputs": []
    },
    {
      "cell_type": "code",
      "source": [
        "valp"
      ],
      "metadata": {
        "colab": {
          "base_uri": "https://localhost:8080/"
        },
        "id": "pJPht7fURtqr",
        "outputId": "245c3938-8de9-4b66-a2e4-c22eba004b7c"
      },
      "execution_count": 4,
      "outputs": [
        {
          "output_type": "execute_result",
          "data": {
            "text/plain": [
              "array([-2.8541,  3.8541,  0.    ])"
            ]
          },
          "metadata": {},
          "execution_count": 4
        }
      ]
    },
    {
      "cell_type": "code",
      "source": [
        "vecp"
      ],
      "metadata": {
        "colab": {
          "base_uri": "https://localhost:8080/"
        },
        "id": "HwA33qiURu-B",
        "outputId": "c26a01b6-e736-4928-8273-9c6d803fe823"
      },
      "execution_count": 5,
      "outputs": [
        {
          "output_type": "execute_result",
          "data": {
            "text/plain": [
              "array([[-0.8507,  0.5257,  0.    ],\n",
              "       [-0.5257, -0.8507,  0.    ],\n",
              "       [ 0.    ,  0.    ,  1.    ]])"
            ]
          },
          "metadata": {},
          "execution_count": 5
        }
      ]
    },
    {
      "cell_type": "markdown",
      "source": [
        "Es necesario enumerar de nuevo los valores y vectores propios de modo que $\\sigma_1 \\geq \\sigma_2 \\geq \\sigma_3$,  y garantizar que el sentido escogido de los vectores propios cumpla la\n",
        "regla de la mano derecha ($\\mathbf{ \\hat{n}_3 = \\hat{n}_1 \\times \\hat{n}_2 }$), por lo que la solución al ejercicio se debe dar como:\n",
        "\n",
        "$\\sigma_3 , \\sigma_2 , \\sigma_1 =$"
      ],
      "metadata": {
        "id": "q-jSWd5lStdu"
      }
    },
    {
      "cell_type": "code",
      "source": [
        "sort(valp)"
      ],
      "metadata": {
        "colab": {
          "base_uri": "https://localhost:8080/"
        },
        "id": "aMpVnZhsRwb-",
        "outputId": "23b401a8-f76c-4f82-f974-0eab7125f57b"
      },
      "execution_count": 6,
      "outputs": [
        {
          "output_type": "execute_result",
          "data": {
            "text/plain": [
              "array([-2.8541,  0.    ,  3.8541])"
            ]
          },
          "metadata": {},
          "execution_count": 6
        }
      ]
    },
    {
      "cell_type": "markdown",
      "source": [
        "$\\hat{n}_1 = $"
      ],
      "metadata": {
        "id": "0bXSobojTyH2"
      }
    },
    {
      "cell_type": "code",
      "source": [
        "vecp[:,1]"
      ],
      "metadata": {
        "colab": {
          "base_uri": "https://localhost:8080/"
        },
        "id": "Z2FAufocTjCf",
        "outputId": "ab3cf2ac-4c0e-45af-f51c-68be12fb2140"
      },
      "execution_count": 7,
      "outputs": [
        {
          "output_type": "execute_result",
          "data": {
            "text/plain": [
              "array([ 0.5257, -0.8507,  0.    ])"
            ]
          },
          "metadata": {},
          "execution_count": 7
        }
      ]
    },
    {
      "cell_type": "markdown",
      "source": [
        "$\\hat{n}_2 = $"
      ],
      "metadata": {
        "id": "5kjaKyK-UjCd"
      }
    },
    {
      "cell_type": "code",
      "source": [
        "vecp[:,2]"
      ],
      "metadata": {
        "colab": {
          "base_uri": "https://localhost:8080/"
        },
        "id": "PTL6HK1XT3mh",
        "outputId": "62f0a9e4-3e63-4936-f905-4330831f61e0"
      },
      "execution_count": 8,
      "outputs": [
        {
          "output_type": "execute_result",
          "data": {
            "text/plain": [
              "array([0., 0., 1.])"
            ]
          },
          "metadata": {},
          "execution_count": 8
        }
      ]
    },
    {
      "cell_type": "markdown",
      "source": [
        "$\\hat{n}_3 = $"
      ],
      "metadata": {
        "id": "tQ682VJkUqne"
      }
    },
    {
      "cell_type": "code",
      "source": [
        "vecp[:,0]"
      ],
      "metadata": {
        "colab": {
          "base_uri": "https://localhost:8080/"
        },
        "id": "_MJIwgwHUm4-",
        "outputId": "835a27a9-45bb-4ed7-86a9-e9ab0269b179"
      },
      "execution_count": 9,
      "outputs": [
        {
          "output_type": "execute_result",
          "data": {
            "text/plain": [
              "array([-0.8507, -0.5257,  0.    ])"
            ]
          },
          "metadata": {},
          "execution_count": 9
        }
      ]
    },
    {
      "cell_type": "markdown",
      "source": [
        "ya que al hacer el producto cruz, obtenemos"
      ],
      "metadata": {
        "id": "Ifz55zcWU5v5"
      }
    },
    {
      "cell_type": "code",
      "source": [
        "n1 = vecp[:, 1]\n",
        "n2 = vecp[:, 2]\n",
        "cross(n1, n2)"
      ],
      "metadata": {
        "colab": {
          "base_uri": "https://localhost:8080/"
        },
        "id": "KikYoefEUqGw",
        "outputId": "624d0cdd-edad-4c58-ddde-b677b20e0f4e"
      },
      "execution_count": 10,
      "outputs": [
        {
          "output_type": "execute_result",
          "data": {
            "text/plain": [
              "array([-0.8507, -0.5257,  0.    ])"
            ]
          },
          "metadata": {},
          "execution_count": 10
        }
      ]
    },
    {
      "cell_type": "markdown",
      "source": [
        "con lo cual cumplimos la regla de la mano derecha, al obtener el sentido requerido para $\\hat{n}_3$.\n",
        "\n",
        "Observe la discrepancia de signo entre los vectores propios $[− 0.8507, − 0.5257, 0]^\\intercal$ y $[0.8507, 0.5257, 0]^\\intercal$; esta diferencia no nos debe importar, ya que lo único relevante en el cálculo de los vectores propios es la dirección del vector mismo, no su sentido. De esta forma, si hubiéramos escogido el vector $\\hat{n}_3$ como $[− 0.8507, − 0.5257, 0]^\\intercal$, el sentido del vector $\\hat{n}_2$ igualmente hubiera cambiado de modo que $\\hat{n}_2$ hubiera sido $[0, 0, − 1]^\\intercal$ con el ﬁn de cumplir la regla de la mano derecha en la base formada por las direcciones principales.\n",
        "\n",
        "Tenemos pues que dos de los valores propios corresponden a $(\\sigma_1)_{xy}$  y $(\\sigma_2)_{xy}$, mientras que el otro corresponde a $0$. Los vectores propios asociados son los mismos calculados en el caso bidimensional para los dos primeros, agregando un $0$ en la componente $z$, mientras que el vector propio asociado a 0 es [0,0, ± 1]T , siendo necesario ajustar su sentido (ver Figura 4.18).\n",
        "\n",
        "Al igual que en el caso de deformación plana, debemos determinar la magnitud y los planos sobre los que actúa el esfuerzo cortante máximo.\n",
        "\n",
        "En este ejemplo en particular,  estos son exactamente los mismos que los calculados en el ejemplo de deformación plana. Sin embargo, estos pueden variar. Supongamos que ambos $\\sigma_1$ y $\\sigma_2$ son cantidades positivas, entonces en este caso, tendremos un $\\sigma_3 = 0$. Observe, por lo tanto, que en este caso cambiarían los valores de $\\tau_{\\max}$ y los vectores $\\frac{ \\hat{n}_1 - \\hat{n}_3}{||\\hat{n}_1 - \\hat{n}_3||}$ y $\\frac{ \\hat{n}_1 + \\hat{n}_3}{||\\hat{n}_1 + \\hat{n}_3||}$ ya no estarían sobre el plano $xy$.\n",
        "\n",
        "En resumen, para el aso de tensión plana, se tiene que:\n",
        "\n",
        "$$\\sigma_1 = \\max\\left( (\\sigma_1)_{xy}, (\\sigma_1)_{xy}, 0 \\right) $$\n",
        "\n",
        "$$\\sigma_2 = mediana\\left( (\\sigma_1)_{xy}, (\\sigma_1)_{xy}, 0 \\right) $$\n",
        "\n",
        "$$\\sigma_3 = \\min\\left( (\\sigma_1)_{xy}, (\\sigma_1)_{xy}, 0 \\right) $$\n",
        "\n",
        "$$ \\tau_{\\max} = \\max\\left( \\frac{|(\\sigma_1)_{xy}| }{2},  \\frac{|(\\sigma_2)_{xy}| }{2},  \\frac{ |(\\sigma_1)_{xy} - (\\sigma_2)_{xy}| }{2}   \\right)  $$ "
      ],
      "metadata": {
        "id": "1hA1Yf7JVNLU"
      }
    }
  ]
}