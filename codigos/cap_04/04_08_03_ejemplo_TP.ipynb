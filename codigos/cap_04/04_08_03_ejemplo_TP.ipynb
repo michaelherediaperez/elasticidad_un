{
  "cells": [
    {
      "cell_type": "markdown",
      "metadata": {
        "colab_type": "text",
        "id": "view-in-github"
      },
      "source": [
        "<a href=\"https://colab.research.google.com/github/michaelherediaperez/mecanica_de_solidos_un/blob/main/codigos/cap_04/04_08_03_ejemplo_TP.ipynb\" target=\"_parent\"><img src=\"https://colab.research.google.com/assets/colab-badge.svg\" alt=\"Open In Colab\"/></a>"
      ]
    },
    {
      "cell_type": "markdown",
      "metadata": {
        "id": "ZiuVgBpBNpeb"
      },
      "source": [
        "# 4.8.3. Relación entre los esfuerzos principales obtenidos en el análisis bidimensional y tridimensional \n",
        "\n",
        "|Quién | Fecha | Qué hizo |\n",
        "| ---  | ---   | ---      |\n",
        "|Michael Heredia Pérez, <mherediap@unal.edu.co> | Julio 20, 2022 | Conversión de código de MATLAB a Python|\n",
        "|Michael Heredia Pérez, <mherediap@unal.edu.co> | Octubre 23, 2022 | Completando el código |\n",
        "\n",
        "## Ejemplo de *tensión plana*\n"
      ]
    },
    {
      "cell_type": "markdown",
      "metadata": {
        "id": "DMaMGRjdPbe2"
      },
      "source": [
        "Al igual que como hicimos con sympy, podemos importar completamente la librería de numpy para trabajar con ella, sin embargo, recuerden que no es la práctica recomendada."
      ]
    },
    {
      "cell_type": "code",
      "execution_count": 2,
      "metadata": {
        "id": "JLVyHVSCNGTs"
      },
      "outputs": [],
      "source": [
        "import numpy as np\n",
        "#set_printoptions(precision=4)   # imprime todo con 4 cifras decimales max"
      ]
    },
    {
      "cell_type": "markdown",
      "metadata": {
        "id": "3WJWjq03PoHr"
      },
      "source": [
        "Si suponemos que este punto está sujeto a un estado de **tensión plana**, adicionalmente a $\\sigma_x = $ − 1 Pa, $\\sigma_y = $ = 2 Pa y $\\tau_{xy} = $ − 3 Pa, se debe tener en cuenta que $\\tau_{xz} = \\tau_{yz} = \\sigma_z = $ 0 Pa. Armando la matriz (4.38) y resolviendo el problema de valores y vectores propios, obtenemos:\n"
      ]
    },
    {
      "cell_type": "code",
      "execution_count": 3,
      "metadata": {
        "colab": {
          "base_uri": "https://localhost:8080/"
        },
        "id": "FiZXRDZBPmJZ",
        "outputId": "1c3c6e74-8082-4279-f470-16ff96b95454"
      },
      "outputs": [
        {
          "data": {
            "text/plain": [
              "array([[-1, -3,  0],\n",
              "       [-3,  2,  0],\n",
              "       [ 0,  0,  0]])"
            ]
          },
          "execution_count": 3,
          "metadata": {},
          "output_type": "execute_result"
        }
      ],
      "source": [
        "# Defino las variables.\n",
        "sx  = -1\n",
        "sy  = 2\n",
        "txy = -3\n",
        "\n",
        "# La matriz de esfuerzos.\n",
        "sigma = np.array([[sx, txy, 0],\n",
        "                  [txy, sy, 0],\n",
        "                  [0,    0, 0]])\n",
        "sigma"
      ]
    },
    {
      "cell_type": "code",
      "execution_count": 4,
      "metadata": {
        "id": "jASDK_9wRmH6"
      },
      "outputs": [],
      "source": [
        "# Calculo lo vectores y valores propios\n",
        "valp, vecp = np.linalg.eigh(sigma)"
      ]
    },
    {
      "cell_type": "code",
      "execution_count": 5,
      "metadata": {
        "colab": {
          "base_uri": "https://localhost:8080/"
        },
        "id": "pJPht7fURtqr",
        "outputId": "245c3938-8de9-4b66-a2e4-c22eba004b7c"
      },
      "outputs": [
        {
          "data": {
            "text/plain": [
              "array([-2.85410197,  0.        ,  3.85410197])"
            ]
          },
          "execution_count": 5,
          "metadata": {},
          "output_type": "execute_result"
        }
      ],
      "source": [
        "valp"
      ]
    },
    {
      "cell_type": "code",
      "execution_count": 6,
      "metadata": {
        "colab": {
          "base_uri": "https://localhost:8080/"
        },
        "id": "HwA33qiURu-B",
        "outputId": "c26a01b6-e736-4928-8273-9c6d803fe823"
      },
      "outputs": [
        {
          "data": {
            "text/plain": [
              "array([[-0.85065081,  0.        , -0.52573111],\n",
              "       [-0.52573111,  0.        ,  0.85065081],\n",
              "       [-0.        ,  1.        ,  0.        ]])"
            ]
          },
          "execution_count": 6,
          "metadata": {},
          "output_type": "execute_result"
        }
      ],
      "source": [
        "vecp"
      ]
    },
    {
      "cell_type": "markdown",
      "metadata": {
        "id": "Ifz55zcWU5v5"
      },
      "source": [
        "Verificamos que los vectores principales formen un sistema coordenado de la mano derecha, a partir del producto vectorial ($\\mathbf{ \\hat{n}_3 = \\hat{n}_1 \\times \\hat{n}_2 }$):"
      ]
    },
    {
      "cell_type": "code",
      "execution_count": 7,
      "metadata": {
        "colab": {
          "base_uri": "https://localhost:8080/"
        },
        "id": "KikYoefEUqGw",
        "outputId": "624d0cdd-edad-4c58-ddde-b677b20e0f4e"
      },
      "outputs": [
        {
          "data": {
            "text/plain": [
              "array([-0.52573111,  0.85065081,  0.        ])"
            ]
          },
          "execution_count": 7,
          "metadata": {},
          "output_type": "execute_result"
        }
      ],
      "source": [
        "n1, n2, n3 = vecp.T\n",
        "\n",
        "np.cross(n1, n2)"
      ]
    },
    {
      "cell_type": "markdown",
      "metadata": {
        "id": "1hA1Yf7JVNLU"
      },
      "source": [
        "con lo cual cumplimos la regla de la mano derecha, al obtener el sentido requerido para $\\hat{n}_3$.\n",
        "\n",
        "## Conclusión del main.pdf\n",
        "\n",
        "Observe la discrepancia de signo entre los vectores propios $[− 0.8507, − 0.5257, 0]^\\intercal$ y $[0.8507, 0.5257, 0]^\\intercal$; esta diferencia no nos debe importar, ya que lo único relevante en el cálculo de los vectores propios es la dirección del vector mismo, no su sentido. De esta forma, si hubiéramos escogido el vector $\\hat{n}_3$ como $[− 0.8507, − 0.5257, 0]^\\intercal$, el sentido del vector $\\hat{n}_2$ igualmente hubiera cambiado de modo que $\\hat{n}_2$ hubiera sido $[0, 0, − 1]^\\intercal$ con el ﬁn de cumplir la regla de la mano derecha en la base formada por las direcciones principales.\n",
        "\n",
        "Tenemos pues que dos de los valores propios corresponden a $(\\sigma_1)_{xy}$  y $(\\sigma_2)_{xy}$, mientras que el otro corresponde a $0$. Los vectores propios asociados son los mismos calculados en el caso bidimensional para los dos primeros, agregando un $0$ en la componente $z$, mientras que el vector propio asociado a 0 es [0,0, ± 1]T , siendo necesario ajustar su sentido (ver Figura 4.18).\n",
        "\n",
        "Al igual que en el caso de deformación plana, debemos determinar la magnitud y los planos sobre los que actúa el esfuerzo cortante máximo.\n",
        "\n",
        "En este ejemplo en particular,  estos son exactamente los mismos que los calculados en el ejemplo de deformación plana. Sin embargo, estos pueden variar. Supongamos que ambos $\\sigma_1$ y $\\sigma_2$ son cantidades positivas, entonces en este caso, tendremos un $\\sigma_3 = 0$. Observe, por lo tanto, que en este caso cambiarían los valores de $\\tau_{\\max}$ y los vectores $\\frac{ \\hat{n}_1 - \\hat{n}_3}{||\\hat{n}_1 - \\hat{n}_3||}$ y $\\frac{ \\hat{n}_1 + \\hat{n}_3}{||\\hat{n}_1 + \\hat{n}_3||}$ ya no estarían sobre el plano $xy$.\n",
        "\n",
        "En resumen, para el aso de tensión plana, se tiene que:\n",
        "\n",
        "$$\n",
        "\\begin{align*}\n",
        "\n",
        "\\sigma_1    &= \\max\\left( (\\sigma_1)_{xy}, (\\sigma_1)_{xy}, 0 \\right) \\\\\n",
        "\\sigma_2    &= mediana\\left( (\\sigma_1)_{xy}, (\\sigma_1)_{xy}, 0 \\right) \\\\\n",
        "\\sigma_3    &= \\min\\left( (\\sigma_1)_{xy}, (\\sigma_1)_{xy}, 0 \\right) \\\\\n",
        "\\tau_{\\max} &= \\max\\left( \\frac{|(\\sigma_1)_{xy}| }{2},  \\frac{|(\\sigma_2)_{xy}| }{2},  \\frac{ |(\\sigma_1)_{xy} - (\\sigma_2)_{xy}| }{2}   \\right) \n",
        "\n",
        "\\end{align*}\n",
        "$$"
      ]
    }
  ],
  "metadata": {
    "colab": {
      "authorship_tag": "ABX9TyPd5ca2MS8yPPpUe+IE4iBS",
      "include_colab_link": true,
      "name": "04_08_03_ejemplo_TP.ipynb",
      "provenance": []
    },
    "kernelspec": {
      "display_name": "Python 3.10.4 64-bit",
      "language": "python",
      "name": "python3"
    },
    "language_info": {
      "codemirror_mode": {
        "name": "ipython",
        "version": 3
      },
      "file_extension": ".py",
      "mimetype": "text/x-python",
      "name": "python",
      "nbconvert_exporter": "python",
      "pygments_lexer": "ipython3",
      "version": "3.10.4"
    },
    "vscode": {
      "interpreter": {
        "hash": "916dbcbb3f70747c44a77c7bcd40155683ae19c65e1c03b4aa3499c5328201f1"
      }
    }
  },
  "nbformat": 4,
  "nbformat_minor": 0
}
