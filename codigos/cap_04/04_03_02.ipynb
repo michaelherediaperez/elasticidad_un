{
  "cells": [
    {
      "cell_type": "markdown",
      "metadata": {
        "colab_type": "text",
        "id": "view-in-github"
      },
      "source": [
        "<a href=\"https://colab.research.google.com/github/michaelherediaperez/mecanica_de_solidos_un/blob/main/codigos/cap_04/04_03_02.ipynb\" target=\"_parent\"><img src=\"https://colab.research.google.com/assets/colab-badge.svg\" alt=\"Open In Colab\"/></a>"
      ]
    },
    {
      "cell_type": "markdown",
      "metadata": {
        "id": "9uHmKa6oMc6N"
      },
      "source": [
        "# 4.3.2. Deformación de un sólido sometido a esfuerzos tangenciales (eq. 4.7)\n",
        "|Quién | Fecha | Qué hizo |\n",
        "| ---  | ---   | ---      |\n",
        "|Michael Heredia Pérez, <mherediap@unal.edu.co> | Julio 19, 2022 | Conversión de código de MAXIMA a Python|\n",
        "|Michael Heredia Pérez, <mherediap@unal.edu.co> | Octubre 15, 2022 | Mejorando legibilidad del código |"
      ]
    },
    {
      "cell_type": "code",
      "execution_count": 7,
      "metadata": {
        "id": "Uxf_0x1SMOAO"
      },
      "outputs": [],
      "source": [
        "import sympy as sp\n",
        "\n",
        "# Para imprimir bonito\n",
        "sp.init_printing()\n",
        "from IPython.display import Math                 \n",
        "def imprimir (texto, variable):\n",
        "    return Math(texto +  rf'{sp.latex(variable)}')"
      ]
    },
    {
      "cell_type": "markdown",
      "metadata": {
        "id": "QZRqayP0QdX6"
      },
      "source": [
        "Definimos las variables simbólicas"
      ]
    },
    {
      "cell_type": "code",
      "execution_count": 8,
      "metadata": {
        "colab": {
          "base_uri": "https://localhost:8080/",
          "height": 38
        },
        "id": "8czbb7eoQcy7",
        "outputId": "fa7fa923-a408-400c-a8db-5884e31e11fb"
      },
      "outputs": [
        {
          "data": {
            "image/png": "[encoded data removed]",
            "text/latex": [
              "$\\displaystyle \\left( \\tau, \\  \\nu, \\  \\gamma\\right)$"
            ],
            "text/plain": [
              "(τ, ν, γ)"
            ]
          },
          "execution_count": 8,
          "metadata": {},
          "output_type": "execute_result"
        }
      ],
      "source": [
        "tau, nu, gamma, E = sp.symbols(\"tau, nu, gamma, E\")\n",
        "tau, nu, gamma"
      ]
    },
    {
      "cell_type": "markdown",
      "metadata": {
        "id": "wF8GozW1THdc"
      },
      "source": [
        "Se emplean las ecuacinoes (4.4) y (4.6) para llegar a la ecuación (4.7)"
      ]
    },
    {
      "cell_type": "code",
      "execution_count": 9,
      "metadata": {
        "colab": {
          "base_uri": "https://localhost:8080/",
          "height": 58
        },
        "id": "QOzqFzI5RDP0",
        "outputId": "2853f6d1-8977-4163-9d95-d91e9dece09f"
      },
      "outputs": [
        {
          "data": {
            "image/png": "[encoded data removed]",
            "text/latex": [
              "$\\displaystyle \\left( - \\frac{\\tau \\left(\\nu + 1\\right)}{E}, \\  \\frac{\\tau \\left(\\nu + 1\\right)}{E}\\right)$"
            ],
            "text/plain": [
              "⎛-τ⋅(ν + 1)   τ⋅(ν + 1)⎞\n",
              "⎜───────────, ─────────⎟\n",
              "⎝     E           E    ⎠"
            ]
          },
          "execution_count": 9,
          "metadata": {},
          "output_type": "execute_result"
        }
      ],
      "source": [
        "ex = -tau*(1+nu)/E\n",
        "ey =  tau*(1+nu)/E\n",
        "ex, ey"
      ]
    },
    {
      "cell_type": "markdown",
      "metadata": {
        "id": "DS3Fqi6RUWwS"
      },
      "source": [
        "Recordemos que para usar el comando ```solve``` de sympy es necesario tener la ecuación igualada a cero (0).\n",
        "\n",
        "$\\frac{1-\\frac{\\gamma}{2}}{1+\\frac{\\gamma}{2}} = \\frac{1+\\varepsilon_x}{1+\\varepsilon_y} \\rightarrow \\frac{1-\\frac{\\gamma}{2}}{1+\\frac{\\gamma}{2}} - \\frac{1+\\varepsilon_x}{1+\\varepsilon_y} = 0  $\n",
        "\n",
        "Con esto, encontramos $\\tau=$"
      ]
    },
    {
      "cell_type": "code",
      "execution_count": 10,
      "metadata": {
        "colab": {
          "base_uri": "https://localhost:8080/",
          "height": 56
        },
        "id": "ZMWXeFTET_3e",
        "outputId": "e5d7178a-ae4d-4a3f-8dd7-9bcea2151657"
      },
      "outputs": [
        {
          "data": {
            "image/png": "[encoded data removed]",
            "text/latex": [
              "$\\displaystyle \\frac{E \\gamma}{2 \\left(\\nu + 1\\right)}$"
            ],
            "text/plain": [
              "   E⋅γ   \n",
              "─────────\n",
              "2⋅(ν + 1)"
            ]
          },
          "execution_count": 10,
          "metadata": {},
          "output_type": "execute_result"
        }
      ],
      "source": [
        "tau = sp.factor(sp.solve((1-gamma/2)/(1+gamma/2) - (1+ex)/(1+ey), tau )) [0]    \n",
        "tau"
      ]
    },
    {
      "cell_type": "markdown",
      "metadata": {
        "id": "b2A8IYMx2j9S"
      },
      "source": [
        "Nos interesa el factor que acompaña a $\\gamma$, el cual se conoce como el *módulo de elasticidad tangencial* o *módulo de cortante*, $G$:"
      ]
    },
    {
      "cell_type": "code",
      "execution_count": 11,
      "metadata": {
        "colab": {
          "base_uri": "https://localhost:8080/",
          "height": 56
        },
        "id": "o9UnN3ix27e7",
        "outputId": "4a325ace-47a1-4d69-c936-94da36685f76"
      },
      "outputs": [
        {
          "data": {
            "text/latex": [
              "$\\displaystyle G = \\frac{E}{2 \\left(\\nu + 1\\right)}$"
            ],
            "text/plain": [
              "<IPython.core.display.Math object>"
            ]
          },
          "execution_count": 11,
          "metadata": {},
          "output_type": "execute_result"
        }
      ],
      "source": [
        "G = tau/gamma\n",
        "imprimir(r\"G = \", G)"
      ]
    }
  ],
  "metadata": {
    "colab": {
      "authorship_tag": "ABX9TyP8AYr1faRBNxl+OmLg0kxQ",
      "include_colab_link": true,
      "name": "04_03_02.ipynb",
      "provenance": []
    },
    "kernelspec": {
      "display_name": "Python 3.10.4 64-bit",
      "language": "python",
      "name": "python3"
    },
    "language_info": {
      "codemirror_mode": {
        "name": "ipython",
        "version": 3
      },
      "file_extension": ".py",
      "mimetype": "text/x-python",
      "name": "python",
      "nbconvert_exporter": "python",
      "pygments_lexer": "ipython3",
      "version": "3.10.4"
    },
    "vscode": {
      "interpreter": {
        "hash": "916dbcbb3f70747c44a77c7bcd40155683ae19c65e1c03b4aa3499c5328201f1"
      }
    }
  },
  "nbformat": 4,
  "nbformat_minor": 0
}
