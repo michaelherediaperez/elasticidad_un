{
  "nbformat": 4,
  "nbformat_minor": 0,
  "metadata": {
    "colab": {
      "name": "04_03_02.ipynb",
      "provenance": [],
      "authorship_tag": "ABX9TyP8AYr1faRBNxl+OmLg0kxQ",
      "include_colab_link": true
    },
    "kernelspec": {
      "name": "python3",
      "display_name": "Python 3"
    },
    "language_info": {
      "name": "python"
    }
  },
  "cells": [
    {
      "cell_type": "markdown",
      "metadata": {
        "id": "view-in-github",
        "colab_type": "text"
      },
      "source": [
        "<a href=\"https://colab.research.google.com/github/michaelherediaperez/mecanica_de_solidos_un/blob/main/codigos/cap_04/04_03_02.ipynb\" target=\"_parent\"><img src=\"https://colab.research.google.com/assets/colab-badge.svg\" alt=\"Open In Colab\"/></a>"
      ]
    },
    {
      "cell_type": "markdown",
      "source": [
        "# 4.3.2. Deformación de un sólido sometido a esfuerzos tangenciales (eq. 4.7)\n",
        "|Quién | Fecha | Qué hizo |\n",
        "| ---  | ---   | ---      |\n",
        "|Michael Heredia Pérez, <mherediap@unal.edu.co> | Julio 19, 2022 | Conversión de código de MAXIMA a Python|"
      ],
      "metadata": {
        "id": "9uHmKa6oMc6N"
      }
    },
    {
      "cell_type": "markdown",
      "source": [
        "Hast ahora hemos importado la librería sympy con el comando ```import sympy as sp```, esta es la forma más adecuada de importar una librería en Python; sin embargo y viendo que solo realizaremos cálculo simbólico, y que todos están contextualizados con las operaciones, no hay tropiezos a importar completamente la librería y todas sus clases y objetos."
      ],
      "metadata": {
        "id": "OzKuIq73Rbyg"
      }
    },
    {
      "cell_type": "code",
      "execution_count": 1,
      "metadata": {
        "id": "Uxf_0x1SMOAO"
      },
      "outputs": [],
      "source": [
        "from sympy import *\n",
        "init_printing() "
      ]
    },
    {
      "cell_type": "markdown",
      "source": [
        "Anteriormente se han definido las variables mediante el comando ```sympy.symbols()``` en escritura $\\LaTeX$, pero como ahora tenemos la librería importada por completo, no es necesario, pues sympy trae precargado el alfabeto griego:"
      ],
      "metadata": {
        "id": "QZRqayP0QdX6"
      }
    },
    {
      "cell_type": "code",
      "source": [
        "tau, nu, gamma, E = symbols(\"tau, nu, gamma, E\")\n",
        "tau, nu, gamma"
      ],
      "metadata": {
        "colab": {
          "base_uri": "https://localhost:8080/",
          "height": 38
        },
        "id": "8czbb7eoQcy7",
        "outputId": "fa7fa923-a408-400c-a8db-5884e31e11fb"
      },
      "execution_count": 2,
      "outputs": [
        {
          "output_type": "execute_result",
          "data": {
            "text/plain": [
              "(τ, ν, γ)"
            ],
            "image/png": "[encoded data removed]",
            "text/latex": "$\\displaystyle \\left( \\tau, \\  \\nu, \\  \\gamma\\right)$"
          },
          "metadata": {},
          "execution_count": 2
        }
      ]
    },
    {
      "cell_type": "markdown",
      "source": [
        "Igualmente, tenga en cuenta cómo se escriben estas letras griegas, no deja de ser como en $\\LaTeX$.\n",
        "\n",
        "Se emplean las ecuacinoes (4.4) y (4.6) para llegar a la ecuación (4.7)"
      ],
      "metadata": {
        "id": "wF8GozW1THdc"
      }
    },
    {
      "cell_type": "code",
      "source": [
        "ex = -tau*(1+nu)/E\n",
        "ey =  tau*(1+nu)/E\n",
        "ex, ey"
      ],
      "metadata": {
        "colab": {
          "base_uri": "https://localhost:8080/",
          "height": 58
        },
        "id": "QOzqFzI5RDP0",
        "outputId": "2853f6d1-8977-4163-9d95-d91e9dece09f"
      },
      "execution_count": 3,
      "outputs": [
        {
          "output_type": "execute_result",
          "data": {
            "text/plain": [
              "⎛-τ⋅(ν + 1)   τ⋅(ν + 1)⎞\n",
              "⎜───────────, ─────────⎟\n",
              "⎝     E           E    ⎠"
            ],
            "image/png": "[encoded data removed]",
            "text/latex": "$\\displaystyle \\left( - \\frac{\\tau \\left(\\nu + 1\\right)}{E}, \\  \\frac{\\tau \\left(\\nu + 1\\right)}{E}\\right)$"
          },
          "metadata": {},
          "execution_count": 3
        }
      ]
    },
    {
      "cell_type": "markdown",
      "source": [
        "Recordemos que para usar el comando ```solve``` de sympy es necesario tener la ecuación igualada a cero (0).\n",
        "\n",
        "$\\frac{1-\\frac{\\gamma}{2}}{1+\\frac{\\gamma}{2}} = \\frac{1+\\varepsilon_x}{1+\\varepsilon_y} \\rightarrow \\frac{1-\\frac{\\gamma}{2}}{1+\\frac{\\gamma}{2}} - \\frac{1+\\varepsilon_x}{1+\\varepsilon_y} = 0  $\n",
        "\n",
        "Con esto, encontramos $\\tau=$"
      ],
      "metadata": {
        "id": "DS3Fqi6RUWwS"
      }
    },
    {
      "cell_type": "code",
      "source": [
        "tau = factor(solve((1-gamma/2)/(1+gamma/2) - (1+ex)/(1+ey), tau )) [0]    \n",
        "tau"
      ],
      "metadata": {
        "colab": {
          "base_uri": "https://localhost:8080/",
          "height": 56
        },
        "id": "ZMWXeFTET_3e",
        "outputId": "e5d7178a-ae4d-4a3f-8dd7-9bcea2151657"
      },
      "execution_count": 4,
      "outputs": [
        {
          "output_type": "execute_result",
          "data": {
            "text/plain": [
              "   E⋅γ   \n",
              "─────────\n",
              "2⋅(ν + 1)"
            ],
            "image/png": "[encoded data removed]",
            "text/latex": "$\\displaystyle \\frac{E \\gamma}{2 \\left(\\nu + 1\\right)}$"
          },
          "metadata": {},
          "execution_count": 4
        }
      ]
    },
    {
      "cell_type": "markdown",
      "source": [
        "Nos interesa el factor que acompaña a $\\gamma$, el cual se conoce como el *módulo de elasticidad tangencial* o *módulo de cortante*, $G$:\n",
        "\n",
        "$G=$"
      ],
      "metadata": {
        "id": "b2A8IYMx2j9S"
      }
    },
    {
      "cell_type": "code",
      "source": [
        "tau/gamma"
      ],
      "metadata": {
        "colab": {
          "base_uri": "https://localhost:8080/",
          "height": 56
        },
        "id": "o9UnN3ix27e7",
        "outputId": "4a325ace-47a1-4d69-c936-94da36685f76"
      },
      "execution_count": 5,
      "outputs": [
        {
          "output_type": "execute_result",
          "data": {
            "text/plain": [
              "    E    \n",
              "─────────\n",
              "2⋅(ν + 1)"
            ],
            "image/png": "[encoded data removed]",
            "text/latex": "$\\displaystyle \\frac{E}{2 \\left(\\nu + 1\\right)}$"
          },
          "metadata": {},
          "execution_count": 5
        }
      ]
    }
  ]
}