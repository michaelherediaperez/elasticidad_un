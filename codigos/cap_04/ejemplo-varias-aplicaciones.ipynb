{
  "cells": [
    {
      "attachments": {},
      "cell_type": "markdown",
      "metadata": {
        "id": "cO_F29Uf50WJ"
      },
      "source": [
        "# Ejemplo: aplicación de los conceptos vistos hasta ley de Hooke.\n",
        "\n",
        "|Quién | Fecha | Qué hizo |\n",
        "| ---  | ---   | ---      |\n",
        "|Michael Heredia Pérez, <mherediap@unal.edu.co> | Abril 15, 2022 | Creando ejemplo |\n",
        "\n",
        "Durante la prueba de un elemento de máquina, las deformaciones determinadas mediante el uso de la roseta de deformaciones que se muestra en la figura, son: \n",
        "\n",
        "\\begin{align*}\n",
        "\\varepsilon_1 &= -93.1x10^{-6} in./in. \\\\\n",
        "\\varepsilon_2 &= 385x10^{-6} in./in. \\\\\n",
        "\\varepsilon_3 &= 210x10^{-6} in./in.\n",
        "\\end{align*}\n",
        "\n",
        "Suponga que el sólido está hecho de acero, que un módulo de Young $E = 200GPa$ y un coeficiente de Poisson $\\nu = 0.3$. Calcule:\n",
        "\n",
        "1. El estado de deformaciones en el plano $xy$.\n",
        "2. Las deformaciones principales y sus direcciones asociadas.\n",
        "3. El círculo de Mohr de deformaciones.\n",
        "4. El estado de esfuerzos en el plano $xy$ aplicando la Ley de Hooke generalizada para materiales isótropos.\n",
        "5. Los esfuerzos principales y sus direcciones asociadas.\n",
        "6. El círculo de Mohr de esfuerzos.\n",
        "7. Verifique que las direcciones principales para el estado de esfuerzos y deformaciones coinciden.\n",
        "8. Verifique todos los cálculos anteriores aplicando la Ley de Hooke simplificada para deformación plana.\n",
        "\n",
        "<p align=\"center\">\n",
        " <img width=\"600\" height=\"350\" src=https://drive.google.com/uc?id=1bsKEkgsQpBh-1glmrIDDgdVQXk2H7-GO\n",
        ">\n",
        "</p>\n",
        "\n"
      ]
    },
    {
      "cell_type": "code",
      "execution_count": 1,
      "metadata": {
        "id": "xtLVFzx8N_Ep"
      },
      "outputs": [],
      "source": [
        "import numpy as np\n",
        "import sympy as sp\n",
        "import matplotlib.pyplot as plt \n",
        "\n",
        "# Para imprimir bonito\n",
        "from IPython.display import Math\n",
        "sp.init_printing()                         \n",
        "\n",
        "def imprimir (texto, variable, unidad=False):\n",
        "    if unidad:\n",
        "        return Math(texto + rf'{sp.latex(variable)}' + unidad)\n",
        "    else:\n",
        "        return Math(texto + rf'{sp.latex(variable)}')\n",
        "\n",
        "# Defino un tamaño de fuente para todos los gráficos de este cuaderno\n",
        "plt.rcParams.update({'font.size': 10})"
      ]
    },
    {
      "cell_type": "code",
      "execution_count": 2,
      "metadata": {
        "id": "b2kNkU3PvOOz"
      },
      "outputs": [],
      "source": [
        "def grafica_circulo_mohr_2d(estado, pp, label):\n",
        "    \"\"\"Función para graficar el círculo de Mohr bidimensional según sea el label \n",
        "    asignado: \"def\" (deformación) o \"esf\" esfuerzos. el código sigue la \n",
        "    nomenclatura de esfuerzos.\n",
        "    \n",
        "    Variables:\n",
        "    - estado <list> : [sx, sy, txy] estado de esfuerzos o deformaciones.\n",
        "    - pp <list> : [s1, s2, tmax] valores propios asociados y \n",
        "                  esfuerzo cortante o deformación angualar matemática máxima.\n",
        "    - label <str> : \"def\" o \"esf\".\n",
        "    \"\"\"\n",
        "\n",
        "    # Se extraen las variables.\n",
        "    sx, sy, txy = estado\n",
        "    s1_xy, s2_xy, tau_max = pp\n",
        "    \n",
        "    # Discretizo el dominio en 100 puntos.\n",
        "    tt = np.linspace(0, np.pi, 100)\n",
        "        \n",
        "    # Evalúo las ecuaciones que construyen el círculo para el estado dado. (nome)\n",
        "    ssn_t = ( sx+sy )/2 + ( sx-sy )/2*np.cos( 2*tt ) + txy*np.sin( 2*tt )\n",
        "    ttn_t = txy*np.cos( 2*tt ) - ( sx-sy )/2*np.sin( 2*tt ) \n",
        "\n",
        "    # Inicio el lienzo.\n",
        "    fig, ax = plt.subplots()\n",
        "\n",
        "    # Dibujo la recta que pasa por los puntos C y A.\n",
        "    ax.plot((sy, sx), (-txy, txy), \"--g\")\n",
        "\n",
        "    ax.plot(sy, -txy, \"*r\")  \n",
        "    ax.plot(sx, txy,  \"*r\")  \n",
        "\n",
        "    # Marco el centro de la circunferencia O.\n",
        "    ax.plot((sx+sy)/2, 0, \"*r\")\n",
        "    ax.text((sx+sy)/2, 0,  \"O\")\n",
        "\n",
        "    # Dibujo la circunferencia.\n",
        "    ax.plot(ssn_t, ttn_t, \"-b\")\n",
        "\n",
        "    # Ubico los esfuerzos sx, sy \n",
        "    ax.plot(sx, 0, \"*r\")\n",
        "    ax.plot(sy, 0, \"*r\")\n",
        "    \n",
        "    # Ubico los esfuerzos principales s1, s2 \n",
        "    ax.plot(s1_xy, 0, \"*r\")\n",
        "    ax.plot(s2_xy, 0, \"*r\")\n",
        "\n",
        "    # Indico el esfuerzo cortante máximo.\n",
        "    ax.plot((sx+sy)/2, tau_max, \"*r\")\n",
        "\n",
        "    if label == \"esf\":\n",
        "        # Etiquetas para los puntos.\n",
        "        ax.text(sy, -txy*1.1, r\"$(\\sigma_y, -\\tau_{xy} )$\")  \n",
        "        ax.text(sx, txy*0.95, r\"$(\\sigma_x, \\tau_{xy} )$\") \n",
        "        ax.text(sx, 0, r\"$\\sigma_x$\")\n",
        "        ax.text(sy, 0, r\"$\\sigma_y$\")\n",
        "        ax.text(s1_xy, 0, r\"$\\sigma_1$\")\n",
        "        ax.text(s2_xy, 0, r\"$\\sigma_2$\")\n",
        "        ax.text(0.8*(sx+sy)/2, 1*tau_max, r\"$(\\tau_{max})_{xy}$\")\n",
        "        # Nombre de los ejes.\n",
        "        ax.set_xlabel(\"Esfuerzo normal \" + r\"$\\sigma_n$\" + \"[Pa]\" )\n",
        "        ax.set_ylabel(\"Esfuerzo cortante \" + r\"$\\tau_n$\" + \"[Pa]\")\n",
        "    elif label == \"def\":\n",
        "        # Etiquetas para los puntos.\n",
        "        ax.text(sy, -txy*1.1, r\"$(\\varepsilon_y, -\\varepsilon_{xy})$\")  \n",
        "        ax.text(sx, txy*0.95, r\"$(\\varepsilon_x, \\varepsilon_{xy})$\")\n",
        "        ax.text(sx, 0, r\"$\\varepsilon_x$\")\n",
        "        ax.text(sy, 0, r\"$\\varepsilon_y$\")\n",
        "        ax.text(s1_xy, 0, r\"$\\varepsilon_1$\")\n",
        "        ax.text(s2_xy, 0, r\"$\\varepsilon_2$\")\n",
        "        ax.text(0.8*(sx+sy)/2, 1*tau_max, r\"$(\\varepsilon_{max})_{xy}$\")\n",
        "        # Nombre de los ejes.\n",
        "        ax.set_xlabel(\"Deformación normal \" + r\"$\\varepsilon_{x'}$\" )\n",
        "        ax.set_ylabel(\"Deformación angular \" + r\"$\\varepsilon_{x'y'}$\" + \"[rad]\")\n",
        "    else:\n",
        "        raise Exception(\"Error en el el label.\")\n",
        "    \n",
        "    # Configuro parámetros del lienzo.\n",
        "    ax.grid(which='major', linestyle='-')\n",
        "    ax.set_aspect('equal', adjustable='box')\n",
        "\n",
        "    # Presento en pantalla el lienzo.\n",
        "    plt.show()"
      ]
    },
    {
      "cell_type": "markdown",
      "metadata": {
        "id": "CU7uOmU0TDyf"
      },
      "source": [
        "## Información del problema\n"
      ]
    },
    {
      "cell_type": "code",
      "execution_count": 3,
      "metadata": {
        "id": "Cl0Q8IbgOGpR"
      },
      "outputs": [],
      "source": [
        "# Deformaciones longitudinales medidas por las galgas. eA = e1, eB = e2, eC = e3 \n",
        "eA = -93.1e-6\n",
        "eB = 385e-6\n",
        "eC = 210e-6\n",
        "\n",
        "# Ángulos de inclinación de las galgas medidos en radianes.\n",
        "tA = 0  * np.pi/180\n",
        "tB = 75 * np.pi/180\n",
        "tC = -75* np.pi/180\n",
        "\n",
        "# Módulo de young (E) y coeficiente de Poisson (nu)\n",
        "E = 200e9\n",
        "nu = 0.3"
      ]
    },
    {
      "attachments": {},
      "cell_type": "markdown",
      "metadata": {
        "id": "NgXaO8BQR_1t"
      },
      "source": [
        "## 1. Estado de deformaciones\n",
        "\n",
        "Aplicamos la ecuación $\\varepsilon_{x'} = \\varepsilon_x \\cos^2(\\theta) + \\varepsilon_y \\sin^2(\\theta) + 2\\varepsilon_{xy} \\cos(\\theta)\\sin(\\theta)$\n",
        "\n",
        "Formando el siguiente sistema de ecuaciones:\n",
        "\n",
        "\\begin{align*}\n",
        "\\varepsilon_A &= \\varepsilon_x \\cos^2(\\theta_A) + \\varepsilon_y \\sin^2(\\theta_A) + 2\\varepsilon_{xy} \\cos(\\theta_A)\\sin(\\theta_A) \\\\\n",
        "\\varepsilon_B &= \\varepsilon_x \\cos^2(\\theta_B) + \\varepsilon_y \\sin^2(\\theta_B) + 2\\varepsilon_{xy} \\cos(\\theta_B)\\sin(\\theta_B) \\\\\n",
        "\\varepsilon_C &= \\varepsilon_x \\cos^2(\\theta_C) + \\varepsilon_y \\sin^2(\\theta_C) + 2\\varepsilon_{xy} \\cos(\\theta_C)\\sin(\\theta_C)\n",
        "\\end{align*}\n",
        "\n",
        "Pudiéndose formar un sistema matricial de la forma $\\boldsymbol{b} = \\boldsymbol{Ax}$.\n",
        "\n",
        "**Observación:** Calcularemos el estado de deformaciones en el plano $xy$, por lo mismo, no hay deformaciones en el eje $z$, así que asumimos $\\varepsilon_z = \\varepsilon_{xz} = \\varepsilon_{yz} = 0$."
      ]
    },
    {
      "cell_type": "code",
      "execution_count": 4,
      "metadata": {
        "colab": {
          "base_uri": "https://localhost:8080/"
        },
        "id": "fn40dTDcrIua",
        "outputId": "b19bcae4-ac34-49ad-f9ec-4d40c08b3843"
      },
      "outputs": [
        {
          "data": {
            "text/plain": [
              "array([-9.31000000e-05,  3.25543818e-04,  1.75000000e-04])"
            ]
          },
          "execution_count": 4,
          "metadata": {},
          "output_type": "execute_result"
        }
      ],
      "source": [
        "# Definimos la matriz de coeficientes A.\n",
        "A = np.array([\n",
        "    [np.cos(tA)**2, np.sin(tA)**2, 2*np.sin(tA)*np.cos(tA)],\n",
        "    [np.cos(tB)**2, np.sin(tB)**2, 2*np.sin(tB)*np.cos(tB)],\n",
        "    [np.cos(tC)**2, np.sin(tC)**2, 2*np.sin(tC)*np.cos(tC)]\n",
        "])\n",
        "\n",
        "# Definimos el vector b\n",
        "b = np.array([eA, eB, eC]).T\n",
        "\n",
        "# Solucionamos el problema Ax = b -> x = inv(A)b\n",
        "x = np.linalg.inv(A) @ b\n",
        "x"
      ]
    },
    {
      "cell_type": "code",
      "execution_count": 5,
      "metadata": {
        "id": "T619N6f0svWl"
      },
      "outputs": [],
      "source": [
        "# Asigno los resultados\n",
        "ex, ey, exy = x"
      ]
    },
    {
      "cell_type": "code",
      "execution_count": 6,
      "metadata": {
        "colab": {
          "base_uri": "https://localhost:8080/",
          "height": 38
        },
        "id": "Mhjh08onsgTe",
        "outputId": "f57ee402-14f0-43d2-979f-0a802417f82d"
      },
      "outputs": [
        {
          "data": {
            "text/latex": [
              "$\\displaystyle \\varepsilon_x = -9.31 \\cdot 10^{-5}$"
            ],
            "text/plain": [
              "<IPython.core.display.Math object>"
            ]
          },
          "execution_count": 6,
          "metadata": {},
          "output_type": "execute_result"
        }
      ],
      "source": [
        "imprimir(r\"\\varepsilon_x = \", ex)"
      ]
    },
    {
      "cell_type": "code",
      "execution_count": 7,
      "metadata": {
        "colab": {
          "base_uri": "https://localhost:8080/",
          "height": 38
        },
        "id": "hd9c-_6MshTk",
        "outputId": "7ede1ec6-70db-4395-aed4-99bf71e8ef7d"
      },
      "outputs": [
        {
          "data": {
            "text/latex": [
              "$\\displaystyle \\varepsilon_y = 0.000325543818254386$"
            ],
            "text/plain": [
              "<IPython.core.display.Math object>"
            ]
          },
          "execution_count": 7,
          "metadata": {},
          "output_type": "execute_result"
        }
      ],
      "source": [
        "imprimir(r\"\\varepsilon_y = \", ey)"
      ]
    },
    {
      "cell_type": "code",
      "execution_count": 8,
      "metadata": {
        "colab": {
          "base_uri": "https://localhost:8080/",
          "height": 38
        },
        "id": "Uia8ARN8snqR",
        "outputId": "d15be056-a5c0-42ce-8d63-e49a4503d5f0"
      },
      "outputs": [
        {
          "data": {
            "text/latex": [
              "$\\displaystyle \\varepsilon_{xy} = 0.000175rad$"
            ],
            "text/plain": [
              "<IPython.core.display.Math object>"
            ]
          },
          "execution_count": 8,
          "metadata": {},
          "output_type": "execute_result"
        }
      ],
      "source": [
        "imprimir(r\"\\varepsilon_{xy} = \", exy, \"rad\")"
      ]
    },
    {
      "cell_type": "code",
      "execution_count": 9,
      "metadata": {
        "colab": {
          "base_uri": "https://localhost:8080/",
          "height": 79
        },
        "id": "ZNym-IuWmccI",
        "outputId": "eef3a567-cfba-48fe-b30d-d9a92cbf5d10"
      },
      "outputs": [
        {
          "data": {
            "text/latex": [
              "$\\displaystyle \\underline{\\underline{\\boldsymbol{\\varepsilon}}}=\\left[\\begin{matrix}-9.31 \\cdot 10^{-5} & 0.000175 & 0\\\\0.000175 & 0.000325543818254386 & 0\\\\0 & 0 & 0\\end{matrix}\\right]$"
            ],
            "text/plain": [
              "<IPython.core.display.Math object>"
            ]
          },
          "execution_count": 9,
          "metadata": {},
          "output_type": "execute_result"
        }
      ],
      "source": [
        "# Definimos las deformaciones nulas.\n",
        "ez, exz, eyz = 0, 0, 0\n",
        "\n",
        "# Construimos el tensor de deformaciones infinitesimales \n",
        "# (sp solo para verlo bonito)\n",
        "epsilon = sp.Matrix([\n",
        "    [ex, exy, exz],\n",
        "    [exy, ey, eyz],\n",
        "    [exz, eyz, ez]\n",
        "])\n",
        "\n",
        "imprimir(r\"\\underline{\\underline{\\boldsymbol{\\varepsilon}}}=\", epsilon)"
      ]
    },
    {
      "cell_type": "markdown",
      "metadata": {
        "id": "2C_9wKzJXoqe"
      },
      "source": [
        "## 2. Deformaciones principales"
      ]
    },
    {
      "cell_type": "code",
      "execution_count": 10,
      "metadata": {
        "id": "abq6iBv3p5NM"
      },
      "outputs": [],
      "source": [
        "# Construimos el tensor de deformaciones inifinitesimales como numpy para \n",
        "# calcular.\n",
        "epsilon = np.array([\n",
        "    [ex, exy, exz],\n",
        "    [exy, ey, eyz],\n",
        "    [exz, eyz, ez]\n",
        "])\n",
        "\n",
        "# Calculamos los valores y vectores propios de epsilon\n",
        "valp, vecp = np.linalg.eigh(epsilon)\n",
        "\n",
        "# Asignamos\n",
        "e3, e2, e1 = valp\n",
        "n3d, n2d, n1d = vecp.T"
      ]
    },
    {
      "cell_type": "code",
      "execution_count": 11,
      "metadata": {
        "colab": {
          "base_uri": "https://localhost:8080/",
          "height": 38
        },
        "id": "PpTUqRyIpvep",
        "outputId": "08c19812-5be2-4b74-ba71-385c562d8335"
      },
      "outputs": [
        {
          "data": {
            "text/latex": [
              "$\\displaystyle \\varepsilon_1 = 0.000389060069289317$"
            ],
            "text/plain": [
              "<IPython.core.display.Math object>"
            ]
          },
          "execution_count": 11,
          "metadata": {},
          "output_type": "execute_result"
        }
      ],
      "source": [
        "imprimir(r\"\\varepsilon_1 = \", e1)"
      ]
    },
    {
      "cell_type": "code",
      "execution_count": 12,
      "metadata": {
        "colab": {
          "base_uri": "https://localhost:8080/",
          "height": 38
        },
        "id": "TDN_gFB8uK7P",
        "outputId": "4374a849-287c-4404-da73-94a216875def"
      },
      "outputs": [
        {
          "data": {
            "text/latex": [
              "$\\displaystyle \\varepsilon_2 = 0.0$"
            ],
            "text/plain": [
              "<IPython.core.display.Math object>"
            ]
          },
          "execution_count": 12,
          "metadata": {},
          "output_type": "execute_result"
        }
      ],
      "source": [
        "imprimir(r\"\\varepsilon_2 = \", e2)"
      ]
    },
    {
      "cell_type": "code",
      "execution_count": 13,
      "metadata": {
        "colab": {
          "base_uri": "https://localhost:8080/",
          "height": 38
        },
        "id": "CEor9iMYuK0q",
        "outputId": "dec2a0ba-6718-45ba-8be4-b6958dde5b61"
      },
      "outputs": [
        {
          "data": {
            "text/latex": [
              "$\\displaystyle \\varepsilon_3 = -0.000156616251034931$"
            ],
            "text/plain": [
              "<IPython.core.display.Math object>"
            ]
          },
          "execution_count": 13,
          "metadata": {},
          "output_type": "execute_result"
        }
      ],
      "source": [
        "imprimir(r\"\\varepsilon_3 = \", e3)"
      ]
    },
    {
      "cell_type": "code",
      "execution_count": 14,
      "metadata": {
        "colab": {
          "base_uri": "https://localhost:8080/",
          "height": 38
        },
        "id": "FhoyVDNiuKtb",
        "outputId": "852f1cd6-9934-4fad-f0bf-c65cce801fcd"
      },
      "outputs": [
        {
          "data": {
            "text/latex": [
              "$\\displaystyle \\hat{n}_{1, def} = \\mathtt{\\text{[0.34117317 0.94000046 0.        ]}}$"
            ],
            "text/plain": [
              "<IPython.core.display.Math object>"
            ]
          },
          "execution_count": 14,
          "metadata": {},
          "output_type": "execute_result"
        }
      ],
      "source": [
        "imprimir(r\"\\hat{n}_{1, def} = \", n1d)"
      ]
    },
    {
      "cell_type": "code",
      "execution_count": 15,
      "metadata": {
        "colab": {
          "base_uri": "https://localhost:8080/",
          "height": 38
        },
        "id": "_8lkptb0uKgJ",
        "outputId": "91d0548e-71aa-43d8-97fe-27a61df7a78b"
      },
      "outputs": [
        {
          "data": {
            "text/latex": [
              "$\\displaystyle \\hat{n}_{2, def} = \\mathtt{\\text{[0. 0. 1.]}}$"
            ],
            "text/plain": [
              "<IPython.core.display.Math object>"
            ]
          },
          "execution_count": 15,
          "metadata": {},
          "output_type": "execute_result"
        }
      ],
      "source": [
        "imprimir(r\"\\hat{n}_{2, def} = \", n2d)"
      ]
    },
    {
      "cell_type": "code",
      "execution_count": 16,
      "metadata": {
        "colab": {
          "base_uri": "https://localhost:8080/",
          "height": 38
        },
        "id": "4IHx4mrBuYFb",
        "outputId": "8d569352-b929-427c-e130-dec6ed0a8c99"
      },
      "outputs": [
        {
          "data": {
            "text/latex": [
              "$\\displaystyle \\hat{n}_{3, def} = \\mathtt{\\text{[-0.94000046  0.34117317  0.        ]}}$"
            ],
            "text/plain": [
              "<IPython.core.display.Math object>"
            ]
          },
          "execution_count": 16,
          "metadata": {},
          "output_type": "execute_result"
        }
      ],
      "source": [
        "imprimir(r\"\\hat{n}_{3, def} = \", n3d)"
      ]
    },
    {
      "cell_type": "code",
      "execution_count": 17,
      "metadata": {
        "colab": {
          "base_uri": "https://localhost:8080/",
          "height": 38
        },
        "id": "JT2HVbAky8tT",
        "outputId": "9099f050-928c-4945-e5b1-d717833953aa"
      },
      "outputs": [
        {
          "data": {
            "text/latex": [
              "$\\displaystyle (\\varepsilon_{xy})_{max} = 0.000272838160162124rad$"
            ],
            "text/plain": [
              "<IPython.core.display.Math object>"
            ]
          },
          "execution_count": 17,
          "metadata": {},
          "output_type": "execute_result"
        }
      ],
      "source": [
        "# La deformación angualar máxima:\n",
        "exy_max = (e1-e3)/2\n",
        "\n",
        "imprimir(r\"(\\varepsilon_{xy})_{max} = \", exy_max, \"rad\")"
      ]
    },
    {
      "cell_type": "markdown",
      "metadata": {
        "id": "vqT5BoEZYC91"
      },
      "source": [
        "## 3. Círculo de Mohr de deformaciones"
      ]
    },
    {
      "cell_type": "code",
      "execution_count": 18,
      "metadata": {
        "colab": {
          "base_uri": "https://localhost:8080/",
          "height": 1000
        },
        "id": "wc7gIank4Gkm",
        "outputId": "08334373-cee1-43f5-ed50-aa12edc50d0b"
      },
      "outputs": [
        {
          "data": {
            "image/png": "[encoded data removed]",
            "text/plain": [
              "<Figure size 640x480 with 1 Axes>"
            ]
          },
          "metadata": {},
          "output_type": "display_data"
        }
      ],
      "source": [
        "grafica_circulo_mohr_2d([ex, ey, exy], [e1, e3, exy_max], label=\"def\")"
      ]
    },
    {
      "attachments": {},
      "cell_type": "markdown",
      "metadata": {
        "id": "gkXd8fxzS3M-"
      },
      "source": [
        "## 4. Estado de esfuerzos\n",
        "\n",
        "Aplicamos la Ley de Hooke:\n",
        "\n",
        "\\begin{align*}\n",
        "\\sigma_x &= \\lambda e + 2G\\varepsilon_x \\\\\n",
        "\\sigma_y &= \\lambda e + 2G\\varepsilon_y \\\\\n",
        "\\sigma_z &= \\lambda e + 2G\\varepsilon_z \\\\\n",
        "\\tau_{xy} &= 2G  \\varepsilon_{xy} \\\\\n",
        "\\tau_{xz} &= 2G  \\varepsilon_{xz} \\\\\n",
        "\\tau_{yz} &= 2G  \\varepsilon_{yz} \n",
        "\\end{align*}\n",
        "\n",
        "Con $\\lambda = \\frac{\\nu E}{(1+\\nu)(1-2\\nu)}$ la constante de Lamé y $e = \\varepsilon_x + \\varepsilon_y + \\varepsilon_z$ la dilatación cúbica. \n",
        "\n",
        "Veamos que por el cálculo anterior, $\\varepsilon_z = \\varepsilon_{xz} = \\varepsilon_{yz} = 0$ (esto es un estado de deformación plana)."
      ]
    },
    {
      "cell_type": "code",
      "execution_count": 19,
      "metadata": {
        "id": "zuXPWSiXQ1z-"
      },
      "outputs": [],
      "source": [
        "# Definimos la constante de Lamé.\n",
        "lame = (nu*E)/((1+nu)*(1-2*nu))\n",
        "\n",
        "# Definimos la dilatación cúbica (sz = 0)\n",
        "e = ex + ey\n",
        "\n",
        "# Definimos el módulo de corte G\n",
        "G = E/(2*(1+nu))\n",
        "\n",
        "# Aplicamos la Ley de Hooke\n",
        "sx = lame*e + 2*G*ex\n",
        "sy = lame*e + 2*G*ey\n",
        "sz = lame*e + 2*G*ez\n",
        "txy = G*2*exy\n",
        "txz = G*2*exz\n",
        "tyz = G*2*eyz"
      ]
    },
    {
      "cell_type": "code",
      "execution_count": 20,
      "metadata": {
        "colab": {
          "base_uri": "https://localhost:8080/",
          "height": 38
        },
        "id": "T5JY7beLzd_K",
        "outputId": "5ffaa6a9-c9f2-4a36-ebd1-d2fd0582da90"
      },
      "outputs": [
        {
          "data": {
            "text/latex": [
              "$\\displaystyle \\sigma_x= 12.5MPa$"
            ],
            "text/plain": [
              "<IPython.core.display.Math object>"
            ]
          },
          "execution_count": 20,
          "metadata": {},
          "output_type": "execute_result"
        }
      ],
      "source": [
        "imprimir(r\"\\sigma_x= \", round(sx/1000000, 2), \"MPa\")"
      ]
    },
    {
      "cell_type": "code",
      "execution_count": 21,
      "metadata": {
        "colab": {
          "base_uri": "https://localhost:8080/",
          "height": 38
        },
        "id": "n3mMd5dQz6TQ",
        "outputId": "54a60a7f-7abe-4fb8-9ecf-c5d2394d030b"
      },
      "outputs": [
        {
          "data": {
            "text/latex": [
              "$\\displaystyle \\sigma_y= 76.9MPa$"
            ],
            "text/plain": [
              "<IPython.core.display.Math object>"
            ]
          },
          "execution_count": 21,
          "metadata": {},
          "output_type": "execute_result"
        }
      ],
      "source": [
        "imprimir(r\"\\sigma_y= \", round(sy/1000000, 2), \"MPa\")"
      ]
    },
    {
      "cell_type": "code",
      "execution_count": 22,
      "metadata": {
        "colab": {
          "base_uri": "https://localhost:8080/",
          "height": 38
        },
        "id": "10ZDzN42z6JX",
        "outputId": "57b2e304-9e8e-469a-cfe2-1687f0022c19"
      },
      "outputs": [
        {
          "data": {
            "text/latex": [
              "$\\displaystyle \\sigma_z= 26.82MPa$"
            ],
            "text/plain": [
              "<IPython.core.display.Math object>"
            ]
          },
          "execution_count": 22,
          "metadata": {},
          "output_type": "execute_result"
        }
      ],
      "source": [
        "imprimir(r\"\\sigma_z= \", round(sz/1000000, 2), \"MPa\")"
      ]
    },
    {
      "cell_type": "code",
      "execution_count": 23,
      "metadata": {
        "colab": {
          "base_uri": "https://localhost:8080/",
          "height": 38
        },
        "id": "CXRstKwEz6Gw",
        "outputId": "d1f467ee-72b3-4b6a-f8da-291a9d671f87"
      },
      "outputs": [
        {
          "data": {
            "text/latex": [
              "$\\displaystyle \\tau_{xy}= 26.92MPa$"
            ],
            "text/plain": [
              "<IPython.core.display.Math object>"
            ]
          },
          "execution_count": 23,
          "metadata": {},
          "output_type": "execute_result"
        }
      ],
      "source": [
        "imprimir(r\"\\tau_{xy}= \", round(txy/1000000, 2), \"MPa\")"
      ]
    },
    {
      "cell_type": "code",
      "execution_count": 24,
      "metadata": {
        "colab": {
          "base_uri": "https://localhost:8080/",
          "height": 38
        },
        "id": "WfIHCjbu0Cg3",
        "outputId": "d4976140-fb22-4036-e1de-eb4b3a4c5da6"
      },
      "outputs": [
        {
          "data": {
            "text/latex": [
              "$\\displaystyle \\tau_{xz}= 0.0MPa$"
            ],
            "text/plain": [
              "<IPython.core.display.Math object>"
            ]
          },
          "execution_count": 24,
          "metadata": {},
          "output_type": "execute_result"
        }
      ],
      "source": [
        "imprimir(r\"\\tau_{xz}= \", round(txz/1000000, 2), \"MPa\")"
      ]
    },
    {
      "cell_type": "code",
      "execution_count": 25,
      "metadata": {
        "colab": {
          "base_uri": "https://localhost:8080/",
          "height": 38
        },
        "id": "jJ8zk4pE0CYT",
        "outputId": "539c85d5-34dc-4928-c128-378928cd55b0"
      },
      "outputs": [
        {
          "data": {
            "text/latex": [
              "$\\displaystyle \\tau_{yz}= 0.0MPa$"
            ],
            "text/plain": [
              "<IPython.core.display.Math object>"
            ]
          },
          "execution_count": 25,
          "metadata": {},
          "output_type": "execute_result"
        }
      ],
      "source": [
        "imprimir(r\"\\tau_{yz}= \", round(tyz/1000000, 2), \"MPa\")"
      ]
    },
    {
      "cell_type": "code",
      "execution_count": 26,
      "metadata": {
        "colab": {
          "base_uri": "https://localhost:8080/",
          "height": 79
        },
        "id": "0Z2dWxWy0QHa",
        "outputId": "574dc7f3-339f-4385-a93b-c1f1d2d2c9af"
      },
      "outputs": [
        {
          "data": {
            "text/latex": [
              "$\\displaystyle \\underline{\\underline{\\boldsymbol{\\sigma}}}=\\left[\\begin{matrix}12497363.6447369 & 26923076.9230769 & 0\\\\26923076.9230769 & 76904104.9146424 & 0\\\\0 & 0 & 26820440.5678138\\end{matrix}\\right]$"
            ],
            "text/plain": [
              "<IPython.core.display.Math object>"
            ]
          },
          "execution_count": 26,
          "metadata": {},
          "output_type": "execute_result"
        }
      ],
      "source": [
        "# Construimos el tensor de esfuerzos infinitesimales \n",
        "# (sp solo para verlo bonito)\n",
        "sigma = sp.Matrix([\n",
        "    [sx, txy, txz],\n",
        "    [txy, sy, tyz],\n",
        "    [txz, tyz, sz]\n",
        "])\n",
        "\n",
        "imprimir(r\"\\underline{\\underline{\\boldsymbol{\\sigma}}}=\", sigma)"
      ]
    },
    {
      "cell_type": "markdown",
      "metadata": {
        "id": "lw9TXdewXyNa"
      },
      "source": [
        "## 5. Esfuerzos y deformaciones principales"
      ]
    },
    {
      "cell_type": "code",
      "execution_count": 27,
      "metadata": {
        "id": "keVmlzYPWvHF"
      },
      "outputs": [],
      "source": [
        "# Construimos el tensor de esfuerzos inifinitesimales como numpy para \n",
        "# calcular.\n",
        "sigma = np.array([\n",
        "    [sx, txy, txz],\n",
        "    [txy, sy, tyz],\n",
        "    [txz, tyz, sz]\n",
        "])\n",
        "\n",
        "# Calculamos los valores y vectores propios de epsilon\n",
        "valp, vecp = np.linalg.eigh(sigma)\n",
        "\n",
        "# Asignamos\n",
        "s3, s2, s1 = valp\n",
        "n3s, n2s, n1s = vecp.T"
      ]
    },
    {
      "cell_type": "code",
      "execution_count": 28,
      "metadata": {
        "colab": {
          "base_uri": "https://localhost:8080/",
          "height": 38
        },
        "id": "AY7CemyJ1W0v",
        "outputId": "28269e2e-849e-4197-8feb-0ecbda3e1abf"
      },
      "outputs": [
        {
          "data": {
            "text/latex": [
              "$\\displaystyle \\sigma_1 = 86.68MPa$"
            ],
            "text/plain": [
              "<IPython.core.display.Math object>"
            ]
          },
          "execution_count": 28,
          "metadata": {},
          "output_type": "execute_result"
        }
      ],
      "source": [
        "imprimir(r\"\\sigma_1 = \", round(s1/1000000, 2), \"MPa\")"
      ]
    },
    {
      "cell_type": "code",
      "execution_count": 29,
      "metadata": {
        "colab": {
          "base_uri": "https://localhost:8080/",
          "height": 38
        },
        "id": "FlL_b4gJ1WyJ",
        "outputId": "6439dc7a-2e29-4dee-d347-fe25b5a85865"
      },
      "outputs": [
        {
          "data": {
            "text/latex": [
              "$\\displaystyle \\sigma_2 = 26.82MPa$"
            ],
            "text/plain": [
              "<IPython.core.display.Math object>"
            ]
          },
          "execution_count": 29,
          "metadata": {},
          "output_type": "execute_result"
        }
      ],
      "source": [
        "imprimir(r\"\\sigma_2 = \", round(s2/1000000, 2), \"MPa\")"
      ]
    },
    {
      "cell_type": "code",
      "execution_count": 30,
      "metadata": {
        "colab": {
          "base_uri": "https://localhost:8080/",
          "height": 38
        },
        "id": "0jNqLPSH1Wvg",
        "outputId": "8730a333-21b4-4dff-d331-dae96a26b86a"
      },
      "outputs": [
        {
          "data": {
            "text/latex": [
              "$\\displaystyle \\sigma_3 = 2.73MPa$"
            ],
            "text/plain": [
              "<IPython.core.display.Math object>"
            ]
          },
          "execution_count": 30,
          "metadata": {},
          "output_type": "execute_result"
        }
      ],
      "source": [
        "imprimir(r\"\\sigma_3 = \", round(s3/1000000, 2), \"MPa\")"
      ]
    },
    {
      "cell_type": "code",
      "execution_count": 31,
      "metadata": {
        "colab": {
          "base_uri": "https://localhost:8080/",
          "height": 38
        },
        "id": "BkZ16XS61gGK",
        "outputId": "bfaa91b4-b19a-44eb-f2aa-a793e54eb649"
      },
      "outputs": [
        {
          "data": {
            "text/latex": [
              "$\\displaystyle \\hat{n}_{1, esf} = \\mathtt{\\text{[0.34117317 0.94000046 0.        ]}}$"
            ],
            "text/plain": [
              "<IPython.core.display.Math object>"
            ]
          },
          "execution_count": 31,
          "metadata": {},
          "output_type": "execute_result"
        }
      ],
      "source": [
        "imprimir(r\"\\hat{n}_{1, esf} = \", n1s)"
      ]
    },
    {
      "cell_type": "code",
      "execution_count": 32,
      "metadata": {
        "colab": {
          "base_uri": "https://localhost:8080/",
          "height": 38
        },
        "id": "lJFvEGXg1gCj",
        "outputId": "8ea919f0-481a-4e81-d9d5-b501a89e13c2"
      },
      "outputs": [
        {
          "data": {
            "text/latex": [
              "$\\displaystyle \\hat{n}_{2, esf} = \\mathtt{\\text{[0. 0. 1.]}}$"
            ],
            "text/plain": [
              "<IPython.core.display.Math object>"
            ]
          },
          "execution_count": 32,
          "metadata": {},
          "output_type": "execute_result"
        }
      ],
      "source": [
        "imprimir(r\"\\hat{n}_{2, esf} = \", n2s)"
      ]
    },
    {
      "cell_type": "code",
      "execution_count": 33,
      "metadata": {
        "colab": {
          "base_uri": "https://localhost:8080/",
          "height": 38
        },
        "id": "BGDC-awE1gAN",
        "outputId": "ebd40811-9951-429c-81e5-04b64249d02b"
      },
      "outputs": [
        {
          "data": {
            "text/latex": [
              "$\\displaystyle \\hat{n}_{3, esf} = \\mathtt{\\text{[-0.94000046  0.34117317  0.        ]}}$"
            ],
            "text/plain": [
              "<IPython.core.display.Math object>"
            ]
          },
          "execution_count": 33,
          "metadata": {},
          "output_type": "execute_result"
        }
      ],
      "source": [
        "imprimir(r\"\\hat{n}_{3, esf} = \", n3s)"
      ]
    },
    {
      "cell_type": "code",
      "execution_count": 34,
      "metadata": {
        "colab": {
          "base_uri": "https://localhost:8080/",
          "height": 38
        },
        "id": "MNyfv0VH10zP",
        "outputId": "d93999b1-d440-4f0a-9947-1358f496891f"
      },
      "outputs": [
        {
          "data": {
            "text/latex": [
              "$\\displaystyle (\\tau_{xy})_{max} = 41.98MPa$"
            ],
            "text/plain": [
              "<IPython.core.display.Math object>"
            ]
          },
          "execution_count": 34,
          "metadata": {},
          "output_type": "execute_result"
        }
      ],
      "source": [
        "# Esfuerzo cortante máximo:\n",
        "txy_max = (s1-s3)/2\n",
        "\n",
        "imprimir(r\"(\\tau_{xy})_{max} = \", round(txy_max/1000000, 2), \"MPa\")"
      ]
    },
    {
      "cell_type": "markdown",
      "metadata": {
        "id": "vP0-Y6uqX46i"
      },
      "source": [
        "## 6. Círculo de Mohr de esfuerzos"
      ]
    },
    {
      "cell_type": "code",
      "execution_count": 35,
      "metadata": {
        "colab": {
          "base_uri": "https://localhost:8080/",
          "height": 467
        },
        "id": "JJWocOUSYBtp",
        "outputId": "fef5ce14-f50b-4368-dbe2-45d0b9a980bd"
      },
      "outputs": [
        {
          "data": {
            "image/png": "[encoded data removed]",
            "text/plain": [
              "<Figure size 640x480 with 1 Axes>"
            ]
          },
          "metadata": {},
          "output_type": "display_data"
        }
      ],
      "source": [
        "grafica_circulo_mohr_2d([sx, sy, txy], [s1, s3, txy_max], label=\"esf\")"
      ]
    },
    {
      "cell_type": "markdown",
      "metadata": {
        "id": "w8g5UbLt5VO8"
      },
      "source": [
        "## 7. Verificación de la ortogonaliad de las direcciones principales de esfuerzos y deformaciones\n",
        "\n",
        "Según la teoría, para un material elástico, lineal e isótropo, las direcciones principales para los esfuerzos y las deformaciones principales deben coincidir."
      ]
    },
    {
      "cell_type": "code",
      "execution_count": 36,
      "metadata": {
        "colab": {
          "base_uri": "https://localhost:8080/"
        },
        "id": "YgfOn0ck5NKD",
        "outputId": "cfed1f3d-6cf4-4673-ae04-d951639d9bb2"
      },
      "outputs": [
        {
          "data": {
            "text/plain": [
              "array([0., 0., 0.])"
            ]
          },
          "execution_count": 36,
          "metadata": {},
          "output_type": "execute_result"
        }
      ],
      "source": [
        "n1d - n1s"
      ]
    },
    {
      "cell_type": "code",
      "execution_count": 37,
      "metadata": {
        "colab": {
          "base_uri": "https://localhost:8080/"
        },
        "id": "QH9qg4js5nDX",
        "outputId": "e5b46ceb-bd6a-4430-f740-273705b3b348"
      },
      "outputs": [
        {
          "data": {
            "text/plain": [
              "array([0., 0., 0.])"
            ]
          },
          "execution_count": 37,
          "metadata": {},
          "output_type": "execute_result"
        }
      ],
      "source": [
        "n2d - n2s"
      ]
    },
    {
      "cell_type": "code",
      "execution_count": 38,
      "metadata": {
        "colab": {
          "base_uri": "https://localhost:8080/"
        },
        "id": "jXKgkOay5ql3",
        "outputId": "717cedb7-3c2a-4e03-e38b-9beb986d9d45"
      },
      "outputs": [
        {
          "data": {
            "text/plain": [
              "array([0., 0., 0.])"
            ]
          },
          "execution_count": 38,
          "metadata": {},
          "output_type": "execute_result"
        }
      ],
      "source": [
        "n3d - n3s"
      ]
    },
    {
      "attachments": {},
      "cell_type": "markdown",
      "metadata": {},
      "source": [
        "**Obervación:** vea que el círculo de Mohr de esfuerzos y deformaciones tienen la misma forma, a pesar de que están en ordenes de magnitudes diferentes. Esto indica también la igualdad de las direcciones principales."
      ]
    },
    {
      "attachments": {},
      "cell_type": "markdown",
      "metadata": {
        "id": "wwHjKuqrkOot"
      },
      "source": [
        "## 8. Aplicación de la simplificación de deformación plana.\n",
        "\n",
        "Vamos a aplicar la simplificación para reducir el problema tridimensional anterior uno bidimensional como **deformación plana**, para el cual $\\varepsilon_z = \\varepsilon_{xz} = \\varepsilon_{yz} = 0$.\n",
        "\n",
        "### Aplicación de la Ley de Hooke para deformación plana\n",
        "\n",
        "La Ley de Hooke para la simplificación de deformación plana es:\n",
        "\n",
        "\\begin{align*}\n",
        "\\sigma_x &= \\frac{E}{(1+\\nu)(1-2\\nu)}((1-\\nu)\\varepsilon_x + \\nu\\varepsilon_y) \\\\ \n",
        "\\sigma_y &= \\frac{E}{(1+\\nu)(1-2\\nu)}(\\nu\\varepsilon_x + (1-\\nu)\\varepsilon_y) \\\\\n",
        "\\sigma_z &= \\frac{\\nu E}{(1+\\nu)(1-2\\nu)}(\\varepsilon_x + \\varepsilon_y) \\\\\n",
        "\\tau_{xy} &= G 2\\varepsilon_{xy}\n",
        "\\end{align*}\n",
        "\n",
        "Observe que los resultados son iguales a los calculados al aplicar la Ley de Hooke general para materiales isótropos (tridimensional)."
      ]
    },
    {
      "cell_type": "code",
      "execution_count": 39,
      "metadata": {
        "id": "SBNKTEeakrFc"
      },
      "outputs": [],
      "source": [
        "sx = E/((1+nu)*(1-2*nu)) * ((1-nu)*ex + nu*ey)\n",
        "sy = E/((1+nu)*(1-2*nu)) * (nu*ex + (1-nu)*ey)\n",
        "sz = E/((1+nu)*(1-2*nu)) * nu*(ex + ey)\n",
        "txy = G*2*exy"
      ]
    },
    {
      "cell_type": "code",
      "execution_count": 40,
      "metadata": {
        "colab": {
          "base_uri": "https://localhost:8080/",
          "height": 38
        },
        "id": "R6dKCszik6F5",
        "outputId": "00277835-50e0-4ee0-ef8f-42561cdb7fad"
      },
      "outputs": [
        {
          "data": {
            "text/latex": [
              "$\\displaystyle \\sigma_x= 12.5MPa$"
            ],
            "text/plain": [
              "<IPython.core.display.Math object>"
            ]
          },
          "execution_count": 40,
          "metadata": {},
          "output_type": "execute_result"
        }
      ],
      "source": [
        "imprimir(r\"\\sigma_x= \", round(sx/1000000, 2), \"MPa\")"
      ]
    },
    {
      "cell_type": "code",
      "execution_count": 41,
      "metadata": {
        "colab": {
          "base_uri": "https://localhost:8080/",
          "height": 38
        },
        "id": "QCjiPwQTk9Jo",
        "outputId": "c629b441-dfc1-48c4-a229-2099b67be9bc"
      },
      "outputs": [
        {
          "data": {
            "text/latex": [
              "$\\displaystyle \\sigma_y= 76.9MPa$"
            ],
            "text/plain": [
              "<IPython.core.display.Math object>"
            ]
          },
          "execution_count": 41,
          "metadata": {},
          "output_type": "execute_result"
        }
      ],
      "source": [
        "imprimir(r\"\\sigma_y= \", round(sy/1000000, 2), \"MPa\")"
      ]
    },
    {
      "cell_type": "code",
      "execution_count": 42,
      "metadata": {
        "colab": {
          "base_uri": "https://localhost:8080/",
          "height": 38
        },
        "id": "qavQFge1k_JR",
        "outputId": "04fdc152-d9d7-414c-f16a-ec8a49051d81"
      },
      "outputs": [
        {
          "data": {
            "text/latex": [
              "$\\displaystyle \\sigma_z= 26.82MPa$"
            ],
            "text/plain": [
              "<IPython.core.display.Math object>"
            ]
          },
          "execution_count": 42,
          "metadata": {},
          "output_type": "execute_result"
        }
      ],
      "source": [
        "imprimir(r\"\\sigma_z= \", round(sz/1000000, 2), \"MPa\")"
      ]
    },
    {
      "cell_type": "code",
      "execution_count": 43,
      "metadata": {
        "colab": {
          "base_uri": "https://localhost:8080/",
          "height": 38
        },
        "id": "FilJ0seflAyg",
        "outputId": "1e5620eb-c04e-44f8-bcea-82111076fd28"
      },
      "outputs": [
        {
          "data": {
            "text/latex": [
              "$\\displaystyle \\tau_{xy} = 26.92MPa$"
            ],
            "text/plain": [
              "<IPython.core.display.Math object>"
            ]
          },
          "execution_count": 43,
          "metadata": {},
          "output_type": "execute_result"
        }
      ],
      "source": [
        "imprimir(r\"\\tau_{xy} = \", round(txy/1000000, 2), \"MPa\")"
      ]
    }
  ],
  "metadata": {
    "colab": {
      "provenance": []
    },
    "kernelspec": {
      "display_name": "Python 3",
      "name": "python3"
    },
    "language_info": {
      "codemirror_mode": {
        "name": "ipython",
        "version": 3
      },
      "file_extension": ".py",
      "mimetype": "text/x-python",
      "name": "python",
      "nbconvert_exporter": "python",
      "pygments_lexer": "ipython3",
      "version": "3.10.6"
    }
  },
  "nbformat": 4,
  "nbformat_minor": 0
}
