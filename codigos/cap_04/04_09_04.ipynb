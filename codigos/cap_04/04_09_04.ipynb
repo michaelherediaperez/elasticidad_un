{
  "nbformat": 4,
  "nbformat_minor": 0,
  "metadata": {
    "colab": {
      "name": "04_09_04.ipynb",
      "provenance": [],
      "authorship_tag": "ABX9TyOVcI+xheLse5kklmrjsyjY",
      "include_colab_link": true
    },
    "kernelspec": {
      "name": "python3",
      "display_name": "Python 3"
    },
    "language_info": {
      "name": "python"
    }
  },
  "cells": [
    {
      "cell_type": "markdown",
      "metadata": {
        "id": "view-in-github",
        "colab_type": "text"
      },
      "source": [
        "<a href=\"https://colab.research.google.com/github/michaelherediaperez/mecanica_de_solidos_un/blob/main/codigos/cap_04/04_09_04.ipynb\" target=\"_parent\"><img src=\"https://colab.research.google.com/assets/colab-badge.svg\" alt=\"Open In Colab\"/></a>"
      ]
    },
    {
      "cell_type": "markdown",
      "source": [
        "# 4.9.4. Relación de los diagramas de colores de una viga con sus diagramas de cortante y momento\n",
        "\n",
        "|Quién | Fecha | Qué hizo |\n",
        "| ---  | ---   | ---      |\n",
        "|Michael Heredia Pérez, <mherediap@unal.edu.co> | Julio 20, 2022 | Conversión de código de MAXIMA a Python|\n",
        "\n"
      ],
      "metadata": {
        "id": "UFv15YkSiTOu"
      }
    },
    {
      "cell_type": "code",
      "execution_count": 1,
      "metadata": {
        "id": "92OisnOBhy1J"
      },
      "outputs": [],
      "source": [
        "from sympy import *\n",
        "init_printing()"
      ]
    },
    {
      "cell_type": "markdown",
      "source": [
        "Defino las variables"
      ],
      "metadata": {
        "id": "GEdK2nd0i8yA"
      }
    },
    {
      "cell_type": "code",
      "source": [
        "I, c, t, q, y, x, z, L = symbols(\"I, c, t, q, y, x, z, L\")"
      ],
      "metadata": {
        "id": "PWHxWHxei-q_"
      },
      "execution_count": 2,
      "outputs": []
    },
    {
      "cell_type": "markdown",
      "source": [
        "Inercia y espesor"
      ],
      "metadata": {
        "id": "nOPtmez6jJ1T"
      }
    },
    {
      "cell_type": "code",
      "source": [
        "I = 2*c**3/3\n",
        "t = 1\n",
        "\n",
        "I"
      ],
      "metadata": {
        "colab": {
          "base_uri": "https://localhost:8080/",
          "height": 54
        },
        "id": "f_sk7p8Iiogp",
        "outputId": "56171eca-72d3-4cd4-e2ac-0f6a36ff384c"
      },
      "execution_count": 3,
      "outputs": [
        {
          "output_type": "execute_result",
          "data": {
            "text/plain": [
              "   3\n",
              "2⋅c \n",
              "────\n",
              " 3  "
            ],
            "image/png": "[encoded data removed]",
            "text/latex": "$\\displaystyle \\frac{2 c^{3}}{3}$"
          },
          "metadata": {},
          "execution_count": 3
        }
      ]
    },
    {
      "cell_type": "markdown",
      "source": [
        "Deducimos la fuerza cortante $V(x)$ a partir del esfuerzo cortante $\\tau_{xy}$: "
      ],
      "metadata": {
        "id": "-XHQ9bmTjTwH"
      }
    },
    {
      "cell_type": "code",
      "source": [
        "txy = -(q/(2*I)) * (c**2 - y**2)*x                      # eq (4.46d)\n",
        "Vx = -integrate(integrate(txy, (z, 0, t)), (y, -c, c))  # eq (4.47)"
      ],
      "metadata": {
        "id": "Vy5ozE31i7Ej"
      },
      "execution_count": 4,
      "outputs": []
    },
    {
      "cell_type": "markdown",
      "source": [
        "$V(x) = $"
      ],
      "metadata": {
        "id": "kVtHxEO6kZSL"
      }
    },
    {
      "cell_type": "code",
      "source": [
        "Vx"
      ],
      "metadata": {
        "colab": {
          "base_uri": "https://localhost:8080/",
          "height": 38
        },
        "id": "jIvMgC6Sj0q_",
        "outputId": "1e6f2b9a-fe8e-4300-e8c9-18867ea65848"
      },
      "execution_count": 5,
      "outputs": [
        {
          "output_type": "execute_result",
          "data": {
            "text/plain": [
              "q⋅x"
            ],
            "image/png": "[encoded data removed]",
            "text/latex": "$\\displaystyle q x$"
          },
          "metadata": {},
          "execution_count": 5
        }
      ]
    },
    {
      "cell_type": "markdown",
      "source": [
        "Aunque ningún método simplifica correctamente el resultado :C es posible ver que $$V(x) = qx$$\n",
        "\n",
        "Ahora deducción el momento flector $M(x)$ a partir del esfuerzo normal en x $\\sigma_x$:"
      ],
      "metadata": {
        "id": "H2-3XJRElEbH"
      }
    },
    {
      "cell_type": "code",
      "source": [
        "# aquí q es una carga distribuida qdist.\n",
        "sx = -(q/(2*I)) * (x**2*y - 2*y**3/3 + 2*c**2*y/5 - L**2*y)  # eq (4.46a)\n",
        "Mx = -integrate( integrate (y*sx, (z, 0, t)), (y, -c, c))"
      ],
      "metadata": {
        "id": "FtI74MndkJde"
      },
      "execution_count": 6,
      "outputs": []
    },
    {
      "cell_type": "markdown",
      "source": [
        "M(x) = "
      ],
      "metadata": {
        "id": "q-ziwbJMmL54"
      }
    },
    {
      "cell_type": "code",
      "source": [
        "simplify(Mx)"
      ],
      "metadata": {
        "colab": {
          "base_uri": "https://localhost:8080/",
          "height": 56
        },
        "id": "gawHRfWkmKgc",
        "outputId": "877d6553-12a7-458e-b2bd-1c8967960e8e"
      },
      "execution_count": 7,
      "outputs": [
        {
          "output_type": "execute_result",
          "data": {
            "text/plain": [
              "  ⎛   2    2⎞\n",
              "q⋅⎝- L  + x ⎠\n",
              "─────────────\n",
              "      2      "
            ],
            "image/png": "[encoded data removed]",
            "text/latex": "$\\displaystyle \\frac{q \\left(- L^{2} + x^{2}\\right)}{2}$"
          },
          "metadata": {},
          "execution_count": 7
        }
      ]
    },
    {
      "cell_type": "markdown",
      "source": [
        "Al igual que en el caso anterior, ningún método simplifica correctamente el resultado pero es posible ver que $$M(x) = -\\frac{q}{2}(L^2 - x^2)$$"
      ],
      "metadata": {
        "id": "uX9o2woqmsHs"
      }
    }
  ]
}