{
  "cells": [
    {
      "cell_type": "markdown",
      "metadata": {
        "colab_type": "text",
        "id": "view-in-github"
      },
      "source": [
        "<a href=\"https://colab.research.google.com/github/michaelherediaperez/mecanica_de_solidos_un/blob/main/codigos/cap_04/04_09_04.ipynb\" target=\"_parent\"><img src=\"https://colab.research.google.com/assets/colab-badge.svg\" alt=\"Open In Colab\"/></a>"
      ]
    },
    {
      "cell_type": "markdown",
      "metadata": {
        "id": "UFv15YkSiTOu"
      },
      "source": [
        "# 4.9.4. Relación de los diagramas de colores de una viga con sus diagramas de cortante y momento\n",
        "\n",
        "|Quién | Fecha | Qué hizo |\n",
        "| ---  | ---   | ---      |\n",
        "|Michael Heredia Pérez, <mherediap@unal.edu.co> | Julio 20, 2022 | Conversión de código de MAXIMA a Python |\n",
        "|Michael Heredia Pérez, <mherediap@unal.edu.co> | Octubre 23, 2022 | Puliendo el código |\n"
      ]
    },
    {
      "cell_type": "code",
      "execution_count": 6,
      "metadata": {
        "id": "92OisnOBhy1J"
      },
      "outputs": [],
      "source": [
        "import sympy as sp\n",
        "sp.init_printing()\n",
        "\n",
        "from IPython.display import Math                 \n",
        "def imprimir (texto, variable):\n",
        "    return Math(texto +  rf'{sp.latex(variable)}')"
      ]
    },
    {
      "cell_type": "markdown",
      "metadata": {
        "id": "GEdK2nd0i8yA"
      },
      "source": [
        "Defino las variables"
      ]
    },
    {
      "cell_type": "code",
      "execution_count": 3,
      "metadata": {
        "id": "PWHxWHxei-q_"
      },
      "outputs": [],
      "source": [
        "I, c, t, q, y, x, z, L = sp.symbols(\"I, c, t, q, y, x, z, L\")"
      ]
    },
    {
      "cell_type": "markdown",
      "metadata": {
        "id": "nOPtmez6jJ1T"
      },
      "source": [
        "Defino la Inercia y el espesor"
      ]
    },
    {
      "cell_type": "code",
      "execution_count": 4,
      "metadata": {
        "colab": {
          "base_uri": "https://localhost:8080/",
          "height": 54
        },
        "id": "f_sk7p8Iiogp",
        "outputId": "56171eca-72d3-4cd4-e2ac-0f6a36ff384c"
      },
      "outputs": [],
      "source": [
        "I = 2*c**3/3\n",
        "t = 1"
      ]
    },
    {
      "cell_type": "markdown",
      "metadata": {
        "id": "-XHQ9bmTjTwH"
      },
      "source": [
        "Deducimos la fuerza cortante $V(x)$ a partir del esfuerzo cortante $\\tau_{xy}$, resolviendo la integral $V(x) = -\\int \\int \\tau_{xy}(x, y, z)dydz$ "
      ]
    },
    {
      "cell_type": "code",
      "execution_count": 9,
      "metadata": {
        "id": "Vy5ozE31i7Ej"
      },
      "outputs": [
        {
          "data": {
            "text/latex": [
              "$\\displaystyle V(x) =q x$"
            ],
            "text/plain": [
              "<IPython.core.display.Math object>"
            ]
          },
          "execution_count": 9,
          "metadata": {},
          "output_type": "execute_result"
        }
      ],
      "source": [
        "txy = -(q/(2*I)) * (c**2 - y**2)*x                            # eq (4.46d)\n",
        "Vx = -sp.integrate(sp.integrate(txy, (z, 0, t)), (y, -c, c))  # eq (4.47)\n",
        "imprimir(r\"V(x) =\", Vx)"
      ]
    },
    {
      "cell_type": "markdown",
      "metadata": {
        "id": "H2-3XJRElEbH"
      },
      "source": [
        "Ahora deducimos el momento flector $M(x)$ a partir del esfuerzo normal en x $\\sigma_x$, resolviendo la integral $M(x) = - \\int \\int y \\sigma_x(x,y,z) dydz$ "
      ]
    },
    {
      "cell_type": "code",
      "execution_count": 11,
      "metadata": {
        "id": "FtI74MndkJde"
      },
      "outputs": [
        {
          "data": {
            "text/latex": [
              "$\\displaystyle M(x) =\\frac{q \\left(- L^{2} + x^{2}\\right)}{2}$"
            ],
            "text/plain": [
              "<IPython.core.display.Math object>"
            ]
          },
          "execution_count": 11,
          "metadata": {},
          "output_type": "execute_result"
        }
      ],
      "source": [
        "# aquí q es una carga distribuida qdist.\n",
        "sx = -(q/(2*I)) * (x**2*y - 2*y**3/3 + 2*c**2*y/5 - L**2*y)  # eq (4.46a)\n",
        "Mx = -sp.integrate( sp.integrate (y*sx, (z, 0, t)), (y, -c, c))\n",
        "imprimir(r\"M(x) =\", sp.simplify(Mx))"
      ]
    },
    {
      "cell_type": "markdown",
      "metadata": {
        "id": "uX9o2woqmsHs"
      },
      "source": [
        "Al igual que en el caso anterior, ningún método simplifica correctamente el resultado pero es posible ver que $M(x) = -\\frac{q}{2}(L^2 - x^2)$"
      ]
    }
  ],
  "metadata": {
    "colab": {
      "authorship_tag": "ABX9TyOVcI+xheLse5kklmrjsyjY",
      "include_colab_link": true,
      "name": "04_09_04.ipynb",
      "provenance": []
    },
    "kernelspec": {
      "display_name": "Python 3.10.4 64-bit",
      "language": "python",
      "name": "python3"
    },
    "language_info": {
      "codemirror_mode": {
        "name": "ipython",
        "version": 3
      },
      "file_extension": ".py",
      "mimetype": "text/x-python",
      "name": "python",
      "nbconvert_exporter": "python",
      "pygments_lexer": "ipython3",
      "version": "3.10.4"
    },
    "vscode": {
      "interpreter": {
        "hash": "916dbcbb3f70747c44a77c7bcd40155683ae19c65e1c03b4aa3499c5328201f1"
      }
    }
  },
  "nbformat": 4,
  "nbformat_minor": 0
}
