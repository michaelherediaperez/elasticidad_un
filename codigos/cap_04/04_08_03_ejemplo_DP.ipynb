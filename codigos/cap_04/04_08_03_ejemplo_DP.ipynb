{
  "cells": [
    {
      "cell_type": "markdown",
      "metadata": {
        "colab_type": "text",
        "id": "view-in-github"
      },
      "source": [
        "<a href=\"https://colab.research.google.com/github/michaelherediaperez/mecanica_de_solidos_un/blob/main/codigos/cap_04/04_08_03_ejemplo_DP.ipynb\" target=\"_parent\"><img src=\"https://colab.research.google.com/assets/colab-badge.svg\" alt=\"Open In Colab\"/></a>"
      ]
    },
    {
      "cell_type": "markdown",
      "metadata": {
        "id": "ZiuVgBpBNpeb"
      },
      "source": [
        "# 4.8.3. Relación entre los esfuerzos principales obtenidos en el análisis bidimensional y tridimensional \n",
        "\n",
        "|Quién | Fecha | Qué hizo |\n",
        "| ---  | ---   | ---      |\n",
        "|Michael Heredia Pérez, <mherediap@unal.edu.co> | Julio 20, 2022 | Conversión de código de MATLAB a Python |\n",
        "|Michael Heredia Pérez, <mherediap@unal.edu.co> | Octubre 12, 2022 | Completando el código |\n",
        "\n",
        "## Ejemplo de *deformación plana*\n"
      ]
    },
    {
      "cell_type": "code",
      "execution_count": 3,
      "metadata": {
        "id": "JLVyHVSCNGTs"
      },
      "outputs": [],
      "source": [
        "import numpy as np\n",
        "#np.set_printoptions(precision=4)   # imprime todo con 4 cifras decimales max"
      ]
    },
    {
      "cell_type": "markdown",
      "metadata": {
        "id": "3WJWjq03PoHr"
      },
      "source": [
        "Asumamos $\\nu = 0.30$ y un estado de **deformación plana**; para calcular los nuevos esfuerzos y direcciones principales, adicionalmente a $\\sigma_x = $ − 1 Pa, $\\sigma_y = $ = 2 Pa y $\\tau_{xy} = $ − 3 Pa, se debe tener en cuenta que $\\tau_{xz} = G\\gamma_{xz}$ = 0 Pa, $\\tau_{yz} = G\\gamma_{yz}$ = 0 Pa y $\\sigma_z = \\nu(\\sigma_x + \\sigma_v) = $ 0.3( − 1 Pa + 2 Pa) = 0.3 Pa (este último esfuerzo se calculó utilizando la ecuación (4.42)). Para calcular los valores y vectores propios del problema ensamblamos la matriz (4.43)"
      ]
    },
    {
      "cell_type": "code",
      "execution_count": 9,
      "metadata": {
        "colab": {
          "base_uri": "https://localhost:8080/"
        },
        "id": "FiZXRDZBPmJZ",
        "outputId": "1cf52374-9551-443d-9263-91f3f33ff742"
      },
      "outputs": [],
      "source": [
        "# Defino las variables.\n",
        "sx  = -1\n",
        "sy  =  2\n",
        "txy = -3\n",
        "nu  = 0.30\n",
        "\n",
        "# La matriz de esfuerzos.\n",
        "sigma = np.array([[sx, txy,            0],\n",
        "                  [txy, sy,            0],\n",
        "                  [0,    0, nu*(sx + sy)]])"
      ]
    },
    {
      "cell_type": "code",
      "execution_count": 10,
      "metadata": {},
      "outputs": [
        {
          "data": {
            "text/plain": [
              "array([[-1. , -3. ,  0. ],\n",
              "       [-3. ,  2. ,  0. ],\n",
              "       [ 0. ,  0. ,  0.3]])"
            ]
          },
          "execution_count": 10,
          "metadata": {},
          "output_type": "execute_result"
        }
      ],
      "source": [
        "sigma"
      ]
    },
    {
      "cell_type": "code",
      "execution_count": 11,
      "metadata": {
        "id": "jASDK_9wRmH6"
      },
      "outputs": [],
      "source": [
        "# Calculo lo vectores y valores propios\n",
        "valp, vecp = np.linalg.eigh(sigma)"
      ]
    },
    {
      "cell_type": "code",
      "execution_count": 12,
      "metadata": {
        "colab": {
          "base_uri": "https://localhost:8080/"
        },
        "id": "pJPht7fURtqr",
        "outputId": "af6226dd-1d75-43ef-cb54-3a9651f6cdc5"
      },
      "outputs": [
        {
          "data": {
            "text/plain": [
              "array([-2.8541,  0.3   ,  3.8541])"
            ]
          },
          "execution_count": 12,
          "metadata": {},
          "output_type": "execute_result"
        }
      ],
      "source": [
        "# Los valores propios salen ordenados de menor a mayor [s3, s2, s1]\n",
        "valp"
      ]
    },
    {
      "cell_type": "code",
      "execution_count": 13,
      "metadata": {
        "colab": {
          "base_uri": "https://localhost:8080/"
        },
        "id": "HwA33qiURu-B",
        "outputId": "d84d088f-7d43-47b9-b507-054c52f095e9"
      },
      "outputs": [
        {
          "data": {
            "text/plain": [
              "array([[-0.8507,  0.    , -0.5257],\n",
              "       [-0.5257,  0.    ,  0.8507],\n",
              "       [-0.    ,  1.    ,  0.    ]])"
            ]
          },
          "execution_count": 13,
          "metadata": {},
          "output_type": "execute_result"
        }
      ],
      "source": [
        "# Los vectores propios correspondientes [n3, n2, n1]\n",
        "vecp"
      ]
    },
    {
      "cell_type": "markdown",
      "metadata": {
        "id": "q-jSWd5lStdu"
      },
      "source": [
        "Verificamos que los vectores principales formen un sistema coordenado de la mano derecha, a partir del producto vectorial ($\\mathbf{ \\hat{n}_3 = \\hat{n}_1 \\times \\hat{n}_2 }$):"
      ]
    },
    {
      "cell_type": "code",
      "execution_count": 14,
      "metadata": {
        "colab": {
          "base_uri": "https://localhost:8080/"
        },
        "id": "KikYoefEUqGw",
        "outputId": "2fb3d14a-cc26-478c-df6a-a07fa6493a29"
      },
      "outputs": [
        {
          "data": {
            "text/plain": [
              "array([ 0.8507,  0.5257, -0.    ])"
            ]
          },
          "execution_count": 14,
          "metadata": {},
          "output_type": "execute_result"
        }
      ],
      "source": [
        "# Extraigo las direcciones principales del cálculo anterior.\n",
        "n3, n2, n1 = vecp.T\n",
        "\n",
        "# Calculo n3 = n1 x n2\n",
        "n3_calculado = np.cross(n1, n2)\n",
        "n3_calculado"
      ]
    },
    {
      "cell_type": "markdown",
      "metadata": {},
      "source": [
        "Fíjese que obtenemos el vector $\\mathbf{\\hat{n}}_3$ con sentido contrario, esto se puede solucionar considerando en sentido contrario a $\\mathbf{\\hat{n}}_2$"
      ]
    },
    {
      "cell_type": "code",
      "execution_count": 15,
      "metadata": {},
      "outputs": [
        {
          "data": {
            "text/plain": [
              "array([-0.8507, -0.5257,  0.    ])"
            ]
          },
          "execution_count": 15,
          "metadata": {},
          "output_type": "execute_result"
        }
      ],
      "source": [
        "# Calculo n3 = n1 x -n2\n",
        "n3_calculado = np.cross(n1, -n2)\n",
        "n3_calculado"
      ]
    },
    {
      "cell_type": "markdown",
      "metadata": {},
      "source": [
        "A diferencia del código de Matlab visto en el libro guía, aquí el ajuste de signos es diferente.\n",
        "\n",
        "## Conclusión de main.pdf\n",
        "\n",
        "Observe que en este caso, dos de los valores propios coincidieron con $(\\sigma_1)_{xy} =$ 3.8541 Pa y $(\\sigma_2)_{xy} =$ − 2.8541 Pa, mientras que el otro valor propio es igual al $\\sigma_z$ de\n",
        "la ecuación (4.42), es decir, $\\sigma_ = \\nu (\\sigma_x + \\sigma_y)$ . De hecho, las direcciones principales asociadas a tales valores propios describieron los vectores $[ − 0.5257, 0.8507, 0]^\\intercal$ y\n",
        "$[0.8507, 0.5257, 0]^\\intercal$ que habíamos mencionado anteriormente y el vector propio asociado al valor propio de $\\sigma_z$ fue $[0, 0, − 1]^\\intercal$ (ver Figura 4.17).\n",
        "\n",
        "Finalmente, debemos recalcular el esfuerzo cortante máximo. Según se dijo en la Sección 2.9.7, este tiene una magnitud dada por la ecuación (2.75): $\\tau_{max} = \\frac{\\sigma_1-\\sigma_3}{2}$ y se presenta en los planos ortogonales a los vectores $\\frac{ \\hat{n}_1 - \\hat{n}_3}{||\\hat{n}_1 - \\hat{n}_3||}$ y $\\frac{ \\hat{n}_1 + \\hat{n}_3}{||\\hat{n}_1 + \\hat{n}_3||}$; por lo tanto, el esfuerzo cortante máximo es 3.3541 Pa y se presenta en los planos con normal $\\frac{ \\hat{n}_1 - \\hat{n}_3}{||\\hat{n}_1 - \\hat{n}_3||} = $ $[0.2298, 0.9732, 0]^\\intercal$ y\n",
        "$\\frac{ \\hat{n}_1 + \\hat{n}_3}{||\\hat{n}_1 + \\hat{n}_3||} =$  $[ − 0.9732, 0.2298, 0]^\\intercal$.\n",
        "\n",
        "En resumen, se tiene que dos de los valores propios corresponden a $(\\sigma_1)_{xy}$ y $(\\sigma_2)_{xy}$, mientras que el otro corresponde a $\\sigma_z$. Los vectores propios asociados son los mismos calculados en el caso bidimensional para los dos primeros, agregando un 0 en la componente $z$, mientras que el vector propio asociado a $\\sigma_z$ tiene la dirección de $[0,0, \\pm 1]^\\intercal$ , siendo necesario ajustar su sentido. \n",
        "\n",
        "De este modo, luego de reordenar los valores propios, tenemos:\n",
        "\n",
        "$$\n",
        "\\begin{align*}\n",
        "\n",
        "\\sigma_1    &= \\max\\left( (\\sigma_1)_{xy}, (\\sigma_1)_{xy}, \\nu(\\sigma_x + \\sigma_y) \\right)  \\\\\n",
        "\\sigma_2    &= mediana\\left( (\\sigma_1)_{xy}, (\\sigma_1)_{xy}, \\nu(\\sigma_x + \\sigma_y) \\right) \\\\\n",
        "\\sigma_3    &= \\min\\left( (\\sigma_1)_{xy}, (\\sigma_1)_{xy}, \\nu(\\sigma_x + \\sigma_y) \\right) \\\\\n",
        "\\tau_{\\max} &= \\max\\left( \\frac{(\\sigma_1)_{xy} - \\nu(\\sigma_x + \\sigma_y)}{2},  \\frac{(\\sigma_2)_{xy} - \\nu(\\sigma_x + \\sigma_y)}{2},  \\frac{ (\\sigma_1)_{xy} - (\\sigma_2)_{xy} }{2}   \\right)  \n",
        "\n",
        "\\end{align*}\n",
        "$$\n"
      ]
    }
  ],
  "metadata": {
    "colab": {
      "authorship_tag": "ABX9TyMaipVYtL5pmjAGcXq3QWts",
      "include_colab_link": true,
      "name": "04_08_03_ejemplo_DP.ipynb",
      "provenance": []
    },
    "kernelspec": {
      "display_name": "Python 3.10.4 64-bit",
      "language": "python",
      "name": "python3"
    },
    "language_info": {
      "codemirror_mode": {
        "name": "ipython",
        "version": 3
      },
      "file_extension": ".py",
      "mimetype": "text/x-python",
      "name": "python",
      "nbconvert_exporter": "python",
      "pygments_lexer": "ipython3",
      "version": "3.10.4"
    },
    "vscode": {
      "interpreter": {
        "hash": "916dbcbb3f70747c44a77c7bcd40155683ae19c65e1c03b4aa3499c5328201f1"
      }
    }
  },
  "nbformat": 4,
  "nbformat_minor": 0
}
