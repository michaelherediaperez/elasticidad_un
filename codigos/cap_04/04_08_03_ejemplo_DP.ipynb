{
  "nbformat": 4,
  "nbformat_minor": 0,
  "metadata": {
    "colab": {
      "name": "04_08_03_ejemplo_DP.ipynb",
      "provenance": [],
      "authorship_tag": "ABX9TyMaipVYtL5pmjAGcXq3QWts",
      "include_colab_link": true
    },
    "kernelspec": {
      "name": "python3",
      "display_name": "Python 3"
    },
    "language_info": {
      "name": "python"
    }
  },
  "cells": [
    {
      "cell_type": "markdown",
      "metadata": {
        "id": "view-in-github",
        "colab_type": "text"
      },
      "source": [
        "<a href=\"https://colab.research.google.com/github/michaelherediaperez/mecanica_de_solidos_un/blob/main/codigos/cap_04/04_08_03_ejemplo_DP.ipynb\" target=\"_parent\"><img src=\"https://colab.research.google.com/assets/colab-badge.svg\" alt=\"Open In Colab\"/></a>"
      ]
    },
    {
      "cell_type": "markdown",
      "source": [
        "# 4.8.3. Relación entre los esfuerzos principales obtenidos en el análisis bidimensional y tridimensional \n",
        "\n",
        "|Quién | Fecha | Qué hizo |\n",
        "| ---  | ---   | ---      |\n",
        "|Michael Heredia Pérez, <mherediap@unal.edu.co> | Julio 20, 2022 | Conversión de código de MATLAB a Python|\n",
        "\n",
        "## Ejemplo de *deformación plana*\n"
      ],
      "metadata": {
        "id": "ZiuVgBpBNpeb"
      }
    },
    {
      "cell_type": "markdown",
      "source": [
        "Al igual que como hicimos con sympy, podemos importar completamente la librería de numpy para trabajar con ella, sin embargo, recuerden que no es la práctica recomendada."
      ],
      "metadata": {
        "id": "DMaMGRjdPbe2"
      }
    },
    {
      "cell_type": "code",
      "execution_count": 1,
      "metadata": {
        "id": "JLVyHVSCNGTs"
      },
      "outputs": [],
      "source": [
        "from numpy import *\n",
        "set_printoptions(precision=4)   # imprime todo con 4 cifras decimales max"
      ]
    },
    {
      "cell_type": "markdown",
      "source": [
        "Asumamos $\\nu = $0.30 y un estado de **deformación plana**; para calcular los nuevos esfuerzos y direcciones principales, adicionalmente a $\\sigma_x = $ − 1 Pa, $\\sigma_y = $ = 2 Pa y $\\tau_{xy} = $ − 3 Pa, se debe tener en cuenta que $\\tau_{xz} = G\\gamma_{xz}$ = 0 Pa, $\\tau_{yz} = G\\gamma_{yz}$ = 0 Pa y $\\sigma_z = \\nu(\\sigma_x + \\sigma_v) = $ 0.3( − 1 Pa + 2 Pa) = 0.3 Pa (este último esfuerzo se calculó utilizando la ecuación (4.42)). Para calcular los valores y vectores propios del problema ensamblamos la matriz (4.43)"
      ],
      "metadata": {
        "id": "3WJWjq03PoHr"
      }
    },
    {
      "cell_type": "code",
      "source": [
        "# Defino las variables.\n",
        "sx  = -1\n",
        "sy  = 2\n",
        "txy = -3\n",
        "nu  = 0.30\n",
        "\n",
        "# La matriz de esfuerzos.\n",
        "sigma = array([[sx, txy,            0],\n",
        "               [txy, sy,            0],\n",
        "               [0,    0, nu*(sx + sy)]])\n",
        "sigma"
      ],
      "metadata": {
        "colab": {
          "base_uri": "https://localhost:8080/"
        },
        "id": "FiZXRDZBPmJZ",
        "outputId": "1cf52374-9551-443d-9263-91f3f33ff742"
      },
      "execution_count": 2,
      "outputs": [
        {
          "output_type": "execute_result",
          "data": {
            "text/plain": [
              "array([[-1. , -3. ,  0. ],\n",
              "       [-3. ,  2. ,  0. ],\n",
              "       [ 0. ,  0. ,  0.3]])"
            ]
          },
          "metadata": {},
          "execution_count": 2
        }
      ]
    },
    {
      "cell_type": "code",
      "source": [
        "# Calculo lo vectores y valores propios\n",
        "valp, vecp = linalg.eig(sigma)"
      ],
      "metadata": {
        "id": "jASDK_9wRmH6"
      },
      "execution_count": 3,
      "outputs": []
    },
    {
      "cell_type": "code",
      "source": [
        "valp"
      ],
      "metadata": {
        "colab": {
          "base_uri": "https://localhost:8080/"
        },
        "id": "pJPht7fURtqr",
        "outputId": "af6226dd-1d75-43ef-cb54-3a9651f6cdc5"
      },
      "execution_count": 4,
      "outputs": [
        {
          "output_type": "execute_result",
          "data": {
            "text/plain": [
              "array([-2.8541,  3.8541,  0.3   ])"
            ]
          },
          "metadata": {},
          "execution_count": 4
        }
      ]
    },
    {
      "cell_type": "code",
      "source": [
        "vecp"
      ],
      "metadata": {
        "colab": {
          "base_uri": "https://localhost:8080/"
        },
        "id": "HwA33qiURu-B",
        "outputId": "d84d088f-7d43-47b9-b507-054c52f095e9"
      },
      "execution_count": 5,
      "outputs": [
        {
          "output_type": "execute_result",
          "data": {
            "text/plain": [
              "array([[-0.8507,  0.5257,  0.    ],\n",
              "       [-0.5257, -0.8507,  0.    ],\n",
              "       [ 0.    ,  0.    ,  1.    ]])"
            ]
          },
          "metadata": {},
          "execution_count": 5
        }
      ]
    },
    {
      "cell_type": "markdown",
      "source": [
        "Es necesario enumerar de nuevo los valores y vectores propios de modo que $\\sigma_1 \\geq \\sigma_2 \\geq \\sigma_3$, y organizar el sentido de los vectores propios para que se cumpla la regla de la mano derecha ($\\mathbf{ \\hat{n}_3 = \\hat{n}_1 \\times \\hat{n}_2 }$), por lo que la solución al ejercicio se debe dar como:\n",
        "\n",
        "$\\sigma_3 , \\sigma_2 , \\sigma_1 =$"
      ],
      "metadata": {
        "id": "q-jSWd5lStdu"
      }
    },
    {
      "cell_type": "code",
      "source": [
        "sort(valp)"
      ],
      "metadata": {
        "colab": {
          "base_uri": "https://localhost:8080/"
        },
        "id": "aMpVnZhsRwb-",
        "outputId": "27e90ed4-129b-4034-b7c4-8c69162ebc75"
      },
      "execution_count": 6,
      "outputs": [
        {
          "output_type": "execute_result",
          "data": {
            "text/plain": [
              "array([-2.8541,  0.3   ,  3.8541])"
            ]
          },
          "metadata": {},
          "execution_count": 6
        }
      ]
    },
    {
      "cell_type": "markdown",
      "source": [
        "$\\hat{n}_1 = $"
      ],
      "metadata": {
        "id": "0bXSobojTyH2"
      }
    },
    {
      "cell_type": "code",
      "source": [
        "vecp[:,1]"
      ],
      "metadata": {
        "colab": {
          "base_uri": "https://localhost:8080/"
        },
        "id": "Z2FAufocTjCf",
        "outputId": "13a62f5d-8e33-4977-fb68-5adc147a9724"
      },
      "execution_count": 7,
      "outputs": [
        {
          "output_type": "execute_result",
          "data": {
            "text/plain": [
              "array([ 0.5257, -0.8507,  0.    ])"
            ]
          },
          "metadata": {},
          "execution_count": 7
        }
      ]
    },
    {
      "cell_type": "markdown",
      "source": [
        "$\\hat{n}_2 = $"
      ],
      "metadata": {
        "id": "5kjaKyK-UjCd"
      }
    },
    {
      "cell_type": "code",
      "source": [
        "vecp[:,2]"
      ],
      "metadata": {
        "colab": {
          "base_uri": "https://localhost:8080/"
        },
        "id": "PTL6HK1XT3mh",
        "outputId": "7c0703d8-8814-46d5-eda0-881f6d74e778"
      },
      "execution_count": 8,
      "outputs": [
        {
          "output_type": "execute_result",
          "data": {
            "text/plain": [
              "array([0., 0., 1.])"
            ]
          },
          "metadata": {},
          "execution_count": 8
        }
      ]
    },
    {
      "cell_type": "markdown",
      "source": [
        "$\\hat{n}_3 = $"
      ],
      "metadata": {
        "id": "tQ682VJkUqne"
      }
    },
    {
      "cell_type": "code",
      "source": [
        "vecp[:,0]"
      ],
      "metadata": {
        "colab": {
          "base_uri": "https://localhost:8080/"
        },
        "id": "_MJIwgwHUm4-",
        "outputId": "c1f22e82-1e67-4091-d553-ce73a3698755"
      },
      "execution_count": 9,
      "outputs": [
        {
          "output_type": "execute_result",
          "data": {
            "text/plain": [
              "array([-0.8507, -0.5257,  0.    ])"
            ]
          },
          "metadata": {},
          "execution_count": 9
        }
      ]
    },
    {
      "cell_type": "markdown",
      "source": [
        "ya que al hacer el producto cruz, obtenemos"
      ],
      "metadata": {
        "id": "Ifz55zcWU5v5"
      }
    },
    {
      "cell_type": "code",
      "source": [
        "n1 = vecp[:, 1]\n",
        "n2 = vecp[:, 2]\n",
        "cross(n1, n2)"
      ],
      "metadata": {
        "colab": {
          "base_uri": "https://localhost:8080/"
        },
        "id": "KikYoefEUqGw",
        "outputId": "2fb3d14a-cc26-478c-df6a-a07fa6493a29"
      },
      "execution_count": 10,
      "outputs": [
        {
          "output_type": "execute_result",
          "data": {
            "text/plain": [
              "array([-0.8507, -0.5257,  0.    ])"
            ]
          },
          "metadata": {},
          "execution_count": 10
        }
      ]
    },
    {
      "cell_type": "markdown",
      "source": [
        "con lo cual cumplimos la regla de la mano derecha, al obtener el sentido requerido para $\\hat{n}_3$.\n",
        "\n",
        "Si se hubiera asumido el vector $\\hat{n}_2 = $ como $[0, 0, 1]^\\intercal$, el sentido del vector $\\hat{n}_3$ sería el dado por el siguiente cálculo:"
      ],
      "metadata": {
        "id": "1hA1Yf7JVNLU"
      }
    },
    {
      "cell_type": "code",
      "source": [
        "n1 = vecp[:, 1]\n",
        "n2 = -vecp[:, 2]\n",
        "cross(n1, n2)"
      ],
      "metadata": {
        "colab": {
          "base_uri": "https://localhost:8080/"
        },
        "id": "mGzDiYKCVKQV",
        "outputId": "5da60ecb-6d5e-4134-f910-bf6f80c4d047"
      },
      "execution_count": 11,
      "outputs": [
        {
          "output_type": "execute_result",
          "data": {
            "text/plain": [
              "array([ 0.8507,  0.5257, -0.    ])"
            ]
          },
          "metadata": {},
          "execution_count": 11
        }
      ]
    },
    {
      "cell_type": "markdown",
      "source": [
        "Observe que en este caso, dos de los valores propios coincidieron con $(\\sigma_1)_{xy} =$ 3.8541 Pa y $(\\sigma_2)_{xy} =$ − 2.8541 Pa, mientras que el otro valor propio es igual al $\\sigma_z$ de\n",
        "la ecuación (4.42), es decir, $\\sigma_ = \\nu (\\sigma_x + \\sigma_y)$ . De hecho, las direcciones principales asociadas a tales valores propios describieron los vectores $[ − 0.5257, 0.8507, 0]^\\intercal$ y\n",
        "$[0.8507, 0.5257, 0]^\\intercal$ que habíamos mencionado anteriormente y el vector propio asociado al valor propio de $\\sigma_z$ fue $[0, 0, − 1]^\\intercal$ (ver Figura 4.17).\n",
        "\n",
        "Finalmente, debemos recalcular el esfuerzo cortante máximo. Según se dijo en la Sección 2.9.7, este tiene una magnitud dada por la ecuación (2.75): $\\tau_{max} = \\frac{\\sigma_1-\\sigma_3}{2}$ y se presenta en los planos ortogonales a los vectores $\\frac{ \\hat{n}_1 - \\hat{n}_3}{||\\hat{n}_1 - \\hat{n}_3||}$ y $\\frac{ \\hat{n}_1 + \\hat{n}_3}{||\\hat{n}_1 + \\hat{n}_3||}$; por lo tanto, el esfuerzo cortante máximo es 3.3541 Pa y se presenta en los planos con normal $\\frac{ \\hat{n}_1 - \\hat{n}_3}{||\\hat{n}_1 - \\hat{n}_3||} = $ $[0.2298, 0.9732, 0]^\\intercal$ y\n",
        "$\\frac{ \\hat{n}_1 + \\hat{n}_3}{||\\hat{n}_1 + \\hat{n}_3||} =$  $[ − 0.9732, 0.2298, 0]^\\intercal$.\n",
        "\n",
        "En resumen, se tiene que dos de los valores propios corresponden a $(\\sigma_1)_{xy}$ y $(\\sigma_2)_{xy}$, mientras que el otro corresponde a $\\sigma_z$. Los vectores propios asociados son los mismos calculados en el caso bidimensional para los dos primeros, agregando un 0 en la componente $z$, mientras que el vector propio asociado a $\\sigma_z$ tiene la dirección de $[0,0, \\pm 1]^\\intercal$ , siendo necesario ajustar su sentido. \n",
        "\n",
        "De este modo, luego de reordenar los valores propios, tenemos:\n",
        "\n",
        "$$\\sigma_1 = \\max\\left( (\\sigma_1)_{xy}, (\\sigma_1)_{xy}, \\nu(\\sigma_x + \\sigma_y) \\right) $$\n",
        "\n",
        "$$\\sigma_2 = mediana\\left( (\\sigma_1)_{xy}, (\\sigma_1)_{xy}, \\nu(\\sigma_x + \\sigma_y) \\right) $$\n",
        "\n",
        "$$\\sigma_3 = \\min\\left( (\\sigma_1)_{xy}, (\\sigma_1)_{xy}, \\nu(\\sigma_x + \\sigma_y) \\right) $$\n",
        "\n",
        "$$ \\tau_{\\max} = \\max\\left( \\frac{(\\sigma_1)_{xy} - \\nu(\\sigma_x + \\sigma_y)}{2},  \\frac{(\\sigma_2)_{xy} - \\nu(\\sigma_x + \\sigma_y)}{2},  \\frac{ (\\sigma_1)_{xy} - (\\sigma_2)_{xy} }{2}   \\right)  $$ "
      ],
      "metadata": {
        "id": "JkvZdhYeWcjY"
      }
    }
  ]
}