{
  "nbformat": 4,
  "nbformat_minor": 0,
  "metadata": {
    "colab": {
      "name": "04_03_03_a.ipynb",
      "provenance": [],
      "authorship_tag": "ABX9TyP4RPkoeVTayJ7BuCdfJbE4",
      "include_colab_link": true
    },
    "kernelspec": {
      "name": "python3",
      "display_name": "Python 3"
    },
    "language_info": {
      "name": "python"
    }
  },
  "cells": [
    {
      "cell_type": "markdown",
      "metadata": {
        "id": "view-in-github",
        "colab_type": "text"
      },
      "source": [
        "<a href=\"https://colab.research.google.com/github/michaelherediaperez/mecanica_de_solidos_un/blob/main/codigos/cap_04/04_03_03_a.ipynb\" target=\"_parent\"><img src=\"https://colab.research.google.com/assets/colab-badge.svg\" alt=\"Open In Colab\"/></a>"
      ]
    },
    {
      "cell_type": "markdown",
      "source": [
        "# 4.3.3. Ley de Hooke generalizada para materiales isótropos\n",
        "\n",
        "|Quién | Fecha | Qué hizo |\n",
        "| ---  | ---   | ---      |\n",
        "|Michael Heredia Pérez, <mherediap@unal.edu.co> | Julio 19, 2022 | Conversión de código de MAXIMA a Python|\n",
        "\n",
        "## Despeje de las ecuaciones para $\\sigma_x$, $\\sigma_y$, $\\sigma_z$"
      ],
      "metadata": {
        "id": "Q1np-HmVdZu3"
      }
    },
    {
      "cell_type": "code",
      "execution_count": 1,
      "metadata": {
        "id": "S325VqiidXcS"
      },
      "outputs": [],
      "source": [
        "from sympy import *\n",
        "init_printing()"
      ]
    },
    {
      "cell_type": "markdown",
      "source": [
        "Defino las variables"
      ],
      "metadata": {
        "id": "Rf_vMddLdwSe"
      }
    },
    {
      "cell_type": "code",
      "source": [
        "ex, ey, ez = symbols(\"varepsilon_x, varepsilon_y, varepsilon_z\")\n",
        "sx, sy, sz = symbols(\"sigma_x, sigma_y, sigma_z\")\n",
        "E, nu, lamb_da = symbols(\"E, nu, lambda\")\n",
        "\n",
        "ex, ey, ez, sx, sy, sz, E, nu, lamb_da"
      ],
      "metadata": {
        "colab": {
          "base_uri": "https://localhost:8080/",
          "height": 38
        },
        "id": "mREL25dldtdI",
        "outputId": "15123053-e900-4b78-eddb-052ef7a64066"
      },
      "execution_count": 2,
      "outputs": [
        {
          "output_type": "execute_result",
          "data": {
            "text/plain": [
              "(varepsilonₓ, varepsilon_y, varepsilon_z, σₓ, σ_y, σ_z, E, ν, λ)"
            ],
            "image/png": "[encoded data removed]",
            "text/latex": "$\\displaystyle \\left( \\varepsilon_{x}, \\  \\varepsilon_{y}, \\  \\varepsilon_{z}, \\  \\sigma_{x}, \\  \\sigma_{y}, \\  \\sigma_{z}, \\  E, \\  \\nu, \\  \\lambda\\right)$"
          },
          "metadata": {},
          "execution_count": 2
        }
      ]
    },
    {
      "cell_type": "markdown",
      "source": [
        "Defino las ecuaciones, recuerde, igualando la ecuación a cero."
      ],
      "metadata": {
        "id": "yG9BmbkYecDU"
      }
    },
    {
      "cell_type": "code",
      "source": [
        " eq_ex = ex - (1/E)*(sx - nu*(sy + sz))   # eq 1\n",
        " eq_ey = ey - (1/E)*(sy - nu*(sx + sz))   # eq 2\n",
        " eq_ez = ez - (1/E)*(sz - nu*(sx + sy))   # eq 3\n",
        "\n",
        " eq_ex, eq_ey, eq_ez"
      ],
      "metadata": {
        "id": "LmWtV--qd-8J",
        "colab": {
          "base_uri": "https://localhost:8080/",
          "height": 58
        },
        "outputId": "550cd078-4f6e-47bb-cb8f-84b0d4a250c1"
      },
      "execution_count": 3,
      "outputs": [
        {
          "output_type": "execute_result",
          "data": {
            "text/plain": [
              "⎛              -ν⋅(σ_y + σ_z) + σₓ                 -ν⋅(σₓ + σ_z) + σ_y        \n",
              "⎜varepsilonₓ - ───────────────────, varepsilon_y - ───────────────────, vareps\n",
              "⎝                       E                                   E                 \n",
              "\n",
              "         -ν⋅(σₓ + σ_y) + σ_z⎞\n",
              "ilon_z - ───────────────────⎟\n",
              "                  E         ⎠"
            ],
            "image/png": "[encoded data removed]",
            "text/latex": "$\\displaystyle \\left( \\varepsilon_{x} - \\frac{- \\nu \\left(\\sigma_{y} + \\sigma_{z}\\right) + \\sigma_{x}}{E}, \\  \\varepsilon_{y} - \\frac{- \\nu \\left(\\sigma_{x} + \\sigma_{z}\\right) + \\sigma_{y}}{E}, \\  \\varepsilon_{z} - \\frac{- \\nu \\left(\\sigma_{x} + \\sigma_{y}\\right) + \\sigma_{z}}{E}\\right)$"
          },
          "metadata": {},
          "execution_count": 3
        }
      ]
    },
    {
      "cell_type": "markdown",
      "source": [
        "Despejo sx, sy y sx de las ecuaciones"
      ],
      "metadata": {
        "id": "cV3kpEB3e5ZT"
      }
    },
    {
      "cell_type": "code",
      "source": [
        "factor( solve([eq_ex, eq_ey, eq_ez], (sx, sy, sz)) )"
      ],
      "metadata": {
        "colab": {
          "base_uri": "https://localhost:8080/",
          "height": 58
        },
        "id": "uOKTXvJeerr_",
        "outputId": "96738ba4-4d4e-44fa-f512-5501836ec383"
      },
      "execution_count": 4,
      "outputs": [
        {
          "output_type": "execute_result",
          "data": {
            "text/plain": [
              "⎧    E⋅(ν⋅varepsilonₓ - ν⋅varepsilon_y - ν⋅varepsilon_z - varepsilonₓ)       -\n",
              "⎨σₓ: ─────────────────────────────────────────────────────────────────, σ_y: ─\n",
              "⎩                            (ν + 1)⋅(2⋅ν - 1)                                \n",
              "\n",
              "E⋅(ν⋅varepsilonₓ - ν⋅varepsilon_y + ν⋅varepsilon_z + varepsilon_y)        -E⋅(\n",
              "───────────────────────────────────────────────────────────────────, σ_z: ────\n",
              "                        (ν + 1)⋅(2⋅ν - 1)                                     \n",
              "\n",
              "ν⋅varepsilonₓ + ν⋅varepsilon_y - ν⋅varepsilon_z + varepsilon_z) ⎫\n",
              "────────────────────────────────────────────────────────────────⎬\n",
              "                     (ν + 1)⋅(2⋅ν - 1)                          ⎭"
            ],
            "image/png": "[encoded data removed]",
            "text/latex": "$\\displaystyle \\left\\{ \\sigma_{x} : \\frac{E \\left(\\nu \\varepsilon_{x} - \\nu \\varepsilon_{y} - \\nu \\varepsilon_{z} - \\varepsilon_{x}\\right)}{\\left(\\nu + 1\\right) \\left(2 \\nu - 1\\right)}, \\  \\sigma_{y} : - \\frac{E \\left(\\nu \\varepsilon_{x} - \\nu \\varepsilon_{y} + \\nu \\varepsilon_{z} + \\varepsilon_{y}\\right)}{\\left(\\nu + 1\\right) \\left(2 \\nu - 1\\right)}, \\  \\sigma_{z} : - \\frac{E \\left(\\nu \\varepsilon_{x} + \\nu \\varepsilon_{y} - \\nu \\varepsilon_{z} + \\varepsilon_{z}\\right)}{\\left(\\nu + 1\\right) \\left(2 \\nu - 1\\right)}\\right\\}$"
          },
          "metadata": {},
          "execution_count": 4
        }
      ]
    }
  ]
}