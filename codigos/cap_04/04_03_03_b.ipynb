{
  "nbformat": 4,
  "nbformat_minor": 0,
  "metadata": {
    "colab": {
      "name": "04_03_03_b.ipynb",
      "provenance": [],
      "authorship_tag": "ABX9TyPYT9ffZxSd/BNvGjIllMcP",
      "include_colab_link": true
    },
    "kernelspec": {
      "name": "python3",
      "display_name": "Python 3"
    },
    "language_info": {
      "name": "python"
    }
  },
  "cells": [
    {
      "cell_type": "markdown",
      "metadata": {
        "id": "view-in-github",
        "colab_type": "text"
      },
      "source": [
        "<a href=\"https://colab.research.google.com/github/michaelherediaperez/mecanica_de_solidos_un/blob/main/codigos/cap_04/04_03_03_b.ipynb\" target=\"_parent\"><img src=\"https://colab.research.google.com/assets/colab-badge.svg\" alt=\"Open In Colab\"/></a>"
      ]
    },
    {
      "cell_type": "markdown",
      "source": [
        "# 4.3.3. Ley de Hooke generalizada para materiales isótropos\n",
        "\n",
        "|Quién | Fecha | Qué hizo |\n",
        "| ---  | ---   | ---      |\n",
        "|Michael Heredia Pérez, <mherediap@unal.edu.co> | Julio 20, 2022 | Conversión de código de MAXIMA a Python|\n",
        "\n",
        "## Coeficientes de la matriz constitutiva $D$"
      ],
      "metadata": {
        "id": "GNL6vP3BwZwn"
      }
    },
    {
      "cell_type": "code",
      "execution_count": 1,
      "metadata": {
        "id": "VC-rDwFSwJes"
      },
      "outputs": [],
      "source": [
        "from sympy import *\n",
        "init_printing()"
      ]
    },
    {
      "cell_type": "markdown",
      "source": [
        "Se definen las variables"
      ],
      "metadata": {
        "id": "8B9hjYSOwmP1"
      }
    },
    {
      "cell_type": "code",
      "source": [
        "ex, ey, ez     = symbols(\"varepsilon_x, varepsilon_y, varepsilon_z\")\n",
        "sx, sy, sz     = symbols(\"sigma_x, sigma_y, sigma_z\")\n",
        "E, nu, lamb_da = symbols(\"E, nu, lambda\")\n",
        "txy, txz, tyz  = symbols(\"tau_xy, tau_xz, tau_yz\")\n",
        "gxy, gxz, gyz  = symbols(\"gamma_xy, gamma_xz, gamma_yz\")\n",
        "\n",
        "ex, ey, ez, sx, sy, sz, E, nu, lamb_da, txy, txz, tyz, gxy, gxz, gyz"
      ],
      "metadata": {
        "colab": {
          "base_uri": "https://localhost:8080/",
          "height": 38
        },
        "id": "ubA8UFGnwkZR",
        "outputId": "3d46e063-b697-4cc3-ca35-fd5c29fdd49d"
      },
      "execution_count": 2,
      "outputs": [
        {
          "output_type": "execute_result",
          "data": {
            "text/plain": [
              "(varepsilonₓ, varepsilon_y, varepsilon_z, σₓ, σ_y, σ_z, E, ν, λ, τ_xy, τ_xz, τ\n",
              "_yz, γ_xy, γ_xz, γ_yz)"
            ],
            "image/png": "[encoded data removed]",
            "text/latex": "$\\displaystyle \\left( \\varepsilon_{x}, \\  \\varepsilon_{y}, \\  \\varepsilon_{z}, \\  \\sigma_{x}, \\  \\sigma_{y}, \\  \\sigma_{z}, \\  E, \\  \\nu, \\  \\lambda, \\  \\tau_{xy}, \\  \\tau_{xz}, \\  \\tau_{yz}, \\  \\gamma_{xy}, \\  \\gamma_{xz}, \\  \\gamma_{yz}\\right)$"
          },
          "metadata": {},
          "execution_count": 2
        }
      ]
    },
    {
      "cell_type": "markdown",
      "source": [
        "Se define la delatación cúbica (eq. 4.28)"
      ],
      "metadata": {
        "id": "FHBMfAozw2ND"
      }
    },
    {
      "cell_type": "code",
      "source": [
        "e = ex + ey + ez\n",
        "e"
      ],
      "metadata": {
        "colab": {
          "base_uri": "https://localhost:8080/",
          "height": 38
        },
        "id": "EaeG_Bnbwn_C",
        "outputId": "e777e39c-1f64-443d-c35d-65e2442bc631"
      },
      "execution_count": 3,
      "outputs": [
        {
          "output_type": "execute_result",
          "data": {
            "text/plain": [
              "varepsilonₓ + varepsilon_y + varepsilon_z"
            ],
            "image/png": "[encoded data removed]",
            "text/latex": "$\\displaystyle \\varepsilon_{x} + \\varepsilon_{y} + \\varepsilon_{z}$"
          },
          "metadata": {},
          "execution_count": 3
        }
      ]
    },
    {
      "cell_type": "markdown",
      "source": [
        "Las constantes de Lamé"
      ],
      "metadata": {
        "id": "swLw9vwXxXc_"
      }
    },
    {
      "cell_type": "code",
      "source": [
        "lamb_da = nu*E / ((1+nu) * (1-2*nu))    # eq. 4.15\n",
        "G = E / (2 * (1+nu))                    # eq 4.8\n",
        "\n",
        "lamb_da, G"
      ],
      "metadata": {
        "colab": {
          "base_uri": "https://localhost:8080/",
          "height": 58
        },
        "id": "6rSv46YxxZ3M",
        "outputId": "737c8764-3468-4388-f2b8-7cc72705eedd"
      },
      "execution_count": 4,
      "outputs": [
        {
          "output_type": "execute_result",
          "data": {
            "text/plain": [
              "⎛       E⋅ν            E   ⎞\n",
              "⎜─────────────────, ───────⎟\n",
              "⎝(1 - 2⋅ν)⋅(ν + 1)  2⋅ν + 2⎠"
            ],
            "image/png": "[encoded data removed]",
            "text/latex": "$\\displaystyle \\left( \\frac{E \\nu}{\\left(1 - 2 \\nu\\right) \\left(\\nu + 1\\right)}, \\  \\frac{E}{2 \\nu + 2}\\right)$"
          },
          "metadata": {},
          "execution_count": 4
        }
      ]
    },
    {
      "cell_type": "markdown",
      "source": [
        "Se definen las ecuaciones de Lamé (eq 4.14), recordadno que deben estar igualadas a cero."
      ],
      "metadata": {
        "id": "tnUGwzwWxAHd"
      }
    },
    {
      "cell_type": "code",
      "source": [
        "sx = lamb_da*e + 2*G*ex\n",
        "sy = lamb_da*e + 2*G*ey\n",
        "sz = lamb_da*e + 2*G*ez\n",
        "\n",
        "txy = G*gxy\n",
        "txz = G*gxz\n",
        "tyz = G*gyz"
      ],
      "metadata": {
        "id": "7KLE5xG2w9Hi"
      },
      "execution_count": 5,
      "outputs": []
    },
    {
      "cell_type": "markdown",
      "source": [
        "Se despeja la matriz constitutiva $D$ para el caso isótropo. En MAXIMA se emplea el comando ```coefmatrix```, pero en sympy tenemos ```linear_eq_to_matrix()```."
      ],
      "metadata": {
        "id": "iljSR1wlyALN"
      }
    },
    {
      "cell_type": "code",
      "source": [
        "D = linear_eq_to_matrix([sx, sy, sz, txy, txz, tyz], (ex, ey, ez, gxy, gxz, gyz))\n",
        "D"
      ],
      "metadata": {
        "colab": {
          "base_uri": "https://localhost:8080/",
          "height": 153
        },
        "id": "Ii2vDpNlxz9l",
        "outputId": "cdec0c60-1e10-43f5-ba0a-da06ed710251"
      },
      "execution_count": 6,
      "outputs": [
        {
          "output_type": "execute_result",
          "data": {
            "text/plain": [
              "⎛⎡       E⋅ν            2⋅E                E⋅ν                          E⋅ν   \n",
              "⎜⎢───────────────── + ───────       ─────────────────            ─────────────\n",
              "⎜⎢(1 - 2⋅ν)⋅(ν + 1)   2⋅ν + 2       (1 - 2⋅ν)⋅(ν + 1)            (1 - 2⋅ν)⋅(ν \n",
              "⎜⎢                                                                            \n",
              "⎜⎢            E⋅ν                     E⋅ν            2⋅E                E⋅ν   \n",
              "⎜⎢     ─────────────────       ───────────────── + ───────       ─────────────\n",
              "⎜⎢     (1 - 2⋅ν)⋅(ν + 1)       (1 - 2⋅ν)⋅(ν + 1)   2⋅ν + 2       (1 - 2⋅ν)⋅(ν \n",
              "⎜⎢                                                                            \n",
              "⎜⎢            E⋅ν                          E⋅ν                     E⋅ν        \n",
              "⎜⎢     ─────────────────            ─────────────────       ───────────────── \n",
              "⎜⎢     (1 - 2⋅ν)⋅(ν + 1)            (1 - 2⋅ν)⋅(ν + 1)       (1 - 2⋅ν)⋅(ν + 1) \n",
              "⎜⎢                                                                            \n",
              "⎜⎢                                                                            \n",
              "⎜⎢             0                            0                            0    \n",
              "⎜⎢                                                                            \n",
              "⎜⎢                                                                            \n",
              "⎜⎢                                                                            \n",
              "⎜⎢             0                            0                            0    \n",
              "⎜⎢                                                                            \n",
              "⎜⎢                                                                            \n",
              "⎜⎢                                                                            \n",
              "⎜⎢             0                            0                            0    \n",
              "⎝⎣                                                                            \n",
              "\n",
              "                                    ⎤     ⎞\n",
              "────          0        0        0   ⎥     ⎟\n",
              "+ 1)                                ⎥     ⎟\n",
              "                                    ⎥     ⎟\n",
              "                                    ⎥     ⎟\n",
              "────          0        0        0   ⎥     ⎟\n",
              "+ 1)                                ⎥  ⎡0⎤⎟\n",
              "                                    ⎥  ⎢ ⎥⎟\n",
              "    2⋅E                             ⎥  ⎢0⎥⎟\n",
              "+ ───────     0        0        0   ⎥  ⎢ ⎥⎟\n",
              "  2⋅ν + 2                           ⎥  ⎢0⎥⎟\n",
              "                                    ⎥, ⎢ ⎥⎟\n",
              "              E                     ⎥  ⎢0⎥⎟\n",
              "           ───────     0        0   ⎥  ⎢ ⎥⎟\n",
              "           2⋅ν + 2                  ⎥  ⎢0⎥⎟\n",
              "                                    ⎥  ⎢ ⎥⎟\n",
              "                       E            ⎥  ⎣0⎦⎟\n",
              "              0     ───────     0   ⎥     ⎟\n",
              "                    2⋅ν + 2         ⎥     ⎟\n",
              "                                    ⎥     ⎟\n",
              "                                E   ⎥     ⎟\n",
              "              0        0     ───────⎥     ⎟\n",
              "                             2⋅ν + 2⎦     ⎠"
            ],
            "text/latex": "$\\displaystyle \\left( \\left[\\begin{matrix}\\frac{E \\nu}{\\left(1 - 2 \\nu\\right) \\left(\\nu + 1\\right)} + \\frac{2 E}{2 \\nu + 2} & \\frac{E \\nu}{\\left(1 - 2 \\nu\\right) \\left(\\nu + 1\\right)} & \\frac{E \\nu}{\\left(1 - 2 \\nu\\right) \\left(\\nu + 1\\right)} & 0 & 0 & 0\\\\\\frac{E \\nu}{\\left(1 - 2 \\nu\\right) \\left(\\nu + 1\\right)} & \\frac{E \\nu}{\\left(1 - 2 \\nu\\right) \\left(\\nu + 1\\right)} + \\frac{2 E}{2 \\nu + 2} & \\frac{E \\nu}{\\left(1 - 2 \\nu\\right) \\left(\\nu + 1\\right)} & 0 & 0 & 0\\\\\\frac{E \\nu}{\\left(1 - 2 \\nu\\right) \\left(\\nu + 1\\right)} & \\frac{E \\nu}{\\left(1 - 2 \\nu\\right) \\left(\\nu + 1\\right)} & \\frac{E \\nu}{\\left(1 - 2 \\nu\\right) \\left(\\nu + 1\\right)} + \\frac{2 E}{2 \\nu + 2} & 0 & 0 & 0\\\\0 & 0 & 0 & \\frac{E}{2 \\nu + 2} & 0 & 0\\\\0 & 0 & 0 & 0 & \\frac{E}{2 \\nu + 2} & 0\\\\0 & 0 & 0 & 0 & 0 & \\frac{E}{2 \\nu + 2}\\end{matrix}\\right], \\  \\left[\\begin{matrix}0\\\\0\\\\0\\\\0\\\\0\\\\0\\end{matrix}\\right]\\right)$"
          },
          "metadata": {},
          "execution_count": 6
        }
      ]
    }
  ]
}