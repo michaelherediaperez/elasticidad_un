{
  "cells": [
    {
      "cell_type": "markdown",
      "metadata": {
        "colab_type": "text",
        "id": "view-in-github"
      },
      "source": [
        "<a href=\"https://colab.research.google.com/github/michaelherediaperez/mecanica_de_solidos_un/blob/main/codigos/cap_03/03_04_02_ejemplo.ipynb\" target=\"_parent\"><img src=\"https://colab.research.google.com/assets/colab-badge.svg\" alt=\"Open In Colab\"/></a>"
      ]
    },
    {
      "attachments": {},
      "cell_type": "markdown",
      "metadata": {
        "id": "gB6eDs0dSo3m"
      },
      "source": [
        "# Ejemplo sección 3.4.2. Cambio de base\n",
        "\n",
        "|Quién | Fecha | Qué hizo |\n",
        "| ---  | ---   | ---      |\n",
        "|Michael Heredia Pérez, <mherediap@unal.edu.co> | Julio 16, 2022 | Conversión de código de MAXIMA a Python|\n",
        "|Michael Heredia Pérez, <mherediap@unal.edu.co> | Marzo 30, 2022 | Explicando mejor el procedimiento |"
      ]
    },
    {
      "cell_type": "code",
      "execution_count": 1,
      "metadata": {
        "id": "I1hJ4d7gSknS"
      },
      "outputs": [],
      "source": [
        "import numpy as np                  # Librería para cálculo algebráico."
      ]
    },
    {
      "attachments": {},
      "cell_type": "markdown",
      "metadata": {
        "id": "8LsRLQ7tS5sF"
      },
      "source": [
        "Se define la función vector unitario. El simil de la definción de una función en MAXIMA ```@```, son las funciones ```lambda``` de Python."
      ]
    },
    {
      "cell_type": "code",
      "execution_count": 2,
      "metadata": {
        "id": "jxTc9naKS4lh"
      },
      "outputs": [],
      "source": [
        "vector_unitario = lambda x : x/np.linalg.norm(x)"
      ]
    },
    {
      "attachments": {},
      "cell_type": "markdown",
      "metadata": {
        "id": "zN4UJxj4TVgR"
      },
      "source": [
        "Se calculan las direcciones para los vectores $\\hat{\\boldsymbol{e}}_{1'}$, $\\hat{\\boldsymbol{e}}_{2'}$ y $\\hat{\\boldsymbol{e}}_{3'}$"
      ]
    },
    {
      "cell_type": "code",
      "execution_count": 8,
      "metadata": {
        "id": "Wu3f2jI7TKST"
      },
      "outputs": [],
      "source": [
        "# Identificamos 3 puntos.\n",
        "p_dir_x             = np.array([1, -2,  -3])\n",
        "dir_normal_plano    = np.array([2, 1,  5])\n",
        "origen_coord_xpypzp = np.array([4, 2, -5])\n",
        "\n",
        "# La dirección de e1gp respecto al nuevo sistema de coordenadas se calcula como \n",
        "# la distancia normalizada entre (2, 1, 5) y (4, 2, -5), a.k.a. el nuevo oriden \n",
        "# de coordenadas. \n",
        "e1gp = vector_unitario(p_dir_x - origen_coord_xpypzp)\n",
        "\n",
        "# e3gp está dado respecto a la base xyz, además sale del origen de coordenadas \n",
        "# x'y'z' dado por le punto (4,2,-5), de hecho forman un plano, así que \n",
        "# simplemente se normaliza.\n",
        "e3gp = vector_unitario(dir_normal_plano)\n",
        "\n",
        "# e2gp debe formar junto con e1gp y e3gp un sistema de la mano derecha, por lo \n",
        "# tanto se obtiene como e2gp = e3gp X e1gp\n",
        "e2gp = np.cross(e3gp, e1gp)          "
      ]
    },
    {
      "cell_type": "code",
      "execution_count": 10,
      "metadata": {},
      "outputs": [
        {
          "data": {
            "text/plain": [
              "array([-3, -4,  2])"
            ]
          },
          "execution_count": 10,
          "metadata": {},
          "output_type": "execute_result"
        }
      ],
      "source": [
        "# Verifiquemos qué es este cálculo:\n",
        "p_dir_x - origen_coord_xpypzp"
      ]
    },
    {
      "attachments": {},
      "cell_type": "markdown",
      "metadata": {
        "id": "ijuW2wJJUhYd"
      },
      "source": [
        "Se define la matriz de transformación $T = [\\hat{\\boldsymbol{e}}_{1'}, \\hat{\\boldsymbol{e}}_{2'}, \\hat{\\boldsymbol{e}}_{3'}]$"
      ]
    },
    {
      "cell_type": "code",
      "execution_count": 11,
      "metadata": {
        "colab": {
          "base_uri": "https://localhost:8080/"
        },
        "id": "Ec-XYSA2UFrn",
        "outputId": "769324ec-fc1f-494c-b16b-10f2459e34c9"
      },
      "outputs": [
        {
          "data": {
            "text/plain": [
              "array([[-0.55708601,  0.74586985,  0.36514837],\n",
              "       [-0.74278135, -0.64416033,  0.18257419],\n",
              "       [ 0.37139068, -0.16951588,  0.91287093]])"
            ]
          },
          "execution_count": 11,
          "metadata": {},
          "output_type": "execute_result"
        }
      ],
      "source": [
        "# Recordemos que se forma con los vectores columna, numpy los trabaja como \n",
        "# vectores fila, así que debo trasnponer la matriz.\n",
        "T = np.array([e1gp, e2gp, e3gp]).transpose()    # .T\n",
        "T"
      ]
    },
    {
      "attachments": {},
      "cell_type": "markdown",
      "metadata": {
        "id": "RdqLXAKYVVrN"
      },
      "source": [
        "Sabiendo que la lectura de las galgas es: \n",
        "\\begin{align*}\n",
        "\\varepsilon_A &= 10^{-3}, \\\\\n",
        "\\varepsilon_B &= 2.1\\times10^{-3},\\\\\n",
        "\\varepsilon_C &= -1.7\\times10^{-3},\\\\\n",
        "\\end{align*}\n",
        "se determinan las deformacion es $\\varepsilon_{x'}$, $\\varepsilon_{y'}$ y $\\varepsilon_{x'y'}$ utilizando las ecuaciones (3.26) del ejemplo anterior."
      ]
    },
    {
      "cell_type": "code",
      "execution_count": 12,
      "metadata": {
        "id": "Mwom1GUwUuBZ"
      },
      "outputs": [],
      "source": [
        "# Lectura de las galgas\n",
        "eA =    1e-3  \n",
        "eC = -1.7e-3  \n",
        "eB =  2.1e-3  \n",
        "\n",
        "# Aplicación de las ecuaciones (3.26)\n",
        "e_xp   = eA\n",
        "e_yp   = eC \n",
        "e_xpyp = eB - (eA + eC)/2"
      ]
    },
    {
      "attachments": {},
      "cell_type": "markdown",
      "metadata": {
        "id": "c9bl47_8V1jK"
      },
      "source": [
        "Se define la matriz de deformaciones $\\underline{\\underline{\\boldsymbol{\\varepsilon}}}'$ en $x'$, $y'$, $z'$. Aquí estamos teniendo en cuenta el estado de deformación plana $\\varepsilon_{z'} = \\varepsilon_{x'z'} 0 \\varepsilon_{y'z'} = 0$   "
      ]
    },
    {
      "cell_type": "code",
      "execution_count": 13,
      "metadata": {
        "id": "IvB9b0TkV0oL"
      },
      "outputs": [],
      "source": [
        "epsilonP = np.array([[e_xp,   e_xpyp, 0],\n",
        "                     [e_xpyp,   e_yp, 0],\n",
        "                     [0,           0, 0]])"
      ]
    },
    {
      "attachments": {},
      "cell_type": "markdown",
      "metadata": {
        "id": "7_wZ8slZWbha"
      },
      "source": [
        "Calculamos la matriz de deformaciones $\\underline{\\underline{\\boldsymbol{\\varepsilon}}}$ en el sistema de coordenadas globales $x$, $y$, $z$ mediante la ecuación $$\\underline{\\underline{\\boldsymbol{\\varepsilon}}} = \\boldsymbol{T}\\underline{\\underline{\\boldsymbol{\\varepsilon}}}'\\boldsymbol{T}^T$$"
      ]
    },
    {
      "cell_type": "code",
      "execution_count": 14,
      "metadata": {
        "colab": {
          "base_uri": "https://localhost:8080/"
        },
        "id": "FwgAVDBRWLfq",
        "outputId": "80cb8f4b-5e51-47c1-d658-82186209398a"
      },
      "outputs": [
        {
          "data": {
            "text/plain": [
              "array([[-0.00267142,  0.00075242,  0.00091808],\n",
              "       [ 0.00075242,  0.00219083, -0.00073913],\n",
              "       [ 0.00091808, -0.00073913, -0.00021941]])"
            ]
          },
          "execution_count": 14,
          "metadata": {},
          "output_type": "execute_result"
        }
      ],
      "source": [
        "epsilon = T @ epsilonP @ T.transpose()\n",
        "epsilon"
      ]
    },
    {
      "attachments": {},
      "cell_type": "markdown",
      "metadata": {},
      "source": [
        "Extraemos todas las deformaciones:"
      ]
    },
    {
      "cell_type": "code",
      "execution_count": 21,
      "metadata": {},
      "outputs": [
        {
          "name": "stdout",
          "output_type": "stream",
          "text": [
            "e_x  = -0.002671\n",
            "e_y  = 0.002191\n",
            "e_z  = -0.000219\n",
            "e_xy = 0.000752\n",
            "e_xz = 0.000918\n",
            "e_yz = -0.000739\n"
          ]
        }
      ],
      "source": [
        "# Para ex:\n",
        "print(f\"e_x  = {epsilon[0][0].round(6)}\")\n",
        "print(f\"e_y  = {epsilon[1][1].round(6)}\")\n",
        "print(f\"e_z  = {epsilon[2][2].round(6)}\") \n",
        "print(f\"e_xy = {epsilon[0][1].round(6)}\") \n",
        "print(f\"e_xz = {epsilon[0][2].round(6)}\") \n",
        "print(f\"e_yz = {epsilon[1][2].round(6)}\") \n"
      ]
    },
    {
      "attachments": {},
      "cell_type": "markdown",
      "metadata": {},
      "source": [
        "Observe que en el sistema de coordenadas gloables si existe la deformación longitudinal $\\varepsilon_z$ y sus pares angulares en el plano $\\varepsilon_{xz}$ y $\\varepsilon_{yz}$. "
      ]
    }
  ],
  "metadata": {
    "colab": {
      "authorship_tag": "ABX9TyOTlc8VJU12qI9gmqFC/KHJ",
      "include_colab_link": true,
      "name": "03_04_02_ejemplo.ipynb",
      "provenance": []
    },
    "kernelspec": {
      "display_name": "Python 3",
      "name": "python3"
    },
    "language_info": {
      "codemirror_mode": {
        "name": "ipython",
        "version": 3
      },
      "file_extension": ".py",
      "mimetype": "text/x-python",
      "name": "python",
      "nbconvert_exporter": "python",
      "pygments_lexer": "ipython3",
      "version": "3.10.6"
    }
  },
  "nbformat": 4,
  "nbformat_minor": 0
}
