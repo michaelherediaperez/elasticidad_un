{
  "nbformat": 4,
  "nbformat_minor": 0,
  "metadata": {
    "colab": {
      "name": "03_04_02_ejemplo.ipynb",
      "provenance": [],
      "authorship_tag": "ABX9TyOTlc8VJU12qI9gmqFC/KHJ",
      "include_colab_link": true
    },
    "kernelspec": {
      "name": "python3",
      "display_name": "Python 3"
    },
    "language_info": {
      "name": "python"
    }
  },
  "cells": [
    {
      "cell_type": "markdown",
      "metadata": {
        "id": "view-in-github",
        "colab_type": "text"
      },
      "source": [
        "<a href=\"https://colab.research.google.com/github/michaelherediaperez/mecanica_de_solidos_un/blob/main/codigos/cap_03/03_04_02_ejemplo.ipynb\" target=\"_parent\"><img src=\"https://colab.research.google.com/assets/colab-badge.svg\" alt=\"Open In Colab\"/></a>"
      ]
    },
    {
      "cell_type": "markdown",
      "source": [
        "# Ejemplo sección 3.4.2. Cambio de base\n",
        "\n",
        "|Quién | Fecha | Qué hizo |\n",
        "| ---  | ---   | ---      |\n",
        "|Michael Heredia Pérez, <mherediap@unal.edu.co> | Julio 16, 2022 | Conversión de código de MAXIMA a Python|"
      ],
      "metadata": {
        "id": "gB6eDs0dSo3m"
      }
    },
    {
      "cell_type": "code",
      "execution_count": 1,
      "metadata": {
        "id": "I1hJ4d7gSknS"
      },
      "outputs": [],
      "source": [
        "import numpy as np                  # Librería para cálculo algebráico.\n",
        "np.set_printoptions(suppress=False) # Para tener notación científica"
      ]
    },
    {
      "cell_type": "markdown",
      "source": [
        "Se define la función vector unitario. El simil de la definción de una función en MAXIMA ```@```, son las funciones ```lambda``` de Python"
      ],
      "metadata": {
        "id": "8LsRLQ7tS5sF"
      }
    },
    {
      "cell_type": "code",
      "source": [
        "vector_unitario = lambda x : x/np.linalg.norm(x)"
      ],
      "metadata": {
        "id": "jxTc9naKS4lh"
      },
      "execution_count": 2,
      "outputs": []
    },
    {
      "cell_type": "markdown",
      "source": [
        "Se calculan los vectores $\\hat{e}_1'$, $\\hat{e}_2'$, $\\hat{e}_3'$."
      ],
      "metadata": {
        "id": "zN4UJxj4TVgR"
      }
    },
    {
      "cell_type": "code",
      "source": [
        "e1gp = vector_unitario([-3, -4, 2])\n",
        "e3gp = vector_unitario([ 2,  1, 5])\n",
        "\n",
        "# Producto cruz e2gp = e3gp X e1gp\n",
        "e2gp = np.cross(e3gp, e1gp)          "
      ],
      "metadata": {
        "id": "Wu3f2jI7TKST"
      },
      "execution_count": 3,
      "outputs": []
    },
    {
      "cell_type": "markdown",
      "source": [
        "Se define la matriz de transformación $T$"
      ],
      "metadata": {
        "id": "ijuW2wJJUhYd"
      }
    },
    {
      "cell_type": "code",
      "source": [
        "# Recordemos que se forma con los vectores columna, numpy los trabaja como \n",
        "# vectores fila, así que debo trasnponer la matriz.\n",
        "T = np.array([e1gp, e2gp, e3gp ]).transpose()\n",
        "T"
      ],
      "metadata": {
        "colab": {
          "base_uri": "https://localhost:8080/"
        },
        "id": "Ec-XYSA2UFrn",
        "outputId": "769324ec-fc1f-494c-b16b-10f2459e34c9"
      },
      "execution_count": 4,
      "outputs": [
        {
          "output_type": "execute_result",
          "data": {
            "text/plain": [
              "array([[-0.55708601,  0.74586985,  0.36514837],\n",
              "       [-0.74278135, -0.64416033,  0.18257419],\n",
              "       [ 0.37139068, -0.16951588,  0.91287093]])"
            ]
          },
          "metadata": {},
          "execution_count": 4
        }
      ]
    },
    {
      "cell_type": "markdown",
      "source": [
        "Se determinan las deformacion es $\\varepsilon_x'$, $\\varepsilon_y'$ y $\\varepsilon_{x'y'}$ a partir de la lectura de las galgas, utilizando la ecuación (3.26)"
      ],
      "metadata": {
        "id": "RdqLXAKYVVrN"
      }
    },
    {
      "cell_type": "code",
      "source": [
        "eA =    1e-3;  e_xp   = eA\n",
        "eC = -1.7e-3;  e_yp   = eC \n",
        "eB =  2.1e-3;  e_xpyp = eB - (eA + eC)/2"
      ],
      "metadata": {
        "id": "Mwom1GUwUuBZ"
      },
      "execution_count": 5,
      "outputs": []
    },
    {
      "cell_type": "markdown",
      "source": [
        "Se define la matriz de deformaciones en $x'$, $y'$, $z'$"
      ],
      "metadata": {
        "id": "c9bl47_8V1jK"
      }
    },
    {
      "cell_type": "code",
      "source": [
        "epsilonP = np.array([[e_xp,   e_xpyp, 0],\n",
        "                     [e_xpyp,   e_yp, 0],\n",
        "                     [0,           0, 0]])"
      ],
      "metadata": {
        "id": "IvB9b0TkV0oL"
      },
      "execution_count": 6,
      "outputs": []
    },
    {
      "cell_type": "markdown",
      "source": [
        "Se define la matriz de deformaciones en $x$, $y$, $z$"
      ],
      "metadata": {
        "id": "7_wZ8slZWbha"
      }
    },
    {
      "cell_type": "code",
      "source": [
        "epsilon = T @ epsilonP @ T.transpose()\n",
        "epsilon"
      ],
      "metadata": {
        "colab": {
          "base_uri": "https://localhost:8080/"
        },
        "id": "FwgAVDBRWLfq",
        "outputId": "80cb8f4b-5e51-47c1-d658-82186209398a"
      },
      "execution_count": 7,
      "outputs": [
        {
          "output_type": "execute_result",
          "data": {
            "text/plain": [
              "array([[-0.00267142,  0.00075242,  0.00091808],\n",
              "       [ 0.00075242,  0.00219083, -0.00073913],\n",
              "       [ 0.00091808, -0.00073913, -0.00021941]])"
            ]
          },
          "metadata": {},
          "execution_count": 7
        }
      ]
    }
  ]
}