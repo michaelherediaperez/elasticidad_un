{
  "nbformat": 4,
  "nbformat_minor": 0,
  "metadata": {
    "colab": {
      "name": "03_04_03_ejemplo.ipynb",
      "provenance": [],
      "authorship_tag": "ABX9TyN4zSI0JyFdrUTzhkfJa/zT",
      "include_colab_link": true
    },
    "kernelspec": {
      "name": "python3",
      "display_name": "Python 3"
    },
    "language_info": {
      "name": "python"
    }
  },
  "cells": [
    {
      "cell_type": "markdown",
      "metadata": {
        "id": "view-in-github",
        "colab_type": "text"
      },
      "source": [
        "<a href=\"https://colab.research.google.com/github/michaelherediaperez/mecanica_de_solidos_un/blob/main/codigos/cap_03/03_04_03_ejemplo.ipynb\" target=\"_parent\"><img src=\"https://colab.research.google.com/assets/colab-badge.svg\" alt=\"Open In Colab\"/></a>"
      ]
    },
    {
      "cell_type": "markdown",
      "source": [
        "# Ejemplo sección 3.4.3. más de tres galgas extensométricas\n",
        "\n",
        "|Quién | Fecha | Qué hizo |\n",
        "| ---  | ---   | ---      |\n",
        "|Michael Heredia Pérez, <mherediap@unal.edu.co> | Julio 16, 2022 | Conversión de código de MATLAB a Python|"
      ],
      "metadata": {
        "id": "VlnNs5PegMvl"
      }
    },
    {
      "cell_type": "code",
      "execution_count": 1,
      "metadata": {
        "id": "gvxU-S0MgH-Z"
      },
      "outputs": [],
      "source": [
        "import numpy as np                  # Librería para cálculo algebráico.\n",
        "np.set_printoptions(suppress=False) # Para tener notación científica"
      ]
    },
    {
      "cell_type": "code",
      "source": [
        "eA =  3.0012e-4; tA = 0\n",
        "eB =  3.4521e-4; tB = 72\n",
        "eC =  1.4935e-3; tC = 144\n",
        "eD = -4.0924e-4; tD = 216\n",
        "eE =  1.5207e-3; tE = 288"
      ],
      "metadata": {
        "id": "hfdkKdmCgYaJ"
      },
      "execution_count": 2,
      "outputs": []
    },
    {
      "cell_type": "markdown",
      "source": [
        "En Python no tenemos la función ```cosd()``` ni ```sind()```, las cuales calculan cosenos y senos, respectivamente, con el argumento en grados (*degrees*), podríamos usar la función ```np.deg2rad()``` para convertir de grados a radianes y hacer el cálculo, o construir las funciones simplemente:"
      ],
      "metadata": {
        "id": "CZYQt8kwhn3v"
      }
    },
    {
      "cell_type": "code",
      "source": [
        "cosd = lambda x : np.cos(np.deg2rad(x)) # Calcula el coseo de ángulos en grados.\n",
        "sind = lambda x : np.sin(np.deg2rad(x)) # Calcula el seno de ángulos en grados."
      ],
      "metadata": {
        "id": "RtbtAoGch_Fv"
      },
      "execution_count": 3,
      "outputs": []
    },
    {
      "cell_type": "code",
      "source": [
        "A = np.array([[ cosd(tA)**2, sind(tA)**2, sind(2*tA) ],\n",
        "              [ cosd(tB)**2, sind(tB)**2, sind(2*tB) ],\n",
        "              [ cosd(tC)**2, sind(tC)**2, sind(2*tC) ],\n",
        "              [ cosd(tD)**2, sind(tD)**2, sind(2*tD) ],\n",
        "              [ cosd(tE)**2, sind(tE)**2, sind(2*tE) ]])"
      ],
      "metadata": {
        "id": "pvPPByaOgs25"
      },
      "execution_count": 4,
      "outputs": []
    },
    {
      "cell_type": "code",
      "source": [
        "b = np.array([eA, eB, eC, eD, eE])"
      ],
      "metadata": {
        "id": "SZvgItfzhPj5"
      },
      "execution_count": 5,
      "outputs": []
    },
    {
      "cell_type": "markdown",
      "source": [
        "Efectuando la ecuación (3.27). En Python, otra forma de efectuar la inversa de una matriz algebráicamente es con el comando ```.T```, en ejemplos anteriores no se ha utilizado para no confundirse con la matriz de transformación $T$. "
      ],
      "metadata": {
        "id": "g1YinQc-uHDE"
      }
    },
    {
      "cell_type": "code",
      "source": [
        "x1 = (np.linalg.inv(A.T@A) @ A.T) @ b\n",
        "x1"
      ],
      "metadata": {
        "colab": {
          "base_uri": "https://localhost:8080/"
        },
        "id": "bdOHm_rCuAUL",
        "outputId": "ed741ac5-e1a5-42fb-f0bb-73a4186da0a7"
      },
      "execution_count": 6,
      "outputs": [
        {
          "output_type": "execute_result",
          "data": {
            "text/plain": [
              "array([ 0.00030031,  0.00099981, -0.00100022])"
            ]
          },
          "metadata": {},
          "execution_count": 6
        }
      ]
    },
    {
      "cell_type": "markdown",
      "source": [
        "Lo anterior es equivalente la función ```numpy.linalg.pinv()```"
      ],
      "metadata": {
        "id": "i1Cl75F_u7SL"
      }
    },
    {
      "cell_type": "code",
      "source": [
        "x2 = np.linalg.pinv(A) @ b\n",
        "x2"
      ],
      "metadata": {
        "colab": {
          "base_uri": "https://localhost:8080/"
        },
        "id": "yMRJAj_FuREv",
        "outputId": "fd54343c-8980-4cdb-c83d-755f04b510fa"
      },
      "execution_count": 7,
      "outputs": [
        {
          "output_type": "execute_result",
          "data": {
            "text/plain": [
              "array([ 0.00030031,  0.00099981, -0.00100022])"
            ]
          },
          "metadata": {},
          "execution_count": 7
        }
      ]
    },
    {
      "cell_type": "markdown",
      "source": [
        "En Python, no es posible realizar la operación con ```/``` si las dimensiones no son congruentes, como podemos ver aquí:"
      ],
      "metadata": {
        "id": "TRPfUEwvvPnP"
      }
    },
    {
      "cell_type": "code",
      "source": [
        "x3 = A/b\n",
        "x3"
      ],
      "metadata": {
        "colab": {
          "base_uri": "https://localhost:8080/",
          "height": 190
        },
        "id": "V1LGBU-zvM6m",
        "outputId": "22491280-e5e4-4704-8693-adf7c182eec6"
      },
      "execution_count": 8,
      "outputs": [
        {
          "output_type": "error",
          "ename": "ValueError",
          "evalue": "ignored",
          "traceback": [
            "\u001b[0;31m---------------------------------------------------------------------------\u001b[0m",
            "\u001b[0;31mValueError\u001b[0m                                Traceback (most recent call last)",
            "\u001b[0;32m<ipython-input-8-a9b7e9d52d74>\u001b[0m in \u001b[0;36m<module>\u001b[0;34m()\u001b[0m\n\u001b[0;32m----> 1\u001b[0;31m \u001b[0mx3\u001b[0m \u001b[0;34m=\u001b[0m \u001b[0mA\u001b[0m\u001b[0;34m/\u001b[0m\u001b[0mb\u001b[0m\u001b[0;34m\u001b[0m\u001b[0;34m\u001b[0m\u001b[0m\n\u001b[0m\u001b[1;32m      2\u001b[0m \u001b[0mx3\u001b[0m\u001b[0;34m\u001b[0m\u001b[0;34m\u001b[0m\u001b[0m\n",
            "\u001b[0;31mValueError\u001b[0m: operands could not be broadcast together with shapes (5,3) (5,) "
          ]
        }
      ]
    },
    {
      "cell_type": "markdown",
      "source": [
        "En Pytho el comando ```\\``` está reservado para hacer comandos, lo que nos daría el siguiente error:"
      ],
      "metadata": {
        "id": "MVq_nTeqvuo9"
      }
    },
    {
      "cell_type": "code",
      "source": [
        "x4 = A\\b\n",
        "x4"
      ],
      "metadata": {
        "colab": {
          "base_uri": "https://localhost:8080/",
          "height": 135
        },
        "id": "ydrVW_U2v0X9",
        "outputId": "00c70321-0105-4ff6-b5ba-bfcf1fffbe84"
      },
      "execution_count": 9,
      "outputs": [
        {
          "output_type": "error",
          "ename": "SyntaxError",
          "evalue": "ignored",
          "traceback": [
            "\u001b[0;36m  File \u001b[0;32m\"<ipython-input-9-faf9b787f3dc>\"\u001b[0;36m, line \u001b[0;32m1\u001b[0m\n\u001b[0;31m    x4 = A\\b\u001b[0m\n\u001b[0m            ^\u001b[0m\n\u001b[0;31mSyntaxError\u001b[0m\u001b[0;31m:\u001b[0m unexpected character after line continuation character\n"
          ]
        }
      ]
    }
  ]
}