{
  "cells": [
    {
      "cell_type": "markdown",
      "metadata": {
        "colab_type": "text",
        "id": "view-in-github"
      },
      "source": [
        "<a href=\"https://colab.research.google.com/github/michaelherediaperez/mecanica_de_solidos_un/blob/main/codigos/cap_03/03_04_03_ejemplo.ipynb\" target=\"_parent\"><img src=\"https://colab.research.google.com/assets/colab-badge.svg\" alt=\"Open In Colab\"/></a>"
      ]
    },
    {
      "cell_type": "markdown",
      "metadata": {
        "id": "VlnNs5PegMvl"
      },
      "source": [
        "# Ejemplo sección 3.4.3. más de tres galgas extensométricas\n",
        "\n",
        "|Quién | Fecha | Qué hizo |\n",
        "| ---  | ---   | ---      |\n",
        "|Michael Heredia Pérez, <mherediap@unal.edu.co> | Julio 16, 2022 | Conversión de código de MATLAB a Python|"
      ]
    },
    {
      "cell_type": "code",
      "execution_count": 1,
      "metadata": {
        "id": "gvxU-S0MgH-Z"
      },
      "outputs": [],
      "source": [
        "import numpy as np                  # Librería para cálculo algebráico.\n",
        "np.set_printoptions(suppress=False) # Para tener notación científica"
      ]
    },
    {
      "cell_type": "code",
      "execution_count": 2,
      "metadata": {
        "id": "hfdkKdmCgYaJ"
      },
      "outputs": [],
      "source": [
        "eA =  3.0012e-4; tA = 0\n",
        "eB =  3.4521e-4; tB = 72\n",
        "eC =  1.4935e-3; tC = 144\n",
        "eD = -4.0924e-4; tD = 216\n",
        "eE =  1.5207e-3; tE = 288"
      ]
    },
    {
      "cell_type": "markdown",
      "metadata": {
        "id": "CZYQt8kwhn3v"
      },
      "source": [
        "En Python no tenemos la función ```cosd()``` ni ```sind()```, las cuales calculan cosenos y senos, respectivamente, con el argumento en grados (*degrees*), podríamos usar la función ```np.deg2rad()``` para convertir de grados a radianes y hacer el cálculo, o construir las funciones simplemente:"
      ]
    },
    {
      "cell_type": "code",
      "execution_count": 3,
      "metadata": {
        "id": "RtbtAoGch_Fv"
      },
      "outputs": [],
      "source": [
        "cosd = lambda x : np.cos(np.deg2rad(x)) # Calcula el coseo de ángulos en grados.\n",
        "sind = lambda x : np.sin(np.deg2rad(x)) # Calcula el seno de ángulos en grados."
      ]
    },
    {
      "cell_type": "code",
      "execution_count": 4,
      "metadata": {
        "id": "pvPPByaOgs25"
      },
      "outputs": [],
      "source": [
        "A = np.array([[ cosd(tA)**2, sind(tA)**2, sind(2*tA) ],\n",
        "              [ cosd(tB)**2, sind(tB)**2, sind(2*tB) ],\n",
        "              [ cosd(tC)**2, sind(tC)**2, sind(2*tC) ],\n",
        "              [ cosd(tD)**2, sind(tD)**2, sind(2*tD) ],\n",
        "              [ cosd(tE)**2, sind(tE)**2, sind(2*tE) ]])"
      ]
    },
    {
      "cell_type": "code",
      "execution_count": 5,
      "metadata": {
        "id": "SZvgItfzhPj5"
      },
      "outputs": [],
      "source": [
        "b = np.array([eA, eB, eC, eD, eE])"
      ]
    },
    {
      "cell_type": "markdown",
      "metadata": {
        "id": "g1YinQc-uHDE"
      },
      "source": [
        "Efectuando la ecuación (3.27). En Python, otra forma de efectuar la inversa de una matriz algebráicamente es con el comando ```.T```, en ejemplos anteriores no se ha utilizado para no confundirse con la matriz de transformación $T$. "
      ]
    },
    {
      "cell_type": "code",
      "execution_count": 6,
      "metadata": {
        "colab": {
          "base_uri": "https://localhost:8080/"
        },
        "id": "bdOHm_rCuAUL",
        "outputId": "ed741ac5-e1a5-42fb-f0bb-73a4186da0a7"
      },
      "outputs": [
        {
          "data": {
            "text/plain": [
              "array([ 0.00030031,  0.00099981, -0.00100022])"
            ]
          },
          "execution_count": 6,
          "metadata": {},
          "output_type": "execute_result"
        }
      ],
      "source": [
        "x1 = (np.linalg.inv(A.T@A) @ A.T) @ b\n",
        "x1"
      ]
    },
    {
      "cell_type": "markdown",
      "metadata": {
        "id": "i1Cl75F_u7SL"
      },
      "source": [
        "Lo anterior es equivalente la función ```numpy.linalg.pinv()```"
      ]
    },
    {
      "cell_type": "code",
      "execution_count": 7,
      "metadata": {
        "colab": {
          "base_uri": "https://localhost:8080/"
        },
        "id": "yMRJAj_FuREv",
        "outputId": "fd54343c-8980-4cdb-c83d-755f04b510fa"
      },
      "outputs": [
        {
          "data": {
            "text/plain": [
              "array([ 0.00030031,  0.00099981, -0.00100022])"
            ]
          },
          "execution_count": 7,
          "metadata": {},
          "output_type": "execute_result"
        }
      ],
      "source": [
        "x2 = np.linalg.pinv(A) @ b\n",
        "x2"
      ]
    },
    {
      "cell_type": "markdown",
      "metadata": {
        "id": "TRPfUEwvvPnP"
      },
      "source": [
        "En Python, no es posible realizar la operación con ```/``` si las dimensiones no son congruentes, como podemos ver aquí:"
      ]
    },
    {
      "cell_type": "code",
      "execution_count": 8,
      "metadata": {
        "colab": {
          "base_uri": "https://localhost:8080/",
          "height": 190
        },
        "id": "V1LGBU-zvM6m",
        "outputId": "22491280-e5e4-4704-8693-adf7c182eec6"
      },
      "outputs": [
        {
          "ename": "ValueError",
          "evalue": "ignored",
          "output_type": "error",
          "traceback": [
            "\u001b[0;31m---------------------------------------------------------------------------\u001b[0m",
            "\u001b[0;31mValueError\u001b[0m                                Traceback (most recent call last)",
            "\u001b[0;32m<ipython-input-8-a9b7e9d52d74>\u001b[0m in \u001b[0;36m<module>\u001b[0;34m()\u001b[0m\n\u001b[0;32m----> 1\u001b[0;31m \u001b[0mx3\u001b[0m \u001b[0;34m=\u001b[0m \u001b[0mA\u001b[0m\u001b[0;34m/\u001b[0m\u001b[0mb\u001b[0m\u001b[0;34m\u001b[0m\u001b[0;34m\u001b[0m\u001b[0m\n\u001b[0m\u001b[1;32m      2\u001b[0m \u001b[0mx3\u001b[0m\u001b[0;34m\u001b[0m\u001b[0;34m\u001b[0m\u001b[0m\n",
            "\u001b[0;31mValueError\u001b[0m: operands could not be broadcast together with shapes (5,3) (5,) "
          ]
        }
      ],
      "source": [
        "x3 = A/b\n",
        "x3"
      ]
    },
    {
      "cell_type": "markdown",
      "metadata": {
        "id": "MVq_nTeqvuo9"
      },
      "source": [
        "En Python el comando ```\\``` está reservado para hacer secuencias de escape, lo que nos daría el siguiente error:"
      ]
    },
    {
      "cell_type": "code",
      "execution_count": 9,
      "metadata": {
        "colab": {
          "base_uri": "https://localhost:8080/",
          "height": 135
        },
        "id": "ydrVW_U2v0X9",
        "outputId": "00c70321-0105-4ff6-b5ba-bfcf1fffbe84"
      },
      "outputs": [
        {
          "ename": "SyntaxError",
          "evalue": "ignored",
          "output_type": "error",
          "traceback": [
            "\u001b[0;36m  File \u001b[0;32m\"<ipython-input-9-faf9b787f3dc>\"\u001b[0;36m, line \u001b[0;32m1\u001b[0m\n\u001b[0;31m    x4 = A\\b\u001b[0m\n\u001b[0m            ^\u001b[0m\n\u001b[0;31mSyntaxError\u001b[0m\u001b[0;31m:\u001b[0m unexpected character after line continuation character\n"
          ]
        }
      ],
      "source": [
        "x4 = A\\b\n",
        "x4"
      ]
    }
  ],
  "metadata": {
    "colab": {
      "authorship_tag": "ABX9TyN4zSI0JyFdrUTzhkfJa/zT",
      "include_colab_link": true,
      "name": "03_04_03_ejemplo.ipynb",
      "provenance": []
    },
    "kernelspec": {
      "display_name": "Python 3",
      "name": "python3"
    },
    "language_info": {
      "name": "python"
    }
  },
  "nbformat": 4,
  "nbformat_minor": 0
}
