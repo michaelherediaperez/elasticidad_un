{
  "nbformat": 4,
  "nbformat_minor": 0,
  "metadata": {
    "colab": {
      "name": "03_07_02_ejercicio.ipynb",
      "provenance": [],
      "authorship_tag": "ABX9TyPorVOhVgwMo5Xr1wBHfLvW",
      "include_colab_link": true
    },
    "kernelspec": {
      "name": "python3",
      "display_name": "Python 3"
    },
    "language_info": {
      "name": "python"
    }
  },
  "cells": [
    {
      "cell_type": "markdown",
      "metadata": {
        "id": "view-in-github",
        "colab_type": "text"
      },
      "source": [
        "<a href=\"https://colab.research.google.com/github/michaelherediaperez/mecanica_de_solidos_un/blob/main/codigos/cap_03/03_07_02_ejercicio.ipynb\" target=\"_parent\"><img src=\"https://colab.research.google.com/assets/colab-badge.svg\" alt=\"Open In Colab\"/></a>"
      ]
    },
    {
      "cell_type": "markdown",
      "source": [
        "# 3.7.2. Ejercicio propuesto\n",
        "\n",
        "|Quién | Fecha | Qué hizo |\n",
        "| ---  | ---   | ---      |\n",
        "|Michael Heredia Pérez, <mherediap@unal.edu.co> | Julio 16, 2022 | Conversión de código de MAXIMA a Python|"
      ],
      "metadata": {
        "id": "5_04qP1JyeAw"
      }
    },
    {
      "cell_type": "code",
      "execution_count": 1,
      "metadata": {
        "id": "KVON2B-1yb7o"
      },
      "outputs": [],
      "source": [
        "import sympy as sp  # Librería para cálculo simbólico.\n",
        "\n",
        "# Para imprimir bonito.\n",
        "sp.init_printing() "
      ]
    },
    {
      "cell_type": "markdown",
      "source": [
        "Se definen las variables simbólicas necesarias. Se emplea la notación de $\\LaTeX$.\n",
        "\n",
        "En MAXIMA, se especifica la dependiencia funcional mediante el comando ```depends```. En sympy se hace mediante un argumento en el comando para defnir símbolos: ```cls=sympy.Function``` y luego la función, como sigue a continuación:"
      ],
      "metadata": {
        "id": "pTopsxc1y5FZ"
      }
    },
    {
      "cell_type": "code",
      "source": [
        "x, y = sp.symbols(\"x, y\")\n",
        "u, v = sp.symbols(\"u, v\", cls=sp.Function)\n",
        "u = u(x, y)\n",
        "v = v(x, y)"
      ],
      "metadata": {
        "id": "kATkaN-Uy4jz"
      },
      "execution_count": 2,
      "outputs": []
    },
    {
      "cell_type": "markdown",
      "source": [
        "Podemos ver cómo sympy entiende a $u$ (```u```), por ejemplo:\n"
      ],
      "metadata": {
        "id": "ulfN-T92mExa"
      }
    },
    {
      "cell_type": "code",
      "source": [
        "u"
      ],
      "metadata": {
        "colab": {
          "base_uri": "https://localhost:8080/",
          "height": 38
        },
        "id": "OX4vJN84mJ13",
        "outputId": "9df4a1f2-fadc-4fb6-af46-ab0c1e0de71c"
      },
      "execution_count": 3,
      "outputs": [
        {
          "output_type": "execute_result",
          "data": {
            "text/plain": [
              "u(x, y)"
            ],
            "image/png": "[encoded data removed]",
            "text/latex": "$\\displaystyle u{\\left(x,y \\right)}$"
          },
          "metadata": {},
          "execution_count": 3
        }
      ]
    },
    {
      "cell_type": "markdown",
      "source": [
        "Ahora especificamos las siguientes derivadas: $\\varepsilon_x = \\frac{du}{dx}$ y $\\varepsilon_y = \\frac{dv}{dy}$ "
      ],
      "metadata": {
        "id": "0bWKi67ElRW0"
      }
    },
    {
      "cell_type": "code",
      "source": [
        "ex = sp.diff(u, x)\n",
        "ey = sp.diff(v, y)"
      ],
      "metadata": {
        "id": "zmf9XAZik1lc"
      },
      "execution_count": 4,
      "outputs": []
    },
    {
      "cell_type": "markdown",
      "source": [
        "Podemos ver cómo sympy entiende a $\\varepsilon_x$ (```ex```), por ejemplo:\n"
      ],
      "metadata": {
        "id": "tP4uaQNOmM-9"
      }
    },
    {
      "cell_type": "code",
      "source": [
        "ex"
      ],
      "metadata": {
        "colab": {
          "base_uri": "https://localhost:8080/",
          "height": 52
        },
        "id": "Hgb1_F0amWTm",
        "outputId": "0c638d2b-4a54-46c1-f9a0-df3f3c8ee388"
      },
      "execution_count": 5,
      "outputs": [
        {
          "output_type": "execute_result",
          "data": {
            "text/plain": [
              "∂          \n",
              "──(u(x, y))\n",
              "∂x         "
            ],
            "image/png": "[encoded data removed]",
            "text/latex": "$\\displaystyle \\frac{\\partial}{\\partial x} u{\\left(x,y \\right)}$"
          },
          "metadata": {},
          "execution_count": 5
        }
      ]
    },
    {
      "cell_type": "markdown",
      "source": [
        "Se definen los diferenciales $dx$ y $dy$ en función de $ds$ y el ángulo $\\theta$:"
      ],
      "metadata": {
        "id": "nqOsKz-umCGM"
      }
    },
    {
      "cell_type": "code",
      "source": [
        "ds, t, = sp.symbols(r\"ds, \\theta\")\n",
        "\n",
        "dx = ds*sp.cos(t)\n",
        "dy = ds*sp.sin(t)"
      ],
      "metadata": {
        "id": "gNJF7cztl_bw"
      },
      "execution_count": 6,
      "outputs": []
    },
    {
      "cell_type": "markdown",
      "source": [
        "Se definen las coordenadas de los puntos"
      ],
      "metadata": {
        "id": "cP_rDr_bm48e"
      }
    },
    {
      "cell_type": "code",
      "source": [
        "# No es necesario escribir u(x,y) porque internamente ya se entiende.\n",
        "Apx = x + u \n",
        "Apy = y + v\n",
        "Cpx = x + dx + u + sp.diff(u, x)*dx + sp.diff(u, y)*dy\n",
        "Cpy = y + dy + v + sp.diff(v, x)*dx + sp.diff(v, y)*dy"
      ],
      "metadata": {
        "id": "Xd9ZUnocmxEo"
      },
      "execution_count": 7,
      "outputs": []
    },
    {
      "cell_type": "markdown",
      "source": [
        "Se sacan las proyecciones de $\\overline{A'C'}$ en los ejes $x$ y $y$:"
      ],
      "metadata": {
        "id": "X_Asp6i7nwCW"
      }
    },
    {
      "cell_type": "code",
      "source": [
        "ApCp_x = Cpx - Apx\n",
        "ApCp_y = Cpy - Apy"
      ],
      "metadata": {
        "id": "j-NM_XJrm-ub"
      },
      "execution_count": 8,
      "outputs": []
    },
    {
      "cell_type": "markdown",
      "source": [
        "La deformación longitudinal $\\varepsilon_x'(\\theta)$ es igual a $\\varepsilon_s$"
      ],
      "metadata": {
        "id": "G0-8vRqgoQHB"
      }
    },
    {
      "cell_type": "code",
      "source": [
        "# defino simbólicamente es.\n",
        "es = sp.symbols(r\"\\varepsilon_s\")\n",
        "\n",
        "# guardo la ecuación en una variable (mejor lectura).\n",
        "eq = ((1+es)*ds)**2 - ApCp_x**2 - ApCp_y**2\n",
        "\n",
        "# resuelvo.\n",
        "es_resultado = sp.solve( eq, es)[0]"
      ],
      "metadata": {
        "id": "_K-kej0uoO-s"
      },
      "execution_count": 9,
      "outputs": []
    },
    {
      "cell_type": "code",
      "source": [
        "sp.simplify( es_resultado**2 )"
      ],
      "metadata": {
        "colab": {
          "base_uri": "https://localhost:8080/",
          "height": 109
        },
        "id": "oNNq_NN5pLEP",
        "outputId": "b9eb7b37-2a97-4646-88cf-db6b829c879e"
      },
      "execution_count": 10,
      "outputs": [
        {
          "output_type": "execute_result",
          "data": {
            "text/plain": [
              "                                                                              \n",
              "⎛        _____________________________________________________________________\n",
              "⎜       ╱                                                                     \n",
              "⎜      ╱                  ∂           ∂                             ∂         \n",
              "⎜√2⋅  ╱   2⋅sin(2⋅\\theta)⋅──(u(x, y))⋅──(u(x, y)) + 2⋅sin(2⋅\\theta)⋅──(u(x, y)\n",
              "⎝   ╲╱                    ∂x          ∂y                            ∂y        \n",
              "──────────────────────────────────────────────────────────────────────────────\n",
              "                                                                              \n",
              "\n",
              "                                                                              \n",
              "______________________________________________________________________________\n",
              "                                                                              \n",
              "                    ∂           ∂                             ∂               \n",
              ") + 2⋅sin(2⋅\\theta)⋅──(v(x, y))⋅──(v(x, y)) + 2⋅sin(2⋅\\theta)⋅──(v(x, y)) + co\n",
              "                    ∂x          ∂y                            ∂x              \n",
              "──────────────────────────────────────────────────────────────────────────────\n",
              "                                                                              \n",
              "\n",
              "                                                                              \n",
              "______________________________________________________________________________\n",
              "                         2                                                    \n",
              "            ⎛∂          ⎞                    ∂                           ⎛∂   \n",
              "s(2⋅\\theta)⋅⎜──(u(x, y))⎟  + 2⋅cos(2⋅\\theta)⋅──(u(x, y)) - cos(2⋅\\theta)⋅⎜──(u\n",
              "            ⎝∂x         ⎠                    ∂x                          ⎝∂y  \n",
              "──────────────────────────────────────────────────────────────────────────────\n",
              "                                                                  4           \n",
              "\n",
              "                                                                              \n",
              "______________________________________________________________________________\n",
              "        2                              2                              2       \n",
              "       ⎞                  ⎛∂          ⎞                  ⎛∂          ⎞        \n",
              "(x, y))⎟  + cos(2⋅\\theta)⋅⎜──(v(x, y))⎟  - cos(2⋅\\theta)⋅⎜──(v(x, y))⎟  - 2⋅co\n",
              "       ⎠                  ⎝∂x         ⎠                  ⎝∂y         ⎠        \n",
              "──────────────────────────────────────────────────────────────────────────────\n",
              "                                                                              \n",
              "\n",
              "                                                                              \n",
              "______________________________________________________________________________\n",
              "                                       2                                2     \n",
              "            ∂             ⎛∂          ⎞      ∂             ⎛∂          ⎞    ⎛∂\n",
              "s(2⋅\\theta)⋅──(v(x, y)) + ⎜──(u(x, y))⎟  + 2⋅──(u(x, y)) + ⎜──(u(x, y))⎟  + ⎜─\n",
              "            ∂y            ⎝∂x         ⎠      ∂x            ⎝∂y         ⎠    ⎝∂\n",
              "──────────────────────────────────────────────────────────────────────────────\n",
              "                                                                              \n",
              "\n",
              "                                                       2\n",
              "__________________________________________________    ⎞ \n",
              "           2                2                         ⎟ \n",
              "          ⎞    ⎛∂          ⎞      ∂                   ⎟ \n",
              "─(v(x, y))⎟  + ⎜──(v(x, y))⎟  + 2⋅──(v(x, y)) + 2  + 2⎟ \n",
              "x         ⎠    ⎝∂y         ⎠      ∂y                  ⎠ \n",
              "────────────────────────────────────────────────────────\n",
              "                                                        "
            ],
            "image/png": "[encoded data removed]",
            "text/latex": "$\\displaystyle \\frac{\\left(\\sqrt{2} \\sqrt{2 \\sin{\\left(2 \\theta \\right)} \\frac{\\partial}{\\partial x} u{\\left(x,y \\right)} \\frac{\\partial}{\\partial y} u{\\left(x,y \\right)} + 2 \\sin{\\left(2 \\theta \\right)} \\frac{\\partial}{\\partial y} u{\\left(x,y \\right)} + 2 \\sin{\\left(2 \\theta \\right)} \\frac{\\partial}{\\partial x} v{\\left(x,y \\right)} \\frac{\\partial}{\\partial y} v{\\left(x,y \\right)} + 2 \\sin{\\left(2 \\theta \\right)} \\frac{\\partial}{\\partial x} v{\\left(x,y \\right)} + \\cos{\\left(2 \\theta \\right)} \\left(\\frac{\\partial}{\\partial x} u{\\left(x,y \\right)}\\right)^{2} + 2 \\cos{\\left(2 \\theta \\right)} \\frac{\\partial}{\\partial x} u{\\left(x,y \\right)} - \\cos{\\left(2 \\theta \\right)} \\left(\\frac{\\partial}{\\partial y} u{\\left(x,y \\right)}\\right)^{2} + \\cos{\\left(2 \\theta \\right)} \\left(\\frac{\\partial}{\\partial x} v{\\left(x,y \\right)}\\right)^{2} - \\cos{\\left(2 \\theta \\right)} \\left(\\frac{\\partial}{\\partial y} v{\\left(x,y \\right)}\\right)^{2} - 2 \\cos{\\left(2 \\theta \\right)} \\frac{\\partial}{\\partial y} v{\\left(x,y \\right)} + \\left(\\frac{\\partial}{\\partial x} u{\\left(x,y \\right)}\\right)^{2} + 2 \\frac{\\partial}{\\partial x} u{\\left(x,y \\right)} + \\left(\\frac{\\partial}{\\partial y} u{\\left(x,y \\right)}\\right)^{2} + \\left(\\frac{\\partial}{\\partial x} v{\\left(x,y \\right)}\\right)^{2} + \\left(\\frac{\\partial}{\\partial y} v{\\left(x,y \\right)}\\right)^{2} + 2 \\frac{\\partial}{\\partial y} v{\\left(x,y \\right)} + 2} + 2\\right)^{2}}{4}$"
          },
          "metadata": {},
          "execution_count": 10
        }
      ]
    },
    {
      "cell_type": "markdown",
      "source": [
        "**Este código hay que mejorarlo**"
      ],
      "metadata": {
        "id": "lCwVWxVbqCW5"
      }
    }
  ]
}