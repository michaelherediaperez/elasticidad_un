{
  "nbformat": 4,
  "nbformat_minor": 0,
  "metadata": {
    "colab": {
      "name": "03_04.ipynb",
      "provenance": [],
      "authorship_tag": "ABX9TyPZmqM6ghZQX3PZ6huUCQ9o",
      "include_colab_link": true
    },
    "kernelspec": {
      "name": "python3",
      "display_name": "Python 3"
    },
    "language_info": {
      "name": "python"
    }
  },
  "cells": [
    {
      "cell_type": "markdown",
      "metadata": {
        "id": "view-in-github",
        "colab_type": "text"
      },
      "source": [
        "<a href=\"https://colab.research.google.com/github/michaelherediaperez/mecanica_de_solidos_un/blob/main/codigos/cap_03/03_04.ipynb\" target=\"_parent\"><img src=\"https://colab.research.google.com/assets/colab-badge.svg\" alt=\"Open In Colab\"/></a>"
      ]
    },
    {
      "cell_type": "markdown",
      "source": [
        "# 3.4. Especificación de la deformación en otras direcciones\n",
        "\n",
        "|Quién | Fecha | Qué hizo |\n",
        "| ---  | ---   | ---      |\n",
        "|Michael Heredia Pérez, <mherediap@unal.edu.co> | Julio 16, 2022 | Conversión de código de MAXIMA a Python|"
      ],
      "metadata": {
        "id": "QBV18zDQNfet"
      }
    },
    {
      "cell_type": "code",
      "execution_count": 1,
      "metadata": {
        "id": "NDrDBmbjKu1s"
      },
      "outputs": [],
      "source": [
        "import sympy as sp  # Librería para cálculo simbólico.\n",
        "\n",
        "# Para imprimir bonito.\n",
        "sp.init_printing() "
      ]
    },
    {
      "cell_type": "markdown",
      "source": [
        "Se definen las variables simbólicas necesarias. Se emplea la notación de $\\LaTeX$"
      ],
      "metadata": {
        "id": "jLBwiUAgNsoe"
      }
    },
    {
      "cell_type": "code",
      "source": [
        "ex, ey, exy    = sp.symbols(r\"\\varepsilon_x, \\varepsilon_y, \\varepsilon_{xy}\")\n",
        "t = sp.Symbol(r\"\\theta\")"
      ],
      "metadata": {
        "id": "GlZJvLPQNsMQ"
      },
      "execution_count": 2,
      "outputs": []
    },
    {
      "cell_type": "markdown",
      "source": [
        "Se especifica la matriz de transformaciín, $T$, ecuación (3.23)"
      ],
      "metadata": {
        "id": "vOmVoKl-N2eu"
      }
    },
    {
      "cell_type": "code",
      "source": [
        "T = sp.Matrix([[sp.cos(t), -sp.sin(t), 0],\n",
        "               [sp.sin(t),  sp.cos(t), 0],\n",
        "               [        1,          1, 0] ])\n",
        "T"
      ],
      "metadata": {
        "colab": {
          "base_uri": "https://localhost:8080/",
          "height": 78
        },
        "id": "Wq_GAlH0NxAI",
        "outputId": "95545484-bd55-4e43-be9f-d014e8a0fdfd"
      },
      "execution_count": 3,
      "outputs": [
        {
          "output_type": "execute_result",
          "data": {
            "text/plain": [
              "⎡cos(\\theta)  -sin(\\theta)  0⎤\n",
              "⎢                            ⎥\n",
              "⎢sin(\\theta)  cos(\\theta)   0⎥\n",
              "⎢                            ⎥\n",
              "⎣     1            1        0⎦"
            ],
            "text/latex": "$\\displaystyle \\left[\\begin{matrix}\\cos{\\left(\\theta \\right)} & - \\sin{\\left(\\theta \\right)} & 0\\\\\\sin{\\left(\\theta \\right)} & \\cos{\\left(\\theta \\right)} & 0\\\\1 & 1 & 0\\end{matrix}\\right]$"
          },
          "metadata": {},
          "execution_count": 3
        }
      ]
    },
    {
      "cell_type": "markdown",
      "source": [
        "Se especifica la matriz de deformaciones $\\varepsilon$ definida con respecto a la base dada por {$i=\\hat{e}_1$, $j=\\hat{e}_2$, $k=\\hat{e}_3$} "
      ],
      "metadata": {
        "id": "_7OvPMpnO-S-"
      }
    },
    {
      "cell_type": "code",
      "source": [
        "# \"def\" es una palabra reservada de Python, entonces llamo \"epsilon\" a la matriz\n",
        "epsilon = sp.Matrix([[ex, exy, 0],\n",
        "                     [exy, ey, 0],\n",
        "                     [0,    0, 0]])\n",
        "epsilon"
      ],
      "metadata": {
        "colab": {
          "base_uri": "https://localhost:8080/",
          "height": 78
        },
        "id": "Wh58g7PeOdN4",
        "outputId": "78aa0e29-80cc-48eb-fc7e-81fb6da42ed5"
      },
      "execution_count": 4,
      "outputs": [
        {
          "output_type": "execute_result",
          "data": {
            "text/plain": [
              "⎡  \\varepsilonₓ    \\varepsilon_{xy}  0⎤\n",
              "⎢                                     ⎥\n",
              "⎢\\varepsilon_{xy}   \\varepsilon_y    0⎥\n",
              "⎢                                     ⎥\n",
              "⎣       0                 0          0⎦"
            ],
            "text/latex": "$\\displaystyle \\left[\\begin{matrix}\\varepsilon_{x} & \\varepsilon_{xy} & 0\\\\\\varepsilon_{xy} & \\varepsilon_{y} & 0\\\\0 & 0 & 0\\end{matrix}\\right]$"
          },
          "metadata": {},
          "execution_count": 4
        }
      ]
    },
    {
      "cell_type": "markdown",
      "source": [
        "Se calcula la matriz de deformaciones $\\varepsilon'$ definida con respecto a la base dada por {$\\hat{e}_1'$, $\\hat{e}_2'$, $\\hat{e}_3'$} "
      ],
      "metadata": {
        "id": "t_o8NAt1PYX2"
      }
    },
    {
      "cell_type": "code",
      "source": [
        "epsilonP = sp.trigsimp( sp.Transpose(T)*epsilon*T)\n",
        "epsilonP"
      ],
      "metadata": {
        "colab": {
          "base_uri": "https://localhost:8080/",
          "height": 84
        },
        "id": "y79TKBoQPbR8",
        "outputId": "02d8f958-1039-44f2-db72-21d1864285b6"
      },
      "execution_count": 5,
      "outputs": [
        {
          "output_type": "execute_result",
          "data": {
            "text/plain": [
              "⎡\\varepsilonₓ⋅cos(2⋅\\theta)   \\varepsilonₓ   \\varepsilon_y⋅cos(2⋅\\theta)   \\va\n",
              "⎢────────────────────────── + ──────────── - ─────────────────────────── + ───\n",
              "⎢            2                     2                      2                   \n",
              "⎢                                                                             \n",
              "⎢                \\varepsilonₓ⋅sin(2⋅\\theta)   \\varepsilon_y⋅sin(2⋅\\theta)     \n",
              "⎢              - ────────────────────────── + ─────────────────────────── + \\v\n",
              "⎢                            2                             2                  \n",
              "⎢                                                                             \n",
              "⎣                                                           0                 \n",
              "\n",
              "repsilon_y                                                    \\varepsilonₓ⋅sin\n",
              "────────── + \\varepsilon_{xy}⋅sin(2⋅\\theta)                 - ────────────────\n",
              "   2                                                                      2   \n",
              "                                                                              \n",
              "                                               \\varepsilonₓ⋅cos(2⋅\\theta)   \\v\n",
              "arepsilon_{xy}⋅cos(2⋅\\theta)                 - ────────────────────────── + ──\n",
              "                                                           2                  \n",
              "                                                                              \n",
              "                                                                              \n",
              "\n",
              "(2⋅\\theta)   \\varepsilon_y⋅sin(2⋅\\theta)                                      \n",
              "────────── + ─────────────────────────── + \\varepsilon_{xy}⋅cos(2⋅\\theta)     \n",
              "                          2                                                   \n",
              "                                                                              \n",
              "arepsilonₓ   \\varepsilon_y⋅cos(2⋅\\theta)   \\varepsilon_y                      \n",
              "────────── + ─────────────────────────── + ───────────── - \\varepsilon_{xy}⋅si\n",
              "   2                      2                      2                            \n",
              "                                                                              \n",
              "                           0                                                  \n",
              "\n",
              "              ⎤\n",
              "             0⎥\n",
              "              ⎥\n",
              "              ⎥\n",
              "              ⎥\n",
              "n(2⋅\\theta)  0⎥\n",
              "              ⎥\n",
              "              ⎥\n",
              "             0⎦"
            ],
            "text/latex": "$\\displaystyle \\left[\\begin{matrix}\\frac{\\varepsilon_{x} \\cos{\\left(2 \\theta \\right)}}{2} + \\frac{\\varepsilon_{x}}{2} - \\frac{\\varepsilon_{y} \\cos{\\left(2 \\theta \\right)}}{2} + \\frac{\\varepsilon_{y}}{2} + \\varepsilon_{xy} \\sin{\\left(2 \\theta \\right)} & - \\frac{\\varepsilon_{x} \\sin{\\left(2 \\theta \\right)}}{2} + \\frac{\\varepsilon_{y} \\sin{\\left(2 \\theta \\right)}}{2} + \\varepsilon_{xy} \\cos{\\left(2 \\theta \\right)} & 0\\\\- \\frac{\\varepsilon_{x} \\sin{\\left(2 \\theta \\right)}}{2} + \\frac{\\varepsilon_{y} \\sin{\\left(2 \\theta \\right)}}{2} + \\varepsilon_{xy} \\cos{\\left(2 \\theta \\right)} & - \\frac{\\varepsilon_{x} \\cos{\\left(2 \\theta \\right)}}{2} + \\frac{\\varepsilon_{x}}{2} + \\frac{\\varepsilon_{y} \\cos{\\left(2 \\theta \\right)}}{2} + \\frac{\\varepsilon_{y}}{2} - \\varepsilon_{xy} \\sin{\\left(2 \\theta \\right)} & 0\\\\0 & 0 & 0\\end{matrix}\\right]$"
          },
          "metadata": {},
          "execution_count": 5
        }
      ]
    },
    {
      "cell_type": "markdown",
      "source": [
        "Se extraen las expresiones de interés de la matriz $\\varepsilon'$ (ecuación 3.16):\n",
        "\n",
        "$\\varepsilon_x'(\\theta)=$"
      ],
      "metadata": {
        "id": "k0v70LSxQOIn"
      }
    },
    {
      "cell_type": "code",
      "source": [
        "sp.expand( epsilonP[0,0] )"
      ],
      "metadata": {
        "colab": {
          "base_uri": "https://localhost:8080/",
          "height": 53
        },
        "id": "-TcFblrkQLvA",
        "outputId": "a8ce1f0d-8eff-44f1-f639-453202135adb"
      },
      "execution_count": 6,
      "outputs": [
        {
          "output_type": "execute_result",
          "data": {
            "text/plain": [
              "\\varepsilonₓ⋅cos(2⋅\\theta)   \\varepsilonₓ   \\varepsilon_y⋅cos(2⋅\\theta)   \\var\n",
              "────────────────────────── + ──────────── - ─────────────────────────── + ────\n",
              "            2                     2                      2                    \n",
              "\n",
              "epsilon_y                                 \n",
              "───────── + \\varepsilon_{xy}⋅sin(2⋅\\theta)\n",
              "  2                                       "
            ],
            "image/png": "[encoded data removed]",
            "text/latex": "$\\displaystyle \\frac{\\varepsilon_{x} \\cos{\\left(2 \\theta \\right)}}{2} + \\frac{\\varepsilon_{x}}{2} - \\frac{\\varepsilon_{y} \\cos{\\left(2 \\theta \\right)}}{2} + \\frac{\\varepsilon_{y}}{2} + \\varepsilon_{xy} \\sin{\\left(2 \\theta \\right)}$"
          },
          "metadata": {},
          "execution_count": 6
        }
      ]
    },
    {
      "cell_type": "markdown",
      "source": [
        "$\\varepsilon_y'(\\theta)=$"
      ],
      "metadata": {
        "id": "1rNcTYbFRBWx"
      }
    },
    {
      "cell_type": "code",
      "source": [
        "sp.expand( epsilonP[1, 1])"
      ],
      "metadata": {
        "colab": {
          "base_uri": "https://localhost:8080/",
          "height": 53
        },
        "id": "A75YK-hPQscn",
        "outputId": "006afa42-2c1c-4ee5-f05e-d4f98915d253"
      },
      "execution_count": 7,
      "outputs": [
        {
          "output_type": "execute_result",
          "data": {
            "text/plain": [
              "  \\varepsilonₓ⋅cos(2⋅\\theta)   \\varepsilonₓ   \\varepsilon_y⋅cos(2⋅\\theta)   \\v\n",
              "- ────────────────────────── + ──────────── + ─────────────────────────── + ──\n",
              "              2                     2                      2                  \n",
              "\n",
              "arepsilon_y                                 \n",
              "─────────── - \\varepsilon_{xy}⋅sin(2⋅\\theta)\n",
              "    2                                       "
            ],
            "image/png": "[encoded data removed]",
            "text/latex": "$\\displaystyle - \\frac{\\varepsilon_{x} \\cos{\\left(2 \\theta \\right)}}{2} + \\frac{\\varepsilon_{x}}{2} + \\frac{\\varepsilon_{y} \\cos{\\left(2 \\theta \\right)}}{2} + \\frac{\\varepsilon_{y}}{2} - \\varepsilon_{xy} \\sin{\\left(2 \\theta \\right)}$"
          },
          "metadata": {},
          "execution_count": 7
        }
      ]
    },
    {
      "cell_type": "markdown",
      "source": [
        "$\\varepsilon_{x'y'}(\\theta)=$"
      ],
      "metadata": {
        "id": "_jF3RuFeRYIj"
      }
    },
    {
      "cell_type": "code",
      "source": [
        "sp.expand( epsilonP[0, 1])"
      ],
      "metadata": {
        "colab": {
          "base_uri": "https://localhost:8080/",
          "height": 53
        },
        "id": "Nn214j4cRHbo",
        "outputId": "077ca6bd-5854-48d3-96c8-93b253752eaa"
      },
      "execution_count": 8,
      "outputs": [
        {
          "output_type": "execute_result",
          "data": {
            "text/plain": [
              "  \\varepsilonₓ⋅sin(2⋅\\theta)   \\varepsilon_y⋅sin(2⋅\\theta)                    \n",
              "- ────────────────────────── + ─────────────────────────── + \\varepsilon_{xy}⋅\n",
              "              2                             2                                 \n",
              "\n",
              "             \n",
              "cos(2⋅\\theta)\n",
              "             "
            ],
            "image/png": "[encoded data removed]",
            "text/latex": "$\\displaystyle - \\frac{\\varepsilon_{x} \\sin{\\left(2 \\theta \\right)}}{2} + \\frac{\\varepsilon_{y} \\sin{\\left(2 \\theta \\right)}}{2} + \\varepsilon_{xy} \\cos{\\left(2 \\theta \\right)}$"
          },
          "metadata": {},
          "execution_count": 8
        }
      ]
    }
  ]
}