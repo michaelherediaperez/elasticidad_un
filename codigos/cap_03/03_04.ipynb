{
  "cells": [
    {
      "cell_type": "markdown",
      "metadata": {
        "colab_type": "text",
        "id": "view-in-github"
      },
      "source": [
        "<a href=\"https://colab.research.google.com/github/michaelherediaperez/mecanica_de_solidos_un/blob/main/codigos/cap_03/03_04.ipynb\" target=\"_parent\"><img src=\"https://colab.research.google.com/assets/colab-badge.svg\" alt=\"Open In Colab\"/></a>"
      ]
    },
    {
      "cell_type": "markdown",
      "metadata": {
        "id": "QBV18zDQNfet"
      },
      "source": [
        "# 3.4. Especificación de la deformación en otras direcciones\n",
        "\n",
        "|Quién | Fecha | Qué hizo |\n",
        "| ---  | ---   | ---      |\n",
        "|Michael Heredia Pérez, <mherediap@unal.edu.co> | Julio 16, 2022 | Conversión de código de MAXIMA a Python|\n",
        "|Michael Heredia Pérez, <mherediap@unal.edu.co> | Septiembre 15, 2022 | Mejorando legibilidad|"
      ]
    },
    {
      "cell_type": "code",
      "execution_count": 2,
      "metadata": {
        "id": "NDrDBmbjKu1s"
      },
      "outputs": [],
      "source": [
        "import sympy as sp  # Librería para cálculo simbólico.\n",
        "\n",
        "# Para imprimir bonito\n",
        "sp.init_printing() \n",
        "from IPython.display import Math               \n",
        "def imprimir (texto, variable):\n",
        "    return Math(texto +  rf'{sp.latex(variable)}')"
      ]
    },
    {
      "cell_type": "markdown",
      "metadata": {
        "id": "jLBwiUAgNsoe"
      },
      "source": [
        "Se definen las variables simbólicas necesarias."
      ]
    },
    {
      "cell_type": "code",
      "execution_count": 3,
      "metadata": {
        "id": "GlZJvLPQNsMQ"
      },
      "outputs": [],
      "source": [
        "ex, ey, exy, t = sp.symbols(\"varepsilon_x, varepsilon_y, varepsilon_xy, theta\")"
      ]
    },
    {
      "cell_type": "markdown",
      "metadata": {
        "id": "vOmVoKl-N2eu"
      },
      "source": [
        "Se especifica la matriz de transformación, $\\boldsymbol{T}$, ecuación (3.23)"
      ]
    },
    {
      "cell_type": "code",
      "execution_count": 4,
      "metadata": {
        "colab": {
          "base_uri": "https://localhost:8080/",
          "height": 78
        },
        "id": "Wq_GAlH0NxAI",
        "outputId": "95545484-bd55-4e43-be9f-d014e8a0fdfd"
      },
      "outputs": [
        {
          "data": {
            "text/latex": [
              "$\\displaystyle \\boldsymbol{T} = \\left[\\begin{matrix}\\cos{\\left(\\theta \\right)} & - \\sin{\\left(\\theta \\right)} & 0\\\\\\sin{\\left(\\theta \\right)} & \\cos{\\left(\\theta \\right)} & 0\\\\0 & 0 & 1\\end{matrix}\\right]$"
            ],
            "text/plain": [
              "<IPython.core.display.Math object>"
            ]
          },
          "execution_count": 4,
          "metadata": {},
          "output_type": "execute_result"
        }
      ],
      "source": [
        "T = sp.Matrix([[sp.cos(t), -sp.sin(t), 0],\n",
        "               [sp.sin(t),  sp.cos(t), 0],\n",
        "               [        0,          0, 1] ])\n",
        "imprimir(r\"\\boldsymbol{T} = \", T)"
      ]
    },
    {
      "cell_type": "markdown",
      "metadata": {
        "id": "_7OvPMpnO-S-"
      },
      "source": [
        "Se especifica la matriz de deformaciones $\\underline{\\underline{\\boldsymbol{\\varepsilon}}}$ definida con respecto a la base dada por {$\\boldsymbol{\\hat{i}}=\\boldsymbol{\\hat{e}}_1$, $\\boldsymbol{\\hat{j}}=\\boldsymbol{\\hat{e}}_2$, $\\boldsymbol{\\hat{k}}=\\boldsymbol{\\hat{e}}_3$} "
      ]
    },
    {
      "cell_type": "code",
      "execution_count": 5,
      "metadata": {
        "colab": {
          "base_uri": "https://localhost:8080/",
          "height": 78
        },
        "id": "Wh58g7PeOdN4",
        "outputId": "78aa0e29-80cc-48eb-fc7e-81fb6da42ed5"
      },
      "outputs": [
        {
          "data": {
            "text/latex": [
              "$\\displaystyle \\underline{\\underline{\\boldsymbol{\\varepsilon}}} = \\left[\\begin{matrix}\\varepsilon_{x} & \\varepsilon_{xy} & 0\\\\\\varepsilon_{xy} & \\varepsilon_{y} & 0\\\\0 & 0 & 0\\end{matrix}\\right]$"
            ],
            "text/plain": [
              "<IPython.core.display.Math object>"
            ]
          },
          "execution_count": 5,
          "metadata": {},
          "output_type": "execute_result"
        }
      ],
      "source": [
        "# \"def\" es una palabra reservada de Python, entonces llamo \"epsilon\" a la matriz\n",
        "epsilon = sp.Matrix([[ex, exy, 0],\n",
        "                     [exy, ey, 0],\n",
        "                     [0,    0, 0]])\n",
        "imprimir(r\"\\underline{\\underline{\\boldsymbol{\\varepsilon}}} = \", epsilon)"
      ]
    },
    {
      "cell_type": "markdown",
      "metadata": {
        "id": "t_o8NAt1PYX2"
      },
      "source": [
        "Se calcula la matriz de deformaciones $\\underline{\\underline{\\boldsymbol{\\varepsilon'}}}$ definida con respecto a la base dada por {$\\boldsymbol{\\hat{e'}}_1$, $\\boldsymbol{\\hat{e'}}_2$, $\\boldsymbol{\\hat{e'}}_3$}"
      ]
    },
    {
      "cell_type": "code",
      "execution_count": 6,
      "metadata": {
        "colab": {
          "base_uri": "https://localhost:8080/",
          "height": 84
        },
        "id": "y79TKBoQPbR8",
        "outputId": "02d8f958-1039-44f2-db72-21d1864285b6"
      },
      "outputs": [
        {
          "data": {
            "text/latex": [
              "$\\displaystyle \\underline{\\underline{\\boldsymbol{\\varepsilon'}}} = \\left[\\begin{matrix}\\frac{\\varepsilon_{x} \\cos{\\left(2 \\theta \\right)}}{2} + \\frac{\\varepsilon_{x}}{2} + \\varepsilon_{xy} \\sin{\\left(2 \\theta \\right)} - \\frac{\\varepsilon_{y} \\cos{\\left(2 \\theta \\right)}}{2} + \\frac{\\varepsilon_{y}}{2} & - \\frac{\\varepsilon_{x} \\sin{\\left(2 \\theta \\right)}}{2} + \\varepsilon_{xy} \\cos{\\left(2 \\theta \\right)} + \\frac{\\varepsilon_{y} \\sin{\\left(2 \\theta \\right)}}{2} & 0\\\\- \\frac{\\varepsilon_{x} \\sin{\\left(2 \\theta \\right)}}{2} + \\varepsilon_{xy} \\cos{\\left(2 \\theta \\right)} + \\frac{\\varepsilon_{y} \\sin{\\left(2 \\theta \\right)}}{2} & - \\frac{\\varepsilon_{x} \\cos{\\left(2 \\theta \\right)}}{2} + \\frac{\\varepsilon_{x}}{2} - \\varepsilon_{xy} \\sin{\\left(2 \\theta \\right)} + \\frac{\\varepsilon_{y} \\cos{\\left(2 \\theta \\right)}}{2} + \\frac{\\varepsilon_{y}}{2} & 0\\\\0 & 0 & 0\\end{matrix}\\right]$"
            ],
            "text/plain": [
              "<IPython.core.display.Math object>"
            ]
          },
          "execution_count": 6,
          "metadata": {},
          "output_type": "execute_result"
        }
      ],
      "source": [
        "epsilonP = sp.trigsimp( sp.Transpose(T)*epsilon*T)\n",
        "imprimir(r\"\\underline{\\underline{\\boldsymbol{\\varepsilon'}}} = \", epsilonP)"
      ]
    },
    {
      "cell_type": "markdown",
      "metadata": {
        "id": "k0v70LSxQOIn"
      },
      "source": [
        "Se extraen las expresiones de interés de la matriz $\\underline{\\underline{\\boldsymbol{\\varepsilon'}}}$ (ecuación 3.16):"
      ]
    },
    {
      "cell_type": "code",
      "execution_count": 7,
      "metadata": {},
      "outputs": [],
      "source": [
        "exp   = sp.expand(epsilonP[0,0])\n",
        "eyp   = sp.expand(epsilonP[1,1])\n",
        "expyp = sp.expand(epsilonP[0,1])"
      ]
    },
    {
      "cell_type": "code",
      "execution_count": 8,
      "metadata": {
        "colab": {
          "base_uri": "https://localhost:8080/",
          "height": 53
        },
        "id": "-TcFblrkQLvA",
        "outputId": "a8ce1f0d-8eff-44f1-f639-453202135adb"
      },
      "outputs": [
        {
          "data": {
            "text/latex": [
              "$\\displaystyle \\varepsilon_{x'}(\\theta) = \\frac{\\varepsilon_{x} \\cos{\\left(2 \\theta \\right)}}{2} + \\frac{\\varepsilon_{x}}{2} + \\varepsilon_{xy} \\sin{\\left(2 \\theta \\right)} - \\frac{\\varepsilon_{y} \\cos{\\left(2 \\theta \\right)}}{2} + \\frac{\\varepsilon_{y}}{2}$"
            ],
            "text/plain": [
              "<IPython.core.display.Math object>"
            ]
          },
          "execution_count": 8,
          "metadata": {},
          "output_type": "execute_result"
        }
      ],
      "source": [
        "imprimir(r\"\\varepsilon_{x'}(\\theta) = \", exp)"
      ]
    },
    {
      "cell_type": "code",
      "execution_count": 9,
      "metadata": {
        "colab": {
          "base_uri": "https://localhost:8080/",
          "height": 53
        },
        "id": "A75YK-hPQscn",
        "outputId": "006afa42-2c1c-4ee5-f05e-d4f98915d253"
      },
      "outputs": [
        {
          "data": {
            "text/latex": [
              "$\\displaystyle \\varepsilon_{y'}(\\theta) = - \\frac{\\varepsilon_{x} \\cos{\\left(2 \\theta \\right)}}{2} + \\frac{\\varepsilon_{x}}{2} - \\varepsilon_{xy} \\sin{\\left(2 \\theta \\right)} + \\frac{\\varepsilon_{y} \\cos{\\left(2 \\theta \\right)}}{2} + \\frac{\\varepsilon_{y}}{2}$"
            ],
            "text/plain": [
              "<IPython.core.display.Math object>"
            ]
          },
          "execution_count": 9,
          "metadata": {},
          "output_type": "execute_result"
        }
      ],
      "source": [
        "imprimir(r\"\\varepsilon_{y'}(\\theta) = \", eyp)"
      ]
    },
    {
      "cell_type": "code",
      "execution_count": 10,
      "metadata": {
        "colab": {
          "base_uri": "https://localhost:8080/",
          "height": 53
        },
        "id": "Nn214j4cRHbo",
        "outputId": "077ca6bd-5854-48d3-96c8-93b253752eaa"
      },
      "outputs": [
        {
          "data": {
            "text/latex": [
              "$\\displaystyle \\varepsilon_{x'y'}(\\theta) = - \\frac{\\varepsilon_{x} \\sin{\\left(2 \\theta \\right)}}{2} + \\varepsilon_{xy} \\cos{\\left(2 \\theta \\right)} + \\frac{\\varepsilon_{y} \\sin{\\left(2 \\theta \\right)}}{2}$"
            ],
            "text/plain": [
              "<IPython.core.display.Math object>"
            ]
          },
          "execution_count": 10,
          "metadata": {},
          "output_type": "execute_result"
        }
      ],
      "source": [
        "imprimir(r\"\\varepsilon_{x'y'}(\\theta) = \", expyp)"
      ]
    }
  ],
  "metadata": {
    "colab": {
      "authorship_tag": "ABX9TyPZmqM6ghZQX3PZ6huUCQ9o",
      "include_colab_link": true,
      "name": "03_04.ipynb",
      "provenance": []
    },
    "kernelspec": {
      "display_name": "Python 3.10.4 64-bit",
      "language": "python",
      "name": "python3"
    },
    "language_info": {
      "codemirror_mode": {
        "name": "ipython",
        "version": 3
      },
      "file_extension": ".py",
      "mimetype": "text/x-python",
      "name": "python",
      "nbconvert_exporter": "python",
      "pygments_lexer": "ipython3",
      "version": "3.10.4"
    },
    "vscode": {
      "interpreter": {
        "hash": "916dbcbb3f70747c44a77c7bcd40155683ae19c65e1c03b4aa3499c5328201f1"
      }
    }
  },
  "nbformat": 4,
  "nbformat_minor": 0
}
